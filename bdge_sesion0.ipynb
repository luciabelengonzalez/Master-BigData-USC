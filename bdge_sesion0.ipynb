{
  "nbformat": 4,
  "nbformat_minor": 0,
  "metadata": {
    "kernelspec": {
      "display_name": "Python 3",
      "language": "python",
      "name": "python3"
    },
    "language_info": {
      "codemirror_mode": {
        "name": "ipython",
        "version": 3
      },
      "file_extension": ".py",
      "mimetype": "text/x-python",
      "name": "python",
      "nbconvert_exporter": "python",
      "pygments_lexer": "ipython3",
      "version": "3.7.3"
    },
    "colab": {
      "name": "bdge_sesion0.ipynb",
      "provenance": [],
      "include_colab_link": true
    }
  },
  "cells": [
    {
      "cell_type": "markdown",
      "metadata": {
        "id": "view-in-github",
        "colab_type": "text"
      },
      "source": [
        "<a href=\"https://colab.research.google.com/github/luciabelengonzalez/Master-BigData-USC/blob/master/bdge_sesion0.ipynb\" target=\"_parent\"><img src=\"https://colab.research.google.com/assets/colab-badge.svg\" alt=\"Open In Colab\"/></a>"
      ]
    },
    {
      "cell_type": "markdown",
      "metadata": {
        "id": "la8Wi7C_0gyZ"
      },
      "source": [
        "# Introducción a Jupyter Notebook, Pandas, Matplotlib, etc.\n",
        "\n",
        "En esta hoja introduciremos la forma de trabajar con Jupyter Notebook/Google Colab. Veremos cómo los distintos elementos de las librerías de Python interactúan con el notebook para mostrar imágenes, gráficos, etc. También, en las siguientes sesiones los usaremos para acceder a conexiones SQL y a bases de datos NoSQL.\n",
        "\n",
        "Enlaces a otros tutoriales introductorios (que también se centran en tratamiento de datos para Big Data): [1](https://github.com/CharlestonDataScience/PythonNotebooks/blob/master/notebooks/tutorial_01/pandas_tutorial.ipynb) y [2](https://github.com/phelps-sg/python-bigdata/blob/master/src/main/ipynb/pandas.ipynb), entre otros muchos."
      ]
    },
    {
      "cell_type": "markdown",
      "metadata": {
        "id": "AVwChyC10gyl"
      },
      "source": [
        "## Jupyter/Colab Notebook\n",
        "\n",
        "Los *Notebooks* contienen una mezcla de texto y código, y se pueden ir ejecutando paso a paso. En general utilizaremos el lenguaje Python en su versión 3, así que las hojas son en realidad un programa Python que se puede ejecutar en orden, junto con imágenes y texto explicativo adjunto.\n",
        "\n",
        "Al pulsar Ctrl+Intro en una celda, se ejecuta el código de la celda y se muestra el la siguiente celda. Al pulsar Shift+Intro se ejecuta la celda actual y pasa automáticamente a la siguiente.\n",
        "\n",
        "Existen también \"magics\", que sirven para obtener información de la hoja, o ejecutar comandos especiales. Por ejemplo, órdenes de shell, como en la siguiente celda. Hay varios tutoriales Online. Por ejemplo: [Tutorial](https://github.com/esc/scipy2013-tutorial-numpy-ipython/blob/master/ipython.ipynb)."
      ]
    },
    {
      "cell_type": "code",
      "metadata": {
        "id": "sQP8GpuC0gyr",
        "outputId": "ef502ef1-7bf3-45ca-ea82-f4f49f6df6ed",
        "colab": {
          "base_uri": "https://localhost:8080/",
          "height": 34
        }
      },
      "source": [
        "!uname -a"
      ],
      "execution_count": 1,
      "outputs": [
        {
          "output_type": "stream",
          "text": [
            "Linux 8ff5a3c75956 4.19.112+ #1 SMP Thu Jul 23 08:00:38 PDT 2020 x86_64 x86_64 x86_64 GNU/Linux\n"
          ],
          "name": "stdout"
        }
      ]
    },
    {
      "cell_type": "code",
      "metadata": {
        "id": "16n5PqCp0gzM",
        "outputId": "cd8c75a5-8fca-448f-97b2-27f1f87090fb",
        "colab": {
          "base_uri": "https://localhost:8080/",
          "height": 156
        }
      },
      "source": [
        "%lsmagic"
      ],
      "execution_count": 2,
      "outputs": [
        {
          "output_type": "execute_result",
          "data": {
            "application/json": {
              "cell": {
                "prun": "ExecutionMagics",
                "file": "Other",
                "!": "OSMagics",
                "capture": "ExecutionMagics",
                "timeit": "ExecutionMagics",
                "script": "ScriptMagics",
                "pypy": "Other",
                "system": "OSMagics",
                "perl": "Other",
                "html": "DisplayMagics",
                "bash": "Other",
                "shell": "Other",
                "HTML": "Other",
                "python": "Other",
                "SVG": "Other",
                "javascript": "DisplayMagics",
                "bigquery": "Other",
                "js": "DisplayMagics",
                "writefile": "OSMagics",
                "ruby": "Other",
                "python3": "Other",
                "python2": "Other",
                "latex": "DisplayMagics",
                "sx": "OSMagics",
                "svg": "DisplayMagics",
                "sh": "Other",
                "time": "ExecutionMagics",
                "debug": "ExecutionMagics"
              },
              "line": {
                "psource": "NamespaceMagics",
                "logstart": "LoggingMagics",
                "popd": "OSMagics",
                "tensorflow_version": "Other",
                "loadpy": "CodeMagics",
                "colors": "BasicMagics",
                "who_ls": "NamespaceMagics",
                "lf": "Other",
                "ll": "Other",
                "pprint": "BasicMagics",
                "lk": "Other",
                "ls": "Other",
                "save": "CodeMagics",
                "tb": "ExecutionMagics",
                "lx": "Other",
                "pylab": "PylabMagics",
                "killbgscripts": "ScriptMagics",
                "quickref": "BasicMagics",
                "magic": "BasicMagics",
                "dhist": "OSMagics",
                "edit": "KernelMagics",
                "logstop": "LoggingMagics",
                "gui": "BasicMagics",
                "prun": "ExecutionMagics",
                "debug": "ExecutionMagics",
                "page": "BasicMagics",
                "logstate": "LoggingMagics",
                "ed": "Other",
                "pushd": "OSMagics",
                "timeit": "ExecutionMagics",
                "set_env": "OSMagics",
                "rehashx": "OSMagics",
                "hist": "Other",
                "qtconsole": "KernelMagics",
                "rm": "Other",
                "dirs": "OSMagics",
                "run": "ExecutionMagics",
                "reset_selective": "NamespaceMagics",
                "pinfo2": "NamespaceMagics",
                "matplotlib": "PylabMagics",
                "unload_ext": "ExtensionMagics",
                "doctest_mode": "BasicMagics",
                "logoff": "LoggingMagics",
                "reload_ext": "ExtensionMagics",
                "pdb": "ExecutionMagics",
                "load": "CodeMagics",
                "lsmagic": "BasicMagics",
                "autosave": "KernelMagics",
                "cd": "OSMagics",
                "pastebin": "CodeMagics",
                "alias_magic": "BasicMagics",
                "cp": "Other",
                "autocall": "AutoMagics",
                "ldir": "Other",
                "bookmark": "OSMagics",
                "connect_info": "KernelMagics",
                "mkdir": "Other",
                "system": "OSMagics",
                "whos": "NamespaceMagics",
                "rmdir": "Other",
                "automagic": "AutoMagics",
                "store": "StoreMagics",
                "more": "KernelMagics",
                "shell": "Other",
                "pdef": "NamespaceMagics",
                "precision": "BasicMagics",
                "pinfo": "NamespaceMagics",
                "pwd": "OSMagics",
                "psearch": "NamespaceMagics",
                "reset": "NamespaceMagics",
                "recall": "HistoryMagics",
                "xdel": "NamespaceMagics",
                "xmode": "BasicMagics",
                "cat": "Other",
                "mv": "Other",
                "rerun": "HistoryMagics",
                "logon": "LoggingMagics",
                "history": "HistoryMagics",
                "pycat": "OSMagics",
                "pip": "Other",
                "unalias": "OSMagics",
                "env": "OSMagics",
                "load_ext": "ExtensionMagics",
                "config": "ConfigMagics",
                "profile": "BasicMagics",
                "pfile": "NamespaceMagics",
                "less": "KernelMagics",
                "who": "NamespaceMagics",
                "notebook": "BasicMagics",
                "man": "KernelMagics",
                "sx": "OSMagics",
                "macro": "ExecutionMagics",
                "clear": "KernelMagics",
                "alias": "OSMagics",
                "time": "ExecutionMagics",
                "sc": "OSMagics",
                "rep": "Other",
                "pdoc": "NamespaceMagics"
              }
            },
            "text/plain": [
              "Available line magics:\n",
              "%alias  %alias_magic  %autocall  %automagic  %autosave  %bookmark  %cat  %cd  %clear  %colors  %config  %connect_info  %cp  %debug  %dhist  %dirs  %doctest_mode  %ed  %edit  %env  %gui  %hist  %history  %killbgscripts  %ldir  %less  %lf  %lk  %ll  %load  %load_ext  %loadpy  %logoff  %logon  %logstart  %logstate  %logstop  %ls  %lsmagic  %lx  %macro  %magic  %man  %matplotlib  %mkdir  %more  %mv  %notebook  %page  %pastebin  %pdb  %pdef  %pdoc  %pfile  %pinfo  %pinfo2  %pip  %popd  %pprint  %precision  %profile  %prun  %psearch  %psource  %pushd  %pwd  %pycat  %pylab  %qtconsole  %quickref  %recall  %rehashx  %reload_ext  %rep  %rerun  %reset  %reset_selective  %rm  %rmdir  %run  %save  %sc  %set_env  %shell  %store  %sx  %system  %tb  %tensorflow_version  %time  %timeit  %unalias  %unload_ext  %who  %who_ls  %whos  %xdel  %xmode\n",
              "\n",
              "Available cell magics:\n",
              "%%!  %%HTML  %%SVG  %%bash  %%bigquery  %%capture  %%debug  %%file  %%html  %%javascript  %%js  %%latex  %%perl  %%prun  %%pypy  %%python  %%python2  %%python3  %%ruby  %%script  %%sh  %%shell  %%svg  %%sx  %%system  %%time  %%timeit  %%writefile\n",
              "\n",
              "Automagic is ON, % prefix IS NOT needed for line magics."
            ]
          },
          "metadata": {
            "tags": []
          },
          "execution_count": 2
        }
      ]
    },
    {
      "cell_type": "markdown",
      "metadata": {
        "id": "Fs7khh660gze"
      },
      "source": [
        "A continuación mostramos los paquetes que usaremos regularmente para tratar datos, `pandas`, `numpy`, `matplotlib`. Al ser un programa en Python, se pueden importar paquetes que seguirán siendo válidos hasta el final del _notebook_."
      ]
    },
    {
      "cell_type": "code",
      "metadata": {
        "id": "Zm7Lxq3b0gzi"
      },
      "source": [
        "import numpy as np\n",
        "import pandas as pd\n",
        "import matplotlib.pyplot as plt\n",
        "import matplotlib"
      ],
      "execution_count": 3,
      "outputs": []
    },
    {
      "cell_type": "markdown",
      "metadata": {
        "id": "cnHsIiOJ0gzx"
      },
      "source": [
        "Lo siguiente hace que los gráficos se muestren inline. Para figuras pequeñas se puede utilizar unas figuras interactivas que permiten zoom, usando `%maplotlib nbagg`."
      ]
    },
    {
      "cell_type": "code",
      "metadata": {
        "id": "54LyaN9h0gz2"
      },
      "source": [
        "%matplotlib inline\n",
        "matplotlib.style.use('ggplot')"
      ],
      "execution_count": 4,
      "outputs": []
    },
    {
      "cell_type": "markdown",
      "metadata": {
        "id": "FbNgEEmW0g0F"
      },
      "source": [
        "## Numpy\n",
        "\n",
        "Numpy es una de las librerías más utilizadas en Python, y ofrece un interfaz sencillo para operaciones eficientes con números, _arrays_ y matrices. Numpy se utilizará de apoyo muchas veces que haya que hacer procesamiento local de datos recogidos de una base de datos, o como preparación para la graficación de datos. En la celda siguiente se muestra un vídeo introductorio, y también se puede acceder a tutoriales online: [Tutorial](https://github.com/esc/scipy2013-tutorial-numpy-ipython/blob/master/operations.ipynb)."
      ]
    },
    {
      "cell_type": "code",
      "metadata": {
        "id": "7tqi4z-h0g0J",
        "outputId": "4b128e76-8ffa-4259-e52e-10e32f416545",
        "colab": {
          "base_uri": "https://localhost:8080/",
          "height": 321
        }
      },
      "source": [
        "from IPython.display import YouTubeVideo\n",
        "YouTubeVideo('o8fmjaW9a0A') # Yes, it can also embed youtube videos."
      ],
      "execution_count": 5,
      "outputs": [
        {
          "output_type": "execute_result",
          "data": {
            "text/html": [
              "\n",
              "        <iframe\n",
              "            width=\"400\"\n",
              "            height=\"300\"\n",
              "            src=\"https://www.youtube.com/embed/o8fmjaW9a0A\"\n",
              "            frameborder=\"0\"\n",
              "            allowfullscreen\n",
              "        ></iframe>\n",
              "        "
            ],
            "text/plain": [
              "<IPython.lib.display.YouTubeVideo at 0x7fa8eb902630>"
            ],
            "image/jpeg": "[encoded data removed]"
          },
          "metadata": {
            "tags": []
          },
          "execution_count": 5
        }
      ]
    },
    {
      "cell_type": "markdown",
      "metadata": {
        "id": "PAssJtAv0g0c"
      },
      "source": [
        "Numpy permite generar y procesar arrays de datos de forma muy eficiente. A continuación se muestran algunos ejemplos:"
      ]
    },
    {
      "cell_type": "code",
      "metadata": {
        "id": "XTIZsrqm0g0e",
        "outputId": "fd1e461b-8fe6-43d2-d99c-83a7cb93b234",
        "colab": {
          "base_uri": "https://localhost:8080/",
          "height": 68
        }
      },
      "source": [
        "a = np.array([4,5,6])\n",
        "print(a.shape)\n",
        "print(a[0])\n",
        "a[0] = 9\n",
        "print (a)"
      ],
      "execution_count": 6,
      "outputs": [
        {
          "output_type": "stream",
          "text": [
            "(3,)\n",
            "4\n",
            "[9 5 6]\n"
          ],
          "name": "stdout"
        }
      ]
    },
    {
      "cell_type": "code",
      "metadata": {
        "id": "hqwxBBDR0g0q",
        "outputId": "6da4891e-9511-45cc-cd5f-5d8044b58ea7",
        "colab": {
          "base_uri": "https://localhost:8080/",
          "height": 34
        }
      },
      "source": [
        "np.arange(10)"
      ],
      "execution_count": 7,
      "outputs": [
        {
          "output_type": "execute_result",
          "data": {
            "text/plain": [
              "array([0, 1, 2, 3, 4, 5, 6, 7, 8, 9])"
            ]
          },
          "metadata": {
            "tags": []
          },
          "execution_count": 7
        }
      ]
    },
    {
      "cell_type": "code",
      "metadata": {
        "id": "juBoOUXv0g03",
        "outputId": "278a0d7e-c083-4592-a68f-583e9088c458",
        "colab": {
          "base_uri": "https://localhost:8080/",
          "height": 51
        }
      },
      "source": [
        "np.arange(1,20)"
      ],
      "execution_count": 8,
      "outputs": [
        {
          "output_type": "execute_result",
          "data": {
            "text/plain": [
              "array([ 1,  2,  3,  4,  5,  6,  7,  8,  9, 10, 11, 12, 13, 14, 15, 16, 17,\n",
              "       18, 19])"
            ]
          },
          "metadata": {
            "tags": []
          },
          "execution_count": 8
        }
      ]
    },
    {
      "cell_type": "markdown",
      "metadata": {
        "id": "Ur7PeiO40g1H"
      },
      "source": [
        "También arrays multidimensionales:"
      ]
    },
    {
      "cell_type": "code",
      "metadata": {
        "id": "RAxRAAUn0g1K",
        "outputId": "b1a1f965-a605-4aef-8e8b-4882acff8d0b",
        "colab": {
          "base_uri": "https://localhost:8080/",
          "height": 51
        }
      },
      "source": [
        "a = np.zeros((2,2))\n",
        "print (a)"
      ],
      "execution_count": 9,
      "outputs": [
        {
          "output_type": "stream",
          "text": [
            "[[0. 0.]\n",
            " [0. 0.]]\n"
          ],
          "name": "stdout"
        }
      ]
    },
    {
      "cell_type": "code",
      "metadata": {
        "id": "JrvObDnf0g1Y",
        "outputId": "a95fded2-b12b-45ac-f421-49fa88152967",
        "colab": {
          "base_uri": "https://localhost:8080/",
          "height": 34
        }
      },
      "source": [
        "a.ndim"
      ],
      "execution_count": 10,
      "outputs": [
        {
          "output_type": "execute_result",
          "data": {
            "text/plain": [
              "2"
            ]
          },
          "metadata": {
            "tags": []
          },
          "execution_count": 10
        }
      ]
    },
    {
      "cell_type": "code",
      "metadata": {
        "id": "VXEAG5cV0g1l",
        "outputId": "aa8ce6cc-02a1-4778-9628-56169df3f315",
        "colab": {
          "base_uri": "https://localhost:8080/",
          "height": 34
        }
      },
      "source": [
        "a.dtype"
      ],
      "execution_count": 11,
      "outputs": [
        {
          "output_type": "execute_result",
          "data": {
            "text/plain": [
              "dtype('float64')"
            ]
          },
          "metadata": {
            "tags": []
          },
          "execution_count": 11
        }
      ]
    },
    {
      "cell_type": "code",
      "metadata": {
        "id": "OTpwAgyj0g14",
        "outputId": "533ba5fc-202c-4cf6-dc3f-917821f2f85a",
        "colab": {
          "base_uri": "https://localhost:8080/",
          "height": 51
        }
      },
      "source": [
        "b = np.random.random((2,2))\n",
        "print (b)"
      ],
      "execution_count": 12,
      "outputs": [
        {
          "output_type": "stream",
          "text": [
            "[[0.40571598 0.42600805]\n",
            " [0.07950057 0.05339268]]\n"
          ],
          "name": "stdout"
        }
      ]
    },
    {
      "cell_type": "code",
      "metadata": {
        "id": "webIPAma0g2F",
        "outputId": "c7a634be-7eab-4e66-e80f-6db2503f2604",
        "colab": {
          "base_uri": "https://localhost:8080/",
          "height": 51
        }
      },
      "source": [
        "a = np.random.random((2,2))\n",
        "print(a)"
      ],
      "execution_count": 13,
      "outputs": [
        {
          "output_type": "stream",
          "text": [
            "[[0.20135749 0.12031051]\n",
            " [0.02618465 0.9678518 ]]\n"
          ],
          "name": "stdout"
        }
      ]
    },
    {
      "cell_type": "markdown",
      "metadata": {
        "id": "5o0QZDMy0g2T"
      },
      "source": [
        "Se pueden aplicar funciones sobre todo el array o matriz, y el resultado será una matriz idéntica con el operador aplicado. Similar a lo que ocurre con la operación `map` de algunos lenguajes de programación (incluído Python):"
      ]
    },
    {
      "cell_type": "code",
      "metadata": {
        "id": "dFpNqjd-0g2V",
        "outputId": "48bb77a9-cf0c-41f4-ef10-90dfd3469a2a",
        "colab": {
          "base_uri": "https://localhost:8080/",
          "height": 51
        }
      },
      "source": [
        "print (a >= .5)"
      ],
      "execution_count": 14,
      "outputs": [
        {
          "output_type": "stream",
          "text": [
            "[[False False]\n",
            " [False  True]]\n"
          ],
          "name": "stdout"
        }
      ]
    },
    {
      "cell_type": "markdown",
      "metadata": {
        "id": "09xWrIqZ0g2u"
      },
      "source": [
        "También se pueden _filtrar_ los elementos de un array o matriz que cumplan una condición. Para eso se utiliza el operador de indización (`[]`) con una expresión booleana."
      ]
    },
    {
      "cell_type": "code",
      "metadata": {
        "id": "lf8zXQ6r0g2w",
        "outputId": "94cab6a1-8f24-400d-bc15-0a6db93e13e7",
        "colab": {
          "base_uri": "https://localhost:8080/",
          "height": 34
        }
      },
      "source": [
        "print (a[a >= .5])"
      ],
      "execution_count": 15,
      "outputs": [
        {
          "output_type": "stream",
          "text": [
            "[0.9678518]\n"
          ],
          "name": "stdout"
        }
      ]
    },
    {
      "cell_type": "markdown",
      "metadata": {
        "id": "LntLnGSC0g29"
      },
      "source": [
        "¿Por qué usar Numpy? \n",
        "\n",
        "`%%capture` captura la salida de la ejecución de la celda en la variable dada como parámetro. Después se puede imprimir.\n",
        "\n",
        "`%timeit` se utiliza para ejecutar varias veces una instrucción y calcular un promedio de su duración."
      ]
    },
    {
      "cell_type": "code",
      "metadata": {
        "id": "GUM4mNqc0g3A"
      },
      "source": [
        "%%capture timeit_output\n",
        "\n",
        "%timeit l1 = range(1,1000)\n",
        "\n",
        "%timeit l2 = np.arange(1,1000)"
      ],
      "execution_count": 16,
      "outputs": []
    },
    {
      "cell_type": "code",
      "metadata": {
        "id": "AUXOSmWP0g3M",
        "outputId": "ca5001e9-651a-479b-f679-df5298b63c89",
        "colab": {
          "base_uri": "https://localhost:8080/",
          "height": 102
        }
      },
      "source": [
        "print(timeit_output)"
      ],
      "execution_count": 17,
      "outputs": [
        {
          "output_type": "stream",
          "text": [
            "The slowest run took 7.19 times longer than the fastest. This could mean that an intermediate result is being cached.\n",
            "1000000 loops, best of 3: 207 ns per loop\n",
            "The slowest run took 10.79 times longer than the fastest. This could mean that an intermediate result is being cached.\n",
            "1000000 loops, best of 3: 1.66 us per loop\n",
            "\n"
          ],
          "name": "stdout"
        }
      ]
    },
    {
      "cell_type": "code",
      "metadata": {
        "scrolled": true,
        "id": "nZJKGRoj0g3Z",
        "outputId": "bf18b65a-d9f7-4ec3-b1cc-6585fdd0b86f",
        "colab": {
          "base_uri": "https://localhost:8080/",
          "height": 68
        }
      },
      "source": [
        "x = np.array([[1,2],[3,4]])\n",
        "\n",
        "print (np.sum(x))  # Compute sum of all elements; prints \"10\"\n",
        "print (np.sum(x, axis=0))  # Compute sum of each column; prints \"[4 6]\"\n",
        "print (np.sum(x, axis=1))  # Compute sum of each row; prints \"[3 7]\""
      ],
      "execution_count": 18,
      "outputs": [
        {
          "output_type": "stream",
          "text": [
            "10\n",
            "[4 6]\n",
            "[3 7]\n"
          ],
          "name": "stdout"
        }
      ]
    },
    {
      "cell_type": "code",
      "metadata": {
        "id": "2pLMfeT10g3j",
        "outputId": "1ba41cca-8d3c-46c9-d03e-d0fa585356b3",
        "colab": {
          "base_uri": "https://localhost:8080/",
          "height": 51
        }
      },
      "source": [
        "x * 2"
      ],
      "execution_count": 19,
      "outputs": [
        {
          "output_type": "execute_result",
          "data": {
            "text/plain": [
              "array([[2, 4],\n",
              "       [6, 8]])"
            ]
          },
          "metadata": {
            "tags": []
          },
          "execution_count": 19
        }
      ]
    },
    {
      "cell_type": "code",
      "metadata": {
        "id": "qyW6o5hI0g4C",
        "outputId": "fadce891-5fbe-4cbf-99ad-28a7a3916c4f",
        "colab": {
          "base_uri": "https://localhost:8080/",
          "height": 51
        }
      },
      "source": [
        "x ** 2"
      ],
      "execution_count": 20,
      "outputs": [
        {
          "output_type": "execute_result",
          "data": {
            "text/plain": [
              "array([[ 1,  4],\n",
              "       [ 9, 16]])"
            ]
          },
          "metadata": {
            "tags": []
          },
          "execution_count": 20
        }
      ]
    },
    {
      "cell_type": "markdown",
      "metadata": {
        "id": "-uig7nF20g4N"
      },
      "source": [
        "`numpy` tiene infinidad de funciones, por lo que sería interesante darse una vuelta por su documentación: https://docs.scipy.org/doc/."
      ]
    },
    {
      "cell_type": "markdown",
      "metadata": {
        "id": "yQV9Ttle0g4P"
      },
      "source": [
        "## Matplotlib\n",
        "\n",
        "Matplotlib permite generar gráficos de forma sencilla. Lo veremos aquí primero conectado sólo con `Numpy` y después conectado con `Pandas`."
      ]
    },
    {
      "cell_type": "code",
      "metadata": {
        "id": "f5kz-KFL0g4R",
        "outputId": "e2b8550e-c0be-41df-8981-1d38520c1704",
        "colab": {
          "base_uri": "https://localhost:8080/",
          "height": 0
        }
      },
      "source": [
        "x = np.arange(0, 3 * np.pi, 0.1)\n",
        "y = np.sin(x)\n",
        "plt.subplot()\n",
        "# Plot the points using matplotlib\n",
        "plt.plot(x, y)\n",
        "plt.show()"
      ],
      "execution_count": 21,
      "outputs": [
        {
          "output_type": "display_data",
          "data": {
            "image/png": "[encoded data removed]",
            "text/plain": [
              "<Figure size 432x288 with 1 Axes>"
            ]
          },
          "metadata": {
            "tags": []
          }
        }
      ]
    },
    {
      "cell_type": "code",
      "metadata": {
        "id": "VgdTh4Y60g4e",
        "outputId": "1d1ec420-0b12-4067-8c5b-dfca7585de8a",
        "colab": {
          "base_uri": "https://localhost:8080/",
          "height": 0
        }
      },
      "source": [
        "plt.subplot(211)\n",
        "plt.plot(range(12))\n",
        "plt.subplot(212, facecolor='y')\n",
        "plt.plot(range(100))\n",
        "plt.show()"
      ],
      "execution_count": 22,
      "outputs": [
        {
          "output_type": "display_data",
          "data": {
            "image/png": "[encoded data removed]",
            "text/plain": [
              "<Figure size 432x288 with 2 Axes>"
            ]
          },
          "metadata": {
            "tags": []
          }
        }
      ]
    },
    {
      "cell_type": "code",
      "metadata": {
        "id": "s_PgM4a20g4q",
        "outputId": "5ba53039-f511-411f-913e-848877c1999f",
        "colab": {
          "base_uri": "https://localhost:8080/",
          "height": 0
        }
      },
      "source": [
        "# Compute the x and y coordinates for points on sine and cosine curves\n",
        "x = np.arange(0, 3 * np.pi, 0.1)\n",
        "y_sin = np.sin(x)\n",
        "y_cos = np.cos(x)\n",
        "\n",
        "# Plot the points using matplotlib\n",
        "plt.plot(x, y_sin)\n",
        "plt.plot(x, y_cos)\n",
        "plt.xlabel('x axis label')\n",
        "plt.ylabel('y axis label')\n",
        "plt.title('Sine and Cosine')\n",
        "plt.legend(['Sine', 'Cosine'])\n",
        "plt.show()"
      ],
      "execution_count": 23,
      "outputs": [
        {
          "output_type": "display_data",
          "data": {
            "image/png": "[encoded data removed]",
            "text/plain": [
              "<Figure size 432x288 with 1 Axes>"
            ]
          },
          "metadata": {
            "tags": []
          }
        }
      ]
    },
    {
      "cell_type": "markdown",
      "metadata": {
        "id": "ui_uyztA0g4y"
      },
      "source": [
        "## Pandas\n",
        "\n",
        "Tutoriales: [1](http://pandas.pydata.org/pandas-docs/version/0.18.1/tutorials.html), [2](https://dev.socrata.com/blog/2016/02/01/pandas-and-jupyter-notebook.html), [3](http://nikgrozev.com/2015/12/27/pandas-in-jupyter-quickstart-and-useful-snippets/)."
      ]
    },
    {
      "cell_type": "markdown",
      "metadata": {
        "id": "LOyrsZB10g40"
      },
      "source": [
        "Pandas permite gestionar conjuntos de datos n-dimensionales de diferentes formas, y también conectarlo con matplotlib para hacer gráficas.\n",
        "\n",
        "Los conceptos principales de Pandas son los `Dataframes` y las `Series`. La diferencia entre ambas es que la serie guarda sólo una serie (una columna o una fila, depende de como se quiera interpretar), mientras que un Dataframe guarda estructuras multidimensaionales agregando series.\n",
        "\n",
        "Ambas tienen una (o varias) \"columna fantasma\", que sirve de índice, y que se puede acceder con `d.index` (tanto si `d` es una serie o un dataframe). Si no se especifica un índice, se le añade uno virtual numerando las filas desde cero. Además, los índices pueden ser multidimensionales (por ejemplo, tener un índice por mes y dentro uno por dia de la semana)."
      ]
    },
    {
      "cell_type": "code",
      "metadata": {
        "id": "cl0Bh4Q-0g44",
        "outputId": "ff32abb6-acea-4d56-b4f3-fe2faa4b19d9",
        "colab": {
          "base_uri": "https://localhost:8080/",
          "height": 0
        }
      },
      "source": [
        "ts = pd.Series(np.random.randn(1000), index=pd.date_range('1/1/2000', periods=1000))\n",
        "ts"
      ],
      "execution_count": 24,
      "outputs": [
        {
          "output_type": "execute_result",
          "data": {
            "text/plain": [
              "2000-01-01    3.548504\n",
              "2000-01-02    0.253147\n",
              "2000-01-03    1.141466\n",
              "2000-01-04   -0.402707\n",
              "2000-01-05   -0.566146\n",
              "                ...   \n",
              "2002-09-22    1.179621\n",
              "2002-09-23   -0.884703\n",
              "2002-09-24   -1.111342\n",
              "2002-09-25   -0.495990\n",
              "2002-09-26   -0.594214\n",
              "Freq: D, Length: 1000, dtype: float64"
            ]
          },
          "metadata": {
            "tags": []
          },
          "execution_count": 24
        }
      ]
    },
    {
      "cell_type": "code",
      "metadata": {
        "id": "6RQFSUOW0g5A",
        "outputId": "fea33f35-8de1-445f-9a6e-1784a107b01b",
        "colab": {
          "base_uri": "https://localhost:8080/",
          "height": 0
        }
      },
      "source": [
        "ts.describe()"
      ],
      "execution_count": 25,
      "outputs": [
        {
          "output_type": "execute_result",
          "data": {
            "text/plain": [
              "count    1000.000000\n",
              "mean        0.021437\n",
              "std         1.029136\n",
              "min        -3.105010\n",
              "25%        -0.623681\n",
              "50%         0.022718\n",
              "75%         0.678419\n",
              "max         3.959178\n",
              "dtype: float64"
            ]
          },
          "metadata": {
            "tags": []
          },
          "execution_count": 25
        }
      ]
    },
    {
      "cell_type": "code",
      "metadata": {
        "id": "pEYsgmGG0g5N",
        "outputId": "268f5301-7100-4fde-d71e-50e685ec34f4",
        "colab": {
          "base_uri": "https://localhost:8080/",
          "height": 0
        }
      },
      "source": [
        "ts = ts.cumsum()\n",
        "ts.plot();"
      ],
      "execution_count": 26,
      "outputs": [
        {
          "output_type": "display_data",
          "data": {
            "image/png": "[encoded data removed]",
            "text/plain": [
              "<Figure size 432x288 with 1 Axes>"
            ]
          },
          "metadata": {
            "tags": []
          }
        }
      ]
    },
    {
      "cell_type": "code",
      "metadata": {
        "id": "NJnJN3Mx0g5s",
        "outputId": "50445e26-21c5-4d80-d310-5f07ab427136",
        "colab": {
          "base_uri": "https://localhost:8080/",
          "height": 0
        }
      },
      "source": [
        "df = pd.DataFrame(np.random.randn(1000, 4), index=ts.index, columns=list('ABCD'))\n",
        "\n",
        "df = df.cumsum()\n",
        "\n",
        "df.plot();"
      ],
      "execution_count": 27,
      "outputs": [
        {
          "output_type": "display_data",
          "data": {
            "image/png": "[encoded data removed]",
            "text/plain": [
              "<Figure size 432x288 with 1 Axes>"
            ]
          },
          "metadata": {
            "tags": []
          }
        }
      ]
    },
    {
      "cell_type": "markdown",
      "metadata": {
        "id": "gGSFAtW10g5z"
      },
      "source": [
        "Se puede hacer plot también de una columna contra otra."
      ]
    },
    {
      "cell_type": "code",
      "metadata": {
        "scrolled": true,
        "id": "a5adevuK0g51",
        "outputId": "2893fd8a-00fa-47b9-f4ad-e10111b2e030",
        "colab": {
          "base_uri": "https://localhost:8080/",
          "height": 0
        }
      },
      "source": [
        "df3 = pd.DataFrame(np.random.randn(1000, 2), columns=['B', 'C']).cumsum()\n",
        "df3['A'] = pd.Series(list(range(len(df3))))\n",
        "df3.plot(x='A', y='B');"
      ],
      "execution_count": 28,
      "outputs": [
        {
          "output_type": "display_data",
          "data": {
            "image/png": "[encoded data removed]",
            "text/plain": [
              "<Figure size 432x288 with 1 Axes>"
            ]
          },
          "metadata": {
            "tags": []
          }
        }
      ]
    },
    {
      "cell_type": "markdown",
      "metadata": {
        "id": "Q4UceYje0g6A"
      },
      "source": [
        "Valores incompletos. Si no se establecen, se pone a `NaN` (_not a number_). "
      ]
    },
    {
      "cell_type": "code",
      "metadata": {
        "id": "Qc6-3Cdu0g6C",
        "outputId": "b934b5aa-6cdb-4e5d-cfed-02c50f4352a6",
        "colab": {
          "base_uri": "https://localhost:8080/",
          "height": 0
        }
      },
      "source": [
        "d = {'one' : pd.Series([1., 2., 3.], index=['a', 'b', 'c']),\n",
        "     'two' : pd.Series([1., 2., 3., 4.], index=['a', 'b', 'c', 'd'])}\n",
        "df = pd.DataFrame(d)\n",
        "df"
      ],
      "execution_count": 29,
      "outputs": [
        {
          "output_type": "execute_result",
          "data": {
            "text/html": [
              "<div>\n",
              "<style scoped>\n",
              "    .dataframe tbody tr th:only-of-type {\n",
              "        vertical-align: middle;\n",
              "    }\n",
              "\n",
              "    .dataframe tbody tr th {\n",
              "        vertical-align: top;\n",
              "    }\n",
              "\n",
              "    .dataframe thead th {\n",
              "        text-align: right;\n",
              "    }\n",
              "</style>\n",
              "<table border=\"1\" class=\"dataframe\">\n",
              "  <thead>\n",
              "    <tr style=\"text-align: right;\">\n",
              "      <th></th>\n",
              "      <th>one</th>\n",
              "      <th>two</th>\n",
              "    </tr>\n",
              "  </thead>\n",
              "  <tbody>\n",
              "    <tr>\n",
              "      <th>a</th>\n",
              "      <td>1.0</td>\n",
              "      <td>1.0</td>\n",
              "    </tr>\n",
              "    <tr>\n",
              "      <th>b</th>\n",
              "      <td>2.0</td>\n",
              "      <td>2.0</td>\n",
              "    </tr>\n",
              "    <tr>\n",
              "      <th>c</th>\n",
              "      <td>3.0</td>\n",
              "      <td>3.0</td>\n",
              "    </tr>\n",
              "    <tr>\n",
              "      <th>d</th>\n",
              "      <td>NaN</td>\n",
              "      <td>4.0</td>\n",
              "    </tr>\n",
              "  </tbody>\n",
              "</table>\n",
              "</div>"
            ],
            "text/plain": [
              "   one  two\n",
              "a  1.0  1.0\n",
              "b  2.0  2.0\n",
              "c  3.0  3.0\n",
              "d  NaN  4.0"
            ]
          },
          "metadata": {
            "tags": []
          },
          "execution_count": 29
        }
      ]
    },
    {
      "cell_type": "markdown",
      "metadata": {
        "id": "EXZ4QkcK0g6J"
      },
      "source": [
        "`fillna()` permite cambiar el valor de los datos faltantes."
      ]
    },
    {
      "cell_type": "code",
      "metadata": {
        "id": "rgsfR4sx0g6K",
        "outputId": "2f0e8a96-63df-4bc7-a68a-5b9593167d5d",
        "colab": {
          "base_uri": "https://localhost:8080/",
          "height": 0
        }
      },
      "source": [
        "df.fillna(0)"
      ],
      "execution_count": 30,
      "outputs": [
        {
          "output_type": "execute_result",
          "data": {
            "text/html": [
              "<div>\n",
              "<style scoped>\n",
              "    .dataframe tbody tr th:only-of-type {\n",
              "        vertical-align: middle;\n",
              "    }\n",
              "\n",
              "    .dataframe tbody tr th {\n",
              "        vertical-align: top;\n",
              "    }\n",
              "\n",
              "    .dataframe thead th {\n",
              "        text-align: right;\n",
              "    }\n",
              "</style>\n",
              "<table border=\"1\" class=\"dataframe\">\n",
              "  <thead>\n",
              "    <tr style=\"text-align: right;\">\n",
              "      <th></th>\n",
              "      <th>one</th>\n",
              "      <th>two</th>\n",
              "    </tr>\n",
              "  </thead>\n",
              "  <tbody>\n",
              "    <tr>\n",
              "      <th>a</th>\n",
              "      <td>1.0</td>\n",
              "      <td>1.0</td>\n",
              "    </tr>\n",
              "    <tr>\n",
              "      <th>b</th>\n",
              "      <td>2.0</td>\n",
              "      <td>2.0</td>\n",
              "    </tr>\n",
              "    <tr>\n",
              "      <th>c</th>\n",
              "      <td>3.0</td>\n",
              "      <td>3.0</td>\n",
              "    </tr>\n",
              "    <tr>\n",
              "      <th>d</th>\n",
              "      <td>0.0</td>\n",
              "      <td>4.0</td>\n",
              "    </tr>\n",
              "  </tbody>\n",
              "</table>\n",
              "</div>"
            ],
            "text/plain": [
              "   one  two\n",
              "a  1.0  1.0\n",
              "b  2.0  2.0\n",
              "c  3.0  3.0\n",
              "d  0.0  4.0"
            ]
          },
          "metadata": {
            "tags": []
          },
          "execution_count": 30
        }
      ]
    },
    {
      "cell_type": "code",
      "metadata": {
        "id": "9rM1X2lV0g6R",
        "outputId": "8bd8a219-18ae-4523-d8c5-bef408a73b1f",
        "colab": {
          "base_uri": "https://localhost:8080/",
          "height": 0
        }
      },
      "source": [
        "pd.DataFrame(d, index=['d', 'b', 'a'])"
      ],
      "execution_count": 31,
      "outputs": [
        {
          "output_type": "execute_result",
          "data": {
            "text/html": [
              "<div>\n",
              "<style scoped>\n",
              "    .dataframe tbody tr th:only-of-type {\n",
              "        vertical-align: middle;\n",
              "    }\n",
              "\n",
              "    .dataframe tbody tr th {\n",
              "        vertical-align: top;\n",
              "    }\n",
              "\n",
              "    .dataframe thead th {\n",
              "        text-align: right;\n",
              "    }\n",
              "</style>\n",
              "<table border=\"1\" class=\"dataframe\">\n",
              "  <thead>\n",
              "    <tr style=\"text-align: right;\">\n",
              "      <th></th>\n",
              "      <th>one</th>\n",
              "      <th>two</th>\n",
              "    </tr>\n",
              "  </thead>\n",
              "  <tbody>\n",
              "    <tr>\n",
              "      <th>d</th>\n",
              "      <td>NaN</td>\n",
              "      <td>4.0</td>\n",
              "    </tr>\n",
              "    <tr>\n",
              "      <th>b</th>\n",
              "      <td>2.0</td>\n",
              "      <td>2.0</td>\n",
              "    </tr>\n",
              "    <tr>\n",
              "      <th>a</th>\n",
              "      <td>1.0</td>\n",
              "      <td>1.0</td>\n",
              "    </tr>\n",
              "  </tbody>\n",
              "</table>\n",
              "</div>"
            ],
            "text/plain": [
              "   one  two\n",
              "d  NaN  4.0\n",
              "b  2.0  2.0\n",
              "a  1.0  1.0"
            ]
          },
          "metadata": {
            "tags": []
          },
          "execution_count": 31
        }
      ]
    },
    {
      "cell_type": "code",
      "metadata": {
        "id": "HanNMeBa0g6b",
        "outputId": "5a58524d-f12c-4bff-c4ca-21010ca8d394",
        "colab": {
          "base_uri": "https://localhost:8080/",
          "height": 0
        }
      },
      "source": [
        "pd.DataFrame(d, index=['d', 'b', 'a'], columns=['two', 'three'])"
      ],
      "execution_count": 32,
      "outputs": [
        {
          "output_type": "execute_result",
          "data": {
            "text/html": [
              "<div>\n",
              "<style scoped>\n",
              "    .dataframe tbody tr th:only-of-type {\n",
              "        vertical-align: middle;\n",
              "    }\n",
              "\n",
              "    .dataframe tbody tr th {\n",
              "        vertical-align: top;\n",
              "    }\n",
              "\n",
              "    .dataframe thead th {\n",
              "        text-align: right;\n",
              "    }\n",
              "</style>\n",
              "<table border=\"1\" class=\"dataframe\">\n",
              "  <thead>\n",
              "    <tr style=\"text-align: right;\">\n",
              "      <th></th>\n",
              "      <th>two</th>\n",
              "      <th>three</th>\n",
              "    </tr>\n",
              "  </thead>\n",
              "  <tbody>\n",
              "    <tr>\n",
              "      <th>d</th>\n",
              "      <td>4.0</td>\n",
              "      <td>NaN</td>\n",
              "    </tr>\n",
              "    <tr>\n",
              "      <th>b</th>\n",
              "      <td>2.0</td>\n",
              "      <td>NaN</td>\n",
              "    </tr>\n",
              "    <tr>\n",
              "      <th>a</th>\n",
              "      <td>1.0</td>\n",
              "      <td>NaN</td>\n",
              "    </tr>\n",
              "  </tbody>\n",
              "</table>\n",
              "</div>"
            ],
            "text/plain": [
              "   two three\n",
              "d  4.0   NaN\n",
              "b  2.0   NaN\n",
              "a  1.0   NaN"
            ]
          },
          "metadata": {
            "tags": []
          },
          "execution_count": 32
        }
      ]
    },
    {
      "cell_type": "markdown",
      "metadata": {
        "id": "ROQ0H5Ny0g6k"
      },
      "source": [
        "A continuación se muestra un ejemplo de uso de Pandas para leer datos y procesarlos en un Dataframe.\n",
        "\n",
        "El primer ejemplo completo carga desde el fichero `swift-question-dates.txt.gz` las fechas de las preguntas en Stackoverflow que contienen el tag \"swift\"."
      ]
    },
    {
      "cell_type": "markdown",
      "metadata": {
        "id": "fPUsDbL00g6m"
      },
      "source": [
        "La función `read_csv` es capaz de leer cualquier fichero CSV y lo convierte en un \"Dataframe\", una estructura de tabla que guarda también los nombres y los tipos de las columnas, así como un índice por el que se identificarán las tablas. La lista incluye la fecha en donde se produjo una pregunta con el tag \"swift\". Como los datos en sí son las fechas, hacemos que la columna de fechas haga a su vez de índice."
      ]
    },
    {
      "cell_type": "code",
      "metadata": {
        "id": "QvDjN15R0g6o"
      },
      "source": [
        "df = pd.read_csv('https://github.com/dsevilla/bdge/raw/master/intro/swift-question-dates.txt.gz',\n",
        "                 header=None,\n",
        "                 names=['date'],\n",
        "                 compression='gzip',\n",
        "                 parse_dates=['date'],\n",
        "                 index_col='date')"
      ],
      "execution_count": 33,
      "outputs": []
    },
    {
      "cell_type": "code",
      "metadata": {
        "scrolled": true,
        "id": "fgVSv1lt0g6v",
        "outputId": "bccf0377-da62-4b3f-a774-403bc6e4f6d1",
        "colab": {
          "base_uri": "https://localhost:8080/",
          "height": 0
        }
      },
      "source": [
        "df"
      ],
      "execution_count": 34,
      "outputs": [
        {
          "output_type": "execute_result",
          "data": {
            "text/html": [
              "<div>\n",
              "<style scoped>\n",
              "    .dataframe tbody tr th:only-of-type {\n",
              "        vertical-align: middle;\n",
              "    }\n",
              "\n",
              "    .dataframe tbody tr th {\n",
              "        vertical-align: top;\n",
              "    }\n",
              "\n",
              "    .dataframe thead th {\n",
              "        text-align: right;\n",
              "    }\n",
              "</style>\n",
              "<table border=\"1\" class=\"dataframe\">\n",
              "  <thead>\n",
              "    <tr style=\"text-align: right;\">\n",
              "      <th></th>\n",
              "    </tr>\n",
              "    <tr>\n",
              "      <th>date</th>\n",
              "    </tr>\n",
              "  </thead>\n",
              "  <tbody>\n",
              "    <tr>\n",
              "      <th>2008-08-24</th>\n",
              "    </tr>\n",
              "    <tr>\n",
              "      <th>2008-11-19</th>\n",
              "    </tr>\n",
              "    <tr>\n",
              "      <th>2009-02-17</th>\n",
              "    </tr>\n",
              "    <tr>\n",
              "      <th>2009-03-30</th>\n",
              "    </tr>\n",
              "    <tr>\n",
              "      <th>2009-04-07</th>\n",
              "    </tr>\n",
              "    <tr>\n",
              "      <th>...</th>\n",
              "    </tr>\n",
              "    <tr>\n",
              "      <th>2016-09-04</th>\n",
              "    </tr>\n",
              "    <tr>\n",
              "      <th>2016-09-04</th>\n",
              "    </tr>\n",
              "    <tr>\n",
              "      <th>2016-09-04</th>\n",
              "    </tr>\n",
              "    <tr>\n",
              "      <th>2016-09-04</th>\n",
              "    </tr>\n",
              "    <tr>\n",
              "      <th>2016-09-04</th>\n",
              "    </tr>\n",
              "  </tbody>\n",
              "</table>\n",
              "<p>116624 rows × 0 columns</p>\n",
              "</div>"
            ],
            "text/plain": [
              "Empty DataFrame\n",
              "Columns: []\n",
              "Index: [2008-08-24 00:00:00, 2008-11-19 00:00:00, 2009-02-17 00:00:00, 2009-03-30 00:00:00, 2009-04-07 00:00:00, 2009-04-21 00:00:00, 2009-05-05 00:00:00, 2009-05-27 00:00:00, 2009-06-04 00:00:00, 2009-06-10 00:00:00, 2009-06-10 00:00:00, 2009-06-12 00:00:00, 2009-06-17 00:00:00, 2009-06-30 00:00:00, 2009-07-14 00:00:00, 2009-08-03 00:00:00, 2009-08-07 00:00:00, 2009-08-07 00:00:00, 2009-08-17 00:00:00, 2009-08-18 00:00:00, 2009-08-28 00:00:00, 2009-09-04 00:00:00, 2009-09-05 00:00:00, 2009-09-24 00:00:00, 2009-09-27 00:00:00, 2009-09-29 00:00:00, 2009-10-28 00:00:00, 2009-11-04 00:00:00, 2009-11-16 00:00:00, 2009-12-24 00:00:00, 2010-01-02 00:00:00, 2010-02-03 00:00:00, 2010-02-06 00:00:00, 2010-02-12 00:00:00, 2010-02-23 00:00:00, 2010-03-19 00:00:00, 2010-03-19 00:00:00, 2010-03-19 00:00:00, 2010-03-22 00:00:00, 2010-03-22 00:00:00, 2010-04-01 00:00:00, 2010-04-07 00:00:00, 2010-05-09 00:00:00, 2010-05-28 00:00:00, 2010-06-12 00:00:00, 2010-06-15 00:00:00, 2010-06-19 00:00:00, 2010-06-24 00:00:00, 2010-07-02 00:00:00, 2010-07-16 00:00:00, 2010-07-18 00:00:00, 2010-07-20 00:00:00, 2010-07-20 00:00:00, 2010-07-20 00:00:00, 2010-07-22 00:00:00, 2010-07-23 00:00:00, 2010-07-29 00:00:00, 2010-08-13 00:00:00, 2010-08-13 00:00:00, 2010-08-21 00:00:00, 2010-08-23 00:00:00, 2010-08-24 00:00:00, 2010-08-24 00:00:00, 2010-08-25 00:00:00, 2010-09-04 00:00:00, 2010-09-08 00:00:00, 2010-09-14 00:00:00, 2010-09-16 00:00:00, 2010-09-18 00:00:00, 2010-09-22 00:00:00, 2010-09-27 00:00:00, 2010-10-11 00:00:00, 2010-10-12 00:00:00, 2010-10-29 00:00:00, 2010-11-01 00:00:00, 2010-11-04 00:00:00, 2010-11-09 00:00:00, 2010-11-09 00:00:00, 2010-11-10 00:00:00, 2010-11-18 00:00:00, 2010-11-19 00:00:00, 2010-11-24 00:00:00, 2010-11-29 00:00:00, 2010-12-06 00:00:00, 2010-12-08 00:00:00, 2010-12-19 00:00:00, 2010-12-25 00:00:00, 2010-12-29 00:00:00, 2011-01-05 00:00:00, 2011-01-12 00:00:00, 2011-01-20 00:00:00, 2011-01-20 00:00:00, 2011-01-24 00:00:00, 2011-01-27 00:00:00, 2011-01-31 00:00:00, 2011-02-02 00:00:00, 2011-02-04 00:00:00, 2011-02-07 00:00:00, 2011-02-09 00:00:00, 2011-02-09 00:00:00, ...]\n",
              "\n",
              "[116624 rows x 0 columns]"
            ]
          },
          "metadata": {
            "tags": []
          },
          "execution_count": 34
        }
      ]
    },
    {
      "cell_type": "markdown",
      "metadata": {
        "id": "dzPabHwO0g62"
      },
      "source": [
        "De la fecha, extraer sólo la fecha (no la hora, que no nos interesa)."
      ]
    },
    {
      "cell_type": "code",
      "metadata": {
        "id": "Fs9Z3Bd50g68"
      },
      "source": [
        "df.index = df.index.date"
      ],
      "execution_count": 35,
      "outputs": []
    },
    {
      "cell_type": "markdown",
      "metadata": {
        "id": "wwZuo_Dh0g7D"
      },
      "source": [
        "Añadimos una columna de todo \"1\" para especificar que cada pregunta cuenta como 1."
      ]
    },
    {
      "cell_type": "code",
      "metadata": {
        "scrolled": true,
        "id": "SZYjrZoW0g7F",
        "outputId": "dd7626c5-5b96-4eb2-b86b-face2eaddfeb",
        "colab": {
          "base_uri": "https://localhost:8080/",
          "height": 0
        }
      },
      "source": [
        "df['Count'] = 1\n",
        "df"
      ],
      "execution_count": 36,
      "outputs": [
        {
          "output_type": "execute_result",
          "data": {
            "text/html": [
              "<div>\n",
              "<style scoped>\n",
              "    .dataframe tbody tr th:only-of-type {\n",
              "        vertical-align: middle;\n",
              "    }\n",
              "\n",
              "    .dataframe tbody tr th {\n",
              "        vertical-align: top;\n",
              "    }\n",
              "\n",
              "    .dataframe thead th {\n",
              "        text-align: right;\n",
              "    }\n",
              "</style>\n",
              "<table border=\"1\" class=\"dataframe\">\n",
              "  <thead>\n",
              "    <tr style=\"text-align: right;\">\n",
              "      <th></th>\n",
              "      <th>Count</th>\n",
              "    </tr>\n",
              "  </thead>\n",
              "  <tbody>\n",
              "    <tr>\n",
              "      <th>2008-08-24</th>\n",
              "      <td>1</td>\n",
              "    </tr>\n",
              "    <tr>\n",
              "      <th>2008-11-19</th>\n",
              "      <td>1</td>\n",
              "    </tr>\n",
              "    <tr>\n",
              "      <th>2009-02-17</th>\n",
              "      <td>1</td>\n",
              "    </tr>\n",
              "    <tr>\n",
              "      <th>2009-03-30</th>\n",
              "      <td>1</td>\n",
              "    </tr>\n",
              "    <tr>\n",
              "      <th>2009-04-07</th>\n",
              "      <td>1</td>\n",
              "    </tr>\n",
              "    <tr>\n",
              "      <th>...</th>\n",
              "      <td>...</td>\n",
              "    </tr>\n",
              "    <tr>\n",
              "      <th>2016-09-04</th>\n",
              "      <td>1</td>\n",
              "    </tr>\n",
              "    <tr>\n",
              "      <th>2016-09-04</th>\n",
              "      <td>1</td>\n",
              "    </tr>\n",
              "    <tr>\n",
              "      <th>2016-09-04</th>\n",
              "      <td>1</td>\n",
              "    </tr>\n",
              "    <tr>\n",
              "      <th>2016-09-04</th>\n",
              "      <td>1</td>\n",
              "    </tr>\n",
              "    <tr>\n",
              "      <th>2016-09-04</th>\n",
              "      <td>1</td>\n",
              "    </tr>\n",
              "  </tbody>\n",
              "</table>\n",
              "<p>116624 rows × 1 columns</p>\n",
              "</div>"
            ],
            "text/plain": [
              "            Count\n",
              "2008-08-24      1\n",
              "2008-11-19      1\n",
              "2009-02-17      1\n",
              "2009-03-30      1\n",
              "2009-04-07      1\n",
              "...           ...\n",
              "2016-09-04      1\n",
              "2016-09-04      1\n",
              "2016-09-04      1\n",
              "2016-09-04      1\n",
              "2016-09-04      1\n",
              "\n",
              "[116624 rows x 1 columns]"
            ]
          },
          "metadata": {
            "tags": []
          },
          "execution_count": 36
        }
      ]
    },
    {
      "cell_type": "markdown",
      "metadata": {
        "id": "IK9lb7_e0g7L"
      },
      "source": [
        "A los Dataframe de Pandas también se les puede aplicar operaciones de agregación, como `groupby` o `sum`. Finalmente, la funcion `plot()` permite mostrar los datos en un gráfico."
      ]
    },
    {
      "cell_type": "code",
      "metadata": {
        "id": "jHCSo_G60g7M",
        "outputId": "f36bd53a-7ab0-4602-a460-2d9f31086120",
        "colab": {
          "base_uri": "https://localhost:8080/",
          "height": 0
        }
      },
      "source": [
        "accum = df.groupby(df.index).sum()\n",
        "accum"
      ],
      "execution_count": 37,
      "outputs": [
        {
          "output_type": "execute_result",
          "data": {
            "text/html": [
              "<div>\n",
              "<style scoped>\n",
              "    .dataframe tbody tr th:only-of-type {\n",
              "        vertical-align: middle;\n",
              "    }\n",
              "\n",
              "    .dataframe tbody tr th {\n",
              "        vertical-align: top;\n",
              "    }\n",
              "\n",
              "    .dataframe thead th {\n",
              "        text-align: right;\n",
              "    }\n",
              "</style>\n",
              "<table border=\"1\" class=\"dataframe\">\n",
              "  <thead>\n",
              "    <tr style=\"text-align: right;\">\n",
              "      <th></th>\n",
              "      <th>Count</th>\n",
              "    </tr>\n",
              "  </thead>\n",
              "  <tbody>\n",
              "    <tr>\n",
              "      <th>2008-08-24</th>\n",
              "      <td>1</td>\n",
              "    </tr>\n",
              "    <tr>\n",
              "      <th>2008-11-19</th>\n",
              "      <td>1</td>\n",
              "    </tr>\n",
              "    <tr>\n",
              "      <th>2009-02-17</th>\n",
              "      <td>1</td>\n",
              "    </tr>\n",
              "    <tr>\n",
              "      <th>2009-03-30</th>\n",
              "      <td>1</td>\n",
              "    </tr>\n",
              "    <tr>\n",
              "      <th>2009-04-07</th>\n",
              "      <td>1</td>\n",
              "    </tr>\n",
              "    <tr>\n",
              "      <th>...</th>\n",
              "      <td>...</td>\n",
              "    </tr>\n",
              "    <tr>\n",
              "      <th>2016-08-31</th>\n",
              "      <td>231</td>\n",
              "    </tr>\n",
              "    <tr>\n",
              "      <th>2016-09-01</th>\n",
              "      <td>231</td>\n",
              "    </tr>\n",
              "    <tr>\n",
              "      <th>2016-09-02</th>\n",
              "      <td>197</td>\n",
              "    </tr>\n",
              "    <tr>\n",
              "      <th>2016-09-03</th>\n",
              "      <td>158</td>\n",
              "    </tr>\n",
              "    <tr>\n",
              "      <th>2016-09-04</th>\n",
              "      <td>21</td>\n",
              "    </tr>\n",
              "  </tbody>\n",
              "</table>\n",
              "<p>1360 rows × 1 columns</p>\n",
              "</div>"
            ],
            "text/plain": [
              "            Count\n",
              "2008-08-24      1\n",
              "2008-11-19      1\n",
              "2009-02-17      1\n",
              "2009-03-30      1\n",
              "2009-04-07      1\n",
              "...           ...\n",
              "2016-08-31    231\n",
              "2016-09-01    231\n",
              "2016-09-02    197\n",
              "2016-09-03    158\n",
              "2016-09-04     21\n",
              "\n",
              "[1360 rows x 1 columns]"
            ]
          },
          "metadata": {
            "tags": []
          },
          "execution_count": 37
        }
      ]
    },
    {
      "cell_type": "code",
      "metadata": {
        "id": "HUWdf1E30g7S",
        "outputId": "8560e369-e8ce-44c6-d8dd-5bf1bffe8cc6",
        "colab": {
          "base_uri": "https://localhost:8080/",
          "height": 0
        }
      },
      "source": [
        "# Los 30 primeros registros que tengan un número de preguntas mayor que 20 por día.\n",
        "accum = accum[accum.Count > 20][:30]\n",
        "accum"
      ],
      "execution_count": 38,
      "outputs": [
        {
          "output_type": "execute_result",
          "data": {
            "text/html": [
              "<div>\n",
              "<style scoped>\n",
              "    .dataframe tbody tr th:only-of-type {\n",
              "        vertical-align: middle;\n",
              "    }\n",
              "\n",
              "    .dataframe tbody tr th {\n",
              "        vertical-align: top;\n",
              "    }\n",
              "\n",
              "    .dataframe thead th {\n",
              "        text-align: right;\n",
              "    }\n",
              "</style>\n",
              "<table border=\"1\" class=\"dataframe\">\n",
              "  <thead>\n",
              "    <tr style=\"text-align: right;\">\n",
              "      <th></th>\n",
              "      <th>Count</th>\n",
              "    </tr>\n",
              "  </thead>\n",
              "  <tbody>\n",
              "    <tr>\n",
              "      <th>2014-06-02</th>\n",
              "      <td>33</td>\n",
              "    </tr>\n",
              "    <tr>\n",
              "      <th>2014-06-03</th>\n",
              "      <td>170</td>\n",
              "    </tr>\n",
              "    <tr>\n",
              "      <th>2014-06-04</th>\n",
              "      <td>188</td>\n",
              "    </tr>\n",
              "    <tr>\n",
              "      <th>2014-06-05</th>\n",
              "      <td>160</td>\n",
              "    </tr>\n",
              "    <tr>\n",
              "      <th>2014-06-06</th>\n",
              "      <td>139</td>\n",
              "    </tr>\n",
              "    <tr>\n",
              "      <th>2014-06-07</th>\n",
              "      <td>84</td>\n",
              "    </tr>\n",
              "    <tr>\n",
              "      <th>2014-06-08</th>\n",
              "      <td>148</td>\n",
              "    </tr>\n",
              "    <tr>\n",
              "      <th>2014-06-09</th>\n",
              "      <td>123</td>\n",
              "    </tr>\n",
              "    <tr>\n",
              "      <th>2014-06-10</th>\n",
              "      <td>140</td>\n",
              "    </tr>\n",
              "    <tr>\n",
              "      <th>2014-06-11</th>\n",
              "      <td>103</td>\n",
              "    </tr>\n",
              "    <tr>\n",
              "      <th>2014-06-12</th>\n",
              "      <td>95</td>\n",
              "    </tr>\n",
              "    <tr>\n",
              "      <th>2014-06-13</th>\n",
              "      <td>87</td>\n",
              "    </tr>\n",
              "    <tr>\n",
              "      <th>2014-06-14</th>\n",
              "      <td>52</td>\n",
              "    </tr>\n",
              "    <tr>\n",
              "      <th>2014-06-15</th>\n",
              "      <td>65</td>\n",
              "    </tr>\n",
              "    <tr>\n",
              "      <th>2014-06-16</th>\n",
              "      <td>74</td>\n",
              "    </tr>\n",
              "    <tr>\n",
              "      <th>2014-06-17</th>\n",
              "      <td>67</td>\n",
              "    </tr>\n",
              "    <tr>\n",
              "      <th>2014-06-18</th>\n",
              "      <td>49</td>\n",
              "    </tr>\n",
              "    <tr>\n",
              "      <th>2014-06-19</th>\n",
              "      <td>66</td>\n",
              "    </tr>\n",
              "    <tr>\n",
              "      <th>2014-06-20</th>\n",
              "      <td>64</td>\n",
              "    </tr>\n",
              "    <tr>\n",
              "      <th>2014-06-21</th>\n",
              "      <td>34</td>\n",
              "    </tr>\n",
              "    <tr>\n",
              "      <th>2014-06-22</th>\n",
              "      <td>48</td>\n",
              "    </tr>\n",
              "    <tr>\n",
              "      <th>2014-06-23</th>\n",
              "      <td>57</td>\n",
              "    </tr>\n",
              "    <tr>\n",
              "      <th>2014-06-24</th>\n",
              "      <td>72</td>\n",
              "    </tr>\n",
              "    <tr>\n",
              "      <th>2014-06-25</th>\n",
              "      <td>64</td>\n",
              "    </tr>\n",
              "    <tr>\n",
              "      <th>2014-06-26</th>\n",
              "      <td>65</td>\n",
              "    </tr>\n",
              "    <tr>\n",
              "      <th>2014-06-27</th>\n",
              "      <td>44</td>\n",
              "    </tr>\n",
              "    <tr>\n",
              "      <th>2014-06-28</th>\n",
              "      <td>52</td>\n",
              "    </tr>\n",
              "    <tr>\n",
              "      <th>2014-06-29</th>\n",
              "      <td>33</td>\n",
              "    </tr>\n",
              "    <tr>\n",
              "      <th>2014-06-30</th>\n",
              "      <td>64</td>\n",
              "    </tr>\n",
              "    <tr>\n",
              "      <th>2014-07-01</th>\n",
              "      <td>54</td>\n",
              "    </tr>\n",
              "  </tbody>\n",
              "</table>\n",
              "</div>"
            ],
            "text/plain": [
              "            Count\n",
              "2014-06-02     33\n",
              "2014-06-03    170\n",
              "2014-06-04    188\n",
              "2014-06-05    160\n",
              "2014-06-06    139\n",
              "2014-06-07     84\n",
              "2014-06-08    148\n",
              "2014-06-09    123\n",
              "2014-06-10    140\n",
              "2014-06-11    103\n",
              "2014-06-12     95\n",
              "2014-06-13     87\n",
              "2014-06-14     52\n",
              "2014-06-15     65\n",
              "2014-06-16     74\n",
              "2014-06-17     67\n",
              "2014-06-18     49\n",
              "2014-06-19     66\n",
              "2014-06-20     64\n",
              "2014-06-21     34\n",
              "2014-06-22     48\n",
              "2014-06-23     57\n",
              "2014-06-24     72\n",
              "2014-06-25     64\n",
              "2014-06-26     65\n",
              "2014-06-27     44\n",
              "2014-06-28     52\n",
              "2014-06-29     33\n",
              "2014-06-30     64\n",
              "2014-07-01     54"
            ]
          },
          "metadata": {
            "tags": []
          },
          "execution_count": 38
        }
      ]
    },
    {
      "cell_type": "code",
      "metadata": {
        "scrolled": true,
        "id": "Oj-c5bzw0g7Z",
        "outputId": "1aabc8cf-b327-4630-8ae3-c812fe581c91",
        "colab": {
          "base_uri": "https://localhost:8080/",
          "height": 0
        }
      },
      "source": [
        "accum[accum.Count > 30][:30].plot.bar()"
      ],
      "execution_count": 39,
      "outputs": [
        {
          "output_type": "execute_result",
          "data": {
            "text/plain": [
              "<matplotlib.axes._subplots.AxesSubplot at 0x7fa8e92729e8>"
            ]
          },
          "metadata": {
            "tags": []
          },
          "execution_count": 39
        },
        {
          "output_type": "display_data",
          "data": {
            "image/png": "[encoded data removed]",
            "text/plain": [
              "<Figure size 432x288 with 1 Axes>"
            ]
          },
          "metadata": {
            "tags": []
          }
        }
      ]
    },
    {
      "cell_type": "markdown",
      "metadata": {
        "id": "3rD7gtAn0g7g"
      },
      "source": [
        "A continuación comprobamos con la página de la Wikipedia cuándo apareció el lenguaje Swift:"
      ]
    },
    {
      "cell_type": "code",
      "metadata": {
        "id": "mlYdNb0I0g7h",
        "outputId": "c5f09799-a6d9-4cba-b6bf-380ac3aff9ee",
        "colab": {
          "base_uri": "https://localhost:8080/",
          "height": 0
        }
      },
      "source": [
        "!pip install lxml"
      ],
      "execution_count": 40,
      "outputs": [
        {
          "output_type": "stream",
          "text": [
            "Requirement already satisfied: lxml in /usr/local/lib/python3.6/dist-packages (4.2.6)\n"
          ],
          "name": "stdout"
        }
      ]
    },
    {
      "cell_type": "code",
      "metadata": {
        "id": "MEL7lZ4B0g7p"
      },
      "source": [
        "dfwiki = pd.read_html('https://en.wikipedia.org/wiki/Swift_(programming_language)',attrs={'class': 'infobox vevent'})"
      ],
      "execution_count": 41,
      "outputs": []
    },
    {
      "cell_type": "code",
      "metadata": {
        "id": "NulSTjML0g70",
        "outputId": "42e0640f-d35f-4e66-d318-956da39e81e5",
        "colab": {
          "base_uri": "https://localhost:8080/",
          "height": 0
        }
      },
      "source": [
        "dfwiki[0]"
      ],
      "execution_count": 42,
      "outputs": [
        {
          "output_type": "execute_result",
          "data": {
            "text/html": [
              "<div>\n",
              "<style scoped>\n",
              "    .dataframe tbody tr th:only-of-type {\n",
              "        vertical-align: middle;\n",
              "    }\n",
              "\n",
              "    .dataframe tbody tr th {\n",
              "        vertical-align: top;\n",
              "    }\n",
              "\n",
              "    .dataframe thead th {\n",
              "        text-align: right;\n",
              "    }\n",
              "</style>\n",
              "<table border=\"1\" class=\"dataframe\">\n",
              "  <thead>\n",
              "    <tr style=\"text-align: right;\">\n",
              "      <th></th>\n",
              "      <th>0</th>\n",
              "      <th>1</th>\n",
              "    </tr>\n",
              "  </thead>\n",
              "  <tbody>\n",
              "    <tr>\n",
              "      <th>0</th>\n",
              "      <td>NaN</td>\n",
              "      <td>NaN</td>\n",
              "    </tr>\n",
              "    <tr>\n",
              "      <th>1</th>\n",
              "      <td>Paradigm</td>\n",
              "      <td>Multi-paradigm: protocol-oriented, object-orie...</td>\n",
              "    </tr>\n",
              "    <tr>\n",
              "      <th>2</th>\n",
              "      <td>Designed by</td>\n",
              "      <td>Chris Lattner, Doug Gregor, John McCall, Ted K...</td>\n",
              "    </tr>\n",
              "    <tr>\n",
              "      <th>3</th>\n",
              "      <td>Developer</td>\n",
              "      <td>Apple Inc. and open-source contributors</td>\n",
              "    </tr>\n",
              "    <tr>\n",
              "      <th>4</th>\n",
              "      <td>First appeared</td>\n",
              "      <td>June 2, 2014; 6 years ago[2]</td>\n",
              "    </tr>\n",
              "    <tr>\n",
              "      <th>5</th>\n",
              "      <td>NaN</td>\n",
              "      <td>NaN</td>\n",
              "    </tr>\n",
              "    <tr>\n",
              "      <th>6</th>\n",
              "      <td>Stable release</td>\n",
              "      <td>5.3[3]  / September 16, 2020; 21 days ago</td>\n",
              "    </tr>\n",
              "    <tr>\n",
              "      <th>7</th>\n",
              "      <td>Preview release</td>\n",
              "      <td>5.3 branch[4]</td>\n",
              "    </tr>\n",
              "    <tr>\n",
              "      <th>8</th>\n",
              "      <td>Typing discipline</td>\n",
              "      <td>Static, strong, inferred</td>\n",
              "    </tr>\n",
              "    <tr>\n",
              "      <th>9</th>\n",
              "      <td>OS</td>\n",
              "      <td>Apple's operating systems (Darwin, iOS, iPadOS...</td>\n",
              "    </tr>\n",
              "    <tr>\n",
              "      <th>10</th>\n",
              "      <td>License</td>\n",
              "      <td>Apache License 2.0 (Swift 2.2 and later)Propri...</td>\n",
              "    </tr>\n",
              "    <tr>\n",
              "      <th>11</th>\n",
              "      <td>Filename extensions</td>\n",
              "      <td>.swift</td>\n",
              "    </tr>\n",
              "    <tr>\n",
              "      <th>12</th>\n",
              "      <td>Website</td>\n",
              "      <td>swift.org</td>\n",
              "    </tr>\n",
              "    <tr>\n",
              "      <th>13</th>\n",
              "      <td>Influenced by</td>\n",
              "      <td>Influenced by</td>\n",
              "    </tr>\n",
              "    <tr>\n",
              "      <th>14</th>\n",
              "      <td>Objective-C,[7] Rust, Haskell, Ruby, Python, C...</td>\n",
              "      <td>Objective-C,[7] Rust, Haskell, Ruby, Python, C...</td>\n",
              "    </tr>\n",
              "    <tr>\n",
              "      <th>15</th>\n",
              "      <td>Influenced</td>\n",
              "      <td>Influenced</td>\n",
              "    </tr>\n",
              "    <tr>\n",
              "      <th>16</th>\n",
              "      <td>Rust[10]</td>\n",
              "      <td>Rust[10]</td>\n",
              "    </tr>\n",
              "  </tbody>\n",
              "</table>\n",
              "</div>"
            ],
            "text/plain": [
              "                                                    0                                                  1\n",
              "0                                                 NaN                                                NaN\n",
              "1                                            Paradigm  Multi-paradigm: protocol-oriented, object-orie...\n",
              "2                                         Designed by  Chris Lattner, Doug Gregor, John McCall, Ted K...\n",
              "3                                           Developer            Apple Inc. and open-source contributors\n",
              "4                                      First appeared                       June 2, 2014; 6 years ago[2]\n",
              "5                                                 NaN                                                NaN\n",
              "6                                      Stable release          5.3[3]  / September 16, 2020; 21 days ago\n",
              "7                                     Preview release                                      5.3 branch[4]\n",
              "8                                   Typing discipline                           Static, strong, inferred\n",
              "9                                                  OS  Apple's operating systems (Darwin, iOS, iPadOS...\n",
              "10                                            License  Apache License 2.0 (Swift 2.2 and later)Propri...\n",
              "11                                Filename extensions                                             .swift\n",
              "12                                            Website                                          swift.org\n",
              "13                                      Influenced by                                      Influenced by\n",
              "14  Objective-C,[7] Rust, Haskell, Ruby, Python, C...  Objective-C,[7] Rust, Haskell, Ruby, Python, C...\n",
              "15                                         Influenced                                         Influenced\n",
              "16                                           Rust[10]                                           Rust[10]"
            ]
          },
          "metadata": {
            "tags": []
          },
          "execution_count": 42
        }
      ]
    },
    {
      "cell_type": "code",
      "metadata": {
        "id": "AVOS7lyB0g77",
        "outputId": "43311dd7-3623-4d0f-d663-e2883e48d687",
        "colab": {
          "base_uri": "https://localhost:8080/",
          "height": 0
        }
      },
      "source": [
        "firstdate = dfwiki[0][1][4]\n",
        "firstdate"
      ],
      "execution_count": 43,
      "outputs": [
        {
          "output_type": "execute_result",
          "data": {
            "application/vnd.google.colaboratory.intrinsic+json": {
              "type": "string"
            },
            "text/plain": [
              "'June\\xa02, 2014; 6\\xa0years ago[2]'"
            ]
          },
          "metadata": {
            "tags": []
          },
          "execution_count": 43
        }
      ]
    },
    {
      "cell_type": "code",
      "metadata": {
        "id": "HrkmQ8O80g8C",
        "outputId": "aa34c0c9-4c3b-4c75-8ed9-52893fcc7725",
        "colab": {
          "base_uri": "https://localhost:8080/",
          "height": 0
        }
      },
      "source": [
        "from dateutil.parser import parse\n",
        "dt = parse(firstdate.split(';')[0])\n",
        "print (dt.date().isoformat())\n",
        "print (accum.index[0].isoformat())\n",
        "\n",
        "assert dt.date().isoformat() == accum.index[0].isoformat()"
      ],
      "execution_count": 44,
      "outputs": [
        {
          "output_type": "stream",
          "text": [
            "2014-06-02\n",
            "2014-06-02\n"
          ],
          "name": "stdout"
        }
      ]
    },
    {
      "cell_type": "markdown",
      "metadata": {
        "id": "3_QaMNS80g8K"
      },
      "source": [
        "A continuación se muestra cómo ubicar posiciones en un mapa con el paquete `folium`. Se muestra también cómo acceder a distintas posiciones del Dataframe con `iloc`, `loc`, etc."
      ]
    },
    {
      "cell_type": "code",
      "metadata": {
        "id": "3M3icJez0g8O"
      },
      "source": [
        "# cargar municipios y mostrarlos en el mapa\n",
        "df = pd.read_csv('https://github.com/dsevilla/bdge/raw/master/intro/municipios-2017.csv.gz',header=0,compression='gzip')"
      ],
      "execution_count": 45,
      "outputs": []
    },
    {
      "cell_type": "code",
      "metadata": {
        "id": "wUb91na40g8X",
        "outputId": "f5f74fc3-ffab-441c-b3c9-7b2440776bae",
        "colab": {
          "base_uri": "https://localhost:8080/",
          "height": 0
        }
      },
      "source": [
        "df.head()"
      ],
      "execution_count": 46,
      "outputs": [
        {
          "output_type": "execute_result",
          "data": {
            "text/html": [
              "<div>\n",
              "<style scoped>\n",
              "    .dataframe tbody tr th:only-of-type {\n",
              "        vertical-align: middle;\n",
              "    }\n",
              "\n",
              "    .dataframe tbody tr th {\n",
              "        vertical-align: top;\n",
              "    }\n",
              "\n",
              "    .dataframe thead th {\n",
              "        text-align: right;\n",
              "    }\n",
              "</style>\n",
              "<table border=\"1\" class=\"dataframe\">\n",
              "  <thead>\n",
              "    <tr style=\"text-align: right;\">\n",
              "      <th></th>\n",
              "      <th>COD_INE</th>\n",
              "      <th>ID_REL</th>\n",
              "      <th>COD_GEO</th>\n",
              "      <th>COD_PROV</th>\n",
              "      <th>PROVINCIA</th>\n",
              "      <th>NOMBRE_ACTUAL</th>\n",
              "      <th>POBLACION_MUNI</th>\n",
              "      <th>SUPERFICIE</th>\n",
              "      <th>PERIMETRO</th>\n",
              "      <th>COD_INE_CAPITAL</th>\n",
              "      <th>CAPITAL</th>\n",
              "      <th>POBLACION_CAPITAL</th>\n",
              "      <th>HOJA_MTN25_ETRS89</th>\n",
              "      <th>LONGITUD_ETRS89</th>\n",
              "      <th>LATITUD_ETRS89</th>\n",
              "      <th>ORIGENCOOR</th>\n",
              "      <th>ALTITUD</th>\n",
              "      <th>ORIGENALTITUD</th>\n",
              "    </tr>\n",
              "  </thead>\n",
              "  <tbody>\n",
              "    <tr>\n",
              "      <th>0</th>\n",
              "      <td>1001000000</td>\n",
              "      <td>1010014</td>\n",
              "      <td>1010</td>\n",
              "      <td>1</td>\n",
              "      <td>Araba/Álava</td>\n",
              "      <td>Alegría-Dulantzi</td>\n",
              "      <td>2856</td>\n",
              "      <td>1.994587e+03</td>\n",
              "      <td>35069</td>\n",
              "      <td>1001000101</td>\n",
              "      <td>Alegría-Dulantzi</td>\n",
              "      <td>2747</td>\n",
              "      <td>0113-3</td>\n",
              "      <td>-2.712437</td>\n",
              "      <td>42.939812</td>\n",
              "      <td>Mapa</td>\n",
              "      <td>600.0</td>\n",
              "      <td>MDT5</td>\n",
              "    </tr>\n",
              "    <tr>\n",
              "      <th>1</th>\n",
              "      <td>1002000000</td>\n",
              "      <td>1010029</td>\n",
              "      <td>1020</td>\n",
              "      <td>1</td>\n",
              "      <td>Araba/Álava</td>\n",
              "      <td>Amurrio</td>\n",
              "      <td>10260</td>\n",
              "      <td>9.635289e+06</td>\n",
              "      <td>65134</td>\n",
              "      <td>1002000201</td>\n",
              "      <td>Amurrio</td>\n",
              "      <td>9124</td>\n",
              "      <td>0086-4</td>\n",
              "      <td>-3.000073</td>\n",
              "      <td>43.054278</td>\n",
              "      <td>Mapa</td>\n",
              "      <td>219.0</td>\n",
              "      <td>MDT5</td>\n",
              "    </tr>\n",
              "    <tr>\n",
              "      <th>2</th>\n",
              "      <td>1003000000</td>\n",
              "      <td>1010035</td>\n",
              "      <td>1030</td>\n",
              "      <td>1</td>\n",
              "      <td>Araba/Álava</td>\n",
              "      <td>Aramaio</td>\n",
              "      <td>1502</td>\n",
              "      <td>7.327403e+03</td>\n",
              "      <td>41818</td>\n",
              "      <td>1003000601</td>\n",
              "      <td>Ibarra</td>\n",
              "      <td>803</td>\n",
              "      <td>0087-4</td>\n",
              "      <td>-2.565400</td>\n",
              "      <td>43.051197</td>\n",
              "      <td>Mapa</td>\n",
              "      <td>333.0</td>\n",
              "      <td>MDT5</td>\n",
              "    </tr>\n",
              "    <tr>\n",
              "      <th>3</th>\n",
              "      <td>1004000000</td>\n",
              "      <td>1010040</td>\n",
              "      <td>1040</td>\n",
              "      <td>1</td>\n",
              "      <td>Araba/Álava</td>\n",
              "      <td>Artziniega</td>\n",
              "      <td>1840</td>\n",
              "      <td>2.728730e+03</td>\n",
              "      <td>22886</td>\n",
              "      <td>1004000101</td>\n",
              "      <td>Artziniega</td>\n",
              "      <td>1704</td>\n",
              "      <td>0086-1</td>\n",
              "      <td>-3.127917</td>\n",
              "      <td>43.120844</td>\n",
              "      <td>Mapa</td>\n",
              "      <td>210.0</td>\n",
              "      <td>MDT5</td>\n",
              "    </tr>\n",
              "    <tr>\n",
              "      <th>4</th>\n",
              "      <td>1006000000</td>\n",
              "      <td>1010066</td>\n",
              "      <td>1060</td>\n",
              "      <td>1</td>\n",
              "      <td>Araba/Álava</td>\n",
              "      <td>Armiñón</td>\n",
              "      <td>234</td>\n",
              "      <td>1.294433e+03</td>\n",
              "      <td>24606</td>\n",
              "      <td>1006000101</td>\n",
              "      <td>Armiñón</td>\n",
              "      <td>111</td>\n",
              "      <td>0137-4</td>\n",
              "      <td>-2.871835</td>\n",
              "      <td>42.723262</td>\n",
              "      <td>Mapa</td>\n",
              "      <td>467.0</td>\n",
              "      <td>MDT5</td>\n",
              "    </tr>\n",
              "  </tbody>\n",
              "</table>\n",
              "</div>"
            ],
            "text/plain": [
              "      COD_INE   ID_REL  COD_GEO  ...  ORIGENCOOR ALTITUD ORIGENALTITUD\n",
              "0  1001000000  1010014     1010  ...        Mapa   600.0          MDT5\n",
              "1  1002000000  1010029     1020  ...        Mapa   219.0          MDT5\n",
              "2  1003000000  1010035     1030  ...        Mapa   333.0          MDT5\n",
              "3  1004000000  1010040     1040  ...        Mapa   210.0          MDT5\n",
              "4  1006000000  1010066     1060  ...        Mapa   467.0          MDT5\n",
              "\n",
              "[5 rows x 18 columns]"
            ]
          },
          "metadata": {
            "tags": []
          },
          "execution_count": 46
        }
      ]
    },
    {
      "cell_type": "code",
      "metadata": {
        "scrolled": true,
        "id": "VCzxEycf0g8f",
        "outputId": "5a5aeb87-ef50-44ae-a456-23230d8422d0",
        "colab": {
          "base_uri": "https://localhost:8080/",
          "height": 0
        }
      },
      "source": [
        "df.iloc[0]"
      ],
      "execution_count": 47,
      "outputs": [
        {
          "output_type": "execute_result",
          "data": {
            "text/plain": [
              "COD_INE                    1001000000\n",
              "ID_REL                        1010014\n",
              "COD_GEO                          1010\n",
              "COD_PROV                            1\n",
              "PROVINCIA                 Araba/Álava\n",
              "NOMBRE_ACTUAL        Alegría-Dulantzi\n",
              "POBLACION_MUNI                   2856\n",
              "SUPERFICIE                    1994.59\n",
              "PERIMETRO                       35069\n",
              "COD_INE_CAPITAL            1001000101\n",
              "CAPITAL              Alegría-Dulantzi\n",
              "POBLACION_CAPITAL                2747\n",
              "HOJA_MTN25_ETRS89              0113-3\n",
              "LONGITUD_ETRS89              -2.71244\n",
              "LATITUD_ETRS89                42.9398\n",
              "ORIGENCOOR                       Mapa\n",
              "ALTITUD                           600\n",
              "ORIGENALTITUD                    MDT5\n",
              "Name: 0, dtype: object"
            ]
          },
          "metadata": {
            "tags": []
          },
          "execution_count": 47
        }
      ]
    },
    {
      "cell_type": "code",
      "metadata": {
        "id": "QZiOqQHT0g8q",
        "outputId": "8cc91855-0176-4fc8-ab49-8f1466fb62e1",
        "colab": {
          "base_uri": "https://localhost:8080/",
          "height": 0
        }
      },
      "source": [
        "df.iloc[0].NOMBRE_ACTUAL"
      ],
      "execution_count": 48,
      "outputs": [
        {
          "output_type": "execute_result",
          "data": {
            "application/vnd.google.colaboratory.intrinsic+json": {
              "type": "string"
            },
            "text/plain": [
              "'Alegría-Dulantzi'"
            ]
          },
          "metadata": {
            "tags": []
          },
          "execution_count": 48
        }
      ]
    },
    {
      "cell_type": "code",
      "metadata": {
        "scrolled": true,
        "id": "YpSPc31P0g8x",
        "outputId": "d830ee57-08e7-47c5-b5eb-e129e61f87c9",
        "colab": {
          "base_uri": "https://localhost:8080/",
          "height": 0
        }
      },
      "source": [
        "df.loc[:,'NOMBRE_ACTUAL']"
      ],
      "execution_count": 49,
      "outputs": [
        {
          "output_type": "execute_result",
          "data": {
            "text/plain": [
              "0            Alegría-Dulantzi\n",
              "1                     Amurrio\n",
              "2                     Aramaio\n",
              "3                  Artziniega\n",
              "4                     Armiñón\n",
              "                ...          \n",
              "8119                     Biel\n",
              "8120                 Marracos\n",
              "8121    Villamayor de Gállego\n",
              "8122                    Ceuta\n",
              "8123                  Melilla\n",
              "Name: NOMBRE_ACTUAL, Length: 8124, dtype: object"
            ]
          },
          "metadata": {
            "tags": []
          },
          "execution_count": 49
        }
      ]
    },
    {
      "cell_type": "code",
      "metadata": {
        "scrolled": true,
        "id": "Bjc7tJwB0g84",
        "outputId": "65ccab69-1806-40b5-bf28-492617cdbd5f",
        "colab": {
          "base_uri": "https://localhost:8080/",
          "height": 0
        }
      },
      "source": [
        "df.iloc[:,0]"
      ],
      "execution_count": 50,
      "outputs": [
        {
          "output_type": "execute_result",
          "data": {
            "text/plain": [
              "0        1001000000\n",
              "1        1002000000\n",
              "2        1003000000\n",
              "3        1004000000\n",
              "4        1006000000\n",
              "           ...     \n",
              "8119    50901000000\n",
              "8120    50902000000\n",
              "8121    50903000000\n",
              "8122    51001000000\n",
              "8123    52001000000\n",
              "Name: COD_INE, Length: 8124, dtype: int64"
            ]
          },
          "metadata": {
            "tags": []
          },
          "execution_count": 50
        }
      ]
    },
    {
      "cell_type": "code",
      "metadata": {
        "scrolled": true,
        "id": "iLhnqWHH0g9D",
        "outputId": "144ba21e-1e3c-4384-8533-2d50b05fd55d",
        "colab": {
          "base_uri": "https://localhost:8080/",
          "height": 0
        }
      },
      "source": [
        "df.PROVINCIA"
      ],
      "execution_count": 51,
      "outputs": [
        {
          "output_type": "execute_result",
          "data": {
            "text/plain": [
              "0       Araba/Álava\n",
              "1       Araba/Álava\n",
              "2       Araba/Álava\n",
              "3       Araba/Álava\n",
              "4       Araba/Álava\n",
              "           ...     \n",
              "8119       Zaragoza\n",
              "8120       Zaragoza\n",
              "8121       Zaragoza\n",
              "8122          Ceuta\n",
              "8123        Melilla\n",
              "Name: PROVINCIA, Length: 8124, dtype: object"
            ]
          },
          "metadata": {
            "tags": []
          },
          "execution_count": 51
        }
      ]
    },
    {
      "cell_type": "code",
      "metadata": {
        "scrolled": true,
        "id": "9B0dPbdY0g9L",
        "outputId": "0d3b04d6-c419-4069-e564-de46374d89c3",
        "colab": {
          "base_uri": "https://localhost:8080/",
          "height": 0
        }
      },
      "source": [
        "df[df.PROVINCIA == 'A Coruña']"
      ],
      "execution_count": 52,
      "outputs": [
        {
          "output_type": "execute_result",
          "data": {
            "text/html": [
              "<div>\n",
              "<style scoped>\n",
              "    .dataframe tbody tr th:only-of-type {\n",
              "        vertical-align: middle;\n",
              "    }\n",
              "\n",
              "    .dataframe tbody tr th {\n",
              "        vertical-align: top;\n",
              "    }\n",
              "\n",
              "    .dataframe thead th {\n",
              "        text-align: right;\n",
              "    }\n",
              "</style>\n",
              "<table border=\"1\" class=\"dataframe\">\n",
              "  <thead>\n",
              "    <tr style=\"text-align: right;\">\n",
              "      <th></th>\n",
              "      <th>COD_INE</th>\n",
              "      <th>ID_REL</th>\n",
              "      <th>COD_GEO</th>\n",
              "      <th>COD_PROV</th>\n",
              "      <th>PROVINCIA</th>\n",
              "      <th>NOMBRE_ACTUAL</th>\n",
              "      <th>POBLACION_MUNI</th>\n",
              "      <th>SUPERFICIE</th>\n",
              "      <th>PERIMETRO</th>\n",
              "      <th>COD_INE_CAPITAL</th>\n",
              "      <th>CAPITAL</th>\n",
              "      <th>POBLACION_CAPITAL</th>\n",
              "      <th>HOJA_MTN25_ETRS89</th>\n",
              "      <th>LONGITUD_ETRS89</th>\n",
              "      <th>LATITUD_ETRS89</th>\n",
              "      <th>ORIGENCOOR</th>\n",
              "      <th>ALTITUD</th>\n",
              "      <th>ORIGENALTITUD</th>\n",
              "    </tr>\n",
              "  </thead>\n",
              "  <tbody>\n",
              "    <tr>\n",
              "      <th>2123</th>\n",
              "      <td>15001000000</td>\n",
              "      <td>1150011</td>\n",
              "      <td>15010</td>\n",
              "      <td>15</td>\n",
              "      <td>A Coruña</td>\n",
              "      <td>Abegondo</td>\n",
              "      <td>5533</td>\n",
              "      <td>8.389634e+03</td>\n",
              "      <td>59995</td>\n",
              "      <td>15001011501</td>\n",
              "      <td>San Marco</td>\n",
              "      <td>185</td>\n",
              "      <td>0045-4</td>\n",
              "      <td>-8.288772</td>\n",
              "      <td>43.227281</td>\n",
              "      <td>GPS. PNRGM</td>\n",
              "      <td>144.0</td>\n",
              "      <td>GPS. PNRGM</td>\n",
              "    </tr>\n",
              "    <tr>\n",
              "      <th>2124</th>\n",
              "      <td>15002000000</td>\n",
              "      <td>1150026</td>\n",
              "      <td>15020</td>\n",
              "      <td>15</td>\n",
              "      <td>A Coruña</td>\n",
              "      <td>Ames</td>\n",
              "      <td>30544</td>\n",
              "      <td>8.004346e+03</td>\n",
              "      <td>71365</td>\n",
              "      <td>15002080101</td>\n",
              "      <td>Bertamiráns</td>\n",
              "      <td>8309</td>\n",
              "      <td>0094-4</td>\n",
              "      <td>-8.650329</td>\n",
              "      <td>42.859455</td>\n",
              "      <td>GPS. PNRGM</td>\n",
              "      <td>33.0</td>\n",
              "      <td>GPS. PNRGM</td>\n",
              "    </tr>\n",
              "    <tr>\n",
              "      <th>2125</th>\n",
              "      <td>15003000000</td>\n",
              "      <td>1150032</td>\n",
              "      <td>15030</td>\n",
              "      <td>15</td>\n",
              "      <td>A Coruña</td>\n",
              "      <td>Aranga</td>\n",
              "      <td>1982</td>\n",
              "      <td>1.195902e+07</td>\n",
              "      <td>60971</td>\n",
              "      <td>15003012301</td>\n",
              "      <td>Ponte Aranga</td>\n",
              "      <td>8</td>\n",
              "      <td>0046-4</td>\n",
              "      <td>-8.016029</td>\n",
              "      <td>43.234040</td>\n",
              "      <td>GPS. PNRGM</td>\n",
              "      <td>269.0</td>\n",
              "      <td>GPS. PNRGM</td>\n",
              "    </tr>\n",
              "    <tr>\n",
              "      <th>2126</th>\n",
              "      <td>15004000000</td>\n",
              "      <td>1150047</td>\n",
              "      <td>15040</td>\n",
              "      <td>15</td>\n",
              "      <td>A Coruña</td>\n",
              "      <td>Ares</td>\n",
              "      <td>5672</td>\n",
              "      <td>1.830962e+03</td>\n",
              "      <td>35274</td>\n",
              "      <td>15004010101</td>\n",
              "      <td>Ares</td>\n",
              "      <td>3855</td>\n",
              "      <td>0021-2</td>\n",
              "      <td>-8.243660</td>\n",
              "      <td>43.426559</td>\n",
              "      <td>GPS. PNRGM</td>\n",
              "      <td>7.0</td>\n",
              "      <td>GPS. PNRGM</td>\n",
              "    </tr>\n",
              "    <tr>\n",
              "      <th>2127</th>\n",
              "      <td>15005000000</td>\n",
              "      <td>1150050</td>\n",
              "      <td>15050</td>\n",
              "      <td>15</td>\n",
              "      <td>A Coruña</td>\n",
              "      <td>Arteixo</td>\n",
              "      <td>31239</td>\n",
              "      <td>9.367961e+06</td>\n",
              "      <td>59897</td>\n",
              "      <td>15005020101</td>\n",
              "      <td>A Baiuca</td>\n",
              "      <td>12021</td>\n",
              "      <td>0045-1</td>\n",
              "      <td>-8.505070</td>\n",
              "      <td>43.304745</td>\n",
              "      <td>GPS. PNRGM</td>\n",
              "      <td>31.0</td>\n",
              "      <td>GPS. PNRGM</td>\n",
              "    </tr>\n",
              "    <tr>\n",
              "      <th>...</th>\n",
              "      <td>...</td>\n",
              "      <td>...</td>\n",
              "      <td>...</td>\n",
              "      <td>...</td>\n",
              "      <td>...</td>\n",
              "      <td>...</td>\n",
              "      <td>...</td>\n",
              "      <td>...</td>\n",
              "      <td>...</td>\n",
              "      <td>...</td>\n",
              "      <td>...</td>\n",
              "      <td>...</td>\n",
              "      <td>...</td>\n",
              "      <td>...</td>\n",
              "      <td>...</td>\n",
              "      <td>...</td>\n",
              "      <td>...</td>\n",
              "      <td>...</td>\n",
              "    </tr>\n",
              "    <tr>\n",
              "      <th>2211</th>\n",
              "      <td>15091000000</td>\n",
              "      <td>1150912</td>\n",
              "      <td>15900</td>\n",
              "      <td>15</td>\n",
              "      <td>A Coruña</td>\n",
              "      <td>Vilarmaior</td>\n",
              "      <td>1260</td>\n",
              "      <td>3.034701e+03</td>\n",
              "      <td>37004</td>\n",
              "      <td>15091060201</td>\n",
              "      <td>A Armada</td>\n",
              "      <td>20</td>\n",
              "      <td>0022-3</td>\n",
              "      <td>-8.130038</td>\n",
              "      <td>43.354769</td>\n",
              "      <td>GPS. PNRGM</td>\n",
              "      <td>275.0</td>\n",
              "      <td>GPS. PNRGM</td>\n",
              "    </tr>\n",
              "    <tr>\n",
              "      <th>2212</th>\n",
              "      <td>15092000000</td>\n",
              "      <td>1150927</td>\n",
              "      <td>15910</td>\n",
              "      <td>15</td>\n",
              "      <td>A Coruña</td>\n",
              "      <td>Vimianzo</td>\n",
              "      <td>7378</td>\n",
              "      <td>1.872679e+04</td>\n",
              "      <td>75028</td>\n",
              "      <td>15092141001</td>\n",
              "      <td>Vimianzo</td>\n",
              "      <td>1461</td>\n",
              "      <td>0068-1</td>\n",
              "      <td>-9.034414</td>\n",
              "      <td>43.110254</td>\n",
              "      <td>GPS. PNRGM</td>\n",
              "      <td>132.0</td>\n",
              "      <td>GPS. PNRGM</td>\n",
              "    </tr>\n",
              "    <tr>\n",
              "      <th>2213</th>\n",
              "      <td>15093000000</td>\n",
              "      <td>1150933</td>\n",
              "      <td>15920</td>\n",
              "      <td>15</td>\n",
              "      <td>A Coruña</td>\n",
              "      <td>Zas</td>\n",
              "      <td>4756</td>\n",
              "      <td>1.332853e+04</td>\n",
              "      <td>79109</td>\n",
              "      <td>15093160301</td>\n",
              "      <td>Zas</td>\n",
              "      <td>393</td>\n",
              "      <td>0068-2</td>\n",
              "      <td>-8.916118</td>\n",
              "      <td>43.099720</td>\n",
              "      <td>GPS. PNRGM</td>\n",
              "      <td>229.0</td>\n",
              "      <td>GPS. PNRGM</td>\n",
              "    </tr>\n",
              "    <tr>\n",
              "      <th>2214</th>\n",
              "      <td>15901000000</td>\n",
              "      <td>1159012</td>\n",
              "      <td>15195</td>\n",
              "      <td>15</td>\n",
              "      <td>A Coruña</td>\n",
              "      <td>Cariño</td>\n",
              "      <td>4072</td>\n",
              "      <td>4.719000e+03</td>\n",
              "      <td>46823</td>\n",
              "      <td>15901010101</td>\n",
              "      <td>Cariño</td>\n",
              "      <td>2824</td>\n",
              "      <td>0001-4</td>\n",
              "      <td>-7.868425</td>\n",
              "      <td>43.740351</td>\n",
              "      <td>GPS. PNRGM</td>\n",
              "      <td>7.0</td>\n",
              "      <td>GPS. PNRGM</td>\n",
              "    </tr>\n",
              "    <tr>\n",
              "      <th>2215</th>\n",
              "      <td>15902000000</td>\n",
              "      <td>1159027</td>\n",
              "      <td>15620</td>\n",
              "      <td>15</td>\n",
              "      <td>A Coruña</td>\n",
              "      <td>Oza-Cesuras</td>\n",
              "      <td>5181</td>\n",
              "      <td>1.516230e+04</td>\n",
              "      <td>77736</td>\n",
              "      <td>15902150601</td>\n",
              "      <td>Oza</td>\n",
              "      <td>150</td>\n",
              "      <td>No disponible</td>\n",
              "      <td>-8.186335</td>\n",
              "      <td>43.214928</td>\n",
              "      <td>GPS. PNRGM</td>\n",
              "      <td>231.0</td>\n",
              "      <td>GPS. PNRGM</td>\n",
              "    </tr>\n",
              "  </tbody>\n",
              "</table>\n",
              "<p>93 rows × 18 columns</p>\n",
              "</div>"
            ],
            "text/plain": [
              "          COD_INE   ID_REL  COD_GEO  ...  ORIGENCOOR ALTITUD ORIGENALTITUD\n",
              "2123  15001000000  1150011    15010  ...  GPS. PNRGM   144.0    GPS. PNRGM\n",
              "2124  15002000000  1150026    15020  ...  GPS. PNRGM    33.0    GPS. PNRGM\n",
              "2125  15003000000  1150032    15030  ...  GPS. PNRGM   269.0    GPS. PNRGM\n",
              "2126  15004000000  1150047    15040  ...  GPS. PNRGM     7.0    GPS. PNRGM\n",
              "2127  15005000000  1150050    15050  ...  GPS. PNRGM    31.0    GPS. PNRGM\n",
              "...           ...      ...      ...  ...         ...     ...           ...\n",
              "2211  15091000000  1150912    15900  ...  GPS. PNRGM   275.0    GPS. PNRGM\n",
              "2212  15092000000  1150927    15910  ...  GPS. PNRGM   132.0    GPS. PNRGM\n",
              "2213  15093000000  1150933    15920  ...  GPS. PNRGM   229.0    GPS. PNRGM\n",
              "2214  15901000000  1159012    15195  ...  GPS. PNRGM     7.0    GPS. PNRGM\n",
              "2215  15902000000  1159027    15620  ...  GPS. PNRGM   231.0    GPS. PNRGM\n",
              "\n",
              "[93 rows x 18 columns]"
            ]
          },
          "metadata": {
            "tags": []
          },
          "execution_count": 52
        }
      ]
    },
    {
      "cell_type": "code",
      "metadata": {
        "id": "TFI6VSW80g9R",
        "outputId": "eb15b0a4-5f8d-40a5-8d8e-4ef3490c13e7",
        "colab": {
          "base_uri": "https://localhost:8080/",
          "height": 0
        }
      },
      "source": [
        "mula = df[df.NOMBRE_ACTUAL == 'Mula'].iloc[0]\n",
        "mula"
      ],
      "execution_count": 53,
      "outputs": [
        {
          "output_type": "execute_result",
          "data": {
            "text/plain": [
              "COD_INE              30029000000\n",
              "ID_REL                   1300294\n",
              "COD_GEO                    30290\n",
              "COD_PROV                      30\n",
              "PROVINCIA                 Murcia\n",
              "NOMBRE_ACTUAL               Mula\n",
              "POBLACION_MUNI             16689\n",
              "SUPERFICIE               63405.9\n",
              "PERIMETRO                 150394\n",
              "COD_INE_CAPITAL      30029000901\n",
              "CAPITAL                     Mula\n",
              "POBLACION_CAPITAL          14380\n",
              "HOJA_MTN25_ETRS89         0912-3\n",
              "LONGITUD_ETRS89         -1.49033\n",
              "LATITUD_ETRS89            38.042\n",
              "ORIGENCOOR                  Mapa\n",
              "ALTITUD                      318\n",
              "ORIGENALTITUD               MDT5\n",
              "Name: 4594, dtype: object"
            ]
          },
          "metadata": {
            "tags": []
          },
          "execution_count": 53
        }
      ]
    },
    {
      "cell_type": "code",
      "metadata": {
        "id": "GN1qCKKr0g9W",
        "outputId": "22a15703-2a7e-4dac-d1d3-cdf67b9cb1bb",
        "colab": {
          "base_uri": "https://localhost:8080/",
          "height": 0
        }
      },
      "source": [
        "(mula_lat,mula_lon) = (mula.LATITUD_ETRS89, mula.LONGITUD_ETRS89)\n",
        "(mula_lat,mula_lon)"
      ],
      "execution_count": 54,
      "outputs": [
        {
          "output_type": "execute_result",
          "data": {
            "text/plain": [
              "(38.04203339, -1.49032811)"
            ]
          },
          "metadata": {
            "tags": []
          },
          "execution_count": 54
        }
      ]
    },
    {
      "cell_type": "markdown",
      "metadata": {
        "id": "N6QFogNJ0g9d"
      },
      "source": [
        "El paquete `folium` permite generar mapas de posiciones. El siguiente ejemplo centra un mapa en Mula y pone un marcador con su nombre:"
      ]
    },
    {
      "cell_type": "code",
      "metadata": {
        "id": "8j6EsIXJ0g9e",
        "outputId": "10f872d9-c69c-4296-8202-80c92c56df9f",
        "colab": {
          "base_uri": "https://localhost:8080/",
          "height": 0
        }
      },
      "source": [
        "!pip install folium"
      ],
      "execution_count": 55,
      "outputs": [
        {
          "output_type": "stream",
          "text": [
            "Requirement already satisfied: folium in /usr/local/lib/python3.6/dist-packages (0.8.3)\n",
            "Requirement already satisfied: six in /usr/local/lib/python3.6/dist-packages (from folium) (1.15.0)\n",
            "Requirement already satisfied: requests in /usr/local/lib/python3.6/dist-packages (from folium) (2.23.0)\n",
            "Requirement already satisfied: branca>=0.3.0 in /usr/local/lib/python3.6/dist-packages (from folium) (0.4.1)\n",
            "Requirement already satisfied: jinja2 in /usr/local/lib/python3.6/dist-packages (from folium) (2.11.2)\n",
            "Requirement already satisfied: numpy in /usr/local/lib/python3.6/dist-packages (from folium) (1.18.5)\n",
            "Requirement already satisfied: certifi>=2017.4.17 in /usr/local/lib/python3.6/dist-packages (from requests->folium) (2020.6.20)\n",
            "Requirement already satisfied: chardet<4,>=3.0.2 in /usr/local/lib/python3.6/dist-packages (from requests->folium) (3.0.4)\n",
            "Requirement already satisfied: urllib3!=1.25.0,!=1.25.1,<1.26,>=1.21.1 in /usr/local/lib/python3.6/dist-packages (from requests->folium) (1.24.3)\n",
            "Requirement already satisfied: idna<3,>=2.5 in /usr/local/lib/python3.6/dist-packages (from requests->folium) (2.10)\n",
            "Requirement already satisfied: MarkupSafe>=0.23 in /usr/local/lib/python3.6/dist-packages (from jinja2->folium) (1.1.1)\n"
          ],
          "name": "stdout"
        }
      ]
    },
    {
      "cell_type": "code",
      "metadata": {
        "id": "K-LS4MWO0g9j",
        "outputId": "a1653fa2-9eb2-4301-ebfc-366ccadac848",
        "colab": {
          "base_uri": "https://localhost:8080/",
          "height": 0
        }
      },
      "source": [
        "import folium\n",
        "\n",
        "map = folium.Map(location=[mula_lat, mula_lon],zoom_start=10)\n",
        "folium.Marker(location = [mula_lat, mula_lon], popup=\"{} ({} habitantes)\".format(mula.NOMBRE_ACTUAL,mula.POBLACION_MUNI)).add_to(map)\n",
        "\n",
        "map"
      ],
      "execution_count": 56,
      "outputs": [
        {
          "output_type": "execute_result",
          "data": {
            "text/html": [
              "<div style=\"width:100%;\"><div style=\"position:relative;width:100%;height:0;padding-bottom:60%;\"><span style=\"color:#565656\">Make this Notebook Trusted to load map: File -> Trust Notebook</span><iframe src=\"about:blank\" style=\"position:absolute;width:100%;height:100%;left:0;top:0;border:none !important;\" data-html=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 onload=\"this.contentDocument.open();this.contentDocument.write(atob(this.getAttribute('data-html')));this.contentDocument.close();\" allowfullscreen webkitallowfullscreen mozallowfullscreen></iframe></div></div>"
            ],
            "text/plain": [
              "<folium.folium.Map at 0x7fa8e83290f0>"
            ]
          },
          "metadata": {
            "tags": []
          },
          "execution_count": 56
        }
      ]
    },
    {
      "cell_type": "markdown",
      "metadata": {
        "id": "zdcsqsxU0g9p"
      },
      "source": [
        "## Ejercicio\n",
        "\n",
        "Mostrar con `folium` marcadores para cada pueblo de A Coruña y Murcia. Se pueden usar las funciones `itertuples()` o `iterrows()` de un `Dataframe` para recorrer los elementos del mismo."
      ]
    },
    {
      "cell_type": "code",
      "metadata": {
        "id": "SQHuDE-D0g9q"
      },
      "source": [
        "map2 = folium.Map(location=[40.4165,-3.70256], zoom_start=6)\n",
        "\n",
        "df_a_coruna = df[df.PROVINCIA == 'A Coruña']\n",
        "for row in df_a_coruna.itertuples():\n",
        "  folium.Marker(location = [row.LATITUD_ETRS89, row.LONGITUD_ETRS89], popup=\"{} ({} habitantes)\".format(row.NOMBRE_ACTUAL,row.POBLACION_MUNI)).add_to(map2)\n",
        "    \n",
        "\n",
        "df_murcia = df[df.PROVINCIA == 'Murcia']\n",
        "for row in df_murcia.itertuples():\n",
        "  folium.Marker(location = [row.LATITUD_ETRS89, row.LONGITUD_ETRS89], popup=\"{} ({} habitantes)\".format(row.NOMBRE_ACTUAL,row.POBLACION_MUNI)).add_to(map2)"
      ],
      "execution_count": 57,
      "outputs": []
    },
    {
      "cell_type": "code",
      "metadata": {
        "id": "w8hbU2WjjYHX",
        "outputId": "f8e5e58d-3a1d-447a-ba6b-666ccbf98e27",
        "colab": {
          "base_uri": "https://localhost:8080/",
          "height": 0
        }
      },
      "source": [
        "map2"
      ],
      "execution_count": 58,
      "outputs": [
        {
          "output_type": "execute_result",
          "data": {
            "text/html": [
              "<div style=\"width:100%;\"><div style=\"position:relative;width:100%;height:0;padding-bottom:60%;\"><span style=\"color:#565656\">Make this Notebook Trusted to load map: File -> Trust Notebook</span><iframe src=\"about:blank\" style=\"position:absolute;width:100%;height:100%;left:0;top:0;border:none !important;\" data-html=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 onload=\"this.contentDocument.open();this.contentDocument.write(atob(this.getAttribute('data-html')));this.contentDocument.close();\" allowfullscreen webkitallowfullscreen mozallowfullscreen></iframe></div></div>"
            ],
            "text/plain": [
              "<folium.folium.Map at 0x7fa8e7ca4208>"
            ]
          },
          "metadata": {
            "tags": []
          },
          "execution_count": 58
        }
      ]
    },
    {
      "cell_type": "code",
      "metadata": {
        "id": "p75ZE83fjc2o"
      },
      "source": [
        ""
      ],
      "execution_count": 58,
      "outputs": []
    }
  ]
}