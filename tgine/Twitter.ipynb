{
 "cells": [
  {
   "cell_type": "markdown",
   "metadata": {},
   "source": [
    "# PRÁCTICA 2: Clasificación de tweets"
   ]
  },
  {
   "cell_type": "markdown",
   "metadata": {},
   "source": [
    "El objetivo de esta práctica es extraer contenido de Twitter, procesar los tweets extraídos y realizar experimentos básicos de clasificación.\n",
    "\n",
    "Primeramente, haciendo uso de la librería [tweepy](http://docs.tweepy.org/en/latest/), se extraerán tweets de **2 pares** de personas:\n",
    "\n",
    "- **Un par de personas no-relacionadas**: en este caso se van a considerar los tweets de Neil deGrasse Tyson (divulgador de temas relacionados a la astrofísica) y los de Britney Spears (cantante). \n",
    "    \n",
    "- **Un par de personas relacionadas**: en este caso se van a considerar los tweets de Russell Westbrook y James Harden (ambos jugadores de basket que compartieron equipo cuando estuvieron en los Oklahoma City Thunder y en los Houston Rockets).\n",
    "\n",
    "Luego, para cada par, se entrenará un clasificador con el 70% de los tweets más antiguos y se testeará con el 30% de los tweets más recientes. Las variables explicativas serán las frecuencias de los términos en los tweets y la variable a predecir será el autor de cada tweet. Para esto se utilizará la librería scikit-learn de Python. Ver [sklearn.feature_extraction_text.TfidfVectorizer](https://scikit-learn.org/stable/modules/generated/sklearn.feature_extraction.text.TfidfVectorizer.html#sklearn.feature_extraction.text.TfidfVectorizer) y [sklearn.svm.SVC](https://scikit-learn.org/stable/modules/generated/sklearn.svm.SVC.html).\n",
    "\n",
    "Por último, se analizarán los resultados obtenidos utilizando distintos parámetros (kernel y C) a través de la comparación de la accuracy y de las matrices de confusión.\n",
    "\n",
    "La **hipótesis** es que los tweets del par de personas que están relacionadas son más difíciles de discriminar que los tweets del par de personas que no están relacionadas."
   ]
  },
  {
   "cell_type": "markdown",
   "metadata": {},
   "source": [
    "## Extracción y preprocesamiento de tweets"
   ]
  },
  {
   "cell_type": "markdown",
   "metadata": {},
   "source": [
    "**Se importan las librerías necesarias**"
   ]
  },
  {
   "cell_type": "code",
   "execution_count": 163,
   "metadata": {},
   "outputs": [],
   "source": [
    "import tweepy\n",
    "import json\n",
    "import pandas as pd\n",
    "import datetime\n",
    "from sklearn import feature_extraction\n",
    "from sklearn import svm\n",
    "import numpy as np\n",
    "import matplotlib.pyplot as plt\n",
    "\n",
    "from sklearn import svm, datasets\n",
    "from sklearn.model_selection import train_test_split\n",
    "from sklearn.metrics import plot_confusion_matrix, classification_report\n",
    "import datetime as dt"
   ]
  },
  {
   "cell_type": "markdown",
   "metadata": {},
   "source": [
    "**Se configuran los datos necesarios para acceder a la API de Twitter**"
   ]
  },
  {
   "cell_type": "code",
   "execution_count": 158,
   "metadata": {},
   "outputs": [],
   "source": [
    "consumer_key='fjbmjHZ14HbUDHkzxCsDAkijL'\n",
    "consumer_secret='DNpUkf0fD2FRtYZ6lNB8d14dv9a1usPGFh2orSvT6PQ6DEZSNQ'\n",
    "access_token_key='1059276888529612800-tedlSyM9ttlTZrtbZ5gUbUZ3J6RlJp'\n",
    "access_token_secret='jagh9qgG3BwpgWS8pNFuz1wkTpXVsRKZ1bKShfWn0nUue'\n",
    "\n",
    "auth = tweepy.OAuthHandler(consumer_key, consumer_secret)\n",
    "auth.set_access_token(access_token_key, access_token_secret)\n",
    "\n",
    "api = tweepy.API(auth, wait_on_rate_limit=True) "
   ]
  },
  {
   "cell_type": "markdown",
   "metadata": {},
   "source": [
    "**Se extraen los tweets**"
   ]
  },
  {
   "cell_type": "code",
   "execution_count": 159,
   "metadata": {},
   "outputs": [],
   "source": [
    "users = ['@russwest44', '@britneyspears', '@neiltyson', '@JHarden13']\n",
    "\n",
    "\n",
    "for user in users:\n",
    "    results=[] \n",
    "\n",
    "    timeline = tweepy.Cursor(api.user_timeline, screen_name= user, include_rts=False, exclude_replies=True, tweet_mode=\"extended\").items()\n",
    "    for status in timeline:\n",
    "        data = (\n",
    "        status.id,\n",
    "        status.user.id,\n",
    "        status.user.screen_name,\n",
    "        status.user.name,\n",
    "        status.full_text,\n",
    "        status.created_at,\n",
    "        status.lang)\n",
    "        results.append(data)    \n",
    "\n",
    "    cols = \"id user_id screen_name name text date lang\".split()\n",
    "    df = pd.DataFrame(results, columns=cols)    \n",
    "    df.to_csv (f'tweets_{user[1:]}.csv', index = False) \n",
    "    \n",
    "    results=[]"
   ]
  },
  {
   "cell_type": "markdown",
   "metadata": {},
   "source": [
    "**Se leen los tweets**"
   ]
  },
  {
   "cell_type": "code",
   "execution_count": 165,
   "metadata": {},
   "outputs": [],
   "source": [
    "britneyspears=pd.read_csv('tweets_britneyspears.csv', parse_dates=['date'])\n",
    "neiltyson=pd.read_csv('tweets_neiltyson.csv', parse_dates=['date'])\n",
    "RussWest=pd.read_csv('tweets_russwest44.csv', parse_dates=['date'])\n",
    "JamesHarden=pd.read_csv('tweets_JHarden13.csv', parse_dates=['date'])"
   ]
  },
  {
   "cell_type": "markdown",
   "metadata": {},
   "source": [
    "**Separación en train y test**\n",
    "\n",
    "Para cada usuario, el conjunto de entrenamiento corresponde al 70% de los tweets más antiguos, y el conjunto de test corresponde al 30% de los tweets más recientes. "
   ]
  },
  {
   "cell_type": "code",
   "execution_count": 166,
   "metadata": {},
   "outputs": [],
   "source": [
    "#Britney Spears\n",
    "britneyspears_test = britneyspears.head(int(0.3 * len(britneyspears)))\n",
    "britneyspears_train = britneyspears.tail(int(0.7 * len(britneyspears)))\n",
    "\n",
    "#Neil deGrasse Tyson\n",
    "neiltyson_test = neiltyson.head(int(0.3 * len(neiltyson)))\n",
    "neiltyson_train = neiltyson.tail(int(0.7 * len(neiltyson)))\n",
    "\n",
    "#Russell Westbrook\n",
    "RussWest_test = RussWest.head(int(0.3 * len(RussWest)))\n",
    "RussWest_train = RussWest.tail(int(0.7 * len(RussWest)))\n",
    "\n",
    "#James Harden\n",
    "JamesHarden_test = JamesHarden.head(int(0.3 * len(JamesHarden)))\n",
    "JamesHarden_train = JamesHarden.tail(int(0.7 * len(JamesHarden)))"
   ]
  },
  {
   "cell_type": "markdown",
   "metadata": {},
   "source": [
    "## Corpus de personas no-relacionadas\n",
    "\n",
    "### @neiltyson vs. @britneyspears"
   ]
  },
  {
   "cell_type": "markdown",
   "metadata": {},
   "source": [
    "Cantidad de tweets considerados de Britney Spears."
   ]
  },
  {
   "cell_type": "code",
   "execution_count": 184,
   "metadata": {},
   "outputs": [
    {
     "name": "stdout",
     "output_type": "stream",
     "text": [
      "1921\n"
     ]
    }
   ],
   "source": [
    "print (len(britneyspears))"
   ]
  },
  {
   "cell_type": "markdown",
   "metadata": {},
   "source": [
    "Cantidad de tweets considerados de Neil deGrasse Tyson."
   ]
  },
  {
   "cell_type": "code",
   "execution_count": 185,
   "metadata": {},
   "outputs": [
    {
     "name": "stdout",
     "output_type": "stream",
     "text": [
      "2183\n"
     ]
    }
   ],
   "source": [
    "print (len(neiltyson))"
   ]
  },
  {
   "cell_type": "markdown",
   "metadata": {},
   "source": [
    "Se observa que la cantidad de tweets de ambos usuarios es similar."
   ]
  },
  {
   "cell_type": "markdown",
   "metadata": {},
   "source": [
    "**Bag of Words - Train**\n",
    "\n",
    "Se agregan los tweets tanto de Britney Spears como de Neil deGrasse Tyson al corpus de entrenamiento. Se incluye el 70% de los tweets más antiguos y se consideran solamente los tweets. Se excluyen las respuestas y los retweets."
   ]
  },
  {
   "cell_type": "code",
   "execution_count": 147,
   "metadata": {},
   "outputs": [],
   "source": [
    "corpus_train_primer_par = []\n",
    "\n",
    "for row_index,row in britneyspears_train.iterrows():\n",
    "    corpus_train_primer_par.append(row['text'])\n",
    "    \n",
    "for row_index,row in neiltyson_train.iterrows():\n",
    "    corpus_train_primer_par.append(row['text'])"
   ]
  },
  {
   "cell_type": "markdown",
   "metadata": {},
   "source": [
    "Se vectoriza el corpus y se obtiene una matriz cuyas filas representan a los tweets y cuyas columnas representan a los términos. El valor de cada celda es la frecuencia de cada término (tf) en cada tweet (documento).\n",
    "Para obtener la matriz se reemplazan las mayúsculas por minúsculas, se descartan las stop_words y se consideran los términos que aparecen por lo menos en 3 tweets."
   ]
  },
  {
   "cell_type": "code",
   "execution_count": 182,
   "metadata": {},
   "outputs": [
    {
     "data": {
      "text/plain": [
       "(2872, 1883)"
      ]
     },
     "execution_count": 182,
     "metadata": {},
     "output_type": "execute_result"
    }
   ],
   "source": [
    "vectorizer_primer_par_train = feature_extraction.text.CountVectorizer(lowercase=True, stop_words='english', min_df=3)\n",
    "vectorizer_p_train = vectorizer_primer_par_train.fit_transform(corpus_train_primer_par)\n",
    "df_tf_primer_par_train = pd.DataFrame(vectorizer_p_train.todense(), columns=vectorizer_primer_par_train.get_feature_names())\n",
    "df_tf_primer_par_train.shape"
   ]
  },
  {
   "cell_type": "markdown",
   "metadata": {},
   "source": [
    "El corpus obtenido contiene 2872 tweets y se consideran 1883 términos."
   ]
  },
  {
   "cell_type": "markdown",
   "metadata": {},
   "source": [
    "**Creación del vector con la variable a predecir: entrenamiento**\n",
    "\n",
    "Los tweets representados por un **1** corresponden a Britney Spears y los representados por un **0** corresponden a Neil deGrasse Tyson. "
   ]
  },
  {
   "cell_type": "code",
   "execution_count": 183,
   "metadata": {},
   "outputs": [
    {
     "name": "stdout",
     "output_type": "stream",
     "text": [
      "2872\n"
     ]
    }
   ],
   "source": [
    "vector_tweets_primer_par_train = [1] * len(britneyspears_train) + [0] * len(neiltyson_train)\n",
    "print (len(vector_tweets_primer_par_train))"
   ]
  },
  {
   "cell_type": "markdown",
   "metadata": {},
   "source": [
    "Se compueba que la longitud del vector es la misma que la de la matriz."
   ]
  },
  {
   "cell_type": "markdown",
   "metadata": {},
   "source": [
    "**Breve análisis del vocabulario utilizado por los usuarios**"
   ]
  },
  {
   "cell_type": "markdown",
   "metadata": {},
   "source": [
    "Britney Spears\n",
    "\n",
    "- Cantidad de términos utilizados"
   ]
  },
  {
   "cell_type": "code",
   "execution_count": 239,
   "metadata": {},
   "outputs": [
    {
     "data": {
      "text/plain": [
       "1124"
      ]
     },
     "execution_count": 239,
     "metadata": {},
     "output_type": "execute_result"
    }
   ],
   "source": [
    "corpus_britneyspears=df_tf_primer_par_train[0:len(britneyspears_train)]\n",
    "corpus_britneyspears=corpus_britneyspears.sum()\n",
    "corpus_britneyspears=pd.DataFrame(corpus_britneyspears)\n",
    "corpus_britneyspears.columns=['sum_frequency']\n",
    "len(corpus_britneyspears.loc[corpus_britneyspears.sum_frequency > 0])"
   ]
  },
  {
   "cell_type": "markdown",
   "metadata": {},
   "source": [
    "Se observa que utilizó en sus tweets de entrenamiento 1124 de los 1883 términos del corpus, es decir, un **59.7%** del total."
   ]
  },
  {
   "cell_type": "markdown",
   "metadata": {},
   "source": [
    "- Términos más frecuentes"
   ]
  },
  {
   "cell_type": "code",
   "execution_count": 240,
   "metadata": {},
   "outputs": [
    {
     "data": {
      "text/html": [
       "<div>\n",
       "<style scoped>\n",
       "    .dataframe tbody tr th:only-of-type {\n",
       "        vertical-align: middle;\n",
       "    }\n",
       "\n",
       "    .dataframe tbody tr th {\n",
       "        vertical-align: top;\n",
       "    }\n",
       "\n",
       "    .dataframe thead th {\n",
       "        text-align: right;\n",
       "    }\n",
       "</style>\n",
       "<table border=\"1\" class=\"dataframe\">\n",
       "  <thead>\n",
       "    <tr style=\"text-align: right;\">\n",
       "      <th></th>\n",
       "      <th>sum_frequency</th>\n",
       "    </tr>\n",
       "  </thead>\n",
       "  <tbody>\n",
       "    <tr>\n",
       "      <th>http</th>\n",
       "      <td>489</td>\n",
       "    </tr>\n",
       "    <tr>\n",
       "      <th>https</th>\n",
       "      <td>485</td>\n",
       "    </tr>\n",
       "    <tr>\n",
       "      <th>amp</th>\n",
       "      <td>144</td>\n",
       "    </tr>\n",
       "    <tr>\n",
       "      <th>pieceofme</th>\n",
       "      <td>132</td>\n",
       "    </tr>\n",
       "    <tr>\n",
       "      <th>love</th>\n",
       "      <td>114</td>\n",
       "    </tr>\n",
       "    <tr>\n",
       "      <th>thank</th>\n",
       "      <td>112</td>\n",
       "    </tr>\n",
       "    <tr>\n",
       "      <th>vegas</th>\n",
       "      <td>101</td>\n",
       "    </tr>\n",
       "    <tr>\n",
       "      <th>tonight</th>\n",
       "      <td>98</td>\n",
       "    </tr>\n",
       "    <tr>\n",
       "      <th>new</th>\n",
       "      <td>96</td>\n",
       "    </tr>\n",
       "    <tr>\n",
       "      <th>today</th>\n",
       "      <td>78</td>\n",
       "    </tr>\n",
       "    <tr>\n",
       "      <th>day</th>\n",
       "      <td>71</td>\n",
       "    </tr>\n",
       "    <tr>\n",
       "      <th>happy</th>\n",
       "      <td>69</td>\n",
       "    </tr>\n",
       "    <tr>\n",
       "      <th>rt</th>\n",
       "      <td>63</td>\n",
       "    </tr>\n",
       "    <tr>\n",
       "      <th>time</th>\n",
       "      <td>58</td>\n",
       "    </tr>\n",
       "    <tr>\n",
       "      <th>amazing</th>\n",
       "      <td>58</td>\n",
       "    </tr>\n",
       "    <tr>\n",
       "      <th>just</th>\n",
       "      <td>56</td>\n",
       "    </tr>\n",
       "    <tr>\n",
       "      <th>song</th>\n",
       "      <td>51</td>\n",
       "    </tr>\n",
       "    <tr>\n",
       "      <th>night</th>\n",
       "      <td>51</td>\n",
       "    </tr>\n",
       "    <tr>\n",
       "      <th>little</th>\n",
       "      <td>48</td>\n",
       "    </tr>\n",
       "    <tr>\n",
       "      <th>coming</th>\n",
       "      <td>46</td>\n",
       "    </tr>\n",
       "    <tr>\n",
       "      <th>wait</th>\n",
       "      <td>45</td>\n",
       "    </tr>\n",
       "    <tr>\n",
       "      <th>fun</th>\n",
       "      <td>45</td>\n",
       "    </tr>\n",
       "    <tr>\n",
       "      <th>xo</th>\n",
       "      <td>45</td>\n",
       "    </tr>\n",
       "    <tr>\n",
       "      <th>good</th>\n",
       "      <td>43</td>\n",
       "    </tr>\n",
       "    <tr>\n",
       "      <th>ready</th>\n",
       "      <td>38</td>\n",
       "    </tr>\n",
       "    <tr>\n",
       "      <th>best</th>\n",
       "      <td>37</td>\n",
       "    </tr>\n",
       "    <tr>\n",
       "      <th>week</th>\n",
       "      <td>36</td>\n",
       "    </tr>\n",
       "    <tr>\n",
       "      <th>great</th>\n",
       "      <td>36</td>\n",
       "    </tr>\n",
       "    <tr>\n",
       "      <th>tomorrow</th>\n",
       "      <td>35</td>\n",
       "    </tr>\n",
       "    <tr>\n",
       "      <th>iambritneyjean</th>\n",
       "      <td>34</td>\n",
       "    </tr>\n",
       "    <tr>\n",
       "      <th>birthday</th>\n",
       "      <td>34</td>\n",
       "    </tr>\n",
       "    <tr>\n",
       "      <th>video</th>\n",
       "      <td>33</td>\n",
       "    </tr>\n",
       "    <tr>\n",
       "      <th>excited</th>\n",
       "      <td>32</td>\n",
       "    </tr>\n",
       "    <tr>\n",
       "      <th>thanks</th>\n",
       "      <td>32</td>\n",
       "    </tr>\n",
       "    <tr>\n",
       "      <th>ll</th>\n",
       "      <td>31</td>\n",
       "    </tr>\n",
       "    <tr>\n",
       "      <th>boys</th>\n",
       "      <td>30</td>\n",
       "    </tr>\n",
       "    <tr>\n",
       "      <th>work</th>\n",
       "      <td>30</td>\n",
       "    </tr>\n",
       "    <tr>\n",
       "      <th>lt</th>\n",
       "      <td>30</td>\n",
       "    </tr>\n",
       "    <tr>\n",
       "      <th>make</th>\n",
       "      <td>30</td>\n",
       "    </tr>\n",
       "    <tr>\n",
       "      <th>shows</th>\n",
       "      <td>29</td>\n",
       "    </tr>\n",
       "    <tr>\n",
       "      <th>ve</th>\n",
       "      <td>29</td>\n",
       "    </tr>\n",
       "    <tr>\n",
       "      <th>got</th>\n",
       "      <td>28</td>\n",
       "    </tr>\n",
       "    <tr>\n",
       "      <th>britneyjeanlisteningparty</th>\n",
       "      <td>28</td>\n",
       "    </tr>\n",
       "    <tr>\n",
       "      <th>workbxxch</th>\n",
       "      <td>28</td>\n",
       "    </tr>\n",
       "    <tr>\n",
       "      <th>like</th>\n",
       "      <td>28</td>\n",
       "    </tr>\n",
       "    <tr>\n",
       "      <th>girl</th>\n",
       "      <td>27</td>\n",
       "    </tr>\n",
       "    <tr>\n",
       "      <th>lol</th>\n",
       "      <td>27</td>\n",
       "    </tr>\n",
       "    <tr>\n",
       "      <th>nvccf</th>\n",
       "      <td>27</td>\n",
       "    </tr>\n",
       "    <tr>\n",
       "      <th>getting</th>\n",
       "      <td>27</td>\n",
       "    </tr>\n",
       "    <tr>\n",
       "      <th>album</th>\n",
       "      <td>27</td>\n",
       "    </tr>\n",
       "  </tbody>\n",
       "</table>\n",
       "</div>"
      ],
      "text/plain": [
       "                           sum_frequency\n",
       "http                                 489\n",
       "https                                485\n",
       "amp                                  144\n",
       "pieceofme                            132\n",
       "love                                 114\n",
       "thank                                112\n",
       "vegas                                101\n",
       "tonight                               98\n",
       "new                                   96\n",
       "today                                 78\n",
       "day                                   71\n",
       "happy                                 69\n",
       "rt                                    63\n",
       "time                                  58\n",
       "amazing                               58\n",
       "just                                  56\n",
       "song                                  51\n",
       "night                                 51\n",
       "little                                48\n",
       "coming                                46\n",
       "wait                                  45\n",
       "fun                                   45\n",
       "xo                                    45\n",
       "good                                  43\n",
       "ready                                 38\n",
       "best                                  37\n",
       "week                                  36\n",
       "great                                 36\n",
       "tomorrow                              35\n",
       "iambritneyjean                        34\n",
       "birthday                              34\n",
       "video                                 33\n",
       "excited                               32\n",
       "thanks                                32\n",
       "ll                                    31\n",
       "boys                                  30\n",
       "work                                  30\n",
       "lt                                    30\n",
       "make                                  30\n",
       "shows                                 29\n",
       "ve                                    29\n",
       "got                                   28\n",
       "britneyjeanlisteningparty             28\n",
       "workbxxch                             28\n",
       "like                                  28\n",
       "girl                                  27\n",
       "lol                                   27\n",
       "nvccf                                 27\n",
       "getting                               27\n",
       "album                                 27"
      ]
     },
     "execution_count": 240,
     "metadata": {},
     "output_type": "execute_result"
    }
   ],
   "source": [
    "corpus_britneyspears.sort_values(by=['sum_frequency'], ascending=False)[:50]"
   ]
  },
  {
   "cell_type": "markdown",
   "metadata": {},
   "source": [
    "Se observa que algunos términos utilizados por la misma (como **pieceofme**, **iambritneyjean**, **britneyjeanlisteningparty**) son hashtags propios de su persona lo que podría aportar significativamente a la clasificación correcta de sus tweets.\n",
    "\n",
    "Otros términos, como **song** y **shows** también se pueden reconocer como característicos de este usuario dado que hacen referencia a la música. "
   ]
  },
  {
   "cell_type": "markdown",
   "metadata": {},
   "source": [
    "Neil deGrasse Tyson\n",
    "\n",
    "- Cantidad de términos utilizados"
   ]
  },
  {
   "cell_type": "code",
   "execution_count": 241,
   "metadata": {},
   "outputs": [
    {
     "data": {
      "text/plain": [
       "1585"
      ]
     },
     "execution_count": 241,
     "metadata": {},
     "output_type": "execute_result"
    }
   ],
   "source": [
    "corpus_neiltyson=df_tf_primer_par_train[len(britneyspears_train):]\n",
    "corpus_neiltyson=corpus_neiltyson.sum()\n",
    "corpus_neiltyson=pd.DataFrame(corpus_neiltyson)\n",
    "corpus_neiltyson.columns=['sum_frequency']\n",
    "len(corpus_neiltyson.loc[corpus_neiltyson.sum_frequency > 0])"
   ]
  },
  {
   "cell_type": "markdown",
   "metadata": {},
   "source": [
    "Se observa que utilizó en sus tweets de entrenamiento 1585 de los 1883 términos del corpus, es decir, un **84.2%** del total."
   ]
  },
  {
   "cell_type": "markdown",
   "metadata": {},
   "source": [
    "- Términos más frecuentes"
   ]
  },
  {
   "cell_type": "code",
   "execution_count": 242,
   "metadata": {},
   "outputs": [
    {
     "data": {
      "text/html": [
       "<div>\n",
       "<style scoped>\n",
       "    .dataframe tbody tr th:only-of-type {\n",
       "        vertical-align: middle;\n",
       "    }\n",
       "\n",
       "    .dataframe tbody tr th {\n",
       "        vertical-align: top;\n",
       "    }\n",
       "\n",
       "    .dataframe thead th {\n",
       "        text-align: right;\n",
       "    }\n",
       "</style>\n",
       "<table border=\"1\" class=\"dataframe\">\n",
       "  <thead>\n",
       "    <tr style=\"text-align: right;\">\n",
       "      <th></th>\n",
       "      <th>sum_frequency</th>\n",
       "    </tr>\n",
       "  </thead>\n",
       "  <tbody>\n",
       "    <tr>\n",
       "      <th>amp</th>\n",
       "      <td>375</td>\n",
       "    </tr>\n",
       "    <tr>\n",
       "      <th>https</th>\n",
       "      <td>352</td>\n",
       "    </tr>\n",
       "    <tr>\n",
       "      <th>just</th>\n",
       "      <td>179</td>\n",
       "    </tr>\n",
       "    <tr>\n",
       "      <th>earth</th>\n",
       "      <td>144</td>\n",
       "    </tr>\n",
       "    <tr>\n",
       "      <th>http</th>\n",
       "      <td>144</td>\n",
       "    </tr>\n",
       "    <tr>\n",
       "      <th>startalkradio</th>\n",
       "      <td>126</td>\n",
       "    </tr>\n",
       "    <tr>\n",
       "      <th>posted</th>\n",
       "      <td>123</td>\n",
       "    </tr>\n",
       "    <tr>\n",
       "      <th>moon</th>\n",
       "      <td>92</td>\n",
       "    </tr>\n",
       "    <tr>\n",
       "      <th>day</th>\n",
       "      <td>83</td>\n",
       "    </tr>\n",
       "    <tr>\n",
       "      <th>science</th>\n",
       "      <td>83</td>\n",
       "    </tr>\n",
       "    <tr>\n",
       "      <th>people</th>\n",
       "      <td>80</td>\n",
       "    </tr>\n",
       "    <tr>\n",
       "      <th>world</th>\n",
       "      <td>79</td>\n",
       "    </tr>\n",
       "    <tr>\n",
       "      <th>time</th>\n",
       "      <td>79</td>\n",
       "    </tr>\n",
       "    <tr>\n",
       "      <th>life</th>\n",
       "      <td>69</td>\n",
       "    </tr>\n",
       "    <tr>\n",
       "      <th>wheniwasyourage</th>\n",
       "      <td>62</td>\n",
       "    </tr>\n",
       "    <tr>\n",
       "      <th>cosmic</th>\n",
       "      <td>59</td>\n",
       "    </tr>\n",
       "    <tr>\n",
       "      <th>space</th>\n",
       "      <td>58</td>\n",
       "    </tr>\n",
       "    <tr>\n",
       "      <th>like</th>\n",
       "      <td>56</td>\n",
       "    </tr>\n",
       "    <tr>\n",
       "      <th>21</th>\n",
       "      <td>55</td>\n",
       "    </tr>\n",
       "    <tr>\n",
       "      <th>year</th>\n",
       "      <td>53</td>\n",
       "    </tr>\n",
       "    <tr>\n",
       "      <th>wonder</th>\n",
       "      <td>53</td>\n",
       "    </tr>\n",
       "    <tr>\n",
       "      <th>2015</th>\n",
       "      <td>51</td>\n",
       "    </tr>\n",
       "    <tr>\n",
       "      <th>sun</th>\n",
       "      <td>51</td>\n",
       "    </tr>\n",
       "    <tr>\n",
       "      <th>universe</th>\n",
       "      <td>50</td>\n",
       "    </tr>\n",
       "    <tr>\n",
       "      <th>don</th>\n",
       "      <td>47</td>\n",
       "    </tr>\n",
       "    <tr>\n",
       "      <th>itunespodcasts</th>\n",
       "      <td>47</td>\n",
       "    </tr>\n",
       "    <tr>\n",
       "      <th>know</th>\n",
       "      <td>45</td>\n",
       "    </tr>\n",
       "    <tr>\n",
       "      <th>itunes</th>\n",
       "      <td>45</td>\n",
       "    </tr>\n",
       "    <tr>\n",
       "      <th>years</th>\n",
       "      <td>45</td>\n",
       "    </tr>\n",
       "    <tr>\n",
       "      <th>pluto</th>\n",
       "      <td>44</td>\n",
       "    </tr>\n",
       "    <tr>\n",
       "      <th>film</th>\n",
       "      <td>43</td>\n",
       "    </tr>\n",
       "    <tr>\n",
       "      <th>happy</th>\n",
       "      <td>43</td>\n",
       "    </tr>\n",
       "    <tr>\n",
       "      <th>think</th>\n",
       "      <td>42</td>\n",
       "    </tr>\n",
       "    <tr>\n",
       "      <th>today</th>\n",
       "      <td>41</td>\n",
       "    </tr>\n",
       "    <tr>\n",
       "      <th>ve</th>\n",
       "      <td>41</td>\n",
       "    </tr>\n",
       "    <tr>\n",
       "      <th>future</th>\n",
       "      <td>40</td>\n",
       "    </tr>\n",
       "    <tr>\n",
       "      <th>fyi</th>\n",
       "      <td>36</td>\n",
       "    </tr>\n",
       "    <tr>\n",
       "      <th>new</th>\n",
       "      <td>36</td>\n",
       "    </tr>\n",
       "    <tr>\n",
       "      <th>video</th>\n",
       "      <td>36</td>\n",
       "    </tr>\n",
       "    <tr>\n",
       "      <th>planet</th>\n",
       "      <td>36</td>\n",
       "    </tr>\n",
       "    <tr>\n",
       "      <th>make</th>\n",
       "      <td>35</td>\n",
       "    </tr>\n",
       "    <tr>\n",
       "      <th>want</th>\n",
       "      <td>33</td>\n",
       "    </tr>\n",
       "    <tr>\n",
       "      <th>pi</th>\n",
       "      <td>33</td>\n",
       "    </tr>\n",
       "    <tr>\n",
       "      <th>got</th>\n",
       "      <td>32</td>\n",
       "    </tr>\n",
       "    <tr>\n",
       "      <th>good</th>\n",
       "      <td>31</td>\n",
       "    </tr>\n",
       "    <tr>\n",
       "      <th>super</th>\n",
       "      <td>31</td>\n",
       "    </tr>\n",
       "    <tr>\n",
       "      <th>ii</th>\n",
       "      <td>31</td>\n",
       "    </tr>\n",
       "    <tr>\n",
       "      <th>oct</th>\n",
       "      <td>28</td>\n",
       "    </tr>\n",
       "    <tr>\n",
       "      <th>ago</th>\n",
       "      <td>28</td>\n",
       "    </tr>\n",
       "    <tr>\n",
       "      <th>long</th>\n",
       "      <td>28</td>\n",
       "    </tr>\n",
       "  </tbody>\n",
       "</table>\n",
       "</div>"
      ],
      "text/plain": [
       "                 sum_frequency\n",
       "amp                        375\n",
       "https                      352\n",
       "just                       179\n",
       "earth                      144\n",
       "http                       144\n",
       "startalkradio              126\n",
       "posted                     123\n",
       "moon                        92\n",
       "day                         83\n",
       "science                     83\n",
       "people                      80\n",
       "world                       79\n",
       "time                        79\n",
       "life                        69\n",
       "wheniwasyourage             62\n",
       "cosmic                      59\n",
       "space                       58\n",
       "like                        56\n",
       "21                          55\n",
       "year                        53\n",
       "wonder                      53\n",
       "2015                        51\n",
       "sun                         51\n",
       "universe                    50\n",
       "don                         47\n",
       "itunespodcasts              47\n",
       "know                        45\n",
       "itunes                      45\n",
       "years                       45\n",
       "pluto                       44\n",
       "film                        43\n",
       "happy                       43\n",
       "think                       42\n",
       "today                       41\n",
       "ve                          41\n",
       "future                      40\n",
       "fyi                         36\n",
       "new                         36\n",
       "video                       36\n",
       "planet                      36\n",
       "make                        35\n",
       "want                        33\n",
       "pi                          33\n",
       "got                         32\n",
       "good                        31\n",
       "super                       31\n",
       "ii                          31\n",
       "oct                         28\n",
       "ago                         28\n",
       "long                        28"
      ]
     },
     "execution_count": 242,
     "metadata": {},
     "output_type": "execute_result"
    }
   ],
   "source": [
    "corpus_neiltyson.sort_values(by=['sum_frequency'], ascending=False)[:50]"
   ]
  },
  {
   "cell_type": "markdown",
   "metadata": {},
   "source": [
    "Se observa que algunos términos utilizados por el mismo (como **startalkradio**, **itunepodcasts**) son hashtags que utiliza con frecuencia. Startalkradio es un podcast que Neil deGrasse Tyson transmite a través de iTunes. \n",
    "\n",
    "Otros términos, como **earth**, **moon**, **universe**, **sun**, **cosmic**, **space**, **planet** y **science** también se pueden reconocer como característicos de este usuario dado que hacen referencia a la astrofísica."
   ]
  },
  {
   "cell_type": "markdown",
   "metadata": {},
   "source": [
    "**Vectorización del corpus de test**\n",
    "\n",
    "Se procede de manera similar que en el caso del corpus de entrenamiento. La diferencia es que luego de obtener la matriz de test, se seleccionan solamente los términos que aparecen en la matriz de entrenamiento, de manera tal que las dos matrices contengan las mismas columnas. Como puede haber términos que aparezcan en el corpus de entrenamiento y no en el de test, es probable que la matriz de test quede con columnas vacías. "
   ]
  },
  {
   "cell_type": "code",
   "execution_count": 150,
   "metadata": {},
   "outputs": [],
   "source": [
    "corpus_test_primer_par = []\n",
    "\n",
    "for row_index,row in britneyspears_test.iterrows():\n",
    "    corpus_test_primer_par.append(row['text'])\n",
    "    \n",
    "for row_index,row in neiltyson_test.iterrows():\n",
    "    corpus_test_primer_par.append(row['text'])"
   ]
  },
  {
   "cell_type": "code",
   "execution_count": 243,
   "metadata": {},
   "outputs": [
    {
     "data": {
      "text/plain": [
       "(1230, 5682)"
      ]
     },
     "execution_count": 243,
     "metadata": {},
     "output_type": "execute_result"
    }
   ],
   "source": [
    "vectorizer_primer_par_test = feature_extraction.text.CountVectorizer(lowercase=True, stop_words='english')\n",
    "vectorizer_p_test = vectorizer_primer_par_test.fit_transform(corpus_test_primer_par)\n",
    "df_tf_primer_par_test = pd.DataFrame(vectorizer_p_test.todense(), columns=vectorizer_primer_par_test.get_feature_names())"
   ]
  },
  {
   "cell_type": "markdown",
   "metadata": {},
   "source": [
    "Se seleccionan únicamente las columnas que aparecen en la matriz de entrenamiento."
   ]
  },
  {
   "cell_type": "code",
   "execution_count": 245,
   "metadata": {},
   "outputs": [
    {
     "data": {
      "text/plain": [
       "(1230, 1883)"
      ]
     },
     "execution_count": 245,
     "metadata": {},
     "output_type": "execute_result"
    }
   ],
   "source": [
    "df_primer_par_test = pd.DataFrame()\n",
    "\n",
    "columns_to_select_primer_par = []\n",
    "\n",
    "for word in vectorizer_primer_par_test.get_feature_names():\n",
    "    if word in vectorizer_primer_par_train.get_feature_names():\n",
    "        columns_to_select_primer_par.append(word)\n",
    "        \n",
    "#Se crea una matriz vacía cuyas columnas son las que figuran en la matriz de entrenamiento\n",
    "for item in vectorizer_primer_par_train.get_feature_names():\n",
    "    df_primer_par_test[item] = [0] * len (vector_tweets_primer_par_test)\n",
    "    \n",
    "#Se reemplazan las columnas coincidentes\n",
    "for column in columns_to_select_primer_par:\n",
    "    df_primer_par_test[column] = df_tf_primer_par_test[column]\n",
    "    \n",
    "df_primer_par_test.shape"
   ]
  },
  {
   "cell_type": "markdown",
   "metadata": {},
   "source": [
    "Se observa que la cantidad de columnas en la matriz de test resultante es igual a la de entrenamiento."
   ]
  },
  {
   "cell_type": "markdown",
   "metadata": {},
   "source": [
    "**Creación del vector con la variable a predecir: test**\n",
    "\n",
    "Los tweets representados por un **1** corresponden a Britney Spears y los representados por un **0** corresponden a Neil deGrasse Tyson. "
   ]
  },
  {
   "cell_type": "code",
   "execution_count": 246,
   "metadata": {},
   "outputs": [
    {
     "name": "stdout",
     "output_type": "stream",
     "text": [
      "1230\n"
     ]
    }
   ],
   "source": [
    "vector_tweets_primer_par_test = [1] * len(britneyspears_test) + [0] * len(neiltyson_test)\n",
    "print (len(vector_tweets_primer_par_test))"
   ]
  },
  {
   "cell_type": "markdown",
   "metadata": {},
   "source": [
    "Se observa que la longitud del vector es la misma que la de la matriz."
   ]
  },
  {
   "cell_type": "markdown",
   "metadata": {},
   "source": [
    "### Entrenamiento del clasificador"
   ]
  },
  {
   "cell_type": "markdown",
   "metadata": {},
   "source": [
    "Se utilizarán Máquinas de vectores de soporte (SVM por sus siglas en inglés).\n",
    "\n",
    "Se probarán diferentes *kernels* y diferentes parámetros *C*."
   ]
  },
  {
   "cell_type": "code",
   "execution_count": null,
   "metadata": {},
   "outputs": [],
   "source": [
    "C = range(1, 80, 2)\n",
    "kernels = ['linear', 'poly', 'rbf', 'sigmoid']\n",
    "\n",
    "scores_primer_par=[]\n",
    "\n",
    "for c in C:\n",
    "    for k in kernels:\n",
    "        clf_primer_par = svm.SVC(kernel=k, C=c)\n",
    "        clf_primer_par.fit(df_tf_primer_par_train, vector_tweets_primer_par_train)\n",
    "        clf_primer_par.predict(df_primer_par_test)\n",
    "        scores_primer_par.append([c, clf_primer_par.score(df_primer_par_test, vector_tweets_primer_par_test), k])\n",
    "        \n",
    "scores_c_primer_par=[i[0] for i in scores_primer_par]\n",
    "scores_y_primer_par=[i[1] for i in scores_primer_par]\n",
    "scores_k_primer_par=[i[2] for i in scores_primer_par]\n",
    "\n",
    "df_primer_par=pd.DataFrame()\n",
    "df_primer_par['c']=scores_c_primer_par\n",
    "df_primer_par['accuracy']=scores_y_primer_par\n",
    "df_primer_par['k']=scores_k_primer_par\n",
    "\n",
    "cmap = {'linear': 'red', 'poly': 'blue', 'rbf': 'green', 'sigmoid': 'yellow'}"
   ]
  },
  {
   "cell_type": "markdown",
   "metadata": {},
   "source": [
    "**Gráfico con los resultados de test**"
   ]
  },
  {
   "cell_type": "code",
   "execution_count": 254,
   "metadata": {},
   "outputs": [
    {
     "data": {
      "image/png": "[encoded data removed]",
      "text/plain": [
       "<Figure size 432x288 with 1 Axes>"
      ]
     },
     "metadata": {
      "needs_background": "light"
     },
     "output_type": "display_data"
    }
   ],
   "source": [
    "df_primer_par.plot('c', 'accuracy', kind='scatter',  \n",
    "    c=[cmap.get(c, 'black') for c in df_primer_par.k])\n",
    "plt.title(\"Accuracy de cada uno de los modelos entrenados. \\n \\n Kernels: linear(rojo), poly(azul), rbf(verde), sigmoid(amarillo)\")\n",
    "plt.show()"
   ]
  },
  {
   "cell_type": "markdown",
   "metadata": {},
   "source": [
    "En términos generales, se puede decir que el kernel *rbf* resultó en mejores accuracy en el rango del parámetro C explorado.\n",
    "\n",
    "El segundo en performance es el *linear*.\n",
    "\n",
    "Por otro lado, las mayores accuracy se consiguen con *menores* valores del parámetro C.\n",
    "\n",
    "Exceptuando a los modelos que se entrenaron utilizando el kernel *sigmoid*, todos los modelos tienen un accuracy mayor al 79%."
   ]
  },
  {
   "cell_type": "code",
   "execution_count": 263,
   "metadata": {},
   "outputs": [
    {
     "data": {
      "text/html": [
       "<div>\n",
       "<style scoped>\n",
       "    .dataframe tbody tr th:only-of-type {\n",
       "        vertical-align: middle;\n",
       "    }\n",
       "\n",
       "    .dataframe tbody tr th {\n",
       "        vertical-align: top;\n",
       "    }\n",
       "\n",
       "    .dataframe thead th {\n",
       "        text-align: right;\n",
       "    }\n",
       "</style>\n",
       "<table border=\"1\" class=\"dataframe\">\n",
       "  <thead>\n",
       "    <tr style=\"text-align: right;\">\n",
       "      <th></th>\n",
       "      <th>min</th>\n",
       "      <th>max</th>\n",
       "      <th>mean</th>\n",
       "      <th>50%</th>\n",
       "    </tr>\n",
       "    <tr>\n",
       "      <th>k</th>\n",
       "      <th></th>\n",
       "      <th></th>\n",
       "      <th></th>\n",
       "      <th></th>\n",
       "    </tr>\n",
       "  </thead>\n",
       "  <tbody>\n",
       "    <tr>\n",
       "      <th>linear</th>\n",
       "      <td>0.874797</td>\n",
       "      <td>0.903252</td>\n",
       "      <td>0.880813</td>\n",
       "      <td>0.880081</td>\n",
       "    </tr>\n",
       "    <tr>\n",
       "      <th>poly</th>\n",
       "      <td>0.795935</td>\n",
       "      <td>0.893496</td>\n",
       "      <td>0.812073</td>\n",
       "      <td>0.800813</td>\n",
       "    </tr>\n",
       "    <tr>\n",
       "      <th>rbf</th>\n",
       "      <td>0.895935</td>\n",
       "      <td>0.915447</td>\n",
       "      <td>0.902195</td>\n",
       "      <td>0.902846</td>\n",
       "    </tr>\n",
       "    <tr>\n",
       "      <th>sigmoid</th>\n",
       "      <td>0.670732</td>\n",
       "      <td>0.902439</td>\n",
       "      <td>0.706626</td>\n",
       "      <td>0.687805</td>\n",
       "    </tr>\n",
       "  </tbody>\n",
       "</table>\n",
       "</div>"
      ],
      "text/plain": [
       "              min       max      mean       50%\n",
       "k                                              \n",
       "linear   0.874797  0.903252  0.880813  0.880081\n",
       "poly     0.795935  0.893496  0.812073  0.800813\n",
       "rbf      0.895935  0.915447  0.902195  0.902846\n",
       "sigmoid  0.670732  0.902439  0.706626  0.687805"
      ]
     },
     "execution_count": 263,
     "metadata": {},
     "output_type": "execute_result"
    }
   ],
   "source": [
    "pd.DataFrame(df_primer_par.groupby('k').describe()['accuracy'][['min','max', 'mean', '50%']])"
   ]
  },
  {
   "cell_type": "markdown",
   "metadata": {},
   "source": [
    "La máxima accuracy alcanzada es similar para todos los kernels probados (**89.3-91.5%**)"
   ]
  },
  {
   "cell_type": "markdown",
   "metadata": {},
   "source": [
    "**Matriz de confusión**\n",
    "\n",
    "Mejores parámetros para cada kernel."
   ]
  },
  {
   "cell_type": "code",
   "execution_count": 285,
   "metadata": {},
   "outputs": [
    {
     "data": {
      "text/html": [
       "<div>\n",
       "<style scoped>\n",
       "    .dataframe tbody tr th:only-of-type {\n",
       "        vertical-align: middle;\n",
       "    }\n",
       "\n",
       "    .dataframe tbody tr th {\n",
       "        vertical-align: top;\n",
       "    }\n",
       "\n",
       "    .dataframe thead th {\n",
       "        text-align: right;\n",
       "    }\n",
       "</style>\n",
       "<table border=\"1\" class=\"dataframe\">\n",
       "  <thead>\n",
       "    <tr style=\"text-align: right;\">\n",
       "      <th></th>\n",
       "      <th>0</th>\n",
       "    </tr>\n",
       "  </thead>\n",
       "  <tbody>\n",
       "    <tr>\n",
       "      <th>c</th>\n",
       "      <td>1</td>\n",
       "    </tr>\n",
       "    <tr>\n",
       "      <th>accuracy</th>\n",
       "      <td>0.903252</td>\n",
       "    </tr>\n",
       "    <tr>\n",
       "      <th>k</th>\n",
       "      <td>linear</td>\n",
       "    </tr>\n",
       "  </tbody>\n",
       "</table>\n",
       "</div>"
      ],
      "text/plain": [
       "                 0\n",
       "c                1\n",
       "accuracy  0.903252\n",
       "k           linear"
      ]
     },
     "execution_count": 285,
     "metadata": {},
     "output_type": "execute_result"
    }
   ],
   "source": [
    "df_linear=pd.DataFrame(df_primer_par.loc[df_primer_par['k']=='linear'].sort_values(['accuracy'], ascending=False).iloc[0])\n",
    "df_linear"
   ]
  },
  {
   "cell_type": "code",
   "execution_count": 286,
   "metadata": {},
   "outputs": [
    {
     "data": {
      "text/html": [
       "<div>\n",
       "<style scoped>\n",
       "    .dataframe tbody tr th:only-of-type {\n",
       "        vertical-align: middle;\n",
       "    }\n",
       "\n",
       "    .dataframe tbody tr th {\n",
       "        vertical-align: top;\n",
       "    }\n",
       "\n",
       "    .dataframe thead th {\n",
       "        text-align: right;\n",
       "    }\n",
       "</style>\n",
       "<table border=\"1\" class=\"dataframe\">\n",
       "  <thead>\n",
       "    <tr style=\"text-align: right;\">\n",
       "      <th></th>\n",
       "      <th>1</th>\n",
       "    </tr>\n",
       "  </thead>\n",
       "  <tbody>\n",
       "    <tr>\n",
       "      <th>c</th>\n",
       "      <td>1</td>\n",
       "    </tr>\n",
       "    <tr>\n",
       "      <th>accuracy</th>\n",
       "      <td>0.893496</td>\n",
       "    </tr>\n",
       "    <tr>\n",
       "      <th>k</th>\n",
       "      <td>poly</td>\n",
       "    </tr>\n",
       "  </tbody>\n",
       "</table>\n",
       "</div>"
      ],
      "text/plain": [
       "                 1\n",
       "c                1\n",
       "accuracy  0.893496\n",
       "k             poly"
      ]
     },
     "execution_count": 286,
     "metadata": {},
     "output_type": "execute_result"
    }
   ],
   "source": [
    "df_poly=pd.DataFrame(df_primer_par.loc[df_primer_par['k']=='poly'].sort_values(['accuracy'], ascending=False).iloc[0])\n",
    "df_poly"
   ]
  },
  {
   "cell_type": "code",
   "execution_count": 287,
   "metadata": {},
   "outputs": [
    {
     "data": {
      "text/html": [
       "<div>\n",
       "<style scoped>\n",
       "    .dataframe tbody tr th:only-of-type {\n",
       "        vertical-align: middle;\n",
       "    }\n",
       "\n",
       "    .dataframe tbody tr th {\n",
       "        vertical-align: top;\n",
       "    }\n",
       "\n",
       "    .dataframe thead th {\n",
       "        text-align: right;\n",
       "    }\n",
       "</style>\n",
       "<table border=\"1\" class=\"dataframe\">\n",
       "  <thead>\n",
       "    <tr style=\"text-align: right;\">\n",
       "      <th></th>\n",
       "      <th>2</th>\n",
       "    </tr>\n",
       "  </thead>\n",
       "  <tbody>\n",
       "    <tr>\n",
       "      <th>c</th>\n",
       "      <td>1</td>\n",
       "    </tr>\n",
       "    <tr>\n",
       "      <th>accuracy</th>\n",
       "      <td>0.915447</td>\n",
       "    </tr>\n",
       "    <tr>\n",
       "      <th>k</th>\n",
       "      <td>rbf</td>\n",
       "    </tr>\n",
       "  </tbody>\n",
       "</table>\n",
       "</div>"
      ],
      "text/plain": [
       "                 2\n",
       "c                1\n",
       "accuracy  0.915447\n",
       "k              rbf"
      ]
     },
     "execution_count": 287,
     "metadata": {},
     "output_type": "execute_result"
    }
   ],
   "source": [
    "df_rbf=pd.DataFrame(df_primer_par.loc[df_primer_par['k']=='rbf'].sort_values(['accuracy'], ascending=False).iloc[0])\n",
    "df_rbf"
   ]
  },
  {
   "cell_type": "code",
   "execution_count": 288,
   "metadata": {},
   "outputs": [
    {
     "data": {
      "text/html": [
       "<div>\n",
       "<style scoped>\n",
       "    .dataframe tbody tr th:only-of-type {\n",
       "        vertical-align: middle;\n",
       "    }\n",
       "\n",
       "    .dataframe tbody tr th {\n",
       "        vertical-align: top;\n",
       "    }\n",
       "\n",
       "    .dataframe thead th {\n",
       "        text-align: right;\n",
       "    }\n",
       "</style>\n",
       "<table border=\"1\" class=\"dataframe\">\n",
       "  <thead>\n",
       "    <tr style=\"text-align: right;\">\n",
       "      <th></th>\n",
       "      <th>3</th>\n",
       "    </tr>\n",
       "  </thead>\n",
       "  <tbody>\n",
       "    <tr>\n",
       "      <th>c</th>\n",
       "      <td>1</td>\n",
       "    </tr>\n",
       "    <tr>\n",
       "      <th>accuracy</th>\n",
       "      <td>0.902439</td>\n",
       "    </tr>\n",
       "    <tr>\n",
       "      <th>k</th>\n",
       "      <td>sigmoid</td>\n",
       "    </tr>\n",
       "  </tbody>\n",
       "</table>\n",
       "</div>"
      ],
      "text/plain": [
       "                 3\n",
       "c                1\n",
       "accuracy  0.902439\n",
       "k          sigmoid"
      ]
     },
     "execution_count": 288,
     "metadata": {},
     "output_type": "execute_result"
    }
   ],
   "source": [
    "df_sigmoid=pd.DataFrame(df_primer_par.loc[df_primer_par['k']=='sigmoid'].sort_values(['accuracy'], ascending=False).iloc[0])\n",
    "df_sigmoid"
   ]
  },
  {
   "cell_type": "markdown",
   "metadata": {},
   "source": [
    "Se muestran las matrices de confusión correspondientes al modelo con mayor accuracy de cada kernel."
   ]
  },
  {
   "cell_type": "markdown",
   "metadata": {},
   "source": [
    "*Linear*"
   ]
  },
  {
   "cell_type": "code",
   "execution_count": 298,
   "metadata": {},
   "outputs": [
    {
     "data": {
      "image/png": "[encoded data removed]",
      "text/plain": [
       "<Figure size 432x288 with 2 Axes>"
      ]
     },
     "metadata": {
      "needs_background": "light"
     },
     "output_type": "display_data"
    }
   ],
   "source": [
    "clf_primer_par = svm.SVC(kernel='linear', C=1)\n",
    "clf_primer_par.fit(df_tf_primer_par_train, vector_tweets_primer_par_train)\n",
    "clf_primer_par.predict(df_primer_par_test)\n",
    "\n",
    "plot_confusion_matrix(clf_primer_par, df_primer_par_test, vector_tweets_primer_par_test,\n",
    "                                 cmap=plt.cm.Blues,\n",
    "                                 normalize='true',\n",
    "                                 display_labels=['Neil deGrasse Tyson', 'Britney Spears'])\n",
    "plt.show()"
   ]
  },
  {
   "cell_type": "markdown",
   "metadata": {},
   "source": [
    "*Poly*"
   ]
  },
  {
   "cell_type": "code",
   "execution_count": 299,
   "metadata": {},
   "outputs": [
    {
     "data": {
      "image/png": "[encoded data removed]",
      "text/plain": [
       "<Figure size 432x288 with 2 Axes>"
      ]
     },
     "metadata": {
      "needs_background": "light"
     },
     "output_type": "display_data"
    }
   ],
   "source": [
    "clf_primer_par = svm.SVC(kernel='poly', C=1)\n",
    "clf_primer_par.fit(df_tf_primer_par_train, vector_tweets_primer_par_train)\n",
    "clf_primer_par.predict(df_primer_par_test)\n",
    "\n",
    "plot_confusion_matrix(clf_primer_par, df_primer_par_test, vector_tweets_primer_par_test,\n",
    "                                 cmap=plt.cm.Blues,\n",
    "                                 normalize='true',\n",
    "                                 display_labels=['Neil deGrasse Tyson', 'Britney Spears'])\n",
    "plt.show()"
   ]
  },
  {
   "cell_type": "markdown",
   "metadata": {},
   "source": [
    "*Rbf*"
   ]
  },
  {
   "cell_type": "code",
   "execution_count": 311,
   "metadata": {},
   "outputs": [
    {
     "data": {
      "image/png": "[encoded data removed]",
      "text/plain": [
       "<Figure size 432x288 with 2 Axes>"
      ]
     },
     "metadata": {
      "needs_background": "light"
     },
     "output_type": "display_data"
    }
   ],
   "source": [
    "clf_primer_par = svm.SVC(kernel='rbf', C=1)\n",
    "clf_primer_par.fit(df_tf_primer_par_train, vector_tweets_primer_par_train)\n",
    "clf_primer_par.predict(df_primer_par_test)\n",
    "\n",
    "plot_confusion_matrix(clf_primer_par, df_primer_par_test, vector_tweets_primer_par_test,\n",
    "                                 cmap=plt.cm.Blues,\n",
    "                                 normalize='true',\n",
    "                                 display_labels=['Neil deGrasse Tyson', 'Britney Spears'])\n",
    "plt.show()"
   ]
  },
  {
   "cell_type": "markdown",
   "metadata": {},
   "source": [
    "*Sigmoid*"
   ]
  },
  {
   "cell_type": "code",
   "execution_count": 300,
   "metadata": {},
   "outputs": [
    {
     "data": {
      "image/png": "[encoded data removed]",
      "text/plain": [
       "<Figure size 432x288 with 2 Axes>"
      ]
     },
     "metadata": {
      "needs_background": "light"
     },
     "output_type": "display_data"
    }
   ],
   "source": [
    "clf_primer_par = svm.SVC(kernel='sigmoid', C=1)\n",
    "clf_primer_par.fit(df_tf_primer_par_train, vector_tweets_primer_par_train)\n",
    "clf_primer_par.predict(df_primer_par_test)\n",
    "\n",
    "plot_confusion_matrix(clf_primer_par, df_primer_par_test, vector_tweets_primer_par_test,\n",
    "                                 cmap=plt.cm.Blues,\n",
    "                                 normalize='true',\n",
    "                                 display_labels=['Neil deGrasse Tyson', 'Britney Spears'])\n",
    "plt.show()"
   ]
  },
  {
   "cell_type": "markdown",
   "metadata": {},
   "source": [
    "**Observaciones**\n",
    "\n",
    "Como se mencionó anteriormente, la **accuracy** de los mejores modelos se encuentra entre el **89.3** y el **91.5%**, valores que pueden considerarse altos.\n",
    "\n",
    "En las cuatro matrices de confusión presentadas se observan resultados similares. Los tweets de **Britney Spears** son correctamente clasificados en alrededor del **93-95%** de los casos, mientras que los tweets de **Neil deGrasse Tyson** son clasificados correctamente en el **86-89%** de los casos.  \n",
    "\n",
    "Cabe destacar el uso de diferentes **hashtags** por parte de los dos usuarios."
   ]
  },
  {
   "cell_type": "markdown",
   "metadata": {},
   "source": [
    "## Corpus de personas no-relacionadas:\n",
    "\n",
    "### @russwest44 vs. @JHarden13"
   ]
  },
  {
   "cell_type": "markdown",
   "metadata": {},
   "source": [
    "Cantidad de tweets considerados de Russell Westbrook."
   ]
  },
  {
   "cell_type": "code",
   "execution_count": 302,
   "metadata": {},
   "outputs": [
    {
     "name": "stdout",
     "output_type": "stream",
     "text": [
      "2585\n"
     ]
    }
   ],
   "source": [
    "print (len(RussWest))"
   ]
  },
  {
   "cell_type": "markdown",
   "metadata": {},
   "source": [
    "Cantidad de tweets considerados de James Harden."
   ]
  },
  {
   "cell_type": "code",
   "execution_count": 304,
   "metadata": {},
   "outputs": [
    {
     "name": "stdout",
     "output_type": "stream",
     "text": [
      "2309\n"
     ]
    }
   ],
   "source": [
    "print (len(JamesHarden))"
   ]
  },
  {
   "cell_type": "markdown",
   "metadata": {},
   "source": [
    "Se observa que la cantidad de tweets de ambos usuarios es similar."
   ]
  },
  {
   "cell_type": "markdown",
   "metadata": {},
   "source": [
    "**Bag of Words - Train**\n",
    "\n",
    "Se agregan los tweets tanto de Russell Westbrook como de James Harden al corpus de entrenamiento. Se incluye el 70% de los tweets más antiguos y se consideran solamente los tweets. Se excluyen las respuestas y los retweets."
   ]
  },
  {
   "cell_type": "code",
   "execution_count": 167,
   "metadata": {},
   "outputs": [],
   "source": [
    "corpus_train_segundo_par = []\n",
    "\n",
    "for row_index,row in  RussWest_train.iterrows():\n",
    "    corpus_train_segundo_par.append(row['text'])\n",
    "    \n",
    "for row_index,row in  JamesHarden_train.iterrows():\n",
    "    corpus_train_segundo_par.append(row['text'])"
   ]
  },
  {
   "cell_type": "markdown",
   "metadata": {},
   "source": [
    "Se vectoriza el corpus y se obtiene una matriz cuyas filas representan a los tweets y cuyas columnas representan a los términos. El valor de cada celda es la frecuencia de cada término (tf) en cada tweet (documento). Para obtener la matriz se reemplazan las mayúsculas por minúsculas, se descartan las stop_words y se consideran los términos que aparecen por lo menos en 3 tweets."
   ]
  },
  {
   "cell_type": "code",
   "execution_count": 305,
   "metadata": {},
   "outputs": [
    {
     "data": {
      "text/plain": [
       "(3425, 1290)"
      ]
     },
     "execution_count": 305,
     "metadata": {},
     "output_type": "execute_result"
    }
   ],
   "source": [
    "vectorizer_segundo_par_train = feature_extraction.text.CountVectorizer(lowercase=True, stop_words='english', min_df=3)\n",
    "vectorizer_s_train = vectorizer_segundo_par_train.fit_transform(corpus_train_segundo_par)\n",
    "df_tf_segundo_par_train = pd.DataFrame(vectorizer_s_train.todense(), columns=vectorizer_segundo_par_train.get_feature_names())\n",
    "df_tf_segundo_par_train.shape"
   ]
  },
  {
   "cell_type": "markdown",
   "metadata": {},
   "source": [
    "El corpus obtenido contiene 3425 tweets y se consideran 1290 términos."
   ]
  },
  {
   "cell_type": "markdown",
   "metadata": {},
   "source": [
    "**Creación del vector con la variable a predecir: entrenamiento**"
   ]
  },
  {
   "cell_type": "markdown",
   "metadata": {},
   "source": [
    "Los tweets representados por un 1 corresponden a Russell Westbrook y los representados por un 0 corresponden a James Harden."
   ]
  },
  {
   "cell_type": "code",
   "execution_count": 306,
   "metadata": {},
   "outputs": [
    {
     "data": {
      "text/plain": [
       "3425"
      ]
     },
     "execution_count": 306,
     "metadata": {},
     "output_type": "execute_result"
    }
   ],
   "source": [
    "vector_tweets_segundo_par_train = [1] * len(RussWest_train) + [0] * len(JamesHarden_train)\n",
    "len(vector_tweets_segundo_par_train)"
   ]
  },
  {
   "cell_type": "markdown",
   "metadata": {},
   "source": [
    "Se observa que la longitud del vector coincide con la longitud de la matriz."
   ]
  },
  {
   "cell_type": "markdown",
   "metadata": {},
   "source": [
    "**Breve análisis del vocabulario utilizado por los usuarios**"
   ]
  },
  {
   "cell_type": "markdown",
   "metadata": {},
   "source": [
    "Russell Westbrook\n",
    "\n",
    "- Cantidad de términos utilizados"
   ]
  },
  {
   "cell_type": "code",
   "execution_count": 307,
   "metadata": {},
   "outputs": [
    {
     "data": {
      "text/plain": [
       "1062"
      ]
     },
     "execution_count": 307,
     "metadata": {},
     "output_type": "execute_result"
    }
   ],
   "source": [
    "corpus_RussWest=df_tf_segundo_par_train[0:len(RussWest_train)]\n",
    "corpus_RussWest=corpus_RussWest.sum()\n",
    "corpus_RussWest=pd.DataFrame(corpus_RussWest)\n",
    "corpus_RussWest.columns=['sum_frequency']\n",
    "len(corpus_RussWest.loc[corpus_RussWest.sum_frequency > 0])"
   ]
  },
  {
   "cell_type": "markdown",
   "metadata": {},
   "source": [
    "Se observa que utilizó en sus tweets de entrenamiento 1062 de los 1290 términos del corpus, es decir, un **82.3%** del total."
   ]
  },
  {
   "cell_type": "markdown",
   "metadata": {},
   "source": [
    "- Términos más frecuentes"
   ]
  },
  {
   "cell_type": "code",
   "execution_count": 308,
   "metadata": {},
   "outputs": [
    {
     "data": {
      "text/html": [
       "<div>\n",
       "<style scoped>\n",
       "    .dataframe tbody tr th:only-of-type {\n",
       "        vertical-align: middle;\n",
       "    }\n",
       "\n",
       "    .dataframe tbody tr th {\n",
       "        vertical-align: top;\n",
       "    }\n",
       "\n",
       "    .dataframe thead th {\n",
       "        text-align: right;\n",
       "    }\n",
       "</style>\n",
       "<table border=\"1\" class=\"dataframe\">\n",
       "  <thead>\n",
       "    <tr style=\"text-align: right;\">\n",
       "      <th></th>\n",
       "      <th>sum_frequency</th>\n",
       "    </tr>\n",
       "  </thead>\n",
       "  <tbody>\n",
       "    <tr>\n",
       "      <th>whynot</th>\n",
       "      <td>1415</td>\n",
       "    </tr>\n",
       "    <tr>\n",
       "      <th>rt</th>\n",
       "      <td>1168</td>\n",
       "    </tr>\n",
       "    <tr>\n",
       "      <th>russwest44</th>\n",
       "      <td>1010</td>\n",
       "    </tr>\n",
       "    <tr>\n",
       "      <th>http</th>\n",
       "      <td>241</td>\n",
       "    </tr>\n",
       "    <tr>\n",
       "      <th>lol</th>\n",
       "      <td>218</td>\n",
       "    </tr>\n",
       "    <tr>\n",
       "      <th>bro</th>\n",
       "      <td>192</td>\n",
       "    </tr>\n",
       "    <tr>\n",
       "      <th>bigray4</th>\n",
       "      <td>177</td>\n",
       "    </tr>\n",
       "    <tr>\n",
       "      <th>just</th>\n",
       "      <td>132</td>\n",
       "    </tr>\n",
       "    <tr>\n",
       "      <th>day</th>\n",
       "      <td>131</td>\n",
       "    </tr>\n",
       "    <tr>\n",
       "      <th>happy</th>\n",
       "      <td>114</td>\n",
       "    </tr>\n",
       "    <tr>\n",
       "      <th>let</th>\n",
       "      <td>97</td>\n",
       "    </tr>\n",
       "    <tr>\n",
       "      <th>fam</th>\n",
       "      <td>95</td>\n",
       "    </tr>\n",
       "    <tr>\n",
       "      <th>today</th>\n",
       "      <td>92</td>\n",
       "    </tr>\n",
       "    <tr>\n",
       "      <th>wednesday</th>\n",
       "      <td>87</td>\n",
       "    </tr>\n",
       "    <tr>\n",
       "      <th>thanks</th>\n",
       "      <td>82</td>\n",
       "    </tr>\n",
       "    <tr>\n",
       "      <th>wit</th>\n",
       "      <td>78</td>\n",
       "    </tr>\n",
       "    <tr>\n",
       "      <th>love</th>\n",
       "      <td>68</td>\n",
       "    </tr>\n",
       "    <tr>\n",
       "      <th>big</th>\n",
       "      <td>68</td>\n",
       "    </tr>\n",
       "    <tr>\n",
       "      <th>abt</th>\n",
       "      <td>66</td>\n",
       "    </tr>\n",
       "    <tr>\n",
       "      <th>goodmorning</th>\n",
       "      <td>65</td>\n",
       "    </tr>\n",
       "    <tr>\n",
       "      <th>good</th>\n",
       "      <td>63</td>\n",
       "    </tr>\n",
       "    <tr>\n",
       "      <th>head</th>\n",
       "      <td>59</td>\n",
       "    </tr>\n",
       "    <tr>\n",
       "      <th>got</th>\n",
       "      <td>55</td>\n",
       "    </tr>\n",
       "    <tr>\n",
       "      <th>arena</th>\n",
       "      <td>55</td>\n",
       "    </tr>\n",
       "    <tr>\n",
       "      <th>emaynor3</th>\n",
       "      <td>52</td>\n",
       "    </tr>\n",
       "    <tr>\n",
       "      <th>make</th>\n",
       "      <td>50</td>\n",
       "    </tr>\n",
       "    <tr>\n",
       "      <th>best</th>\n",
       "      <td>49</td>\n",
       "    </tr>\n",
       "    <tr>\n",
       "      <th>jharden13</th>\n",
       "      <td>49</td>\n",
       "    </tr>\n",
       "    <tr>\n",
       "      <th>westbrook</th>\n",
       "      <td>48</td>\n",
       "    </tr>\n",
       "    <tr>\n",
       "      <th>work</th>\n",
       "      <td>47</td>\n",
       "    </tr>\n",
       "    <tr>\n",
       "      <th>time</th>\n",
       "      <td>46</td>\n",
       "    </tr>\n",
       "    <tr>\n",
       "      <th>talkn</th>\n",
       "      <td>46</td>\n",
       "    </tr>\n",
       "    <tr>\n",
       "      <th>great</th>\n",
       "      <td>45</td>\n",
       "    </tr>\n",
       "    <tr>\n",
       "      <th>life</th>\n",
       "      <td>43</td>\n",
       "    </tr>\n",
       "    <tr>\n",
       "      <th>god</th>\n",
       "      <td>42</td>\n",
       "    </tr>\n",
       "    <tr>\n",
       "      <th>whynotwednesday</th>\n",
       "      <td>41</td>\n",
       "    </tr>\n",
       "    <tr>\n",
       "      <th>like</th>\n",
       "      <td>40</td>\n",
       "    </tr>\n",
       "    <tr>\n",
       "      <th>finished</th>\n",
       "      <td>40</td>\n",
       "    </tr>\n",
       "    <tr>\n",
       "      <th>game</th>\n",
       "      <td>38</td>\n",
       "    </tr>\n",
       "    <tr>\n",
       "      <th>hard</th>\n",
       "      <td>37</td>\n",
       "    </tr>\n",
       "    <tr>\n",
       "      <th>bday</th>\n",
       "      <td>37</td>\n",
       "    </tr>\n",
       "    <tr>\n",
       "      <th>birthday</th>\n",
       "      <td>36</td>\n",
       "    </tr>\n",
       "    <tr>\n",
       "      <th>weds</th>\n",
       "      <td>36</td>\n",
       "    </tr>\n",
       "    <tr>\n",
       "      <th>new</th>\n",
       "      <td>35</td>\n",
       "    </tr>\n",
       "    <tr>\n",
       "      <th>better</th>\n",
       "      <td>35</td>\n",
       "    </tr>\n",
       "    <tr>\n",
       "      <th>russell</th>\n",
       "      <td>35</td>\n",
       "    </tr>\n",
       "    <tr>\n",
       "      <th>okc</th>\n",
       "      <td>34</td>\n",
       "    </tr>\n",
       "    <tr>\n",
       "      <th>dbeverly_</th>\n",
       "      <td>34</td>\n",
       "    </tr>\n",
       "    <tr>\n",
       "      <th>thank</th>\n",
       "      <td>33</td>\n",
       "    </tr>\n",
       "    <tr>\n",
       "      <th>lets</th>\n",
       "      <td>32</td>\n",
       "    </tr>\n",
       "  </tbody>\n",
       "</table>\n",
       "</div>"
      ],
      "text/plain": [
       "                 sum_frequency\n",
       "whynot                    1415\n",
       "rt                        1168\n",
       "russwest44                1010\n",
       "http                       241\n",
       "lol                        218\n",
       "bro                        192\n",
       "bigray4                    177\n",
       "just                       132\n",
       "day                        131\n",
       "happy                      114\n",
       "let                         97\n",
       "fam                         95\n",
       "today                       92\n",
       "wednesday                   87\n",
       "thanks                      82\n",
       "wit                         78\n",
       "love                        68\n",
       "big                         68\n",
       "abt                         66\n",
       "goodmorning                 65\n",
       "good                        63\n",
       "head                        59\n",
       "got                         55\n",
       "arena                       55\n",
       "emaynor3                    52\n",
       "make                        50\n",
       "best                        49\n",
       "jharden13                   49\n",
       "westbrook                   48\n",
       "work                        47\n",
       "time                        46\n",
       "talkn                       46\n",
       "great                       45\n",
       "life                        43\n",
       "god                         42\n",
       "whynotwednesday             41\n",
       "like                        40\n",
       "finished                    40\n",
       "game                        38\n",
       "hard                        37\n",
       "bday                        37\n",
       "birthday                    36\n",
       "weds                        36\n",
       "new                         35\n",
       "better                      35\n",
       "russell                     35\n",
       "okc                         34\n",
       "dbeverly_                   34\n",
       "thank                       33\n",
       "lets                        32"
      ]
     },
     "execution_count": 308,
     "metadata": {},
     "output_type": "execute_result"
    }
   ],
   "source": [
    "corpus_RussWest.sort_values(by=['sum_frequency'], ascending=False)[:50]"
   ]
  },
  {
   "cell_type": "markdown",
   "metadata": {},
   "source": [
    "Se observa que algunos términos utilizados por el mismo (como **whynot**) son hashtags propios de su persona muy recurrentes en sus tweets, lo que podría aportar significativamente a la clasificación correcta de sus tweets.\n",
    "\n",
    "Otro término relevante para Russell es **rt** y se debe a la forma de retweetear que tiene. No retweetea mediante el ícono correspondiente, sino que tweetea un comentario que comienza con **RT**, sigue con el nombre del usuario propietario del tweet original y luego con el contenido del tweet. Por lo general, son tweets en los que se lo menciona, y por eso cobra importancia el término **russwest44**. Por otro lado, como retweetea (o retweeteó hasta el momento) tweets de James Harden, el término **JHarden13** también cobra relevancia. \n",
    "\n",
    "Otros términos, como **games**, se pueden reconocer como característicos tanto de Russell Westbrook como de James Harden ya que juegan al mismo deporte."
   ]
  },
  {
   "cell_type": "markdown",
   "metadata": {},
   "source": [
    "James Harden\n",
    "\n",
    "- Cantidad de términos utilizados"
   ]
  },
  {
   "cell_type": "code",
   "execution_count": 309,
   "metadata": {},
   "outputs": [
    {
     "data": {
      "text/plain": [
       "1128"
      ]
     },
     "execution_count": 309,
     "metadata": {},
     "output_type": "execute_result"
    }
   ],
   "source": [
    "corpus_JamesHarden=df_tf_segundo_par_train[len(JamesHarden_train):]\n",
    "corpus_JamesHarden=corpus_JamesHarden.sum()\n",
    "corpus_JamesHarden=pd.DataFrame(corpus_JamesHarden)\n",
    "corpus_JamesHarden.columns=['sum_frequency']\n",
    "len(corpus_JamesHarden.loc[corpus_JamesHarden.sum_frequency > 0])"
   ]
  },
  {
   "cell_type": "markdown",
   "metadata": {},
   "source": [
    "Se observa que utilizó en sus tweets de entrenamiento 1128 de los 1290 términos del corpus, es decir, un **87.4%** del total."
   ]
  },
  {
   "cell_type": "markdown",
   "metadata": {},
   "source": [
    "- Términos más frecuentes"
   ]
  },
  {
   "cell_type": "code",
   "execution_count": 310,
   "metadata": {},
   "outputs": [
    {
     "data": {
      "text/html": [
       "<div>\n",
       "<style scoped>\n",
       "    .dataframe tbody tr th:only-of-type {\n",
       "        vertical-align: middle;\n",
       "    }\n",
       "\n",
       "    .dataframe tbody tr th {\n",
       "        vertical-align: top;\n",
       "    }\n",
       "\n",
       "    .dataframe thead th {\n",
       "        text-align: right;\n",
       "    }\n",
       "</style>\n",
       "<table border=\"1\" class=\"dataframe\">\n",
       "  <thead>\n",
       "    <tr style=\"text-align: right;\">\n",
       "      <th></th>\n",
       "      <th>sum_frequency</th>\n",
       "    </tr>\n",
       "  </thead>\n",
       "  <tbody>\n",
       "    <tr>\n",
       "      <th>rt</th>\n",
       "      <td>758</td>\n",
       "    </tr>\n",
       "    <tr>\n",
       "      <th>jharden13</th>\n",
       "      <td>589</td>\n",
       "    </tr>\n",
       "    <tr>\n",
       "      <th>http</th>\n",
       "      <td>303</td>\n",
       "    </tr>\n",
       "    <tr>\n",
       "      <th>lol</th>\n",
       "      <td>209</td>\n",
       "    </tr>\n",
       "    <tr>\n",
       "      <th>bro</th>\n",
       "      <td>169</td>\n",
       "    </tr>\n",
       "    <tr>\n",
       "      <th>just</th>\n",
       "      <td>151</td>\n",
       "    </tr>\n",
       "    <tr>\n",
       "      <th>thunderup</th>\n",
       "      <td>138</td>\n",
       "    </tr>\n",
       "    <tr>\n",
       "      <th>vs</th>\n",
       "      <td>93</td>\n",
       "    </tr>\n",
       "    <tr>\n",
       "      <th>good</th>\n",
       "      <td>93</td>\n",
       "    </tr>\n",
       "    <tr>\n",
       "      <th>okc</th>\n",
       "      <td>91</td>\n",
       "    </tr>\n",
       "    <tr>\n",
       "      <th>game</th>\n",
       "      <td>87</td>\n",
       "    </tr>\n",
       "    <tr>\n",
       "      <th>thanks</th>\n",
       "      <td>82</td>\n",
       "    </tr>\n",
       "    <tr>\n",
       "      <th>happy</th>\n",
       "      <td>79</td>\n",
       "    </tr>\n",
       "    <tr>\n",
       "      <th>gametime</th>\n",
       "      <td>77</td>\n",
       "    </tr>\n",
       "    <tr>\n",
       "      <th>day</th>\n",
       "      <td>74</td>\n",
       "    </tr>\n",
       "    <tr>\n",
       "      <th>man</th>\n",
       "      <td>72</td>\n",
       "    </tr>\n",
       "    <tr>\n",
       "      <th>love</th>\n",
       "      <td>72</td>\n",
       "    </tr>\n",
       "    <tr>\n",
       "      <th>like</th>\n",
       "      <td>71</td>\n",
       "    </tr>\n",
       "    <tr>\n",
       "      <th>privaledge</th>\n",
       "      <td>69</td>\n",
       "    </tr>\n",
       "    <tr>\n",
       "      <th>bigray4</th>\n",
       "      <td>68</td>\n",
       "    </tr>\n",
       "    <tr>\n",
       "      <th>fam</th>\n",
       "      <td>63</td>\n",
       "    </tr>\n",
       "    <tr>\n",
       "      <th>jujuvee12</th>\n",
       "      <td>62</td>\n",
       "    </tr>\n",
       "    <tr>\n",
       "      <th>emaynor3</th>\n",
       "      <td>60</td>\n",
       "    </tr>\n",
       "    <tr>\n",
       "      <th>let</th>\n",
       "      <td>58</td>\n",
       "    </tr>\n",
       "    <tr>\n",
       "      <th>russwest44</th>\n",
       "      <td>57</td>\n",
       "    </tr>\n",
       "    <tr>\n",
       "      <th>got</th>\n",
       "      <td>56</td>\n",
       "    </tr>\n",
       "    <tr>\n",
       "      <th>abt</th>\n",
       "      <td>56</td>\n",
       "    </tr>\n",
       "    <tr>\n",
       "      <th>head</th>\n",
       "      <td>55</td>\n",
       "    </tr>\n",
       "    <tr>\n",
       "      <th>win</th>\n",
       "      <td>55</td>\n",
       "    </tr>\n",
       "    <tr>\n",
       "      <th>rjayrolln</th>\n",
       "      <td>52</td>\n",
       "    </tr>\n",
       "    <tr>\n",
       "      <th>great</th>\n",
       "      <td>52</td>\n",
       "    </tr>\n",
       "    <tr>\n",
       "      <th>arena</th>\n",
       "      <td>51</td>\n",
       "    </tr>\n",
       "    <tr>\n",
       "      <th>god</th>\n",
       "      <td>48</td>\n",
       "    </tr>\n",
       "    <tr>\n",
       "      <th>kdtrey5</th>\n",
       "      <td>47</td>\n",
       "    </tr>\n",
       "    <tr>\n",
       "      <th>amp</th>\n",
       "      <td>47</td>\n",
       "    </tr>\n",
       "    <tr>\n",
       "      <th>tonight</th>\n",
       "      <td>47</td>\n",
       "    </tr>\n",
       "    <tr>\n",
       "      <th>birthday</th>\n",
       "      <td>47</td>\n",
       "    </tr>\n",
       "    <tr>\n",
       "      <th>nba</th>\n",
       "      <td>46</td>\n",
       "    </tr>\n",
       "    <tr>\n",
       "      <th>today</th>\n",
       "      <td>46</td>\n",
       "    </tr>\n",
       "    <tr>\n",
       "      <th>wit</th>\n",
       "      <td>45</td>\n",
       "    </tr>\n",
       "    <tr>\n",
       "      <th>team</th>\n",
       "      <td>44</td>\n",
       "    </tr>\n",
       "    <tr>\n",
       "      <th>talkn</th>\n",
       "      <td>43</td>\n",
       "    </tr>\n",
       "    <tr>\n",
       "      <th>time</th>\n",
       "      <td>43</td>\n",
       "    </tr>\n",
       "    <tr>\n",
       "      <th>way</th>\n",
       "      <td>43</td>\n",
       "    </tr>\n",
       "    <tr>\n",
       "      <th>congrats</th>\n",
       "      <td>43</td>\n",
       "    </tr>\n",
       "    <tr>\n",
       "      <th>don</th>\n",
       "      <td>42</td>\n",
       "    </tr>\n",
       "    <tr>\n",
       "      <th>haha</th>\n",
       "      <td>40</td>\n",
       "    </tr>\n",
       "    <tr>\n",
       "      <th>finished</th>\n",
       "      <td>40</td>\n",
       "    </tr>\n",
       "    <tr>\n",
       "      <th>la</th>\n",
       "      <td>40</td>\n",
       "    </tr>\n",
       "    <tr>\n",
       "      <th>life</th>\n",
       "      <td>39</td>\n",
       "    </tr>\n",
       "  </tbody>\n",
       "</table>\n",
       "</div>"
      ],
      "text/plain": [
       "            sum_frequency\n",
       "rt                    758\n",
       "jharden13             589\n",
       "http                  303\n",
       "lol                   209\n",
       "bro                   169\n",
       "just                  151\n",
       "thunderup             138\n",
       "vs                     93\n",
       "good                   93\n",
       "okc                    91\n",
       "game                   87\n",
       "thanks                 82\n",
       "happy                  79\n",
       "gametime               77\n",
       "day                    74\n",
       "man                    72\n",
       "love                   72\n",
       "like                   71\n",
       "privaledge             69\n",
       "bigray4                68\n",
       "fam                    63\n",
       "jujuvee12              62\n",
       "emaynor3               60\n",
       "let                    58\n",
       "russwest44             57\n",
       "got                    56\n",
       "abt                    56\n",
       "head                   55\n",
       "win                    55\n",
       "rjayrolln              52\n",
       "great                  52\n",
       "arena                  51\n",
       "god                    48\n",
       "kdtrey5                47\n",
       "amp                    47\n",
       "tonight                47\n",
       "birthday               47\n",
       "nba                    46\n",
       "today                  46\n",
       "wit                    45\n",
       "team                   44\n",
       "talkn                  43\n",
       "time                   43\n",
       "way                    43\n",
       "congrats               43\n",
       "don                    42\n",
       "haha                   40\n",
       "finished               40\n",
       "la                     40\n",
       "life                   39"
      ]
     },
     "execution_count": 310,
     "metadata": {},
     "output_type": "execute_result"
    }
   ],
   "source": [
    "corpus_JamesHarden.sort_values(by=['sum_frequency'], ascending=False)[:50]"
   ]
  },
  {
   "cell_type": "markdown",
   "metadata": {},
   "source": [
    "Se observa que algunos términos utilizados por el mismo (como **thunderup**) son hashtags que utilizaba con frecuencia cuando jugaba en Oklahoma. \n",
    "\n",
    "Por otro lado, James Harden tiene la misma forma de retweetear que Russell Westbrook, por lo que los términos **rt** y **JHarden13** se repiten con frecuencia. Como retweetea varios tweets de Russell, el término **russwest44**, también lo utiliza con frecuencia.\n",
    "\n",
    "Otros término que James utiliza mucho es, como **gametime**, que es el nombre del programa de NBA TV. Cada vez que le hacen una entrevista, él lo comparte en sus redes.  \n",
    "\n",
    "Por último, **okc** (de Oklahoma City Thunder) es un término que figura tanto en los tweets de James como de Russell. Ambos jugaron en ese equipo antes de jugar en los Rockets."
   ]
  },
  {
   "cell_type": "markdown",
   "metadata": {},
   "source": [
    "**Vectorización del corpus de test**\n",
    "\n",
    "Se procede de manera similar que en el caso del corpus de entrenamiento. La diferencia es que luego de obtener la matriz de test, se seleccionan solamente los términos que aparecen en la matriz de entrenamiento, de manera tal que las dos matrices contengan las mismas columnas. Como puede haber términos que aparezcan en el corpus de entrenamiento y no en el de test, es probable que la matriz de test quede con columnas vacías. "
   ]
  },
  {
   "cell_type": "code",
   "execution_count": 170,
   "metadata": {},
   "outputs": [],
   "source": [
    "corpus_test_segundo_par = []\n",
    "\n",
    "for row_index,row in  RussWest_test.iterrows():\n",
    "    corpus_test_segundo_par.append(row['text'])\n",
    "    \n",
    "for row_index,row in  JamesHarden_test.iterrows():\n",
    "    corpus_test_segundo_par.append(row['text'])"
   ]
  },
  {
   "cell_type": "code",
   "execution_count": 313,
   "metadata": {},
   "outputs": [
    {
     "data": {
      "text/plain": [
       "(1467, 4377)"
      ]
     },
     "execution_count": 313,
     "metadata": {},
     "output_type": "execute_result"
    }
   ],
   "source": [
    "vectorizer_segundo_par_test = feature_extraction.text.CountVectorizer(lowercase=True, stop_words='english')\n",
    "vectorizer_s_test = vectorizer_segundo_par_test.fit_transform(corpus_test_segundo_par)\n",
    "df_tf_segundo_par_test = pd.DataFrame(vectorizer_s_test.todense(), columns=vectorizer_segundo_par_test.get_feature_names())\n",
    "df_tf_segundo_par_test.shape"
   ]
  },
  {
   "cell_type": "markdown",
   "metadata": {},
   "source": [
    "Se seleccionan únicamente las columnas que aparecen en la matriz de entrenamiento."
   ]
  },
  {
   "cell_type": "code",
   "execution_count": 316,
   "metadata": {},
   "outputs": [
    {
     "data": {
      "text/plain": [
       "(1467, 1290)"
      ]
     },
     "execution_count": 316,
     "metadata": {},
     "output_type": "execute_result"
    }
   ],
   "source": [
    "df_segundo_par_test = pd.DataFrame()\n",
    "\n",
    "columns_to_select_segundo_par = []\n",
    "\n",
    "for word in vectorizer_segundo_par_test.get_feature_names():\n",
    "    if word in vectorizer_segundo_par_train.get_feature_names():\n",
    "        columns_to_select_segundo_par.append(word)\n",
    "        \n",
    "for item in vectorizer_segundo_par_train.get_feature_names():\n",
    "    df_segundo_par_test[item] = [0] * len (vector_tweets_segundo_par_test)\n",
    "    \n",
    "for column in columns_to_select_segundo_par:\n",
    "    df_segundo_par_test[column] = df_tf_segundo_par_test[column]\n",
    "    \n",
    "df_segundo_par_test.shape"
   ]
  },
  {
   "cell_type": "markdown",
   "metadata": {},
   "source": [
    "Se observa que la cantidad de columnas en la matriz de test resultante es igual a la de entrenamiento."
   ]
  },
  {
   "cell_type": "markdown",
   "metadata": {},
   "source": [
    "**Creación del vector con la variable a predecir: test**"
   ]
  },
  {
   "cell_type": "markdown",
   "metadata": {},
   "source": [
    "Los tweets representados por un 1 corresponden a Russell Westbrook y los representados por un 0 corresponden a James Harden."
   ]
  },
  {
   "cell_type": "code",
   "execution_count": 315,
   "metadata": {},
   "outputs": [
    {
     "data": {
      "text/plain": [
       "1467"
      ]
     },
     "execution_count": 315,
     "metadata": {},
     "output_type": "execute_result"
    }
   ],
   "source": [
    "vector_tweets_segundo_par_test = [1] * len(RussWest_test) + [0] * len(JamesHarden_test)\n",
    "len(vector_tweets_segundo_par_test)"
   ]
  },
  {
   "cell_type": "markdown",
   "metadata": {},
   "source": [
    "Se observa que la longitud del vector es la misma que la de la matriz."
   ]
  },
  {
   "cell_type": "markdown",
   "metadata": {},
   "source": [
    "### Entrenamiento del clasificador"
   ]
  },
  {
   "cell_type": "code",
   "execution_count": 178,
   "metadata": {},
   "outputs": [],
   "source": [
    "C = range(1, 80, 2)\n",
    "kernels = ['linear', 'poly', 'rbf', 'sigmoid']\n",
    "\n",
    "scores_segundo_par=[]\n",
    "\n",
    "for c in C:\n",
    "    for k in kernels:\n",
    "        clf_segundo_par = svm.SVC(kernel=k, C=c)\n",
    "        clf_segundo_par.fit(df_tf_segundo_par_train, vector_tweets_segundo_par_train)\n",
    "        clf_segundo_par.predict(df_segundo_par_test)\n",
    "\n",
    "        scores_segundo_par.append([c, clf_segundo_par.score(df_segundo_par_test, vector_tweets_segundo_par_test), k])\n",
    "        \n",
    "scores_c_segundo_par=[i[0] for i in scores_segundo_par]\n",
    "scores_y_segundo_par=[i[1] for i in scores_segundo_par]\n",
    "scores_k_segundo_par=[i[2] for i in scores_segundo_par]\n",
    "\n",
    "df_segundo_par=pd.DataFrame()\n",
    "df_segundo_par['c']=scores_c_segundo_par\n",
    "df_segundo_par['accuracy']=scores_y_segundo_par\n",
    "df_segundo_par['k']=scores_k_segundo_par\n",
    "\n",
    "cmap = {'linear': 'red', 'poly': 'blue', 'rbf': 'green', 'sigmoid': 'yellow'}"
   ]
  },
  {
   "cell_type": "markdown",
   "metadata": {},
   "source": [
    "**Gráfico con los resultados de test**"
   ]
  },
  {
   "cell_type": "code",
   "execution_count": 317,
   "metadata": {},
   "outputs": [
    {
     "data": {
      "image/png": "[encoded data removed]",
      "text/plain": [
       "<Figure size 432x288 with 1 Axes>"
      ]
     },
     "metadata": {
      "needs_background": "light"
     },
     "output_type": "display_data"
    }
   ],
   "source": [
    "df_segundo_par.plot('c', 'accuracy', kind='scatter',  \n",
    "    c=[cmap.get(c, 'black') for c in df_segundo_par.k])\n",
    "plt.title(\"Accuracy de cada uno de los modelos entrenados. \\n \\n Kernels: linear(rojo), poly(azul), rbf(verde), sigmoid(amarillo)\")\n",
    "plt.show()"
   ]
  },
  {
   "cell_type": "markdown",
   "metadata": {},
   "source": [
    "En términos generales, se puede decir que el kernel *poly* resultó en mejores accuracy para valores del parámetro C mayores a 10. A menores valores del parámetro, este kernel es el que consigue menores accuracy.\n",
    "\n",
    "El segundo en performance es el *sigmoid*.\n",
    "\n",
    "Por otro lado, exceptuando al kernel *poly*, las mayores accuracy se consiguen con *menores* valores del parámetro C.\n",
    "\n",
    "A diferencia del conjunto de los clasificadores anteriores, en este caso se encuentran valores de accuracy **menores a 55%**. "
   ]
  },
  {
   "cell_type": "code",
   "execution_count": 319,
   "metadata": {},
   "outputs": [
    {
     "data": {
      "text/html": [
       "<div>\n",
       "<style scoped>\n",
       "    .dataframe tbody tr th:only-of-type {\n",
       "        vertical-align: middle;\n",
       "    }\n",
       "\n",
       "    .dataframe tbody tr th {\n",
       "        vertical-align: top;\n",
       "    }\n",
       "\n",
       "    .dataframe thead th {\n",
       "        text-align: right;\n",
       "    }\n",
       "</style>\n",
       "<table border=\"1\" class=\"dataframe\">\n",
       "  <thead>\n",
       "    <tr style=\"text-align: right;\">\n",
       "      <th></th>\n",
       "      <th>min</th>\n",
       "      <th>max</th>\n",
       "      <th>mean</th>\n",
       "      <th>50%</th>\n",
       "    </tr>\n",
       "    <tr>\n",
       "      <th>k</th>\n",
       "      <th></th>\n",
       "      <th></th>\n",
       "      <th></th>\n",
       "      <th></th>\n",
       "    </tr>\n",
       "  </thead>\n",
       "  <tbody>\n",
       "    <tr>\n",
       "      <th>linear</th>\n",
       "      <td>0.708248</td>\n",
       "      <td>0.780504</td>\n",
       "      <td>0.727198</td>\n",
       "      <td>0.722222</td>\n",
       "    </tr>\n",
       "    <tr>\n",
       "      <th>poly</th>\n",
       "      <td>0.520791</td>\n",
       "      <td>0.775733</td>\n",
       "      <td>0.756629</td>\n",
       "      <td>0.772324</td>\n",
       "    </tr>\n",
       "    <tr>\n",
       "      <th>rbf</th>\n",
       "      <td>0.677573</td>\n",
       "      <td>0.789366</td>\n",
       "      <td>0.716053</td>\n",
       "      <td>0.705521</td>\n",
       "    </tr>\n",
       "    <tr>\n",
       "      <th>sigmoid</th>\n",
       "      <td>0.743695</td>\n",
       "      <td>0.783231</td>\n",
       "      <td>0.753528</td>\n",
       "      <td>0.751875</td>\n",
       "    </tr>\n",
       "  </tbody>\n",
       "</table>\n",
       "</div>"
      ],
      "text/plain": [
       "              min       max      mean       50%\n",
       "k                                              \n",
       "linear   0.708248  0.780504  0.727198  0.722222\n",
       "poly     0.520791  0.775733  0.756629  0.772324\n",
       "rbf      0.677573  0.789366  0.716053  0.705521\n",
       "sigmoid  0.743695  0.783231  0.753528  0.751875"
      ]
     },
     "execution_count": 319,
     "metadata": {},
     "output_type": "execute_result"
    }
   ],
   "source": [
    "pd.DataFrame(df_segundo_par.groupby('k').describe()['accuracy'][['min','max', 'mean', '50%']])"
   ]
  },
  {
   "cell_type": "markdown",
   "metadata": {},
   "source": [
    "La máxima accuracy alcanzada es similar para todos los kernels probados (**77.6-78.9%**)."
   ]
  },
  {
   "cell_type": "markdown",
   "metadata": {},
   "source": [
    "**Matriz de confusión**\n",
    "\n",
    "Mejores parámetros para cada kernel."
   ]
  },
  {
   "cell_type": "code",
   "execution_count": 320,
   "metadata": {},
   "outputs": [
    {
     "data": {
      "text/html": [
       "<div>\n",
       "<style scoped>\n",
       "    .dataframe tbody tr th:only-of-type {\n",
       "        vertical-align: middle;\n",
       "    }\n",
       "\n",
       "    .dataframe tbody tr th {\n",
       "        vertical-align: top;\n",
       "    }\n",
       "\n",
       "    .dataframe thead th {\n",
       "        text-align: right;\n",
       "    }\n",
       "</style>\n",
       "<table border=\"1\" class=\"dataframe\">\n",
       "  <thead>\n",
       "    <tr style=\"text-align: right;\">\n",
       "      <th></th>\n",
       "      <th>0</th>\n",
       "    </tr>\n",
       "  </thead>\n",
       "  <tbody>\n",
       "    <tr>\n",
       "      <th>c</th>\n",
       "      <td>1</td>\n",
       "    </tr>\n",
       "    <tr>\n",
       "      <th>accuracy</th>\n",
       "      <td>0.780504</td>\n",
       "    </tr>\n",
       "    <tr>\n",
       "      <th>k</th>\n",
       "      <td>linear</td>\n",
       "    </tr>\n",
       "  </tbody>\n",
       "</table>\n",
       "</div>"
      ],
      "text/plain": [
       "                 0\n",
       "c                1\n",
       "accuracy  0.780504\n",
       "k           linear"
      ]
     },
     "execution_count": 320,
     "metadata": {},
     "output_type": "execute_result"
    }
   ],
   "source": [
    "df_linear=pd.DataFrame(df_segundo_par.loc[df_segundo_par['k']=='linear'].sort_values(['accuracy'], ascending=False).iloc[0])\n",
    "df_linear"
   ]
  },
  {
   "cell_type": "code",
   "execution_count": 321,
   "metadata": {},
   "outputs": [
    {
     "data": {
      "text/html": [
       "<div>\n",
       "<style scoped>\n",
       "    .dataframe tbody tr th:only-of-type {\n",
       "        vertical-align: middle;\n",
       "    }\n",
       "\n",
       "    .dataframe tbody tr th {\n",
       "        vertical-align: top;\n",
       "    }\n",
       "\n",
       "    .dataframe thead th {\n",
       "        text-align: right;\n",
       "    }\n",
       "</style>\n",
       "<table border=\"1\" class=\"dataframe\">\n",
       "  <thead>\n",
       "    <tr style=\"text-align: right;\">\n",
       "      <th></th>\n",
       "      <th>109</th>\n",
       "    </tr>\n",
       "  </thead>\n",
       "  <tbody>\n",
       "    <tr>\n",
       "      <th>c</th>\n",
       "      <td>55</td>\n",
       "    </tr>\n",
       "    <tr>\n",
       "      <th>accuracy</th>\n",
       "      <td>0.775733</td>\n",
       "    </tr>\n",
       "    <tr>\n",
       "      <th>k</th>\n",
       "      <td>poly</td>\n",
       "    </tr>\n",
       "  </tbody>\n",
       "</table>\n",
       "</div>"
      ],
      "text/plain": [
       "               109\n",
       "c               55\n",
       "accuracy  0.775733\n",
       "k             poly"
      ]
     },
     "execution_count": 321,
     "metadata": {},
     "output_type": "execute_result"
    }
   ],
   "source": [
    "df_poly=pd.DataFrame(df_segundo_par.loc[df_segundo_par['k']=='poly'].sort_values(['accuracy'], ascending=False).iloc[0])\n",
    "df_poly"
   ]
  },
  {
   "cell_type": "code",
   "execution_count": 322,
   "metadata": {},
   "outputs": [
    {
     "data": {
      "text/html": [
       "<div>\n",
       "<style scoped>\n",
       "    .dataframe tbody tr th:only-of-type {\n",
       "        vertical-align: middle;\n",
       "    }\n",
       "\n",
       "    .dataframe tbody tr th {\n",
       "        vertical-align: top;\n",
       "    }\n",
       "\n",
       "    .dataframe thead th {\n",
       "        text-align: right;\n",
       "    }\n",
       "</style>\n",
       "<table border=\"1\" class=\"dataframe\">\n",
       "  <thead>\n",
       "    <tr style=\"text-align: right;\">\n",
       "      <th></th>\n",
       "      <th>6</th>\n",
       "    </tr>\n",
       "  </thead>\n",
       "  <tbody>\n",
       "    <tr>\n",
       "      <th>c</th>\n",
       "      <td>3</td>\n",
       "    </tr>\n",
       "    <tr>\n",
       "      <th>accuracy</th>\n",
       "      <td>0.789366</td>\n",
       "    </tr>\n",
       "    <tr>\n",
       "      <th>k</th>\n",
       "      <td>rbf</td>\n",
       "    </tr>\n",
       "  </tbody>\n",
       "</table>\n",
       "</div>"
      ],
      "text/plain": [
       "                 6\n",
       "c                3\n",
       "accuracy  0.789366\n",
       "k              rbf"
      ]
     },
     "execution_count": 322,
     "metadata": {},
     "output_type": "execute_result"
    }
   ],
   "source": [
    "df_rbf=pd.DataFrame(df_segundo_par.loc[df_segundo_par['k']=='rbf'].sort_values(['accuracy'], ascending=False).iloc[0])\n",
    "df_rbf"
   ]
  },
  {
   "cell_type": "code",
   "execution_count": 323,
   "metadata": {},
   "outputs": [
    {
     "data": {
      "text/html": [
       "<div>\n",
       "<style scoped>\n",
       "    .dataframe tbody tr th:only-of-type {\n",
       "        vertical-align: middle;\n",
       "    }\n",
       "\n",
       "    .dataframe tbody tr th {\n",
       "        vertical-align: top;\n",
       "    }\n",
       "\n",
       "    .dataframe thead th {\n",
       "        text-align: right;\n",
       "    }\n",
       "</style>\n",
       "<table border=\"1\" class=\"dataframe\">\n",
       "  <thead>\n",
       "    <tr style=\"text-align: right;\">\n",
       "      <th></th>\n",
       "      <th>3</th>\n",
       "    </tr>\n",
       "  </thead>\n",
       "  <tbody>\n",
       "    <tr>\n",
       "      <th>c</th>\n",
       "      <td>1</td>\n",
       "    </tr>\n",
       "    <tr>\n",
       "      <th>accuracy</th>\n",
       "      <td>0.783231</td>\n",
       "    </tr>\n",
       "    <tr>\n",
       "      <th>k</th>\n",
       "      <td>sigmoid</td>\n",
       "    </tr>\n",
       "  </tbody>\n",
       "</table>\n",
       "</div>"
      ],
      "text/plain": [
       "                 3\n",
       "c                1\n",
       "accuracy  0.783231\n",
       "k          sigmoid"
      ]
     },
     "execution_count": 323,
     "metadata": {},
     "output_type": "execute_result"
    }
   ],
   "source": [
    "df_sigmoid=pd.DataFrame(df_segundo_par.loc[df_segundo_par['k']=='sigmoid'].sort_values(['accuracy'], ascending=False).iloc[0])\n",
    "df_sigmoid"
   ]
  },
  {
   "cell_type": "markdown",
   "metadata": {},
   "source": [
    "Se muestran las matrices de confusión correspondientes al modelo con mayor accuracy de cada kernel."
   ]
  },
  {
   "cell_type": "markdown",
   "metadata": {},
   "source": [
    "*Linear*"
   ]
  },
  {
   "cell_type": "code",
   "execution_count": 324,
   "metadata": {},
   "outputs": [
    {
     "data": {
      "image/png": "[encoded data removed]",
      "text/plain": [
       "<Figure size 432x288 with 2 Axes>"
      ]
     },
     "metadata": {
      "needs_background": "light"
     },
     "output_type": "display_data"
    }
   ],
   "source": [
    "clf_segundo_par = svm.SVC(kernel='linear', C=1)\n",
    "clf_segundo_par.fit(df_tf_segundo_par_train, vector_tweets_segundo_par_train)\n",
    "clf_segundo_par.predict(df_segundo_par_test)\n",
    "\n",
    "plot_confusion_matrix(clf_segundo_par, df_segundo_par_test, vector_tweets_segundo_par_test,\n",
    "                                 cmap=plt.cm.Blues,\n",
    "                                 normalize='true',\n",
    "                                 display_labels=['Russell WestBrook', 'James Harden'])\n",
    "plt.show()"
   ]
  },
  {
   "cell_type": "markdown",
   "metadata": {},
   "source": [
    "*Poly*"
   ]
  },
  {
   "cell_type": "code",
   "execution_count": 325,
   "metadata": {},
   "outputs": [
    {
     "data": {
      "image/png": "[encoded data removed]",
      "text/plain": [
       "<Figure size 432x288 with 2 Axes>"
      ]
     },
     "metadata": {
      "needs_background": "light"
     },
     "output_type": "display_data"
    }
   ],
   "source": [
    "clf_segundo_par = svm.SVC(kernel='poly', C=55)\n",
    "clf_segundo_par.fit(df_tf_segundo_par_train, vector_tweets_segundo_par_train)\n",
    "clf_segundo_par.predict(df_segundo_par_test)\n",
    "\n",
    "plot_confusion_matrix(clf_segundo_par, df_segundo_par_test, vector_tweets_segundo_par_test,\n",
    "                                 cmap=plt.cm.Blues,\n",
    "                                 normalize='true',\n",
    "                                 display_labels=['Russell WestBrook', 'James Harden'])\n",
    "plt.show()"
   ]
  },
  {
   "cell_type": "markdown",
   "metadata": {},
   "source": [
    "*Rbf*"
   ]
  },
  {
   "cell_type": "code",
   "execution_count": 326,
   "metadata": {},
   "outputs": [
    {
     "data": {
      "image/png": "[encoded data removed]",
      "text/plain": [
       "<Figure size 432x288 with 2 Axes>"
      ]
     },
     "metadata": {
      "needs_background": "light"
     },
     "output_type": "display_data"
    }
   ],
   "source": [
    "clf_segundo_par = svm.SVC(kernel='rbf', C=3)\n",
    "clf_segundo_par.fit(df_tf_segundo_par_train, vector_tweets_segundo_par_train)\n",
    "clf_segundo_par.predict(df_segundo_par_test)\n",
    "\n",
    "plot_confusion_matrix(clf_segundo_par, df_segundo_par_test, vector_tweets_segundo_par_test,\n",
    "                                 cmap=plt.cm.Blues,\n",
    "                                 normalize='true',\n",
    "                                 display_labels=['Russell WestBrook', 'James Harden'])\n",
    "plt.show()"
   ]
  },
  {
   "cell_type": "markdown",
   "metadata": {},
   "source": [
    "*Sigmoid*"
   ]
  },
  {
   "cell_type": "code",
   "execution_count": 327,
   "metadata": {},
   "outputs": [
    {
     "data": {
      "image/png": "[encoded data removed]",
      "text/plain": [
       "<Figure size 432x288 with 2 Axes>"
      ]
     },
     "metadata": {
      "needs_background": "light"
     },
     "output_type": "display_data"
    }
   ],
   "source": [
    "clf_segundo_par = svm.SVC(kernel='sigmoid', C=1)\n",
    "clf_segundo_par.fit(df_tf_segundo_par_train, vector_tweets_segundo_par_train)\n",
    "clf_segundo_par.predict(df_segundo_par_test)\n",
    "\n",
    "plot_confusion_matrix(clf_segundo_par, df_segundo_par_test, vector_tweets_segundo_par_test,\n",
    "                                 cmap=plt.cm.Blues,\n",
    "                                 normalize='true',\n",
    "                                 display_labels=['Russell WestBrook', 'James Harden'])\n",
    "plt.show()"
   ]
  },
  {
   "cell_type": "markdown",
   "metadata": {},
   "source": [
    "**Observaciones**\n",
    "\n",
    "Como se mencionó anteriormente, la **accuracy** de los mejores modelos se encuentra entre el **77.6** y el **78.9%**, valores **10 puntos porcentuales por debajo** de los encontrados para el primer par de usuarios. \n",
    "\n",
    "En las cuatro matrices de confusión presentadas se observan resultados similares. Los tweets de **Russell Westbrook** son correctamente clasificados en alrededor del **88-96%** de los casos, mientras que los tweets de **James Harden** son clasificados correctamente en el **62-69%** de los casos.  "
   ]
  },
  {
   "cell_type": "markdown",
   "metadata": {},
   "source": [
    "## Conclusiones"
   ]
  },
  {
   "cell_type": "markdown",
   "metadata": {},
   "source": [
    "- El análisis presentado indica que la hipótesis de que los tweets del *par de personas que están relacionadas* son más difíciles de discriminar que los tweets del *par de personas que no están relacionadas*, es **verdadera**.\n",
    "\n",
    "\n",
    "- No obstante, los resultados de accuracy para el par de personas no-relacionadas no resultaron tan bajos como esperaba y esto se lo atribuyo tanto a la presencia del hashtah *#whynot* en los tweets de Russell Westbrook como a la cantidad de retweets que tweetea con su nombre de usuario.\n",
    "\n",
    "\n",
    "- Podría realizarse un análisis similar, descartando tanto a los retweets en forma de tweets con el prefijo RT como a los hashtags. Aunque considero que no sería lo ideal porque esta aproximación dejaría de lado información relevante de la red social que se está analizando.   "
   ]
  }
 ],
 "metadata": {
  "kernelspec": {
   "display_name": "Python 3",
   "language": "python",
   "name": "python3"
  },
  "language_info": {
   "codemirror_mode": {
    "name": "ipython",
    "version": 3
   },
   "file_extension": ".py",
   "mimetype": "text/x-python",
   "name": "python",
   "nbconvert_exporter": "python",
   "pygments_lexer": "ipython3",
   "version": "3.6.6"
  }
 },
 "nbformat": 4,
 "nbformat_minor": 4
}
