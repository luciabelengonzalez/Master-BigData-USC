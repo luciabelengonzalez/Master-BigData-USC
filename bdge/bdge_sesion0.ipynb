{
 "cells": [
  {
   "cell_type": "markdown",
   "metadata": {
    "id": "la8Wi7C_0gyZ"
   },
   "source": [
    "# Introducción a Jupyter Notebook, Pandas, Matplotlib, etc.\n",
    "\n",
    "En esta hoja introduciremos la forma de trabajar con Jupyter Notebook/Google Colab. Veremos cómo los distintos elementos de las librerías de Python interactúan con el notebook para mostrar imágenes, gráficos, etc. También, en las siguientes sesiones los usaremos para acceder a conexiones SQL y a bases de datos NoSQL.\n",
    "\n",
    "Enlaces a otros tutoriales introductorios (que también se centran en tratamiento de datos para Big Data): [1](https://github.com/CharlestonDataScience/PythonNotebooks/blob/master/notebooks/tutorial_01/pandas_tutorial.ipynb) y [2](https://github.com/phelps-sg/python-bigdata/blob/master/src/main/ipynb/pandas.ipynb), entre otros muchos."
   ]
  },
  {
   "cell_type": "markdown",
   "metadata": {
    "id": "AVwChyC10gyl"
   },
   "source": [
    "## Jupyter/Colab Notebook\n",
    "\n",
    "Los *Notebooks* contienen una mezcla de texto y código, y se pueden ir ejecutando paso a paso. En general utilizaremos el lenguaje Python en su versión 3, así que las hojas son en realidad un programa Python que se puede ejecutar en orden, junto con imágenes y texto explicativo adjunto.\n",
    "\n",
    "Al pulsar Ctrl+Intro en una celda, se ejecuta el código de la celda y se muestra el la siguiente celda. Al pulsar Shift+Intro se ejecuta la celda actual y pasa automáticamente a la siguiente.\n",
    "\n",
    "Existen también \"magics\", que sirven para obtener información de la hoja, o ejecutar comandos especiales. Por ejemplo, órdenes de shell, como en la siguiente celda. Hay varios tutoriales Online. Por ejemplo: [Tutorial](https://github.com/esc/scipy2013-tutorial-numpy-ipython/blob/master/ipython.ipynb)."
   ]
  },
  {
   "cell_type": "code",
   "execution_count": null,
   "metadata": {
    "id": "sQP8GpuC0gyr"
   },
   "outputs": [],
   "source": [
    "!uname -a"
   ]
  },
  {
   "cell_type": "code",
   "execution_count": null,
   "metadata": {
    "id": "16n5PqCp0gzM"
   },
   "outputs": [],
   "source": [
    "%lsmagic"
   ]
  },
  {
   "cell_type": "markdown",
   "metadata": {
    "id": "Fs7khh660gze"
   },
   "source": [
    "A continuación mostramos los paquetes que usaremos regularmente para tratar datos, `pandas`, `numpy`, `matplotlib`. Al ser un programa en Python, se pueden importar paquetes que seguirán siendo válidos hasta el final del _notebook_."
   ]
  },
  {
   "cell_type": "code",
   "execution_count": null,
   "metadata": {
    "id": "Zm7Lxq3b0gzi"
   },
   "outputs": [],
   "source": [
    "import numpy as np\n",
    "import pandas as pd\n",
    "import matplotlib.pyplot as plt\n",
    "import matplotlib"
   ]
  },
  {
   "cell_type": "markdown",
   "metadata": {
    "id": "cnHsIiOJ0gzx"
   },
   "source": [
    "Lo siguiente hace que los gráficos se muestren inline. Para figuras pequeñas se puede utilizar unas figuras interactivas que permiten zoom, usando `%maplotlib nbagg`."
   ]
  },
  {
   "cell_type": "code",
   "execution_count": null,
   "metadata": {
    "id": "54LyaN9h0gz2"
   },
   "outputs": [],
   "source": [
    "%matplotlib inline\n",
    "matplotlib.style.use('ggplot')"
   ]
  },
  {
   "cell_type": "markdown",
   "metadata": {
    "id": "FbNgEEmW0g0F"
   },
   "source": [
    "## Numpy\n",
    "\n",
    "Numpy es una de las librerías más utilizadas en Python, y ofrece un interfaz sencillo para operaciones eficientes con números, _arrays_ y matrices. Numpy se utilizará de apoyo muchas veces que haya que hacer procesamiento local de datos recogidos de una base de datos, o como preparación para la graficación de datos. En la celda siguiente se muestra un vídeo introductorio, y también se puede acceder a tutoriales online: [Tutorial](https://github.com/esc/scipy2013-tutorial-numpy-ipython/blob/master/operations.ipynb)."
   ]
  },
  {
   "cell_type": "code",
   "execution_count": null,
   "metadata": {
    "id": "7tqi4z-h0g0J"
   },
   "outputs": [],
   "source": [
    "from IPython.display import YouTubeVideo\n",
    "YouTubeVideo('o8fmjaW9a0A') # Yes, it can also embed youtube videos."
   ]
  },
  {
   "cell_type": "markdown",
   "metadata": {
    "id": "PAssJtAv0g0c"
   },
   "source": [
    "Numpy permite generar y procesar arrays de datos de forma muy eficiente. A continuación se muestran algunos ejemplos:"
   ]
  },
  {
   "cell_type": "code",
   "execution_count": null,
   "metadata": {
    "id": "XTIZsrqm0g0e"
   },
   "outputs": [],
   "source": [
    "a = np.array([4,5,6])\n",
    "print(a.shape)\n",
    "print(a[0])\n",
    "a[0] = 9\n",
    "print (a)"
   ]
  },
  {
   "cell_type": "code",
   "execution_count": null,
   "metadata": {
    "id": "hqwxBBDR0g0q"
   },
   "outputs": [],
   "source": [
    "np.arange(10)"
   ]
  },
  {
   "cell_type": "code",
   "execution_count": null,
   "metadata": {
    "id": "juBoOUXv0g03"
   },
   "outputs": [],
   "source": [
    "np.arange(1,20)"
   ]
  },
  {
   "cell_type": "markdown",
   "metadata": {
    "id": "Ur7PeiO40g1H"
   },
   "source": [
    "También arrays multidimensionales:"
   ]
  },
  {
   "cell_type": "code",
   "execution_count": null,
   "metadata": {
    "id": "RAxRAAUn0g1K"
   },
   "outputs": [],
   "source": [
    "a = np.zeros((2,2))\n",
    "print (a)"
   ]
  },
  {
   "cell_type": "code",
   "execution_count": null,
   "metadata": {
    "id": "JrvObDnf0g1Y"
   },
   "outputs": [],
   "source": [
    "a.ndim"
   ]
  },
  {
   "cell_type": "code",
   "execution_count": null,
   "metadata": {
    "id": "VXEAG5cV0g1l"
   },
   "outputs": [],
   "source": [
    "a.dtype"
   ]
  },
  {
   "cell_type": "code",
   "execution_count": null,
   "metadata": {
    "id": "OTpwAgyj0g14"
   },
   "outputs": [],
   "source": [
    "b = np.random.random((2,2))\n",
    "print (b)"
   ]
  },
  {
   "cell_type": "code",
   "execution_count": null,
   "metadata": {
    "id": "webIPAma0g2F"
   },
   "outputs": [],
   "source": [
    "a = np.random.random((2,2))\n",
    "print(a)"
   ]
  },
  {
   "cell_type": "markdown",
   "metadata": {
    "id": "5o0QZDMy0g2T"
   },
   "source": [
    "Se pueden aplicar funciones sobre todo el array o matriz, y el resultado será una matriz idéntica con el operador aplicado. Similar a lo que ocurre con la operación `map` de algunos lenguajes de programación (incluído Python):"
   ]
  },
  {
   "cell_type": "code",
   "execution_count": null,
   "metadata": {
    "id": "dFpNqjd-0g2V"
   },
   "outputs": [],
   "source": [
    "print (a >= .5)"
   ]
  },
  {
   "cell_type": "markdown",
   "metadata": {
    "id": "09xWrIqZ0g2u"
   },
   "source": [
    "También se pueden _filtrar_ los elementos de un array o matriz que cumplan una condición. Para eso se utiliza el operador de indización (`[]`) con una expresión booleana."
   ]
  },
  {
   "cell_type": "code",
   "execution_count": null,
   "metadata": {
    "id": "lf8zXQ6r0g2w"
   },
   "outputs": [],
   "source": [
    "print (a[a >= .5])"
   ]
  },
  {
   "cell_type": "markdown",
   "metadata": {
    "id": "LntLnGSC0g29"
   },
   "source": [
    "¿Por qué usar Numpy? \n",
    "\n",
    "`%%capture` captura la salida de la ejecución de la celda en la variable dada como parámetro. Después se puede imprimir.\n",
    "\n",
    "`%timeit` se utiliza para ejecutar varias veces una instrucción y calcular un promedio de su duración."
   ]
  },
  {
   "cell_type": "code",
   "execution_count": null,
   "metadata": {
    "id": "GUM4mNqc0g3A"
   },
   "outputs": [],
   "source": [
    "%%capture timeit_output\n",
    "\n",
    "%timeit l1 = range(1,1000)\n",
    "\n",
    "%timeit l2 = np.arange(1,1000)"
   ]
  },
  {
   "cell_type": "code",
   "execution_count": null,
   "metadata": {
    "id": "AUXOSmWP0g3M"
   },
   "outputs": [],
   "source": [
    "print(timeit_output)"
   ]
  },
  {
   "cell_type": "code",
   "execution_count": null,
   "metadata": {
    "id": "nZJKGRoj0g3Z",
    "scrolled": true
   },
   "outputs": [],
   "source": [
    "x = np.array([[1,2],[3,4]])\n",
    "\n",
    "print (np.sum(x))  # Compute sum of all elements; prints \"10\"\n",
    "print (np.sum(x, axis=0))  # Compute sum of each column; prints \"[4 6]\"\n",
    "print (np.sum(x, axis=1))  # Compute sum of each row; prints \"[3 7]\""
   ]
  },
  {
   "cell_type": "code",
   "execution_count": null,
   "metadata": {
    "id": "2pLMfeT10g3j"
   },
   "outputs": [],
   "source": [
    "x * 2"
   ]
  },
  {
   "cell_type": "code",
   "execution_count": null,
   "metadata": {
    "id": "qyW6o5hI0g4C"
   },
   "outputs": [],
   "source": [
    "x ** 2"
   ]
  },
  {
   "cell_type": "markdown",
   "metadata": {
    "id": "-uig7nF20g4N"
   },
   "source": [
    "`numpy` tiene infinidad de funciones, por lo que sería interesante darse una vuelta por su documentación: https://docs.scipy.org/doc/."
   ]
  },
  {
   "cell_type": "markdown",
   "metadata": {
    "id": "yQV9Ttle0g4P"
   },
   "source": [
    "## Matplotlib\n",
    "\n",
    "Matplotlib permite generar gráficos de forma sencilla. Lo veremos aquí primero conectado sólo con `Numpy` y después conectado con `Pandas`."
   ]
  },
  {
   "cell_type": "code",
   "execution_count": null,
   "metadata": {
    "id": "f5kz-KFL0g4R"
   },
   "outputs": [],
   "source": [
    "x = np.arange(0, 3 * np.pi, 0.1)\n",
    "y = np.sin(x)\n",
    "plt.subplot()\n",
    "# Plot the points using matplotlib\n",
    "plt.plot(x, y)\n",
    "plt.show()"
   ]
  },
  {
   "cell_type": "code",
   "execution_count": null,
   "metadata": {
    "id": "VgdTh4Y60g4e"
   },
   "outputs": [],
   "source": [
    "plt.subplot(211)\n",
    "plt.plot(range(12))\n",
    "plt.subplot(212, facecolor='y')\n",
    "plt.plot(range(100))\n",
    "plt.show()"
   ]
  },
  {
   "cell_type": "code",
   "execution_count": null,
   "metadata": {
    "id": "s_PgM4a20g4q"
   },
   "outputs": [],
   "source": [
    "# Compute the x and y coordinates for points on sine and cosine curves\n",
    "x = np.arange(0, 3 * np.pi, 0.1)\n",
    "y_sin = np.sin(x)\n",
    "y_cos = np.cos(x)\n",
    "\n",
    "# Plot the points using matplotlib\n",
    "plt.plot(x, y_sin)\n",
    "plt.plot(x, y_cos)\n",
    "plt.xlabel('x axis label')\n",
    "plt.ylabel('y axis label')\n",
    "plt.title('Sine and Cosine')\n",
    "plt.legend(['Sine', 'Cosine'])\n",
    "plt.show()"
   ]
  },
  {
   "cell_type": "markdown",
   "metadata": {
    "id": "ui_uyztA0g4y"
   },
   "source": [
    "## Pandas\n",
    "\n",
    "Tutoriales: [1](http://pandas.pydata.org/pandas-docs/version/0.18.1/tutorials.html), [2](https://dev.socrata.com/blog/2016/02/01/pandas-and-jupyter-notebook.html), [3](http://nikgrozev.com/2015/12/27/pandas-in-jupyter-quickstart-and-useful-snippets/)."
   ]
  },
  {
   "cell_type": "markdown",
   "metadata": {
    "id": "LOyrsZB10g40"
   },
   "source": [
    "Pandas permite gestionar conjuntos de datos n-dimensionales de diferentes formas, y también conectarlo con matplotlib para hacer gráficas.\n",
    "\n",
    "Los conceptos principales de Pandas son los `Dataframes` y las `Series`. La diferencia entre ambas es que la serie guarda sólo una serie (una columna o una fila, depende de como se quiera interpretar), mientras que un Dataframe guarda estructuras multidimensaionales agregando series.\n",
    "\n",
    "Ambas tienen una (o varias) \"columna fantasma\", que sirve de índice, y que se puede acceder con `d.index` (tanto si `d` es una serie o un dataframe). Si no se especifica un índice, se le añade uno virtual numerando las filas desde cero. Además, los índices pueden ser multidimensionales (por ejemplo, tener un índice por mes y dentro uno por dia de la semana)."
   ]
  },
  {
   "cell_type": "code",
   "execution_count": null,
   "metadata": {
    "id": "cl0Bh4Q-0g44"
   },
   "outputs": [],
   "source": [
    "ts = pd.Series(np.random.randn(1000), index=pd.date_range('1/1/2000', periods=1000))\n",
    "ts"
   ]
  },
  {
   "cell_type": "code",
   "execution_count": null,
   "metadata": {
    "id": "6RQFSUOW0g5A"
   },
   "outputs": [],
   "source": [
    "ts.describe()"
   ]
  },
  {
   "cell_type": "code",
   "execution_count": null,
   "metadata": {
    "id": "pEYsgmGG0g5N"
   },
   "outputs": [],
   "source": [
    "ts = ts.cumsum()\n",
    "ts.plot();"
   ]
  },
  {
   "cell_type": "code",
   "execution_count": null,
   "metadata": {
    "id": "NJnJN3Mx0g5s"
   },
   "outputs": [],
   "source": [
    "df = pd.DataFrame(np.random.randn(1000, 4), index=ts.index, columns=list('ABCD'))\n",
    "\n",
    "df = df.cumsum()\n",
    "\n",
    "df.plot();"
   ]
  },
  {
   "cell_type": "markdown",
   "metadata": {
    "id": "gGSFAtW10g5z"
   },
   "source": [
    "Se puede hacer plot también de una columna contra otra."
   ]
  },
  {
   "cell_type": "code",
   "execution_count": null,
   "metadata": {
    "id": "a5adevuK0g51",
    "scrolled": true
   },
   "outputs": [],
   "source": [
    "df3 = pd.DataFrame(np.random.randn(1000, 2), columns=['B', 'C']).cumsum()\n",
    "df3['A'] = pd.Series(list(range(len(df3))))\n",
    "df3.plot(x='A', y='B');"
   ]
  },
  {
   "cell_type": "markdown",
   "metadata": {
    "id": "Q4UceYje0g6A"
   },
   "source": [
    "Valores incompletos. Si no se establecen, se pone a `NaN` (_not a number_). "
   ]
  },
  {
   "cell_type": "code",
   "execution_count": null,
   "metadata": {
    "id": "Qc6-3Cdu0g6C"
   },
   "outputs": [],
   "source": [
    "d = {'one' : pd.Series([1., 2., 3.], index=['a', 'b', 'c']),\n",
    "     'two' : pd.Series([1., 2., 3., 4.], index=['a', 'b', 'c', 'd'])}\n",
    "df = pd.DataFrame(d)\n",
    "df"
   ]
  },
  {
   "cell_type": "markdown",
   "metadata": {
    "id": "EXZ4QkcK0g6J"
   },
   "source": [
    "`fillna()` permite cambiar el valor de los datos faltantes."
   ]
  },
  {
   "cell_type": "code",
   "execution_count": null,
   "metadata": {
    "id": "rgsfR4sx0g6K"
   },
   "outputs": [],
   "source": [
    "df.fillna(0)"
   ]
  },
  {
   "cell_type": "code",
   "execution_count": null,
   "metadata": {
    "id": "9rM1X2lV0g6R"
   },
   "outputs": [],
   "source": [
    "pd.DataFrame(d, index=['d', 'b', 'a'])"
   ]
  },
  {
   "cell_type": "code",
   "execution_count": null,
   "metadata": {
    "id": "HanNMeBa0g6b"
   },
   "outputs": [],
   "source": [
    "pd.DataFrame(d, index=['d', 'b', 'a'], columns=['two', 'three'])"
   ]
  },
  {
   "cell_type": "markdown",
   "metadata": {
    "id": "ROQ0H5Ny0g6k"
   },
   "source": [
    "A continuación se muestra un ejemplo de uso de Pandas para leer datos y procesarlos en un Dataframe.\n",
    "\n",
    "El primer ejemplo completo carga desde el fichero `swift-question-dates.txt.gz` las fechas de las preguntas en Stackoverflow que contienen el tag \"swift\"."
   ]
  },
  {
   "cell_type": "markdown",
   "metadata": {
    "id": "fPUsDbL00g6m"
   },
   "source": [
    "La función `read_csv` es capaz de leer cualquier fichero CSV y lo convierte en un \"Dataframe\", una estructura de tabla que guarda también los nombres y los tipos de las columnas, así como un índice por el que se identificarán las tablas. La lista incluye la fecha en donde se produjo una pregunta con el tag \"swift\". Como los datos en sí son las fechas, hacemos que la columna de fechas haga a su vez de índice."
   ]
  },
  {
   "cell_type": "code",
   "execution_count": null,
   "metadata": {
    "id": "QvDjN15R0g6o"
   },
   "outputs": [],
   "source": [
    "df = pd.read_csv('https://github.com/dsevilla/bdge/raw/master/intro/swift-question-dates.txt.gz',\n",
    "                 header=None,\n",
    "                 names=['date'],\n",
    "                 compression='gzip',\n",
    "                 parse_dates=['date'],\n",
    "                 index_col='date')"
   ]
  },
  {
   "cell_type": "code",
   "execution_count": null,
   "metadata": {
    "id": "fgVSv1lt0g6v",
    "scrolled": true
   },
   "outputs": [],
   "source": [
    "df"
   ]
  },
  {
   "cell_type": "markdown",
   "metadata": {
    "id": "dzPabHwO0g62"
   },
   "source": [
    "De la fecha, extraer sólo la fecha (no la hora, que no nos interesa)."
   ]
  },
  {
   "cell_type": "code",
   "execution_count": null,
   "metadata": {
    "id": "Fs9Z3Bd50g68"
   },
   "outputs": [],
   "source": [
    "df.index = df.index.date"
   ]
  },
  {
   "cell_type": "markdown",
   "metadata": {
    "id": "wwZuo_Dh0g7D"
   },
   "source": [
    "Añadimos una columna de todo \"1\" para especificar que cada pregunta cuenta como 1."
   ]
  },
  {
   "cell_type": "code",
   "execution_count": null,
   "metadata": {
    "id": "SZYjrZoW0g7F",
    "scrolled": true
   },
   "outputs": [],
   "source": [
    "df['Count'] = 1\n",
    "df"
   ]
  },
  {
   "cell_type": "markdown",
   "metadata": {
    "id": "IK9lb7_e0g7L"
   },
   "source": [
    "A los Dataframe de Pandas también se les puede aplicar operaciones de agregación, como `groupby` o `sum`. Finalmente, la funcion `plot()` permite mostrar los datos en un gráfico."
   ]
  },
  {
   "cell_type": "code",
   "execution_count": null,
   "metadata": {
    "id": "jHCSo_G60g7M"
   },
   "outputs": [],
   "source": [
    "accum = df.groupby(df.index).sum()\n",
    "accum"
   ]
  },
  {
   "cell_type": "code",
   "execution_count": null,
   "metadata": {
    "id": "HUWdf1E30g7S"
   },
   "outputs": [],
   "source": [
    "# Los 30 primeros registros que tengan un número de preguntas mayor que 20 por día.\n",
    "accum = accum[accum.Count > 20][:30]\n",
    "accum"
   ]
  },
  {
   "cell_type": "code",
   "execution_count": null,
   "metadata": {
    "id": "Oj-c5bzw0g7Z",
    "scrolled": true
   },
   "outputs": [],
   "source": [
    "accum[accum.Count > 30][:30].plot.bar()"
   ]
  },
  {
   "cell_type": "markdown",
   "metadata": {
    "id": "3rD7gtAn0g7g"
   },
   "source": [
    "A continuación comprobamos con la página de la Wikipedia cuándo apareció el lenguaje Swift:"
   ]
  },
  {
   "cell_type": "code",
   "execution_count": null,
   "metadata": {
    "id": "mlYdNb0I0g7h"
   },
   "outputs": [],
   "source": [
    "!pip install lxml"
   ]
  },
  {
   "cell_type": "code",
   "execution_count": null,
   "metadata": {
    "id": "MEL7lZ4B0g7p"
   },
   "outputs": [],
   "source": [
    "dfwiki = pd.read_html('https://en.wikipedia.org/wiki/Swift_(programming_language)',attrs={'class': 'infobox vevent'})"
   ]
  },
  {
   "cell_type": "code",
   "execution_count": null,
   "metadata": {
    "id": "NulSTjML0g70"
   },
   "outputs": [],
   "source": [
    "dfwiki[0]"
   ]
  },
  {
   "cell_type": "code",
   "execution_count": null,
   "metadata": {
    "id": "AVOS7lyB0g77"
   },
   "outputs": [],
   "source": [
    "firstdate = dfwiki[0][1][4]\n",
    "firstdate"
   ]
  },
  {
   "cell_type": "code",
   "execution_count": null,
   "metadata": {
    "id": "HrkmQ8O80g8C"
   },
   "outputs": [],
   "source": [
    "from dateutil.parser import parse\n",
    "dt = parse(firstdate.split(';')[0])\n",
    "print (dt.date().isoformat())\n",
    "print (accum.index[0].isoformat())\n",
    "\n",
    "assert dt.date().isoformat() == accum.index[0].isoformat()"
   ]
  },
  {
   "cell_type": "markdown",
   "metadata": {
    "id": "3_QaMNS80g8K"
   },
   "source": [
    "A continuación se muestra cómo ubicar posiciones en un mapa con el paquete `folium`. Se muestra también cómo acceder a distintas posiciones del Dataframe con `iloc`, `loc`, etc."
   ]
  },
  {
   "cell_type": "code",
   "execution_count": null,
   "metadata": {
    "id": "3M3icJez0g8O"
   },
   "outputs": [],
   "source": [
    "# cargar municipios y mostrarlos en el mapa\n",
    "df = pd.read_csv('https://github.com/dsevilla/bdge/raw/master/intro/municipios-2017.csv.gz',header=0,compression='gzip')"
   ]
  },
  {
   "cell_type": "code",
   "execution_count": null,
   "metadata": {
    "colab": {
     "base_uri": "https://localhost:8080/",
     "height": 309
    },
    "id": "wUb91na40g8X",
    "outputId": "c8867673-3d65-4843-8dc9-8d6224c39ad7"
   },
   "outputs": [
    {
     "data": {
      "text/html": [
       "<div>\n",
       "<style scoped>\n",
       "    .dataframe tbody tr th:only-of-type {\n",
       "        vertical-align: middle;\n",
       "    }\n",
       "\n",
       "    .dataframe tbody tr th {\n",
       "        vertical-align: top;\n",
       "    }\n",
       "\n",
       "    .dataframe thead th {\n",
       "        text-align: right;\n",
       "    }\n",
       "</style>\n",
       "<table border=\"1\" class=\"dataframe\">\n",
       "  <thead>\n",
       "    <tr style=\"text-align: right;\">\n",
       "      <th></th>\n",
       "      <th>COD_INE</th>\n",
       "      <th>ID_REL</th>\n",
       "      <th>COD_GEO</th>\n",
       "      <th>COD_PROV</th>\n",
       "      <th>PROVINCIA</th>\n",
       "      <th>NOMBRE_ACTUAL</th>\n",
       "      <th>POBLACION_MUNI</th>\n",
       "      <th>SUPERFICIE</th>\n",
       "      <th>PERIMETRO</th>\n",
       "      <th>COD_INE_CAPITAL</th>\n",
       "      <th>CAPITAL</th>\n",
       "      <th>POBLACION_CAPITAL</th>\n",
       "      <th>HOJA_MTN25_ETRS89</th>\n",
       "      <th>LONGITUD_ETRS89</th>\n",
       "      <th>LATITUD_ETRS89</th>\n",
       "      <th>ORIGENCOOR</th>\n",
       "      <th>ALTITUD</th>\n",
       "      <th>ORIGENALTITUD</th>\n",
       "    </tr>\n",
       "  </thead>\n",
       "  <tbody>\n",
       "    <tr>\n",
       "      <th>0</th>\n",
       "      <td>1001000000</td>\n",
       "      <td>1010014</td>\n",
       "      <td>1010</td>\n",
       "      <td>1</td>\n",
       "      <td>Araba/Álava</td>\n",
       "      <td>Alegría-Dulantzi</td>\n",
       "      <td>2856</td>\n",
       "      <td>1.994587e+03</td>\n",
       "      <td>35069</td>\n",
       "      <td>1001000101</td>\n",
       "      <td>Alegría-Dulantzi</td>\n",
       "      <td>2747</td>\n",
       "      <td>0113-3</td>\n",
       "      <td>-2.712437</td>\n",
       "      <td>42.939812</td>\n",
       "      <td>Mapa</td>\n",
       "      <td>600.0</td>\n",
       "      <td>MDT5</td>\n",
       "    </tr>\n",
       "    <tr>\n",
       "      <th>1</th>\n",
       "      <td>1002000000</td>\n",
       "      <td>1010029</td>\n",
       "      <td>1020</td>\n",
       "      <td>1</td>\n",
       "      <td>Araba/Álava</td>\n",
       "      <td>Amurrio</td>\n",
       "      <td>10260</td>\n",
       "      <td>9.635289e+06</td>\n",
       "      <td>65134</td>\n",
       "      <td>1002000201</td>\n",
       "      <td>Amurrio</td>\n",
       "      <td>9124</td>\n",
       "      <td>0086-4</td>\n",
       "      <td>-3.000073</td>\n",
       "      <td>43.054278</td>\n",
       "      <td>Mapa</td>\n",
       "      <td>219.0</td>\n",
       "      <td>MDT5</td>\n",
       "    </tr>\n",
       "    <tr>\n",
       "      <th>2</th>\n",
       "      <td>1003000000</td>\n",
       "      <td>1010035</td>\n",
       "      <td>1030</td>\n",
       "      <td>1</td>\n",
       "      <td>Araba/Álava</td>\n",
       "      <td>Aramaio</td>\n",
       "      <td>1502</td>\n",
       "      <td>7.327403e+03</td>\n",
       "      <td>41818</td>\n",
       "      <td>1003000601</td>\n",
       "      <td>Ibarra</td>\n",
       "      <td>803</td>\n",
       "      <td>0087-4</td>\n",
       "      <td>-2.565400</td>\n",
       "      <td>43.051197</td>\n",
       "      <td>Mapa</td>\n",
       "      <td>333.0</td>\n",
       "      <td>MDT5</td>\n",
       "    </tr>\n",
       "    <tr>\n",
       "      <th>3</th>\n",
       "      <td>1004000000</td>\n",
       "      <td>1010040</td>\n",
       "      <td>1040</td>\n",
       "      <td>1</td>\n",
       "      <td>Araba/Álava</td>\n",
       "      <td>Artziniega</td>\n",
       "      <td>1840</td>\n",
       "      <td>2.728730e+03</td>\n",
       "      <td>22886</td>\n",
       "      <td>1004000101</td>\n",
       "      <td>Artziniega</td>\n",
       "      <td>1704</td>\n",
       "      <td>0086-1</td>\n",
       "      <td>-3.127917</td>\n",
       "      <td>43.120844</td>\n",
       "      <td>Mapa</td>\n",
       "      <td>210.0</td>\n",
       "      <td>MDT5</td>\n",
       "    </tr>\n",
       "    <tr>\n",
       "      <th>4</th>\n",
       "      <td>1006000000</td>\n",
       "      <td>1010066</td>\n",
       "      <td>1060</td>\n",
       "      <td>1</td>\n",
       "      <td>Araba/Álava</td>\n",
       "      <td>Armiñón</td>\n",
       "      <td>234</td>\n",
       "      <td>1.294433e+03</td>\n",
       "      <td>24606</td>\n",
       "      <td>1006000101</td>\n",
       "      <td>Armiñón</td>\n",
       "      <td>111</td>\n",
       "      <td>0137-4</td>\n",
       "      <td>-2.871835</td>\n",
       "      <td>42.723262</td>\n",
       "      <td>Mapa</td>\n",
       "      <td>467.0</td>\n",
       "      <td>MDT5</td>\n",
       "    </tr>\n",
       "  </tbody>\n",
       "</table>\n",
       "</div>"
      ],
      "text/plain": [
       "      COD_INE   ID_REL  COD_GEO  ...  ORIGENCOOR ALTITUD ORIGENALTITUD\n",
       "0  1001000000  1010014     1010  ...        Mapa   600.0          MDT5\n",
       "1  1002000000  1010029     1020  ...        Mapa   219.0          MDT5\n",
       "2  1003000000  1010035     1030  ...        Mapa   333.0          MDT5\n",
       "3  1004000000  1010040     1040  ...        Mapa   210.0          MDT5\n",
       "4  1006000000  1010066     1060  ...        Mapa   467.0          MDT5\n",
       "\n",
       "[5 rows x 18 columns]"
      ]
     },
     "execution_count": 8,
     "metadata": {
      "tags": []
     },
     "output_type": "execute_result"
    }
   ],
   "source": [
    "df.head()"
   ]
  },
  {
   "cell_type": "code",
   "execution_count": null,
   "metadata": {
    "colab": {
     "base_uri": "https://localhost:8080/",
     "height": 340
    },
    "id": "VCzxEycf0g8f",
    "outputId": "d3cd5a4b-9d89-4657-865e-78af7afa9c63",
    "scrolled": true
   },
   "outputs": [
    {
     "data": {
      "text/plain": [
       "COD_INE                    1001000000\n",
       "ID_REL                        1010014\n",
       "COD_GEO                          1010\n",
       "COD_PROV                            1\n",
       "PROVINCIA                 Araba/Álava\n",
       "NOMBRE_ACTUAL        Alegría-Dulantzi\n",
       "POBLACION_MUNI                   2856\n",
       "SUPERFICIE                    1994.59\n",
       "PERIMETRO                       35069\n",
       "COD_INE_CAPITAL            1001000101\n",
       "CAPITAL              Alegría-Dulantzi\n",
       "POBLACION_CAPITAL                2747\n",
       "HOJA_MTN25_ETRS89              0113-3\n",
       "LONGITUD_ETRS89              -2.71244\n",
       "LATITUD_ETRS89                42.9398\n",
       "ORIGENCOOR                       Mapa\n",
       "ALTITUD                           600\n",
       "ORIGENALTITUD                    MDT5\n",
       "Name: 0, dtype: object"
      ]
     },
     "execution_count": 9,
     "metadata": {
      "tags": []
     },
     "output_type": "execute_result"
    }
   ],
   "source": [
    "df.iloc[0]"
   ]
  },
  {
   "cell_type": "code",
   "execution_count": null,
   "metadata": {
    "colab": {
     "base_uri": "https://localhost:8080/",
     "height": 35
    },
    "id": "QZiOqQHT0g8q",
    "outputId": "974f9baf-e5ae-4d10-c465-09f26a581a42"
   },
   "outputs": [
    {
     "data": {
      "application/vnd.google.colaboratory.intrinsic+json": {
       "type": "string"
      },
      "text/plain": [
       "'Alegría-Dulantzi'"
      ]
     },
     "execution_count": 10,
     "metadata": {
      "tags": []
     },
     "output_type": "execute_result"
    }
   ],
   "source": [
    "df.iloc[0].NOMBRE_ACTUAL"
   ]
  },
  {
   "cell_type": "code",
   "execution_count": null,
   "metadata": {
    "colab": {
     "base_uri": "https://localhost:8080/",
     "height": 221
    },
    "id": "YpSPc31P0g8x",
    "outputId": "7404f59b-0c21-4758-91a2-72a00dd1a09a",
    "scrolled": true
   },
   "outputs": [
    {
     "data": {
      "text/plain": [
       "0            Alegría-Dulantzi\n",
       "1                     Amurrio\n",
       "2                     Aramaio\n",
       "3                  Artziniega\n",
       "4                     Armiñón\n",
       "                ...          \n",
       "8119                     Biel\n",
       "8120                 Marracos\n",
       "8121    Villamayor de Gállego\n",
       "8122                    Ceuta\n",
       "8123                  Melilla\n",
       "Name: NOMBRE_ACTUAL, Length: 8124, dtype: object"
      ]
     },
     "execution_count": 11,
     "metadata": {
      "tags": []
     },
     "output_type": "execute_result"
    }
   ],
   "source": [
    "df.loc[:,'NOMBRE_ACTUAL']"
   ]
  },
  {
   "cell_type": "code",
   "execution_count": null,
   "metadata": {
    "colab": {
     "base_uri": "https://localhost:8080/",
     "height": 221
    },
    "id": "Bjc7tJwB0g84",
    "outputId": "9a18ab47-1c4c-434b-b64a-21947f5c07ad",
    "scrolled": true
   },
   "outputs": [
    {
     "data": {
      "text/plain": [
       "0        1001000000\n",
       "1        1002000000\n",
       "2        1003000000\n",
       "3        1004000000\n",
       "4        1006000000\n",
       "           ...     \n",
       "8119    50901000000\n",
       "8120    50902000000\n",
       "8121    50903000000\n",
       "8122    51001000000\n",
       "8123    52001000000\n",
       "Name: COD_INE, Length: 8124, dtype: int64"
      ]
     },
     "execution_count": 12,
     "metadata": {
      "tags": []
     },
     "output_type": "execute_result"
    }
   ],
   "source": [
    "df.iloc[:,0]"
   ]
  },
  {
   "cell_type": "code",
   "execution_count": null,
   "metadata": {
    "colab": {
     "base_uri": "https://localhost:8080/",
     "height": 221
    },
    "id": "iLhnqWHH0g9D",
    "outputId": "b3d13449-1756-4d94-d792-d632622419fb",
    "scrolled": true
   },
   "outputs": [
    {
     "data": {
      "text/plain": [
       "0       Araba/Álava\n",
       "1       Araba/Álava\n",
       "2       Araba/Álava\n",
       "3       Araba/Álava\n",
       "4       Araba/Álava\n",
       "           ...     \n",
       "8119       Zaragoza\n",
       "8120       Zaragoza\n",
       "8121       Zaragoza\n",
       "8122          Ceuta\n",
       "8123        Melilla\n",
       "Name: PROVINCIA, Length: 8124, dtype: object"
      ]
     },
     "execution_count": 13,
     "metadata": {
      "tags": []
     },
     "output_type": "execute_result"
    }
   ],
   "source": [
    "df.PROVINCIA"
   ]
  },
  {
   "cell_type": "code",
   "execution_count": null,
   "metadata": {
    "id": "9B0dPbdY0g9L",
    "scrolled": true
   },
   "outputs": [],
   "source": [
    "df[df.PROVINCIA == 'A Coruña']"
   ]
  },
  {
   "cell_type": "code",
   "execution_count": null,
   "metadata": {
    "colab": {
     "base_uri": "https://localhost:8080/",
     "height": 340
    },
    "id": "TFI6VSW80g9R",
    "outputId": "74367248-61c3-498e-f9d6-e44aa1b140bf"
   },
   "outputs": [
    {
     "data": {
      "text/plain": [
       "COD_INE              30029000000\n",
       "ID_REL                   1300294\n",
       "COD_GEO                    30290\n",
       "COD_PROV                      30\n",
       "PROVINCIA                 Murcia\n",
       "NOMBRE_ACTUAL               Mula\n",
       "POBLACION_MUNI             16689\n",
       "SUPERFICIE               63405.9\n",
       "PERIMETRO                 150394\n",
       "COD_INE_CAPITAL      30029000901\n",
       "CAPITAL                     Mula\n",
       "POBLACION_CAPITAL          14380\n",
       "HOJA_MTN25_ETRS89         0912-3\n",
       "LONGITUD_ETRS89         -1.49033\n",
       "LATITUD_ETRS89            38.042\n",
       "ORIGENCOOR                  Mapa\n",
       "ALTITUD                      318\n",
       "ORIGENALTITUD               MDT5\n",
       "Name: 4594, dtype: object"
      ]
     },
     "execution_count": 14,
     "metadata": {
      "tags": []
     },
     "output_type": "execute_result"
    }
   ],
   "source": [
    "mula = df[df.NOMBRE_ACTUAL == 'Mula'].iloc[0]\n",
    "mula"
   ]
  },
  {
   "cell_type": "code",
   "execution_count": null,
   "metadata": {
    "colab": {
     "base_uri": "https://localhost:8080/",
     "height": 34
    },
    "id": "GN1qCKKr0g9W",
    "outputId": "567b3edd-7878-44e2-e5d2-40c59f1e0d2e"
   },
   "outputs": [
    {
     "data": {
      "text/plain": [
       "(38.04203339, -1.49032811)"
      ]
     },
     "execution_count": 15,
     "metadata": {
      "tags": []
     },
     "output_type": "execute_result"
    }
   ],
   "source": [
    "(mula_lat,mula_lon) = (mula.LATITUD_ETRS89, mula.LONGITUD_ETRS89)\n",
    "(mula_lat,mula_lon)"
   ]
  },
  {
   "cell_type": "markdown",
   "metadata": {
    "id": "N6QFogNJ0g9d"
   },
   "source": [
    "El paquete `folium` permite generar mapas de posiciones. El siguiente ejemplo centra un mapa en Mula y pone un marcador con su nombre:"
   ]
  },
  {
   "cell_type": "code",
   "execution_count": null,
   "metadata": {
    "colab": {
     "base_uri": "https://localhost:8080/",
     "height": 204
    },
    "id": "8j6EsIXJ0g9e",
    "outputId": "fc596fa0-1bb4-4822-add5-00e18a2239a4"
   },
   "outputs": [
    {
     "name": "stdout",
     "output_type": "stream",
     "text": [
      "Requirement already satisfied: folium in /usr/local/lib/python3.6/dist-packages (0.8.3)\n",
      "Requirement already satisfied: six in /usr/local/lib/python3.6/dist-packages (from folium) (1.15.0)\n",
      "Requirement already satisfied: branca>=0.3.0 in /usr/local/lib/python3.6/dist-packages (from folium) (0.4.1)\n",
      "Requirement already satisfied: jinja2 in /usr/local/lib/python3.6/dist-packages (from folium) (2.11.2)\n",
      "Requirement already satisfied: requests in /usr/local/lib/python3.6/dist-packages (from folium) (2.23.0)\n",
      "Requirement already satisfied: numpy in /usr/local/lib/python3.6/dist-packages (from folium) (1.18.5)\n",
      "Requirement already satisfied: MarkupSafe>=0.23 in /usr/local/lib/python3.6/dist-packages (from jinja2->folium) (1.1.1)\n",
      "Requirement already satisfied: urllib3!=1.25.0,!=1.25.1,<1.26,>=1.21.1 in /usr/local/lib/python3.6/dist-packages (from requests->folium) (1.24.3)\n",
      "Requirement already satisfied: chardet<4,>=3.0.2 in /usr/local/lib/python3.6/dist-packages (from requests->folium) (3.0.4)\n",
      "Requirement already satisfied: certifi>=2017.4.17 in /usr/local/lib/python3.6/dist-packages (from requests->folium) (2020.6.20)\n",
      "Requirement already satisfied: idna<3,>=2.5 in /usr/local/lib/python3.6/dist-packages (from requests->folium) (2.10)\n"
     ]
    }
   ],
   "source": [
    "!pip install folium"
   ]
  },
  {
   "cell_type": "code",
   "execution_count": null,
   "metadata": {
    "colab": {
     "base_uri": "https://localhost:8080/",
     "height": 904
    },
    "id": "K-LS4MWO0g9j",
    "outputId": "ad45e31a-0649-46e2-a77c-a041fb50c9c2"
   },
   "outputs": [
    {
     "data": {
      "text/html": [
       "<div style=\"width:100%;\"><div style=\"position:relative;width:100%;height:0;padding-bottom:60%;\"><span style=\"color:#565656\">Make this Notebook Trusted to load map: File -> Trust Notebook</span><iframe src=\"about:blank\" style=\"position:absolute;width:100%;height:100%;left:0;top:0;border:none !important;\" data-html=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 onload=\"this.contentDocument.open();this.contentDocument.write(atob(this.getAttribute('data-html')));this.contentDocument.close();\" allowfullscreen webkitallowfullscreen mozallowfullscreen></iframe></div></div>"
      ],
      "text/plain": [
       "<folium.folium.Map at 0x7fa3d653c0b8>"
      ]
     },
     "execution_count": 16,
     "metadata": {
      "tags": []
     },
     "output_type": "execute_result"
    }
   ],
   "source": [
    "import folium\n",
    "\n",
    "map = folium.Map(location=[mula_lat, mula_lon],zoom_start=10)\n",
    "folium.Marker(location = [mula_lat, mula_lon], popup=\"{} ({} habitantes)\".format(mula.NOMBRE_ACTUAL,mula.POBLACION_MUNI)).add_to(map)\n",
    "\n",
    "map"
   ]
  },
  {
   "cell_type": "markdown",
   "metadata": {
    "id": "zdcsqsxU0g9p"
   },
   "source": [
    "## Ejercicio\n",
    "\n",
    "Mostrar con `folium` marcadores para cada pueblo de A Coruña y Murcia. Se pueden usar las funciones `itertuples()` o `iterrows()` de un `Dataframe` para recorrer los elementos del mismo."
   ]
  },
  {
   "cell_type": "code",
   "execution_count": null,
   "metadata": {
    "id": "SQHuDE-D0g9q"
   },
   "outputs": [],
   "source": [
    "map2 = folium.Map(location=[40.4165,-3.70256], zoom_start=6)\n",
    "\n",
    "df_a_coruna = df[df.PROVINCIA == 'A Coruña']\n",
    "for row in df_a_coruna.itertuples():\n",
    "  folium.Marker(location = [row.LATITUD_ETRS89, row.LONGITUD_ETRS89], popup=\"{} ({} habitantes)\".format(row.NOMBRE_ACTUAL,row.POBLACION_MUNI)).add_to(map2)\n",
    "    \n",
    "\n",
    "df_murcia = df[df.PROVINCIA == 'Murcia']\n",
    "for row in df_murcia.itertuples():\n",
    "  folium.Marker(location = [row.LATITUD_ETRS89, row.LONGITUD_ETRS89], popup=\"{} ({} habitantes)\".format(row.NOMBRE_ACTUAL,row.POBLACION_MUNI)).add_to(map2)"
   ]
  },
  {
   "cell_type": "code",
   "execution_count": null,
   "metadata": {
    "colab": {
     "base_uri": "https://localhost:8080/",
     "height": 904
    },
    "id": "w8hbU2WjjYHX",
    "outputId": "fe44c709-87e0-4601-cb1d-423ae325708a"
   },
   "outputs": [
    {
     "data": {
      "text/html": [
       "<div style=\"width:100%;\"><div style=\"position:relative;width:100%;height:0;padding-bottom:60%;\"><span style=\"color:#565656\">Make this Notebook Trusted to load map: File -> Trust Notebook</span><iframe src=\"about:blank\" style=\"position:absolute;width:100%;height:100%;left:0;top:0;border:none !important;\" data-html=PCFET0NUWVBFIGh0bWw+CjxoZWFkPiAgICAKICAgIDxtZXRhIGh0dHAtZXF1aXY9ImNvbnRlbnQtdHlwZSIgY29udGVudD0idGV4dC9odG1sOyBjaGFyc2V0PVVURi04IiAvPgogICAgPHNjcmlwdD5MX1BSRUZFUl9DQU5WQVM9ZmFsc2U7IExfTk9fVE9VQ0g9ZmFsc2U7IExfRElTQUJMRV8zRD1mYWxzZTs8L3NjcmlwdD4KICAgIDxzY3JpcHQgc3JjPSJodHRwczovL2Nkbi5qc2RlbGl2ci5uZXQvbnBtL2xlYWZsZXRAMS40LjAvZGlzdC9sZWFmbGV0LmpzIj48L3NjcmlwdD4KICAgIDxzY3JpcHQgc3JjPSJodHRwczovL2NvZGUuanF1ZXJ5LmNvbS9qcXVlcnktMS4xMi40Lm1pbi5qcyI+PC9zY3JpcHQ+CiAgICA8c2NyaXB0IHNyYz0iaHR0cHM6Ly9tYXhjZG4uYm9vdHN0cmFwY2RuLmNvbS9ib290c3RyYXAvMy4yLjAvanMvYm9vdHN0cmFwLm1pbi5qcyI+PC9zY3JpcHQ+CiAgICA8c2NyaXB0IHNyYz0iaHR0cHM6Ly9jZG5qcy5jbG91ZGZsYXJlLmNvbS9hamF4L2xpYnMvTGVhZmxldC5hd2Vzb21lLW1hcmtlcnMvMi4wLjIvbGVhZmxldC5hd2Vzb21lLW1hcmtlcnMuanMiPjwvc2NyaXB0PgogICAgPGxpbmsgcmVsPSJzdHlsZXNoZWV0IiBocmVmPSJodHRwczovL2Nkbi5qc2RlbGl2ci5uZXQvbnBtL2xlYWZsZXRAMS40LjAvZGlzdC9sZWFmbGV0LmNzcyIvPgogICAgPGxpbmsgcmVsPSJzdHlsZXNoZWV0IiBocmVmPSJodHRwczovL21heGNkbi5ib290c3RyYXBjZG4uY29tL2Jvb3RzdHJhcC8zLjIuMC9jc3MvYm9vdHN0cmFwLm1pbi5jc3MiLz4KICAgIDxsaW5rIHJlbD0ic3R5bGVzaGVldCIgaHJlZj0iaHR0cHM6Ly9tYXhjZG4uYm9vdHN0cmFwY2RuLmNvbS9ib290c3RyYXAvMy4yLjAvY3NzL2Jvb3RzdHJhcC10aGVtZS5taW4uY3NzIi8+CiAgICA8bGluayByZWw9InN0eWxlc2hlZXQiIGhyZWY9Imh0dHBzOi8vbWF4Y2RuLmJvb3RzdHJhcGNkbi5jb20vZm9udC1hd2Vzb21lLzQuNi4zL2Nzcy9mb250LWF3ZXNvbWUubWluLmNzcyIvPgogICAgPGxpbmsgcmVsPSJzdHlsZXNoZWV0IiBocmVmPSJodHRwczovL2NkbmpzLmNsb3VkZmxhcmUuY29tL2FqYXgvbGlicy9MZWFmbGV0LmF3ZXNvbWUtbWFya2Vycy8yLjAuMi9sZWFmbGV0LmF3ZXNvbWUtbWFya2Vycy5jc3MiLz4KICAgIDxsaW5rIHJlbD0ic3R5bGVzaGVldCIgaHJlZj0iaHR0cHM6Ly9yYXdjZG4uZ2l0aGFjay5jb20vcHl0aG9uLXZpc3VhbGl6YXRpb24vZm9saXVtL21hc3Rlci9mb2xpdW0vdGVtcGxhdGVzL2xlYWZsZXQuYXdlc29tZS5yb3RhdGUuY3NzIi8+CiAgICA8c3R5bGU+aHRtbCwgYm9keSB7d2lkdGg6IDEwMCU7aGVpZ2h0OiAxMDAlO21hcmdpbjogMDtwYWRkaW5nOiAwO308L3N0eWxlPgogICAgPHN0eWxlPiNtYXAge3Bvc2l0aW9uOmFic29sdXRlO3RvcDowO2JvdHRvbTowO3JpZ2h0OjA7bGVmdDowO308L3N0eWxlPgogICAgCiAgICA8bWV0YSBuYW1lPSJ2aWV3cG9ydCIgY29udGVudD0id2lkdGg9ZGV2aWNlLXdpZHRoLAogICAgICAgIGluaXRpYWwtc2NhbGU9MS4wLCBtYXhpbXVtLXNjYWxlPTEuMCwgdXNlci1zY2FsYWJsZT1ubyIgLz4KICAgIDxzdHlsZT4jbWFwXzE2ZDFiOGM5NzNjZDQ3ZjlhODczNDBhMmYzMjhlZTIzIHsKICAgICAgICBwb3NpdGlvbjogcmVsYXRpdmU7CiAgICAgICAgd2lkdGg6IDEwMC4wJTsKICAgICAgICBoZWlnaHQ6IDEwMC4wJTsKICAgICAgICBsZWZ0OiAwLjAlOwogICAgICAgIHRvcDogMC4wJTsKICAgICAgICB9CiAgICA8L3N0eWxlPgo8L2hlYWQ+Cjxib2R5PiAgICAKICAgIAogICAgPGRpdiBjbGFzcz0iZm9saXVtLW1hcCIgaWQ9Im1hcF8xNmQxYjhjOTczY2Q0N2Y5YTg3MzQwYTJmMzI4ZWUyMyIgPjwvZGl2Pgo8L2JvZHk+CjxzY3JpcHQ+ICAgIAogICAgCiAgICAKICAgICAgICB2YXIgYm91bmRzID0gbnVsbDsKICAgIAoKICAgIHZhciBtYXBfMTZkMWI4Yzk3M2NkNDdmOWE4NzM0MGEyZjMyOGVlMjMgPSBMLm1hcCgKICAgICAgICAnbWFwXzE2ZDFiOGM5NzNjZDQ3ZjlhODczNDBhMmYzMjhlZTIzJywgewogICAgICAgIGNlbnRlcjogWzQwLjQxNjUsIC0zLjcwMjU2XSwKICAgICAgICB6b29tOiA2LAogICAgICAgIG1heEJvdW5kczogYm91bmRzLAogICAgICAgIGxheWVyczogW10sCiAgICAgICAgd29ybGRDb3B5SnVtcDogZmFsc2UsCiAgICAgICAgY3JzOiBMLkNSUy5FUFNHMzg1NywKICAgICAgICB6b29tQ29udHJvbDogdHJ1ZSwKICAgICAgICB9KTsKCgogICAgCiAgICB2YXIgdGlsZV9sYXllcl9kMjk2YzIyZGUxODY0N2ZmYTMzOTRhNzBkZjMxMTA1NSA9IEwudGlsZUxheWVyKAogICAgICAgICdodHRwczovL3tzfS50aWxlLm9wZW5zdHJlZXRtYXAub3JnL3t6fS97eH0ve3l9LnBuZycsCiAgICAgICAgewogICAgICAgICJhdHRyaWJ1dGlvbiI6IG51bGwsCiAgICAgICAgImRldGVjdFJldGluYSI6IGZhbHNlLAogICAgICAgICJtYXhOYXRpdmVab29tIjogMTgsCiAgICAgICAgIm1heFpvb20iOiAxOCwKICAgICAgICAibWluWm9vbSI6IDAsCiAgICAgICAgIm5vV3JhcCI6IGZhbHNlLAogICAgICAgICJvcGFjaXR5IjogMSwKICAgICAgICAic3ViZG9tYWlucyI6ICJhYmMiLAogICAgICAgICJ0bXMiOiBmYWxzZQp9KS5hZGRUbyhtYXBfMTZkMWI4Yzk3M2NkNDdmOWE4NzM0MGEyZjMyOGVlMjMpOwogICAgCiAgICAgICAgdmFyIG1hcmtlcl9mZWI1ZWZmMjE3ZGM0NzQxODAyNjQ2OWQzNjkzYmUwNCA9IEwubWFya2VyKAogICAgICAgICAgICBbNDMuMjI3MjgxMDYsIC04LjI4ODc3MTg0NzAwMDAwMV0sCiAgICAgICAgICAgIHsKICAgICAgICAgICAgICAgIGljb246IG5ldyBMLkljb24uRGVmYXVsdCgpLAogICAgICAgICAgICAgICAgfQogICAgICAgICAgICApLmFkZFRvKG1hcF8xNmQxYjhjOTczY2Q0N2Y5YTg3MzQwYTJmMzI4ZWUyMyk7CiAgICAgICAgCiAgICAKICAgICAgICAgICAgdmFyIHBvcHVwXzU5NzBmZTJkZjUzMDQ3YjNiZTIxNzQwMThkMmFhZjM4ID0gTC5wb3B1cCh7bWF4V2lkdGg6ICcxMDAlJwogICAgICAgICAgICAKICAgICAgICAgICAgfSk7CgogICAgICAgICAgICAKICAgICAgICAgICAgICAgIHZhciBodG1sXzliYTkwMmM1ZTc2YzQyOTJiZDJkZTg1ODU4NjA1YmY1ID0gJChgPGRpdiBpZD0iaHRtbF85YmE5MDJjNWU3NmM0MjkyYmQyZGU4NTg1ODYwNWJmNSIgc3R5bGU9IndpZHRoOiAxMDAuMCU7IGhlaWdodDogMTAwLjAlOyI+QWJlZ29uZG8gKDU1MzMgaGFiaXRhbnRlcyk8L2Rpdj5gKVswXTsKICAgICAgICAgICAgICAgIHBvcHVwXzU5NzBmZTJkZjUzMDQ3YjNiZTIxNzQwMThkMmFhZjM4LnNldENvbnRlbnQoaHRtbF85YmE5MDJjNWU3NmM0MjkyYmQyZGU4NTg1ODYwNWJmNSk7CiAgICAgICAgICAgIAoKICAgICAgICAgICAgbWFya2VyX2ZlYjVlZmYyMTdkYzQ3NDE4MDI2NDY5ZDM2OTNiZTA0LmJpbmRQb3B1cChwb3B1cF81OTcwZmUyZGY1MzA0N2IzYmUyMTc0MDE4ZDJhYWYzOCkKICAgICAgICAgICAgOwoKICAgICAgICAgICAgCiAgICAgICAgCiAgICAKICAgICAgICB2YXIgbWFya2VyXzIyMzlhMWZjOGI5MzQ4MjJhOTJlMjAxZDdlNGYzZDhmID0gTC5tYXJrZXIoCiAgICAgICAgICAgIFs0Mi44NTk0NTUwMiwgLTguNjUwMzI4OTMxXSwKICAgICAgICAgICAgewogICAgICAgICAgICAgICAgaWNvbjogbmV3IEwuSWNvbi5EZWZhdWx0KCksCiAgICAgICAgICAgICAgICB9CiAgICAgICAgICAgICkuYWRkVG8obWFwXzE2ZDFiOGM5NzNjZDQ3ZjlhODczNDBhMmYzMjhlZTIzKTsKICAgICAgICAKICAgIAogICAgICAgICAgICB2YXIgcG9wdXBfZDRiZTYwNDg4M2U1NDc4MDhiODA4MjdjMGJkNzgyMDcgPSBMLnBvcHVwKHttYXhXaWR0aDogJzEwMCUnCiAgICAgICAgICAgIAogICAgICAgICAgICB9KTsKCiAgICAgICAgICAgIAogICAgICAgICAgICAgICAgdmFyIGh0bWxfZTU3MzhjNmE0MTg2NGY1N2JjZGFkNDY3NmZmNTFhNzggPSAkKGA8ZGl2IGlkPSJodG1sX2U1NzM4YzZhNDE4NjRmNTdiY2RhZDQ2NzZmZjUxYTc4IiBzdHlsZT0id2lkdGg6IDEwMC4wJTsgaGVpZ2h0OiAxMDAuMCU7Ij5BbWVzICgzMDU0NCBoYWJpdGFudGVzKTwvZGl2PmApWzBdOwogICAgICAgICAgICAgICAgcG9wdXBfZDRiZTYwNDg4M2U1NDc4MDhiODA4MjdjMGJkNzgyMDcuc2V0Q29udGVudChodG1sX2U1NzM4YzZhNDE4NjRmNTdiY2RhZDQ2NzZmZjUxYTc4KTsKICAgICAgICAgICAgCgogICAgICAgICAgICBtYXJrZXJfMjIzOWExZmM4YjkzNDgyMmE5MmUyMDFkN2U0ZjNkOGYuYmluZFBvcHVwKHBvcHVwX2Q0YmU2MDQ4ODNlNTQ3ODA4YjgwODI3YzBiZDc4MjA3KQogICAgICAgICAgICA7CgogICAgICAgICAgICAKICAgICAgICAKICAgIAogICAgICAgIHZhciBtYXJrZXJfZTFlNWY4NDkzODk3NDk0YmJiOTlhYjM1NzM2YWQyZDMgPSBMLm1hcmtlcigKICAgICAgICAgICAgWzQzLjIzNDAzOTcxLCAtOC4wMTYwMjkzODZdLAogICAgICAgICAgICB7CiAgICAgICAgICAgICAgICBpY29uOiBuZXcgTC5JY29uLkRlZmF1bHQoKSwKICAgICAgICAgICAgICAgIH0KICAgICAgICAgICAgKS5hZGRUbyhtYXBfMTZkMWI4Yzk3M2NkNDdmOWE4NzM0MGEyZjMyOGVlMjMpOwogICAgICAgIAogICAgCiAgICAgICAgICAgIHZhciBwb3B1cF9iYTAzYzUyYzM5YWE0YTM4YjU0YTUzNGJjNDYxZDUzOSA9IEwucG9wdXAoe21heFdpZHRoOiAnMTAwJScKICAgICAgICAgICAgCiAgICAgICAgICAgIH0pOwoKICAgICAgICAgICAgCiAgICAgICAgICAgICAgICB2YXIgaHRtbF9jNzRlZTMwZTUyMTM0MWE2OWZiMTBmY2Q0MTJkNDEwMyA9ICQoYDxkaXYgaWQ9Imh0bWxfYzc0ZWUzMGU1MjEzNDFhNjlmYjEwZmNkNDEyZDQxMDMiIHN0eWxlPSJ3aWR0aDogMTAwLjAlOyBoZWlnaHQ6IDEwMC4wJTsiPkFyYW5nYSAoMTk4MiBoYWJpdGFudGVzKTwvZGl2PmApWzBdOwogICAgICAgICAgICAgICAgcG9wdXBfYmEwM2M1MmMzOWFhNGEzOGI1NGE1MzRiYzQ2MWQ1Mzkuc2V0Q29udGVudChodG1sX2M3NGVlMzBlNTIxMzQxYTY5ZmIxMGZjZDQxMmQ0MTAzKTsKICAgICAgICAgICAgCgogICAgICAgICAgICBtYXJrZXJfZTFlNWY4NDkzODk3NDk0YmJiOTlhYjM1NzM2YWQyZDMuYmluZFBvcHVwKHBvcHVwX2JhMDNjNTJjMzlhYTRhMzhiNTRhNTM0YmM0NjFkNTM5KQogICAgICAgICAgICA7CgogICAgICAgICAgICAKICAgICAgICAKICAgIAogICAgICAgIHZhciBtYXJrZXJfOTYwNzA1OGYwZjFmNDg3YTg0YzIzZTdkOGYyZDgzZTYgPSBMLm1hcmtlcigKICAgICAgICAgICAgWzQzLjQyNjU1OTAzLCAtOC4yNDM2NTk1MzI5OTk5OTldLAogICAgICAgICAgICB7CiAgICAgICAgICAgICAgICBpY29uOiBuZXcgTC5JY29uLkRlZmF1bHQoKSwKICAgICAgICAgICAgICAgIH0KICAgICAgICAgICAgKS5hZGRUbyhtYXBfMTZkMWI4Yzk3M2NkNDdmOWE4NzM0MGEyZjMyOGVlMjMpOwogICAgICAgIAogICAgCiAgICAgICAgICAgIHZhciBwb3B1cF83ZTdjMjNlMzEyMjI0MjFmYTZmMGNjZDBkYmVmZWNmYyA9IEwucG9wdXAoe21heFdpZHRoOiAnMTAwJScKICAgICAgICAgICAgCiAgICAgICAgICAgIH0pOwoKICAgICAgICAgICAgCiAgICAgICAgICAgICAgICB2YXIgaHRtbF80ZjE2ZjEyYzMxYTU0Y2VhYjYxNGUxNjM1YWExMWFkNSA9ICQoYDxkaXYgaWQ9Imh0bWxfNGYxNmYxMmMzMWE1NGNlYWI2MTRlMTYzNWFhMTFhZDUiIHN0eWxlPSJ3aWR0aDogMTAwLjAlOyBoZWlnaHQ6IDEwMC4wJTsiPkFyZXMgKDU2NzIgaGFiaXRhbnRlcyk8L2Rpdj5gKVswXTsKICAgICAgICAgICAgICAgIHBvcHVwXzdlN2MyM2UzMTIyMjQyMWZhNmYwY2NkMGRiZWZlY2ZjLnNldENvbnRlbnQoaHRtbF80ZjE2ZjEyYzMxYTU0Y2VhYjYxNGUxNjM1YWExMWFkNSk7CiAgICAgICAgICAgIAoKICAgICAgICAgICAgbWFya2VyXzk2MDcwNThmMGYxZjQ4N2E4NGMyM2U3ZDhmMmQ4M2U2LmJpbmRQb3B1cChwb3B1cF83ZTdjMjNlMzEyMjI0MjFmYTZmMGNjZDBkYmVmZWNmYykKICAgICAgICAgICAgOwoKICAgICAgICAgICAgCiAgICAgICAgCiAgICAKICAgICAgICB2YXIgbWFya2VyX2JjODIyNzJmYzlkZjQxNGE5ZGYwYzhlMzY4ZDExYmZjID0gTC5tYXJrZXIoCiAgICAgICAgICAgIFs0My4zMDQ3NDQ3NCwgLTguNTA1MDcwMjM2XSwKICAgICAgICAgICAgewogICAgICAgICAgICAgICAgaWNvbjogbmV3IEwuSWNvbi5EZWZhdWx0KCksCiAgICAgICAgICAgICAgICB9CiAgICAgICAgICAgICkuYWRkVG8obWFwXzE2ZDFiOGM5NzNjZDQ3ZjlhODczNDBhMmYzMjhlZTIzKTsKICAgICAgICAKICAgIAogICAgICAgICAgICB2YXIgcG9wdXBfNDkzN2Q1YWU0OTc0NDA0OGEyMzA2MjJmOWNiZjU1ZjcgPSBMLnBvcHVwKHttYXhXaWR0aDogJzEwMCUnCiAgICAgICAgICAgIAogICAgICAgICAgICB9KTsKCiAgICAgICAgICAgIAogICAgICAgICAgICAgICAgdmFyIGh0bWxfNjMwOWNlMGIwYzkzNGFkYzhhMDM0MzI0NTZhZjQzZmUgPSAkKGA8ZGl2IGlkPSJodG1sXzYzMDljZTBiMGM5MzRhZGM4YTAzNDMyNDU2YWY0M2ZlIiBzdHlsZT0id2lkdGg6IDEwMC4wJTsgaGVpZ2h0OiAxMDAuMCU7Ij5BcnRlaXhvICgzMTIzOSBoYWJpdGFudGVzKTwvZGl2PmApWzBdOwogICAgICAgICAgICAgICAgcG9wdXBfNDkzN2Q1YWU0OTc0NDA0OGEyMzA2MjJmOWNiZjU1Zjcuc2V0Q29udGVudChodG1sXzYzMDljZTBiMGM5MzRhZGM4YTAzNDMyNDU2YWY0M2ZlKTsKICAgICAgICAgICAgCgogICAgICAgICAgICBtYXJrZXJfYmM4MjI3MmZjOWRmNDE0YTlkZjBjOGUzNjhkMTFiZmMuYmluZFBvcHVwKHBvcHVwXzQ5MzdkNWFlNDk3NDQwNDhhMjMwNjIyZjljYmY1NWY3KQogICAgICAgICAgICA7CgogICAgICAgICAgICAKICAgICAgICAKICAgIAogICAgICAgIHZhciBtYXJrZXJfZmY5MTY0ZjcwNDBmNGVkYjk4MDNmZDQ2ZDRiMTYyMzAgPSBMLm1hcmtlcigKICAgICAgICAgICAgWzQyLjkyNjkyNTUzLCAtOC4xNjQwNDcyNTNdLAogICAgICAgICAgICB7CiAgICAgICAgICAgICAgICBpY29uOiBuZXcgTC5JY29uLkRlZmF1bHQoKSwKICAgICAgICAgICAgICAgIH0KICAgICAgICAgICAgKS5hZGRUbyhtYXBfMTZkMWI4Yzk3M2NkNDdmOWE4NzM0MGEyZjMyOGVlMjMpOwogICAgICAgIAogICAgCiAgICAgICAgICAgIHZhciBwb3B1cF8wZDY5ZTMwZDA0OTM0YjJmOGU4ZjNlYTY4NGUzYzgwYiA9IEwucG9wdXAoe21heFdpZHRoOiAnMTAwJScKICAgICAgICAgICAgCiAgICAgICAgICAgIH0pOwoKICAgICAgICAgICAgCiAgICAgICAgICAgICAgICB2YXIgaHRtbF81Yjg0Nzc1Y2ZiMGY0OGU5YTQyOTFjZmM0MGI5NzAzMCA9ICQoYDxkaXYgaWQ9Imh0bWxfNWI4NDc3NWNmYjBmNDhlOWE0MjkxY2ZjNDBiOTcwMzAiIHN0eWxlPSJ3aWR0aDogMTAwLjAlOyBoZWlnaHQ6IDEwMC4wJTsiPkFyesO6YSAoNjIxMSBoYWJpdGFudGVzKTwvZGl2PmApWzBdOwogICAgICAgICAgICAgICAgcG9wdXBfMGQ2OWUzMGQwNDkzNGIyZjhlOGYzZWE2ODRlM2M4MGIuc2V0Q29udGVudChodG1sXzViODQ3NzVjZmIwZjQ4ZTlhNDI5MWNmYzQwYjk3MDMwKTsKICAgICAgICAgICAgCgogICAgICAgICAgICBtYXJrZXJfZmY5MTY0ZjcwNDBmNGVkYjk4MDNmZDQ2ZDRiMTYyMzAuYmluZFBvcHVwKHBvcHVwXzBkNjllMzBkMDQ5MzRiMmY4ZThmM2VhNjg0ZTNjODBiKQogICAgICAgICAgICA7CgogICAgICAgICAgICAKICAgICAgICAKICAgIAogICAgICAgIHZhciBtYXJrZXJfOWE0YjljN2FmYTNjNDBjZmFlYWRhYTE3ZTQ3Zjk3YTEgPSBMLm1hcmtlcigKICAgICAgICAgICAgWzQyLjk2MTg5NzUxLCAtOC43NTgwMDI1NjRdLAogICAgICAgICAgICB7CiAgICAgICAgICAgICAgICBpY29uOiBuZXcgTC5JY29uLkRlZmF1bHQoKSwKICAgICAgICAgICAgICAgIH0KICAgICAgICAgICAgKS5hZGRUbyhtYXBfMTZkMWI4Yzk3M2NkNDdmOWE4NzM0MGEyZjMyOGVlMjMpOwogICAgICAgIAogICAgCiAgICAgICAgICAgIHZhciBwb3B1cF8zMDc4ZmYwNmI3OGI0OGVhYWJkZjYwMTE5MDU0MTkwMCA9IEwucG9wdXAoe21heFdpZHRoOiAnMTAwJScKICAgICAgICAgICAgCiAgICAgICAgICAgIH0pOwoKICAgICAgICAgICAgCiAgICAgICAgICAgICAgICB2YXIgaHRtbF8xMDAyNDUwZGYzOGI0MTA5OWY0YjhiMTVjMThjMWVlMyA9ICQoYDxkaXYgaWQ9Imh0bWxfMTAwMjQ1MGRmMzhiNDEwOTlmNGI4YjE1YzE4YzFlZTMiIHN0eWxlPSJ3aWR0aDogMTAwLjAlOyBoZWlnaHQ6IDEwMC4wJTsiPkEgQmHDsWEgKDM2NDUgaGFiaXRhbnRlcyk8L2Rpdj5gKVswXTsKICAgICAgICAgICAgICAgIHBvcHVwXzMwNzhmZjA2Yjc4YjQ4ZWFhYmRmNjAxMTkwNTQxOTAwLnNldENvbnRlbnQoaHRtbF8xMDAyNDUwZGYzOGI0MTA5OWY0YjhiMTVjMThjMWVlMyk7CiAgICAgICAgICAgIAoKICAgICAgICAgICAgbWFya2VyXzlhNGI5YzdhZmEzYzQwY2ZhZWFkYWExN2U0N2Y5N2ExLmJpbmRQb3B1cChwb3B1cF8zMDc4ZmYwNmI3OGI0OGVhYWJkZjYwMTE5MDU0MTkwMCkKICAgICAgICAgICAgOwoKICAgICAgICAgICAgCiAgICAgICAgCiAgICAKICAgICAgICB2YXIgbWFya2VyX2Q4YzE2OTYzMjYzNDQyOWQ4NTVjYWQyM2NjZjRkYTE0ID0gTC5tYXJrZXIoCiAgICAgICAgICAgIFs0My4zMTk2NDA2OCwgLTguMjM0MjY5OTk3XSwKICAgICAgICAgICAgewogICAgICAgICAgICAgICAgaWNvbjogbmV3IEwuSWNvbi5EZWZhdWx0KCksCiAgICAgICAgICAgICAgICB9CiAgICAgICAgICAgICkuYWRkVG8obWFwXzE2ZDFiOGM5NzNjZDQ3ZjlhODczNDBhMmYzMjhlZTIzKTsKICAgICAgICAKICAgIAogICAgICAgICAgICB2YXIgcG9wdXBfZTk4YTk1NzA2MTU5NDUzYzllNDJhYzBiMTE4ZTUyYTQgPSBMLnBvcHVwKHttYXhXaWR0aDogJzEwMCUnCiAgICAgICAgICAgIAogICAgICAgICAgICB9KTsKCiAgICAgICAgICAgIAogICAgICAgICAgICAgICAgdmFyIGh0bWxfMDA1OGUxYjRlZmNkNDZhMmIwNDk1YWY5MzM1Mzk0MzcgPSAkKGA8ZGl2IGlkPSJodG1sXzAwNThlMWI0ZWZjZDQ2YTJiMDQ5NWFmOTMzNTM5NDM3IiBzdHlsZT0id2lkdGg6IDEwMC4wJTsgaGVpZ2h0OiAxMDAuMCU7Ij5CZXJnb25kbyAoNjY1NiBoYWJpdGFudGVzKTwvZGl2PmApWzBdOwogICAgICAgICAgICAgICAgcG9wdXBfZTk4YTk1NzA2MTU5NDUzYzllNDJhYzBiMTE4ZTUyYTQuc2V0Q29udGVudChodG1sXzAwNThlMWI0ZWZjZDQ2YTJiMDQ5NWFmOTMzNTM5NDM3KTsKICAgICAgICAgICAgCgogICAgICAgICAgICBtYXJrZXJfZDhjMTY5NjMyNjM0NDI5ZDg1NWNhZDIzY2NmNGRhMTQuYmluZFBvcHVwKHBvcHVwX2U5OGE5NTcwNjE1OTQ1M2M5ZTQyYWMwYjExOGU1MmE0KQogICAgICAgICAgICA7CgogICAgICAgICAgICAKICAgICAgICAKICAgIAogICAgICAgIHZhciBtYXJrZXJfODA5YWU0NzcxMDFhNDVjN2E2MGEzN2EwZGFiODJkYzUgPSBMLm1hcmtlcigKICAgICAgICAgICAgWzQzLjI3OTExMzksIC04LjIxMDgzMTgzODk5OTk5OV0sCiAgICAgICAgICAgIHsKICAgICAgICAgICAgICAgIGljb246IG5ldyBMLkljb24uRGVmYXVsdCgpLAogICAgICAgICAgICAgICAgfQogICAgICAgICAgICApLmFkZFRvKG1hcF8xNmQxYjhjOTczY2Q0N2Y5YTg3MzQwYTJmMzI4ZWUyMyk7CiAgICAgICAgCiAgICAKICAgICAgICAgICAgdmFyIHBvcHVwXzMxNDJlNTdkY2Q3YjQyMTk5MzE3MjU4MDhlYTZlOTRhID0gTC5wb3B1cCh7bWF4V2lkdGg6ICcxMDAlJwogICAgICAgICAgICAKICAgICAgICAgICAgfSk7CgogICAgICAgICAgICAKICAgICAgICAgICAgICAgIHZhciBodG1sXzY1MDk0YjRjN2FlODRjNTA4Yjg3NjdkYzE0MjI2ZDNhID0gJChgPGRpdiBpZD0iaHRtbF82NTA5NGI0YzdhZTg0YzUwOGI4NzY3ZGMxNDIyNmQzYSIgc3R5bGU9IndpZHRoOiAxMDAuMCU7IGhlaWdodDogMTAwLjAlOyI+QmV0YW56b3MgKDEyOTY2IGhhYml0YW50ZXMpPC9kaXY+YClbMF07CiAgICAgICAgICAgICAgICBwb3B1cF8zMTQyZTU3ZGNkN2I0MjE5OTMxNzI1ODA4ZWE2ZTk0YS5zZXRDb250ZW50KGh0bWxfNjUwOTRiNGM3YWU4NGM1MDhiODc2N2RjMTQyMjZkM2EpOwogICAgICAgICAgICAKCiAgICAgICAgICAgIG1hcmtlcl84MDlhZTQ3NzEwMWE0NWM3YTYwYTM3YTBkYWI4MmRjNS5iaW5kUG9wdXAocG9wdXBfMzE0MmU1N2RjZDdiNDIxOTkzMTcyNTgwOGVhNmU5NGEpCiAgICAgICAgICAgIDsKCiAgICAgICAgICAgIAogICAgICAgIAogICAgCiAgICAgICAgdmFyIG1hcmtlcl9kMjFlMTBhOTVkN2M0Y2Y2OTdiMmJlYmZkOTMwMzgyNSA9IEwubWFya2VyKAogICAgICAgICAgICBbNDMuMDA3Mzk2MTUsIC04LjEyNjgzMzc2NF0sCiAgICAgICAgICAgIHsKICAgICAgICAgICAgICAgIGljb246IG5ldyBMLkljb24uRGVmYXVsdCgpLAogICAgICAgICAgICAgICAgfQogICAgICAgICAgICApLmFkZFRvKG1hcF8xNmQxYjhjOTczY2Q0N2Y5YTg3MzQwYTJmMzI4ZWUyMyk7CiAgICAgICAgCiAgICAKICAgICAgICAgICAgdmFyIHBvcHVwXzJiZDFkNTBmMWJmNjRkZjY4NmMzMjNkOTdmM2E0NzU2ID0gTC5wb3B1cCh7bWF4V2lkdGg6ICcxMDAlJwogICAgICAgICAgICAKICAgICAgICAgICAgfSk7CgogICAgICAgICAgICAKICAgICAgICAgICAgICAgIHZhciBodG1sXzQ1ODAxMjBmNDk5MTRiNTM5YzgwNjU5YzA0N2ZlNjcxID0gJChgPGRpdiBpZD0iaHRtbF80NTgwMTIwZjQ5OTE0YjUzOWM4MDY1OWMwNDdmZTY3MSIgc3R5bGU9IndpZHRoOiAxMDAuMCU7IGhlaWdodDogMTAwLjAlOyI+Qm9pbW9ydG8gKDIxMTEgaGFiaXRhbnRlcyk8L2Rpdj5gKVswXTsKICAgICAgICAgICAgICAgIHBvcHVwXzJiZDFkNTBmMWJmNjRkZjY4NmMzMjNkOTdmM2E0NzU2LnNldENvbnRlbnQoaHRtbF80NTgwMTIwZjQ5OTE0YjUzOWM4MDY1OWMwNDdmZTY3MSk7CiAgICAgICAgICAgIAoKICAgICAgICAgICAgbWFya2VyX2QyMWUxMGE5NWQ3YzRjZjY5N2IyYmViZmQ5MzAzODI1LmJpbmRQb3B1cChwb3B1cF8yYmQxZDUwZjFiZjY0ZGY2ODZjMzIzZDk3ZjNhNDc1NikKICAgICAgICAgICAgOwoKICAgICAgICAgICAgCiAgICAgICAgCiAgICAKICAgICAgICB2YXIgbWFya2VyXzU3NDgzN2UwYzVhNzRmMTRhZWRiM2ZhOWQ1N2RiNGIwID0gTC5tYXJrZXIoCiAgICAgICAgICAgIFs0Mi42NDcwNTc0MSwgLTguODgyNzE3OTQ0XSwKICAgICAgICAgICAgewogICAgICAgICAgICAgICAgaWNvbjogbmV3IEwuSWNvbi5EZWZhdWx0KCksCiAgICAgICAgICAgICAgICB9CiAgICAgICAgICAgICkuYWRkVG8obWFwXzE2ZDFiOGM5NzNjZDQ3ZjlhODczNDBhMmYzMjhlZTIzKTsKICAgICAgICAKICAgIAogICAgICAgICAgICB2YXIgcG9wdXBfMTlhNDQ0NGNlMDE5NGVmNWI4MzU4MDdmNTllNzM4MGYgPSBMLnBvcHVwKHttYXhXaWR0aDogJzEwMCUnCiAgICAgICAgICAgIAogICAgICAgICAgICB9KTsKCiAgICAgICAgICAgIAogICAgICAgICAgICAgICAgdmFyIGh0bWxfOWM4ZTk2MGEyMjgyNDIwNzhlOGVlZmRlMmY5MTljYWYgPSAkKGA8ZGl2IGlkPSJodG1sXzljOGU5NjBhMjI4MjQyMDc4ZThlZWZkZTJmOTE5Y2FmIiBzdHlsZT0id2lkdGg6IDEwMC4wJTsgaGVpZ2h0OiAxMDAuMCU7Ij5Cb2lybyAoMTg4NzEgaGFiaXRhbnRlcyk8L2Rpdj5gKVswXTsKICAgICAgICAgICAgICAgIHBvcHVwXzE5YTQ0NDRjZTAxOTRlZjViODM1ODA3ZjU5ZTczODBmLnNldENvbnRlbnQoaHRtbF85YzhlOTYwYTIyODI0MjA3OGU4ZWVmZGUyZjkxOWNhZik7CiAgICAgICAgICAgIAoKICAgICAgICAgICAgbWFya2VyXzU3NDgzN2UwYzVhNzRmMTRhZWRiM2ZhOWQ1N2RiNGIwLmJpbmRQb3B1cChwb3B1cF8xOWE0NDQ0Y2UwMTk0ZWY1YjgzNTgwN2Y1OWU3MzgwZikKICAgICAgICAgICAgOwoKICAgICAgICAgICAgCiAgICAgICAgCiAgICAKICAgICAgICB2YXIgbWFya2VyXzdhZTlmZjU5OTNkNzRiNmRhZTRkOTQ1NGM1MWQzYmZlID0gTC5tYXJrZXIoCiAgICAgICAgICAgIFs0Mi44MjcxMzEyOSwgLTguNDE3MjEzMjYxXSwKICAgICAgICAgICAgewogICAgICAgICAgICAgICAgaWNvbjogbmV3IEwuSWNvbi5EZWZhdWx0KCksCiAgICAgICAgICAgICAgICB9CiAgICAgICAgICAgICkuYWRkVG8obWFwXzE2ZDFiOGM5NzNjZDQ3ZjlhODczNDBhMmYzMjhlZTIzKTsKICAgICAgICAKICAgIAogICAgICAgICAgICB2YXIgcG9wdXBfZWEzYTQ0ZjA2ZjIyNDBmMTk2MGYxNzA1ZDkzMzhiNTYgPSBMLnBvcHVwKHttYXhXaWR0aDogJzEwMCUnCiAgICAgICAgICAgIAogICAgICAgICAgICB9KTsKCiAgICAgICAgICAgIAogICAgICAgICAgICAgICAgdmFyIGh0bWxfNWM5ZWJlMGRlM2ZkNDQ1YmIyMmY4NGJkYTgzZGIyOWYgPSAkKGA8ZGl2IGlkPSJodG1sXzVjOWViZTBkZTNmZDQ0NWJiMjJmODRiZGE4M2RiMjlmIiBzdHlsZT0id2lkdGg6IDEwMC4wJTsgaGVpZ2h0OiAxMDAuMCU7Ij5Cb3F1ZWl4w7NuICg0MjkxIGhhYml0YW50ZXMpPC9kaXY+YClbMF07CiAgICAgICAgICAgICAgICBwb3B1cF9lYTNhNDRmMDZmMjI0MGYxOTYwZjE3MDVkOTMzOGI1Ni5zZXRDb250ZW50KGh0bWxfNWM5ZWJlMGRlM2ZkNDQ1YmIyMmY4NGJkYTgzZGIyOWYpOwogICAgICAgICAgICAKCiAgICAgICAgICAgIG1hcmtlcl83YWU5ZmY1OTkzZDc0YjZkYWU0ZDk0NTRjNTFkM2JmZS5iaW5kUG9wdXAocG9wdXBfZWEzYTQ0ZjA2ZjIyNDBmMTk2MGYxNzA1ZDkzMzhiNTYpCiAgICAgICAgICAgIDsKCiAgICAgICAgICAgIAogICAgICAgIAogICAgCiAgICAgICAgdmFyIG1hcmtlcl8yNTU3MzlhNjIxM2U0NWQ4OWVkYzUzMmEzOTcxYWQ4YiA9IEwubWFya2VyKAogICAgICAgICAgICBbNDIuODY2NjAzODgsIC04LjY3NzQ3ODU0MjAwMDAwMV0sCiAgICAgICAgICAgIHsKICAgICAgICAgICAgICAgIGljb246IG5ldyBMLkljb24uRGVmYXVsdCgpLAogICAgICAgICAgICAgICAgfQogICAgICAgICAgICApLmFkZFRvKG1hcF8xNmQxYjhjOTczY2Q0N2Y5YTg3MzQwYTJmMzI4ZWUyMyk7CiAgICAgICAgCiAgICAKICAgICAgICAgICAgdmFyIHBvcHVwX2FmMjgzYzY4YWYwNDQzODg4YTBkMzUwZGQzMTY1NDFlID0gTC5wb3B1cCh7bWF4V2lkdGg6ICcxMDAlJwogICAgICAgICAgICAKICAgICAgICAgICAgfSk7CgogICAgICAgICAgICAKICAgICAgICAgICAgICAgIHZhciBodG1sX2IxNTQwYzMwNTU0YzQ0MGViNjVhYzQ0MWYxYjZhOWEyID0gJChgPGRpdiBpZD0iaHRtbF9iMTU0MGMzMDU1NGM0NDBlYjY1YWM0NDFmMWI2YTlhMiIgc3R5bGU9IndpZHRoOiAxMDAuMCU7IGhlaWdodDogMTAwLjAlOyI+QnJpw7NuICg3NTkwIGhhYml0YW50ZXMpPC9kaXY+YClbMF07CiAgICAgICAgICAgICAgICBwb3B1cF9hZjI4M2M2OGFmMDQ0Mzg4OGEwZDM1MGRkMzE2NTQxZS5zZXRDb250ZW50KGh0bWxfYjE1NDBjMzA1NTRjNDQwZWI2NWFjNDQxZjFiNmE5YTIpOwogICAgICAgICAgICAKCiAgICAgICAgICAgIG1hcmtlcl8yNTU3MzlhNjIxM2U0NWQ4OWVkYzUzMmEzOTcxYWQ4Yi5iaW5kUG9wdXAocG9wdXBfYWYyODNjNjhhZjA0NDM4ODhhMGQzNTBkZDMxNjU0MWUpCiAgICAgICAgICAgIDsKCiAgICAgICAgICAgIAogICAgICAgIAogICAgCiAgICAgICAgdmFyIG1hcmtlcl9jY2M5MTZlZTNjMGM0NDk3ODE4YzMzOWZkOTI0MzE4NSA9IEwubWFya2VyKAogICAgICAgICAgICBbNDMuMjE5MjIyOTMsIC04LjkyOTY0NjExOV0sCiAgICAgICAgICAgIHsKICAgICAgICAgICAgICAgIGljb246IG5ldyBMLkljb24uRGVmYXVsdCgpLAogICAgICAgICAgICAgICAgfQogICAgICAgICAgICApLmFkZFRvKG1hcF8xNmQxYjhjOTczY2Q0N2Y5YTg3MzQwYTJmMzI4ZWUyMyk7CiAgICAgICAgCiAgICAKICAgICAgICAgICAgdmFyIHBvcHVwXzY2ZDkyZmQ0ZjE0NDQwNmFiMDQ1NTY4YmY0YzEwMGQ2ID0gTC5wb3B1cCh7bWF4V2lkdGg6ICcxMDAlJwogICAgICAgICAgICAKICAgICAgICAgICAgfSk7CgogICAgICAgICAgICAKICAgICAgICAgICAgICAgIHZhciBodG1sX2EzYTMzOTczYjIxMDRiZjc4MWZiZGViOGU5NGYzYmZkID0gJChgPGRpdiBpZD0iaHRtbF9hM2EzMzk3M2IyMTA0YmY3ODFmYmRlYjhlOTRmM2JmZCIgc3R5bGU9IndpZHRoOiAxMDAuMCU7IGhlaWdodDogMTAwLjAlOyI+Q2FiYW5hIGRlIEJlcmdhbnRpw7FvcyAoNDQ0NiBoYWJpdGFudGVzKTwvZGl2PmApWzBdOwogICAgICAgICAgICAgICAgcG9wdXBfNjZkOTJmZDRmMTQ0NDA2YWIwNDU1NjhiZjRjMTAwZDYuc2V0Q29udGVudChodG1sX2EzYTMzOTczYjIxMDRiZjc4MWZiZGViOGU5NGYzYmZkKTsKICAgICAgICAgICAgCgogICAgICAgICAgICBtYXJrZXJfY2NjOTE2ZWUzYzBjNDQ5NzgxOGMzMzlmZDkyNDMxODUuYmluZFBvcHVwKHBvcHVwXzY2ZDkyZmQ0ZjE0NDQwNmFiMDQ1NTY4YmY0YzEwMGQ2KQogICAgICAgICAgICA7CgogICAgICAgICAgICAKICAgICAgICAKICAgIAogICAgICAgIHZhciBtYXJrZXJfOTU4NzNkNTA3MWI1NGNlZmI0ZDU1MDMzMmQzYzExZDMgPSBMLm1hcmtlcigKICAgICAgICAgICAgWzQzLjQxOTU1MTYsIC04LjE2MTk5NDY1Mjk5OTk5OV0sCiAgICAgICAgICAgIHsKICAgICAgICAgICAgICAgIGljb246IG5ldyBMLkljb24uRGVmYXVsdCgpLAogICAgICAgICAgICAgICAgfQogICAgICAgICAgICApLmFkZFRvKG1hcF8xNmQxYjhjOTczY2Q0N2Y5YTg3MzQwYTJmMzI4ZWUyMyk7CiAgICAgICAgCiAgICAKICAgICAgICAgICAgdmFyIHBvcHVwXzc3ZDU0OWNlNTU4MjQxMGY4OGIyOTk3ZWY3NjMzM2MwID0gTC5wb3B1cCh7bWF4V2lkdGg6ICcxMDAlJwogICAgICAgICAgICAKICAgICAgICAgICAgfSk7CgogICAgICAgICAgICAKICAgICAgICAgICAgICAgIHZhciBodG1sXzhlMmVhODU2N2EyOTRkMzZiZTM3Zjc3YmFiNDk2ZGMxID0gJChgPGRpdiBpZD0iaHRtbF84ZTJlYTg1NjdhMjk0ZDM2YmUzN2Y3N2JhYjQ5NmRjMSIgc3R5bGU9IndpZHRoOiAxMDAuMCU7IGhlaWdodDogMTAwLjAlOyI+Q2FiYW5hcyAoMzI1OSBoYWJpdGFudGVzKTwvZGl2PmApWzBdOwogICAgICAgICAgICAgICAgcG9wdXBfNzdkNTQ5Y2U1NTgyNDEwZjg4YjI5OTdlZjc2MzMzYzAuc2V0Q29udGVudChodG1sXzhlMmVhODU2N2EyOTRkMzZiZTM3Zjc3YmFiNDk2ZGMxKTsKICAgICAgICAgICAgCgogICAgICAgICAgICBtYXJrZXJfOTU4NzNkNTA3MWI1NGNlZmI0ZDU1MDMzMmQzYzExZDMuYmluZFBvcHVwKHBvcHVwXzc3ZDU0OWNlNTU4MjQxMGY4OGIyOTk3ZWY3NjMzM2MwKQogICAgICAgICAgICA7CgogICAgICAgICAgICAKICAgICAgICAKICAgIAogICAgICAgIHZhciBtYXJrZXJfZTE0OGE5MjIxYmU2NGI5MWFiZjE2NDM0NTNmZGY5N2EgPSBMLm1hcmtlcigKICAgICAgICAgICAgWzQzLjEzMDIwNjM4LCAtOS4xODA2ODI1MTM5OTk5OTldLAogICAgICAgICAgICB7CiAgICAgICAgICAgICAgICBpY29uOiBuZXcgTC5JY29uLkRlZmF1bHQoKSwKICAgICAgICAgICAgICAgIH0KICAgICAgICAgICAgKS5hZGRUbyhtYXBfMTZkMWI4Yzk3M2NkNDdmOWE4NzM0MGEyZjMyOGVlMjMpOwogICAgICAgIAogICAgCiAgICAgICAgICAgIHZhciBwb3B1cF85MTM4NTk5NmFhNzc0ZDc5OTg4NjIwYmE1ZmMwZTBhNiA9IEwucG9wdXAoe21heFdpZHRoOiAnMTAwJScKICAgICAgICAgICAgCiAgICAgICAgICAgIH0pOwoKICAgICAgICAgICAgCiAgICAgICAgICAgICAgICB2YXIgaHRtbF8xMmRmNDBlZGI0ZDI0YTE2OWQyMDhhMTkyM2IyYjdjMiA9ICQoYDxkaXYgaWQ9Imh0bWxfMTJkZjQwZWRiNGQyNGExNjlkMjA4YTE5MjNiMmI3YzIiIHN0eWxlPSJ3aWR0aDogMTAwLjAlOyBoZWlnaHQ6IDEwMC4wJTsiPkNhbWFyacOxYXMgKDU0ODYgaGFiaXRhbnRlcyk8L2Rpdj5gKVswXTsKICAgICAgICAgICAgICAgIHBvcHVwXzkxMzg1OTk2YWE3NzRkNzk5ODg2MjBiYTVmYzBlMGE2LnNldENvbnRlbnQoaHRtbF8xMmRmNDBlZGI0ZDI0YTE2OWQyMDhhMTkyM2IyYjdjMik7CiAgICAgICAgICAgIAoKICAgICAgICAgICAgbWFya2VyX2UxNDhhOTIyMWJlNjRiOTFhYmYxNjQzNDUzZmRmOTdhLmJpbmRQb3B1cChwb3B1cF85MTM4NTk5NmFhNzc0ZDc5OTg4NjIwYmE1ZmMwZTBhNikKICAgICAgICAgICAgOwoKICAgICAgICAgICAgCiAgICAgICAgCiAgICAKICAgICAgICB2YXIgbWFya2VyX2JmOWFlNDMwNjQ4ZTQ2NjQ5OGU4NGFmNTc2NjdhZjRiID0gTC5tYXJrZXIoCiAgICAgICAgICAgIFs0My4yOTI2Mjg2NiwgLTguMzQ0NzAzOTc1XSwKICAgICAgICAgICAgewogICAgICAgICAgICAgICAgaWNvbjogbmV3IEwuSWNvbi5EZWZhdWx0KCksCiAgICAgICAgICAgICAgICB9CiAgICAgICAgICAgICkuYWRkVG8obWFwXzE2ZDFiOGM5NzNjZDQ3ZjlhODczNDBhMmYzMjhlZTIzKTsKICAgICAgICAKICAgIAogICAgICAgICAgICB2YXIgcG9wdXBfN2NjMTQ1YjFiYWFlNDkwNjg3OTFhZGE0OWY1NzBkN2IgPSBMLnBvcHVwKHttYXhXaWR0aDogJzEwMCUnCiAgICAgICAgICAgIAogICAgICAgICAgICB9KTsKCiAgICAgICAgICAgIAogICAgICAgICAgICAgICAgdmFyIGh0bWxfZDI4YTRmNGFkZjY4NDQ2Mjk2Zjc5ZTFlNmY2OGVhNzUgPSAkKGA8ZGl2IGlkPSJodG1sX2QyOGE0ZjRhZGY2ODQ0NjI5NmY3OWUxZTZmNjhlYTc1IiBzdHlsZT0id2lkdGg6IDEwMC4wJTsgaGVpZ2h0OiAxMDAuMCU7Ij5DYW1icmUgKDI0MTQxIGhhYml0YW50ZXMpPC9kaXY+YClbMF07CiAgICAgICAgICAgICAgICBwb3B1cF83Y2MxNDViMWJhYWU0OTA2ODc5MWFkYTQ5ZjU3MGQ3Yi5zZXRDb250ZW50KGh0bWxfZDI4YTRmNGFkZjY4NDQ2Mjk2Zjc5ZTFlNmY2OGVhNzUpOwogICAgICAgICAgICAKCiAgICAgICAgICAgIG1hcmtlcl9iZjlhZTQzMDY0OGU0NjY0OThlODRhZjU3NjY3YWY0Yi5iaW5kUG9wdXAocG9wdXBfN2NjMTQ1YjFiYWFlNDkwNjg3OTFhZGE0OWY1NzBkN2IpCiAgICAgICAgICAgIDsKCiAgICAgICAgICAgIAogICAgICAgIAogICAgCiAgICAgICAgdmFyIG1hcmtlcl8yM2NlMzM4MGFiZjg0MDA5YmI2MmUxOTRkYThjMjg2NyA9IEwubWFya2VyKAogICAgICAgICAgICBbNDMuNDM1NTUxNzcsIC04LjA2ODgwNTU4MV0sCiAgICAgICAgICAgIHsKICAgICAgICAgICAgICAgIGljb246IG5ldyBMLkljb24uRGVmYXVsdCgpLAogICAgICAgICAgICAgICAgfQogICAgICAgICAgICApLmFkZFRvKG1hcF8xNmQxYjhjOTczY2Q0N2Y5YTg3MzQwYTJmMzI4ZWUyMyk7CiAgICAgICAgCiAgICAKICAgICAgICAgICAgdmFyIHBvcHVwXzRlY2JhZDQwODNhOTQ0OWM4NWUzOGRhNDJjNGU1NTg3ID0gTC5wb3B1cCh7bWF4V2lkdGg6ICcxMDAlJwogICAgICAgICAgICAKICAgICAgICAgICAgfSk7CgogICAgICAgICAgICAKICAgICAgICAgICAgICAgIHZhciBodG1sX2E5ZTYwNTlhY2Q4OTRmYzE5Mjc0MWUyYWRmZmQwMWVhID0gJChgPGRpdiBpZD0iaHRtbF9hOWU2MDU5YWNkODk0ZmMxOTI3NDFlMmFkZmZkMDFlYSIgc3R5bGU9IndpZHRoOiAxMDAuMCU7IGhlaWdodDogMTAwLjAlOyI+QSBDYXBlbGEgKDEzMTggaGFiaXRhbnRlcyk8L2Rpdj5gKVswXTsKICAgICAgICAgICAgICAgIHBvcHVwXzRlY2JhZDQwODNhOTQ0OWM4NWUzOGRhNDJjNGU1NTg3LnNldENvbnRlbnQoaHRtbF9hOWU2MDU5YWNkODk0ZmMxOTI3NDFlMmFkZmZkMDFlYSk7CiAgICAgICAgICAgIAoKICAgICAgICAgICAgbWFya2VyXzIzY2UzMzgwYWJmODQwMDliYjYyZTE5NGRhOGMyODY3LmJpbmRQb3B1cChwb3B1cF80ZWNiYWQ0MDgzYTk0NDljODVlMzhkYTQyYzRlNTU4NykKICAgICAgICAgICAgOwoKICAgICAgICAgICAgCiAgICAgICAgCiAgICAKICAgICAgICB2YXIgbWFya2VyXzc3N2E5MWY0YzU1ZDRkMjVhNTFmNDQxMDI1Y2RhNzZkID0gTC5tYXJrZXIoCiAgICAgICAgICAgIFs0My4yMTMzODM3MiwgLTguNjg5MjczNDMxXSwKICAgICAgICAgICAgewogICAgICAgICAgICAgICAgaWNvbjogbmV3IEwuSWNvbi5EZWZhdWx0KCksCiAgICAgICAgICAgICAgICB9CiAgICAgICAgICAgICkuYWRkVG8obWFwXzE2ZDFiOGM5NzNjZDQ3ZjlhODczNDBhMmYzMjhlZTIzKTsKICAgICAgICAKICAgIAogICAgICAgICAgICB2YXIgcG9wdXBfNGI5YmY3ODI5Yjk2NDczMmEwYTQxMTg3YmZlNGFiZGYgPSBMLnBvcHVwKHttYXhXaWR0aDogJzEwMCUnCiAgICAgICAgICAgIAogICAgICAgICAgICB9KTsKCiAgICAgICAgICAgIAogICAgICAgICAgICAgICAgdmFyIGh0bWxfOTllOTAxMzk4ZjgxNDkxNzgyNmI4OTAzNTY5OTY3NWUgPSAkKGA8ZGl2IGlkPSJodG1sXzk5ZTkwMTM5OGY4MTQ5MTc4MjZiODkwMzU2OTk2NzVlIiBzdHlsZT0id2lkdGg6IDEwMC4wJTsgaGVpZ2h0OiAxMDAuMCU7Ij5DYXJiYWxsbyAoMzEyNTYgaGFiaXRhbnRlcyk8L2Rpdj5gKVswXTsKICAgICAgICAgICAgICAgIHBvcHVwXzRiOWJmNzgyOWI5NjQ3MzJhMGE0MTE4N2JmZTRhYmRmLnNldENvbnRlbnQoaHRtbF85OWU5MDEzOThmODE0OTE3ODI2Yjg5MDM1Njk5Njc1ZSk7CiAgICAgICAgICAgIAoKICAgICAgICAgICAgbWFya2VyXzc3N2E5MWY0YzU1ZDRkMjVhNTFmNDQxMDI1Y2RhNzZkLmJpbmRQb3B1cChwb3B1cF80YjliZjc4MjliOTY0NzMyYTBhNDExODdiZmU0YWJkZikKICAgICAgICAgICAgOwoKICAgICAgICAgICAgCiAgICAgICAgCiAgICAKICAgICAgICB2YXIgbWFya2VyX2U5ZTVjYjMyYzIzZjQ0MzBhNzU1NGY2NTdjZGMwMjE5ID0gTC5tYXJrZXIoCiAgICAgICAgICAgIFs0Mi44MjA5MjY2OSwgLTkuMDg3MTAwNDk0XSwKICAgICAgICAgICAgewogICAgICAgICAgICAgICAgaWNvbjogbmV3IEwuSWNvbi5EZWZhdWx0KCksCiAgICAgICAgICAgICAgICB9CiAgICAgICAgICAgICkuYWRkVG8obWFwXzE2ZDFiOGM5NzNjZDQ3ZjlhODczNDBhMmYzMjhlZTIzKTsKICAgICAgICAKICAgIAogICAgICAgICAgICB2YXIgcG9wdXBfYzdiMTBlMzg0NTc4NDc0Y2EzNWQzYmNlMzJhYmI0ODcgPSBMLnBvcHVwKHttYXhXaWR0aDogJzEwMCUnCiAgICAgICAgICAgIAogICAgICAgICAgICB9KTsKCiAgICAgICAgICAgIAogICAgICAgICAgICAgICAgdmFyIGh0bWxfNWQ2Yzg2MTY5YTgwNDkyYzg0Yzg5YWU5M2JhODVjODAgPSAkKGA8ZGl2IGlkPSJodG1sXzVkNmM4NjE2OWE4MDQ5MmM4NGM4OWFlOTNiYTg1YzgwIiBzdHlsZT0id2lkdGg6IDEwMC4wJTsgaGVpZ2h0OiAxMDAuMCU7Ij5DYXJub3RhICg0MTcwIGhhYml0YW50ZXMpPC9kaXY+YClbMF07CiAgICAgICAgICAgICAgICBwb3B1cF9jN2IxMGUzODQ1Nzg0NzRjYTM1ZDNiY2UzMmFiYjQ4Ny5zZXRDb250ZW50KGh0bWxfNWQ2Yzg2MTY5YTgwNDkyYzg0Yzg5YWU5M2JhODVjODApOwogICAgICAgICAgICAKCiAgICAgICAgICAgIG1hcmtlcl9lOWU1Y2IzMmMyM2Y0NDMwYTc1NTRmNjU3Y2RjMDIxOS5iaW5kUG9wdXAocG9wdXBfYzdiMTBlMzg0NTc4NDc0Y2EzNWQzYmNlMzJhYmI0ODcpCiAgICAgICAgICAgIDsKCiAgICAgICAgICAgIAogICAgICAgIAogICAgCiAgICAgICAgdmFyIG1hcmtlcl85OGI2MjBjNjk4OGQ0YzEzYmRkYTkyYWNiOWEyYjQzNCA9IEwubWFya2VyKAogICAgICAgICAgICBbNDMuMjI4OTQ1OTgsIC04LjM1NzA3MzAzOV0sCiAgICAgICAgICAgIHsKICAgICAgICAgICAgICAgIGljb246IG5ldyBMLkljb24uRGVmYXVsdCgpLAogICAgICAgICAgICAgICAgfQogICAgICAgICAgICApLmFkZFRvKG1hcF8xNmQxYjhjOTczY2Q0N2Y5YTg3MzQwYTJmMzI4ZWUyMyk7CiAgICAgICAgCiAgICAKICAgICAgICAgICAgdmFyIHBvcHVwXzI0ODk5OGZjYWY2MDQyYjE5NWRlNjI4NjY5YjZlMGZhID0gTC5wb3B1cCh7bWF4V2lkdGg6ICcxMDAlJwogICAgICAgICAgICAKICAgICAgICAgICAgfSk7CgogICAgICAgICAgICAKICAgICAgICAgICAgICAgIHZhciBodG1sX2Y1ZmFkNjdkNmE3MTQ5Njc4MzhmODk3OWRmYzE0Y2Q2ID0gJChgPGRpdiBpZD0iaHRtbF9mNWZhZDY3ZDZhNzE0OTY3ODM4Zjg5NzlkZmMxNGNkNiIgc3R5bGU9IndpZHRoOiAxMDAuMCU7IGhlaWdodDogMTAwLjAlOyI+Q2FycmFsICg2MTcyIGhhYml0YW50ZXMpPC9kaXY+YClbMF07CiAgICAgICAgICAgICAgICBwb3B1cF8yNDg5OThmY2FmNjA0MmIxOTVkZTYyODY2OWI2ZTBmYS5zZXRDb250ZW50KGh0bWxfZjVmYWQ2N2Q2YTcxNDk2NzgzOGY4OTc5ZGZjMTRjZDYpOwogICAgICAgICAgICAKCiAgICAgICAgICAgIG1hcmtlcl85OGI2MjBjNjk4OGQ0YzEzYmRkYTkyYWNiOWEyYjQzNC5iaW5kUG9wdXAocG9wdXBfMjQ4OTk4ZmNhZjYwNDJiMTk1ZGU2Mjg2NjliNmUwZmEpCiAgICAgICAgICAgIDsKCiAgICAgICAgICAgIAogICAgICAgIAogICAgCiAgICAgICAgdmFyIG1hcmtlcl9kOWQyNjVjMTdhNmE0MDc3OTQwOGJkZTkyOTA5YWQwMyA9IEwubWFya2VyKAogICAgICAgICAgICBbNDMuNjYwNjI3MTgsIC04LjA1NjUyODI3NV0sCiAgICAgICAgICAgIHsKICAgICAgICAgICAgICAgIGljb246IG5ldyBMLkljb24uRGVmYXVsdCgpLAogICAgICAgICAgICAgICAgfQogICAgICAgICAgICApLmFkZFRvKG1hcF8xNmQxYjhjOTczY2Q0N2Y5YTg3MzQwYTJmMzI4ZWUyMyk7CiAgICAgICAgCiAgICAKICAgICAgICAgICAgdmFyIHBvcHVwXzdmMmYzMTlmMzQ1ZjQ2Y2ZiZTU0M2MzZDQ0MWMzNjhmID0gTC5wb3B1cCh7bWF4V2lkdGg6ICcxMDAlJwogICAgICAgICAgICAKICAgICAgICAgICAgfSk7CgogICAgICAgICAgICAKICAgICAgICAgICAgICAgIHZhciBodG1sXzc4ZDRmYTEwMmFiOTQ1NDViZDFiMzNiZGM1Y2RmZmM5ID0gJChgPGRpdiBpZD0iaHRtbF83OGQ0ZmExMDJhYjk0NTQ1YmQxYjMzYmRjNWNkZmZjOSIgc3R5bGU9IndpZHRoOiAxMDAuMCU7IGhlaWdodDogMTAwLjAlOyI+Q2VkZWlyYSAoNjk5NyBoYWJpdGFudGVzKTwvZGl2PmApWzBdOwogICAgICAgICAgICAgICAgcG9wdXBfN2YyZjMxOWYzNDVmNDZjZmJlNTQzYzNkNDQxYzM2OGYuc2V0Q29udGVudChodG1sXzc4ZDRmYTEwMmFiOTQ1NDViZDFiMzNiZGM1Y2RmZmM5KTsKICAgICAgICAgICAgCgogICAgICAgICAgICBtYXJrZXJfZDlkMjY1YzE3YTZhNDA3Nzk0MDhiZGU5MjkwOWFkMDMuYmluZFBvcHVwKHBvcHVwXzdmMmYzMTlmMzQ1ZjQ2Y2ZiZTU0M2MzZDQ0MWMzNjhmKQogICAgICAgICAgICA7CgogICAgICAgICAgICAKICAgICAgICAKICAgIAogICAgICAgIHZhciBtYXJrZXJfZmJkMzA1OTA0N2M3NGIyMWExZWI4MzY0MTg4MDM2YTggPSBMLm1hcmtlcigKICAgICAgICAgICAgWzQyLjk1NTY2NDYxLCAtOS4xOTAyMzYzODNdLAogICAgICAgICAgICB7CiAgICAgICAgICAgICAgICBpY29uOiBuZXcgTC5JY29uLkRlZmF1bHQoKSwKICAgICAgICAgICAgICAgIH0KICAgICAgICAgICAgKS5hZGRUbyhtYXBfMTZkMWI4Yzk3M2NkNDdmOWE4NzM0MGEyZjMyOGVlMjMpOwogICAgICAgIAogICAgCiAgICAgICAgICAgIHZhciBwb3B1cF9kNzBiNzBkYmEzZDg0MjA3ODY0ZjVkMTE4ZTk0ODcxYSA9IEwucG9wdXAoe21heFdpZHRoOiAnMTAwJScKICAgICAgICAgICAgCiAgICAgICAgICAgIH0pOwoKICAgICAgICAgICAgCiAgICAgICAgICAgICAgICB2YXIgaHRtbF9lMjE2NDkxYTkzNzg0ZTU4YTYyYTk4YWUzZjgxZjZkNiA9ICQoYDxkaXYgaWQ9Imh0bWxfZTIxNjQ5MWE5Mzc4NGU1OGE2MmE5OGFlM2Y4MWY2ZDYiIHN0eWxlPSJ3aWR0aDogMTAwLjAlOyBoZWlnaHQ6IDEwMC4wJTsiPkNlZSAoNzYzMSBoYWJpdGFudGVzKTwvZGl2PmApWzBdOwogICAgICAgICAgICAgICAgcG9wdXBfZDcwYjcwZGJhM2Q4NDIwNzg2NGY1ZDExOGU5NDg3MWEuc2V0Q29udGVudChodG1sX2UyMTY0OTFhOTM3ODRlNThhNjJhOThhZTNmODFmNmQ2KTsKICAgICAgICAgICAgCgogICAgICAgICAgICBtYXJrZXJfZmJkMzA1OTA0N2M3NGIyMWExZWI4MzY0MTg4MDM2YTguYmluZFBvcHVwKHBvcHVwX2Q3MGI3MGRiYTNkODQyMDc4NjRmNWQxMThlOTQ4NzFhKQogICAgICAgICAgICA7CgogICAgICAgICAgICAKICAgICAgICAKICAgIAogICAgICAgIHZhciBtYXJrZXJfNWJiYjE1ZjExYmZiNGU5M2JlYjNkYjQyNGQxZGIxNjQgPSBMLm1hcmtlcigKICAgICAgICAgICAgWzQzLjE4ODg5MDYzLCAtOC40NzA4ODQ4MzNdLAogICAgICAgICAgICB7CiAgICAgICAgICAgICAgICBpY29uOiBuZXcgTC5JY29uLkRlZmF1bHQoKSwKICAgICAgICAgICAgICAgIH0KICAgICAgICAgICAgKS5hZGRUbyhtYXBfMTZkMWI4Yzk3M2NkNDdmOWE4NzM0MGEyZjMyOGVlMjMpOwogICAgICAgIAogICAgCiAgICAgICAgICAgIHZhciBwb3B1cF85OWIzY2E3MmU3NDc0OWExYTE3ZTdhZGNhMWYxMzBjYiA9IEwucG9wdXAoe21heFdpZHRoOiAnMTAwJScKICAgICAgICAgICAgCiAgICAgICAgICAgIH0pOwoKICAgICAgICAgICAgCiAgICAgICAgICAgICAgICB2YXIgaHRtbF9jMDQ5ODk5OGI1MjA0OWZiYWVkYzE0M2JjNTQzNGU4MiA9ICQoYDxkaXYgaWQ9Imh0bWxfYzA0OTg5OThiNTIwNDlmYmFlZGMxNDNiYzU0MzRlODIiIHN0eWxlPSJ3aWR0aDogMTAwLjAlOyBoZWlnaHQ6IDEwMC4wJTsiPkNlcmNlZGEgKDUwMzEgaGFiaXRhbnRlcyk8L2Rpdj5gKVswXTsKICAgICAgICAgICAgICAgIHBvcHVwXzk5YjNjYTcyZTc0NzQ5YTFhMTdlN2FkY2ExZjEzMGNiLnNldENvbnRlbnQoaHRtbF9jMDQ5ODk5OGI1MjA0OWZiYWVkYzE0M2JjNTQzNGU4Mik7CiAgICAgICAgICAgIAoKICAgICAgICAgICAgbWFya2VyXzViYmIxNWYxMWJmYjRlOTNiZWIzZGI0MjRkMWRiMTY0LmJpbmRQb3B1cChwb3B1cF85OWIzY2E3MmU3NDc0OWExYTE3ZTdhZGNhMWYxMzBjYikKICAgICAgICAgICAgOwoKICAgICAgICAgICAgCiAgICAgICAgCiAgICAKICAgICAgICB2YXIgbWFya2VyX2VjYWM5ZDlhNjdhNDQ1OGRhYWIwMDU1YjM4YmE2NTE1ID0gTC5tYXJrZXIoCiAgICAgICAgICAgIFs0My42MDc0MzQ0NCwgLTcuOTUyNDU0OTgxXSwKICAgICAgICAgICAgewogICAgICAgICAgICAgICAgaWNvbjogbmV3IEwuSWNvbi5EZWZhdWx0KCksCiAgICAgICAgICAgICAgICB9CiAgICAgICAgICAgICkuYWRkVG8obWFwXzE2ZDFiOGM5NzNjZDQ3ZjlhODczNDBhMmYzMjhlZTIzKTsKICAgICAgICAKICAgIAogICAgICAgICAgICB2YXIgcG9wdXBfYzM0MGViOTdlNTY0NGUwODg3MTQ3MmVjMzlkMmNiMzggPSBMLnBvcHVwKHttYXhXaWR0aDogJzEwMCUnCiAgICAgICAgICAgIAogICAgICAgICAgICB9KTsKCiAgICAgICAgICAgIAogICAgICAgICAgICAgICAgdmFyIGh0bWxfM2MzMGUyMjYxZWNhNDU0MDhlZDE3YWYzMDE4ZTdkMGQgPSAkKGA8ZGl2IGlkPSJodG1sXzNjMzBlMjI2MWVjYTQ1NDA4ZWQxN2FmMzAxOGU3ZDBkIiBzdHlsZT0id2lkdGg6IDEwMC4wJTsgaGVpZ2h0OiAxMDAuMCU7Ij5DZXJkaWRvICgxMTkxIGhhYml0YW50ZXMpPC9kaXY+YClbMF07CiAgICAgICAgICAgICAgICBwb3B1cF9jMzQwZWI5N2U1NjQ0ZTA4ODcxNDcyZWMzOWQyY2IzOC5zZXRDb250ZW50KGh0bWxfM2MzMGUyMjYxZWNhNDU0MDhlZDE3YWYzMDE4ZTdkMGQpOwogICAgICAgICAgICAKCiAgICAgICAgICAgIG1hcmtlcl9lY2FjOWQ5YTY3YTQ0NThkYWFiMDA1NWIzOGJhNjUxNS5iaW5kUG9wdXAocG9wdXBfYzM0MGViOTdlNTY0NGUwODg3MTQ3MmVjMzlkMmNiMzgpCiAgICAgICAgICAgIDsKCiAgICAgICAgICAgIAogICAgICAgIAogICAgCiAgICAgICAgdmFyIG1hcmtlcl81YzQ5ZWIxMjViYmM0MThhOGM5ZTk5ZDMxYmYyY2FhZSA9IEwubWFya2VyKAogICAgICAgICAgICBbNDMuMjQ5ODc3MTMsIC04LjE2NTMzNDgxN10sCiAgICAgICAgICAgIHsKICAgICAgICAgICAgICAgIGljb246IG5ldyBMLkljb24uRGVmYXVsdCgpLAogICAgICAgICAgICAgICAgfQogICAgICAgICAgICApLmFkZFRvKG1hcF8xNmQxYjhjOTczY2Q0N2Y5YTg3MzQwYTJmMzI4ZWUyMyk7CiAgICAgICAgCiAgICAKICAgICAgICAgICAgdmFyIHBvcHVwX2QxYzhjNGVhYTViMzQ1YmE5MGQzNjBkNDg0Nzg3N2JkID0gTC5wb3B1cCh7bWF4V2lkdGg6ICcxMDAlJwogICAgICAgICAgICAKICAgICAgICAgICAgfSk7CgogICAgICAgICAgICAKICAgICAgICAgICAgICAgIHZhciBodG1sXzgzOTM0OGZlOThhMTQ2MGM4MjNlNTk5ODA1ODhhZGUyID0gJChgPGRpdiBpZD0iaHRtbF84MzkzNDhmZTk4YTE0NjBjODIzZTU5OTgwNTg4YWRlMiIgc3R5bGU9IndpZHRoOiAxMDAuMCU7IGhlaWdodDogMTAwLjAlOyI+Q29pcsOzcyAoMTc4OSBoYWJpdGFudGVzKTwvZGl2PmApWzBdOwogICAgICAgICAgICAgICAgcG9wdXBfZDFjOGM0ZWFhNWIzNDViYTkwZDM2MGQ0ODQ3ODc3YmQuc2V0Q29udGVudChodG1sXzgzOTM0OGZlOThhMTQ2MGM4MjNlNTk5ODA1ODhhZGUyKTsKICAgICAgICAgICAgCgogICAgICAgICAgICBtYXJrZXJfNWM0OWViMTI1YmJjNDE4YThjOWU5OWQzMWJmMmNhYWUuYmluZFBvcHVwKHBvcHVwX2QxYzhjNGVhYTViMzQ1YmE5MGQzNjBkNDg0Nzg3N2JkKQogICAgICAgICAgICA7CgogICAgICAgICAgICAKICAgICAgICAKICAgIAogICAgICAgIHZhciBtYXJrZXJfYzZkN2U5Y2Y4ZDc5NDA2YWI3NjRkMmRkOWRiNTFkN2IgPSBMLm1hcmtlcigKICAgICAgICAgICAgWzQyLjk0NDM5MjI5LCAtOS4xOTQzMjAyMzZdLAogICAgICAgICAgICB7CiAgICAgICAgICAgICAgICBpY29uOiBuZXcgTC5JY29uLkRlZmF1bHQoKSwKICAgICAgICAgICAgICAgIH0KICAgICAgICAgICAgKS5hZGRUbyhtYXBfMTZkMWI4Yzk3M2NkNDdmOWE4NzM0MGEyZjMyOGVlMjMpOwogICAgICAgIAogICAgCiAgICAgICAgICAgIHZhciBwb3B1cF9iYTNiMmY5MTliYjc0ZjEwODhhYjZjMzM5Mzc3NGIyYSA9IEwucG9wdXAoe21heFdpZHRoOiAnMTAwJScKICAgICAgICAgICAgCiAgICAgICAgICAgIH0pOwoKICAgICAgICAgICAgCiAgICAgICAgICAgICAgICB2YXIgaHRtbF80NzcyZDZlZGUyZDk0YTE3OTMyOTMyOGI4ZjkxZjY1MyA9ICQoYDxkaXYgaWQ9Imh0bWxfNDc3MmQ2ZWRlMmQ5NGExNzkzMjkzMjhiOGY5MWY2NTMiIHN0eWxlPSJ3aWR0aDogMTAwLjAlOyBoZWlnaHQ6IDEwMC4wJTsiPkNvcmN1YmnDs24gKDE2MDYgaGFiaXRhbnRlcyk8L2Rpdj5gKVswXTsKICAgICAgICAgICAgICAgIHBvcHVwX2JhM2IyZjkxOWJiNzRmMTA4OGFiNmMzMzkzNzc0YjJhLnNldENvbnRlbnQoaHRtbF80NzcyZDZlZGUyZDk0YTE3OTMyOTMyOGI4ZjkxZjY1Myk7CiAgICAgICAgICAgIAoKICAgICAgICAgICAgbWFya2VyX2M2ZDdlOWNmOGQ3OTQwNmFiNzY0ZDJkZDlkYjUxZDdiLmJpbmRQb3B1cChwb3B1cF9iYTNiMmY5MTliYjc0ZjEwODhhYjZjMzM5Mzc3NGIyYSkKICAgICAgICAgICAgOwoKICAgICAgICAgICAgCiAgICAgICAgCiAgICAKICAgICAgICB2YXIgbWFya2VyXzc1YmU2M2I1NzIxZjRmZWNhZWExYmY2MThkMWI2MDY4ID0gTC5tYXJrZXIoCiAgICAgICAgICAgIFs0My4xODc0MDc4MiwgLTguNzM3MTAzODE0XSwKICAgICAgICAgICAgewogICAgICAgICAgICAgICAgaWNvbjogbmV3IEwuSWNvbi5EZWZhdWx0KCksCiAgICAgICAgICAgICAgICB9CiAgICAgICAgICAgICkuYWRkVG8obWFwXzE2ZDFiOGM5NzNjZDQ3ZjlhODczNDBhMmYzMjhlZTIzKTsKICAgICAgICAKICAgIAogICAgICAgICAgICB2YXIgcG9wdXBfNTViZmVhMDgzYzNlNGE5N2JhMDg5Yzg5MDU1ODEzNWUgPSBMLnBvcHVwKHttYXhXaWR0aDogJzEwMCUnCiAgICAgICAgICAgIAogICAgICAgICAgICB9KTsKCiAgICAgICAgICAgIAogICAgICAgICAgICAgICAgdmFyIGh0bWxfOTYzMTRjYmY5NGY1NGFkOWFmZjFkZmE4NDQ3MWUxZDEgPSAkKGA8ZGl2IGlkPSJodG1sXzk2MzE0Y2JmOTRmNTRhZDlhZmYxZGZhODQ0NzFlMWQxIiBzdHlsZT0id2lkdGg6IDEwMC4wJTsgaGVpZ2h0OiAxMDAuMCU7Ij5Db3Jpc3RhbmNvICg2NDI2IGhhYml0YW50ZXMpPC9kaXY+YClbMF07CiAgICAgICAgICAgICAgICBwb3B1cF81NWJmZWEwODNjM2U0YTk3YmEwODljODkwNTU4MTM1ZS5zZXRDb250ZW50KGh0bWxfOTYzMTRjYmY5NGY1NGFkOWFmZjFkZmE4NDQ3MWUxZDEpOwogICAgICAgICAgICAKCiAgICAgICAgICAgIG1hcmtlcl83NWJlNjNiNTcyMWY0ZmVjYWVhMWJmNjE4ZDFiNjA2OC5iaW5kUG9wdXAocG9wdXBfNTViZmVhMDgzYzNlNGE5N2JhMDg5Yzg5MDU1ODEzNWUpCiAgICAgICAgICAgIDsKCiAgICAgICAgICAgIAogICAgICAgIAogICAgCiAgICAgICAgdmFyIG1hcmtlcl85ZTk2MmI4NjE5NjM0ZTQ0OTY3M2QxM2Y3ZDUwMmE1YyA9IEwubWFya2VyKAogICAgICAgICAgICBbNDMuMzcxMjY1ODcsIC04LjM5NTUwMTkzNl0sCiAgICAgICAgICAgIHsKICAgICAgICAgICAgICAgIGljb246IG5ldyBMLkljb24uRGVmYXVsdCgpLAogICAgICAgICAgICAgICAgfQogICAgICAgICAgICApLmFkZFRvKG1hcF8xNmQxYjhjOTczY2Q0N2Y5YTg3MzQwYTJmMzI4ZWUyMyk7CiAgICAgICAgCiAgICAKICAgICAgICAgICAgdmFyIHBvcHVwX2Y1MmU3ZjFlNTZiMzRhMzQ4M2I4NTFhMTY0NDA0ZDM0ID0gTC5wb3B1cCh7bWF4V2lkdGg6ICcxMDAlJwogICAgICAgICAgICAKICAgICAgICAgICAgfSk7CgogICAgICAgICAgICAKICAgICAgICAgICAgICAgIHZhciBodG1sXzc1YTlkYTdiNWNjZjQwYjc5NmMyOWVmYWU3ZWM5MDI0ID0gJChgPGRpdiBpZD0iaHRtbF83NWE5ZGE3YjVjY2Y0MGI3OTZjMjllZmFlN2VjOTAyNCIgc3R5bGU9IndpZHRoOiAxMDAuMCU7IGhlaWdodDogMTAwLjAlOyI+QSBDb3J1w7FhICgyNDM5NzggaGFiaXRhbnRlcyk8L2Rpdj5gKVswXTsKICAgICAgICAgICAgICAgIHBvcHVwX2Y1MmU3ZjFlNTZiMzRhMzQ4M2I4NTFhMTY0NDA0ZDM0LnNldENvbnRlbnQoaHRtbF83NWE5ZGE3YjVjY2Y0MGI3OTZjMjllZmFlN2VjOTAyNCk7CiAgICAgICAgICAgIAoKICAgICAgICAgICAgbWFya2VyXzllOTYyYjg2MTk2MzRlNDQ5NjczZDEzZjdkNTAyYTVjLmJpbmRQb3B1cChwb3B1cF9mNTJlN2YxZTU2YjM0YTM0ODNiODUxYTE2NDQwNGQzNCkKICAgICAgICAgICAgOwoKICAgICAgICAgICAgCiAgICAgICAgCiAgICAKICAgICAgICB2YXIgbWFya2VyXzI1ZmFjYzc5MTVhYTQwOWE5OTg0YWY5NWU0ZWI0Yjc1ID0gTC5tYXJrZXIoCiAgICAgICAgICAgIFs0My4yODgxMzkyMywgLTguMzg5MzM2NzI4XSwKICAgICAgICAgICAgewogICAgICAgICAgICAgICAgaWNvbjogbmV3IEwuSWNvbi5EZWZhdWx0KCksCiAgICAgICAgICAgICAgICB9CiAgICAgICAgICAgICkuYWRkVG8obWFwXzE2ZDFiOGM5NzNjZDQ3ZjlhODczNDBhMmYzMjhlZTIzKTsKICAgICAgICAKICAgIAogICAgICAgICAgICB2YXIgcG9wdXBfMjg2YTc5MjY4Yjg5NDI4OGEyZTgzZWQ3MDc1OWM0MjIgPSBMLnBvcHVwKHttYXhXaWR0aDogJzEwMCUnCiAgICAgICAgICAgIAogICAgICAgICAgICB9KTsKCiAgICAgICAgICAgIAogICAgICAgICAgICAgICAgdmFyIGh0bWxfY2IyZGEyYmRkZjVlNDRhZDk4YzBkODI2NjQwNGY0YTQgPSAkKGA8ZGl2IGlkPSJodG1sX2NiMmRhMmJkZGY1ZTQ0YWQ5OGMwZDgyNjY0MDRmNGE0IiBzdHlsZT0id2lkdGg6IDEwMC4wJTsgaGVpZ2h0OiAxMDAuMCU7Ij5DdWxsZXJlZG8gKDI5NjM4IGhhYml0YW50ZXMpPC9kaXY+YClbMF07CiAgICAgICAgICAgICAgICBwb3B1cF8yODZhNzkyNjhiODk0Mjg4YTJlODNlZDcwNzU5YzQyMi5zZXRDb250ZW50KGh0bWxfY2IyZGEyYmRkZjVlNDRhZDk4YzBkODI2NjQwNGY0YTQpOwogICAgICAgICAgICAKCiAgICAgICAgICAgIG1hcmtlcl8yNWZhY2M3OTE1YWE0MDlhOTk4NGFmOTVlNGViNGI3NS5iaW5kUG9wdXAocG9wdXBfMjg2YTc5MjY4Yjg5NDI4OGEyZTgzZWQ3MDc1OWM0MjIpCiAgICAgICAgICAgIDsKCiAgICAgICAgICAgIAogICAgICAgIAogICAgCiAgICAgICAgdmFyIG1hcmtlcl8zNTE4ZDljNGU1NjE0OTM5YmIxZGU2OWQzYTYxYmUzZiA9IEwubWFya2VyKAogICAgICAgICAgICBbNDMuMTM5MTMxODUsIC04LjAzNTI3MTc4OV0sCiAgICAgICAgICAgIHsKICAgICAgICAgICAgICAgIGljb246IG5ldyBMLkljb24uRGVmYXVsdCgpLAogICAgICAgICAgICAgICAgfQogICAgICAgICAgICApLmFkZFRvKG1hcF8xNmQxYjhjOTczY2Q0N2Y5YTg3MzQwYTJmMzI4ZWUyMyk7CiAgICAgICAgCiAgICAKICAgICAgICAgICAgdmFyIHBvcHVwXzEwZTNkZTUwZTM5ZTRmNDJhYjY0MmYwMGQyNWU1MWRmID0gTC5wb3B1cCh7bWF4V2lkdGg6ICcxMDAlJwogICAgICAgICAgICAKICAgICAgICAgICAgfSk7CgogICAgICAgICAgICAKICAgICAgICAgICAgICAgIHZhciBodG1sXzQ1ZmRmZjdlYjE4MDQxNDdiZTJjZWMxNDFjMTNjYmNlID0gJChgPGRpdiBpZD0iaHRtbF80NWZkZmY3ZWIxODA0MTQ3YmUyY2VjMTQxYzEzY2JjZSIgc3R5bGU9IndpZHRoOiAxMDAuMCU7IGhlaWdodDogMTAwLjAlOyI+Q3VydGlzICgzOTgwIGhhYml0YW50ZXMpPC9kaXY+YClbMF07CiAgICAgICAgICAgICAgICBwb3B1cF8xMGUzZGU1MGUzOWU0ZjQyYWI2NDJmMDBkMjVlNTFkZi5zZXRDb250ZW50KGh0bWxfNDVmZGZmN2ViMTgwNDE0N2JlMmNlYzE0MWMxM2NiY2UpOwogICAgICAgICAgICAKCiAgICAgICAgICAgIG1hcmtlcl8zNTE4ZDljNGU1NjE0OTM5YmIxZGU2OWQzYTYxYmUzZi5iaW5kUG9wdXAocG9wdXBfMTBlM2RlNTBlMzllNGY0MmFiNjQyZjAwZDI1ZTUxZGYpCiAgICAgICAgICAgIDsKCiAgICAgICAgICAgIAogICAgICAgIAogICAgCiAgICAgICAgdmFyIG1hcmtlcl9lODQwZWE1ZjQ1ZTM0OWI2OWJhOGJlZTgzNWQ1NDM1MCA9IEwubWFya2VyKAogICAgICAgICAgICBbNDIuNzE1NzE4MTcsIC04LjcwNDEzOTMzOV0sCiAgICAgICAgICAgIHsKICAgICAgICAgICAgICAgIGljb246IG5ldyBMLkljb24uRGVmYXVsdCgpLAogICAgICAgICAgICAgICAgfQogICAgICAgICAgICApLmFkZFRvKG1hcF8xNmQxYjhjOTczY2Q0N2Y5YTg3MzQwYTJmMzI4ZWUyMyk7CiAgICAgICAgCiAgICAKICAgICAgICAgICAgdmFyIHBvcHVwXzJkN2ExNmI3MmYzNTRlMzk4M2Q2ZjQxMmNhNzU0NTNmID0gTC5wb3B1cCh7bWF4V2lkdGg6ICcxMDAlJwogICAgICAgICAgICAKICAgICAgICAgICAgfSk7CgogICAgICAgICAgICAKICAgICAgICAgICAgICAgIHZhciBodG1sXzZiNGRmNGE1MTgyNTRjMDJiMjljNjgzNjdmMmVmYTQ5ID0gJChgPGRpdiBpZD0iaHRtbF82YjRkZjRhNTE4MjU0YzAyYjI5YzY4MzY3ZjJlZmE0OSIgc3R5bGU9IndpZHRoOiAxMDAuMCU7IGhlaWdodDogMTAwLjAlOyI+RG9kcm8gKDI4NTMgaGFiaXRhbnRlcyk8L2Rpdj5gKVswXTsKICAgICAgICAgICAgICAgIHBvcHVwXzJkN2ExNmI3MmYzNTRlMzk4M2Q2ZjQxMmNhNzU0NTNmLnNldENvbnRlbnQoaHRtbF82YjRkZjRhNTE4MjU0YzAyYjI5YzY4MzY3ZjJlZmE0OSk7CiAgICAgICAgICAgIAoKICAgICAgICAgICAgbWFya2VyX2U4NDBlYTVmNDVlMzQ5YjY5YmE4YmVlODM1ZDU0MzUwLmJpbmRQb3B1cChwb3B1cF8yZDdhMTZiNzJmMzU0ZTM5ODNkNmY0MTJjYTc1NDUzZikKICAgICAgICAgICAgOwoKICAgICAgICAgICAgCiAgICAgICAgCiAgICAKICAgICAgICB2YXIgbWFya2VyX2I2MDMyNTQ2MjY1MDQxOWJiYTc3OGNhMzNkZTdiNTM4ID0gTC5tYXJrZXIoCiAgICAgICAgICAgIFs0My4wMDk0MTcxOSwgLTkuMTE1MjIwNTExXSwKICAgICAgICAgICAgewogICAgICAgICAgICAgICAgaWNvbjogbmV3IEwuSWNvbi5EZWZhdWx0KCksCiAgICAgICAgICAgICAgICB9CiAgICAgICAgICAgICkuYWRkVG8obWFwXzE2ZDFiOGM5NzNjZDQ3ZjlhODczNDBhMmYzMjhlZTIzKTsKICAgICAgICAKICAgIAogICAgICAgICAgICB2YXIgcG9wdXBfNDBhMGJlNTM0NDEzNGNkNThhZjk2Y2RkNTgzYWUxNjggPSBMLnBvcHVwKHttYXhXaWR0aDogJzEwMCUnCiAgICAgICAgICAgIAogICAgICAgICAgICB9KTsKCiAgICAgICAgICAgIAogICAgICAgICAgICAgICAgdmFyIGh0bWxfNzhiYjE3M2Q4MmIyNDMzNzhjODZjOGYzYmE2ZDJmZTAgPSAkKGA8ZGl2IGlkPSJodG1sXzc4YmIxNzNkODJiMjQzMzc4Yzg2YzhmM2JhNmQyZmUwIiBzdHlsZT0id2lkdGg6IDEwMC4wJTsgaGVpZ2h0OiAxMDAuMCU7Ij5EdW1icsOtYSAoMzA4NSBoYWJpdGFudGVzKTwvZGl2PmApWzBdOwogICAgICAgICAgICAgICAgcG9wdXBfNDBhMGJlNTM0NDEzNGNkNThhZjk2Y2RkNTgzYWUxNjguc2V0Q29udGVudChodG1sXzc4YmIxNzNkODJiMjQzMzc4Yzg2YzhmM2JhNmQyZmUwKTsKICAgICAgICAgICAgCgogICAgICAgICAgICBtYXJrZXJfYjYwMzI1NDYyNjUwNDE5YmJhNzc4Y2EzM2RlN2I1MzguYmluZFBvcHVwKHBvcHVwXzQwYTBiZTUzNDQxMzRjZDU4YWY5NmNkZDU4M2FlMTY4KQogICAgICAgICAgICA7CgogICAgICAgICAgICAKICAgICAgICAKICAgIAogICAgICAgIHZhciBtYXJrZXJfYjZmOTI1YjQ5YjI4NDRmOGEyZGZmNjIwOTA4NGY1MWIgPSBMLm1hcmtlcigKICAgICAgICAgICAgWzQzLjQ3Mzg3MDAxLCAtOC4xNjI1Nzk3MzZdLAogICAgICAgICAgICB7CiAgICAgICAgICAgICAgICBpY29uOiBuZXcgTC5JY29uLkRlZmF1bHQoKSwKICAgICAgICAgICAgICAgIH0KICAgICAgICAgICAgKS5hZGRUbyhtYXBfMTZkMWI4Yzk3M2NkNDdmOWE4NzM0MGEyZjMyOGVlMjMpOwogICAgICAgIAogICAgCiAgICAgICAgICAgIHZhciBwb3B1cF9iMTVmYzA0MzhhZjU0ZTVlYjRiYzE0NTExMmRhMzIwYyA9IEwucG9wdXAoe21heFdpZHRoOiAnMTAwJScKICAgICAgICAgICAgCiAgICAgICAgICAgIH0pOwoKICAgICAgICAgICAgCiAgICAgICAgICAgICAgICB2YXIgaHRtbF9hZTAyNmNiMmFiMmM0ZmIxOGQ2ZjdkNDYxYjRjNzQwOSA9ICQoYDxkaXYgaWQ9Imh0bWxfYWUwMjZjYjJhYjJjNGZiMThkNmY3ZDQ2MWI0Yzc0MDkiIHN0eWxlPSJ3aWR0aDogMTAwLjAlOyBoZWlnaHQ6IDEwMC4wJTsiPkZlbmUgKDEzMjUwIGhhYml0YW50ZXMpPC9kaXY+YClbMF07CiAgICAgICAgICAgICAgICBwb3B1cF9iMTVmYzA0MzhhZjU0ZTVlYjRiYzE0NTExMmRhMzIwYy5zZXRDb250ZW50KGh0bWxfYWUwMjZjYjJhYjJjNGZiMThkNmY3ZDQ2MWI0Yzc0MDkpOwogICAgICAgICAgICAKCiAgICAgICAgICAgIG1hcmtlcl9iNmY5MjViNDliMjg0NGY4YTJkZmY2MjA5MDg0ZjUxYi5iaW5kUG9wdXAocG9wdXBfYjE1ZmMwNDM4YWY1NGU1ZWI0YmMxNDUxMTJkYTMyMGMpCiAgICAgICAgICAgIDsKCiAgICAgICAgICAgIAogICAgICAgIAogICAgCiAgICAgICAgdmFyIG1hcmtlcl8zYTY2MWFmNWViOTY0YjUwOGQwNGJkNWUwZWQ5MTczMyA9IEwubWFya2VyKAogICAgICAgICAgICBbNDMuNDg0NTE0MjcsIC04LjIzMzM1MzAwOF0sCiAgICAgICAgICAgIHsKICAgICAgICAgICAgICAgIGljb246IG5ldyBMLkljb24uRGVmYXVsdCgpLAogICAgICAgICAgICAgICAgfQogICAgICAgICAgICApLmFkZFRvKG1hcF8xNmQxYjhjOTczY2Q0N2Y5YTg3MzQwYTJmMzI4ZWUyMyk7CiAgICAgICAgCiAgICAKICAgICAgICAgICAgdmFyIHBvcHVwXzdmMTRiZGUyMGQ0MjRjZjc5MDY0NmIzYmZlZWNkYTgyID0gTC5wb3B1cCh7bWF4V2lkdGg6ICcxMDAlJwogICAgICAgICAgICAKICAgICAgICAgICAgfSk7CgogICAgICAgICAgICAKICAgICAgICAgICAgICAgIHZhciBodG1sXzZkNjFiOWE0YmE5NDQ1YWQ4OGNkNjcxZDZiOTE0NjdiID0gJChgPGRpdiBpZD0iaHRtbF82ZDYxYjlhNGJhOTQ0NWFkODhjZDY3MWQ2YjkxNDY3YiIgc3R5bGU9IndpZHRoOiAxMDAuMCU7IGhlaWdodDogMTAwLjAlOyI+RmVycm9sICg2ODMwOCBoYWJpdGFudGVzKTwvZGl2PmApWzBdOwogICAgICAgICAgICAgICAgcG9wdXBfN2YxNGJkZTIwZDQyNGNmNzkwNjQ2YjNiZmVlY2RhODIuc2V0Q29udGVudChodG1sXzZkNjFiOWE0YmE5NDQ1YWQ4OGNkNjcxZDZiOTE0NjdiKTsKICAgICAgICAgICAgCgogICAgICAgICAgICBtYXJrZXJfM2E2NjFhZjVlYjk2NGI1MDhkMDRiZDVlMGVkOTE3MzMuYmluZFBvcHVwKHBvcHVwXzdmMTRiZGUyMGQ0MjRjZjc5MDY0NmIzYmZlZWNkYTgyKQogICAgICAgICAgICA7CgogICAgICAgICAgICAKICAgICAgICAKICAgIAogICAgICAgIHZhciBtYXJrZXJfZGU2OGFhNGQxZWNhNGI1Nzg1ZTM4NzljZWNhOWRhZmEgPSBMLm1hcmtlcigKICAgICAgICAgICAgWzQyLjkwOTA4MjI0LCAtOS4yNjIzNzE3NjldLAogICAgICAgICAgICB7CiAgICAgICAgICAgICAgICBpY29uOiBuZXcgTC5JY29uLkRlZmF1bHQoKSwKICAgICAgICAgICAgICAgIH0KICAgICAgICAgICAgKS5hZGRUbyhtYXBfMTZkMWI4Yzk3M2NkNDdmOWE4NzM0MGEyZjMyOGVlMjMpOwogICAgICAgIAogICAgCiAgICAgICAgICAgIHZhciBwb3B1cF81ODU4ZDYzZDc0ZDM0ZTU5YTMzNDk3Zjc2OTdlYzFmNCA9IEwucG9wdXAoe21heFdpZHRoOiAnMTAwJScKICAgICAgICAgICAgCiAgICAgICAgICAgIH0pOwoKICAgICAgICAgICAgCiAgICAgICAgICAgICAgICB2YXIgaHRtbF84YjU3ZmY5ZWNlNmQ0OWMxOTIzZmE3NWRkNDJjMTI0OSA9ICQoYDxkaXYgaWQ9Imh0bWxfOGI1N2ZmOWVjZTZkNDljMTkyM2ZhNzVkZDQyYzEyNDkiIHN0eWxlPSJ3aWR0aDogMTAwLjAlOyBoZWlnaHQ6IDEwMC4wJTsiPkZpc3RlcnJhICg0NzM3IGhhYml0YW50ZXMpPC9kaXY+YClbMF07CiAgICAgICAgICAgICAgICBwb3B1cF81ODU4ZDYzZDc0ZDM0ZTU5YTMzNDk3Zjc2OTdlYzFmNC5zZXRDb250ZW50KGh0bWxfOGI1N2ZmOWVjZTZkNDljMTkyM2ZhNzVkZDQyYzEyNDkpOwogICAgICAgICAgICAKCiAgICAgICAgICAgIG1hcmtlcl9kZTY4YWE0ZDFlY2E0YjU3ODVlMzg3OWNlY2E5ZGFmYS5iaW5kUG9wdXAocG9wdXBfNTg1OGQ2M2Q3NGQzNGU1OWEzMzQ5N2Y3Njk3ZWMxZjQpCiAgICAgICAgICAgIDsKCiAgICAgICAgICAgIAogICAgICAgIAogICAgCiAgICAgICAgdmFyIG1hcmtlcl9hNzA2Y2ViYWY4Yjk0NjY0YmJjMzA5MWZiNzMyZGM2MyA9IEwubWFya2VyKAogICAgICAgICAgICBbNDMuMDM1MzIzNjUsIC04LjI5MjkyMDAzMV0sCiAgICAgICAgICAgIHsKICAgICAgICAgICAgICAgIGljb246IG5ldyBMLkljb24uRGVmYXVsdCgpLAogICAgICAgICAgICAgICAgfQogICAgICAgICAgICApLmFkZFRvKG1hcF8xNmQxYjhjOTczY2Q0N2Y5YTg3MzQwYTJmMzI4ZWUyMyk7CiAgICAgICAgCiAgICAKICAgICAgICAgICAgdmFyIHBvcHVwX2RlMTM4NmUyZmY4YTRhN2U4ZjU4NjEzMTY0NTA2OTQ0ID0gTC5wb3B1cCh7bWF4V2lkdGg6ICcxMDAlJwogICAgICAgICAgICAKICAgICAgICAgICAgfSk7CgogICAgICAgICAgICAKICAgICAgICAgICAgICAgIHZhciBodG1sXzhlY2QwNDc3ZmM5MzRmZjM4NTcwY2QwOTlhYTA3OGJlID0gJChgPGRpdiBpZD0iaHRtbF84ZWNkMDQ3N2ZjOTM0ZmYzODU3MGNkMDk5YWEwNzhiZSIgc3R5bGU9IndpZHRoOiAxMDAuMCU7IGhlaWdodDogMTAwLjAlOyI+RnJhZGVzICgyNDI4IGhhYml0YW50ZXMpPC9kaXY+YClbMF07CiAgICAgICAgICAgICAgICBwb3B1cF9kZTEzODZlMmZmOGE0YTdlOGY1ODYxMzE2NDUwNjk0NC5zZXRDb250ZW50KGh0bWxfOGVjZDA0NzdmYzkzNGZmMzg1NzBjZDA5OWFhMDc4YmUpOwogICAgICAgICAgICAKCiAgICAgICAgICAgIG1hcmtlcl9hNzA2Y2ViYWY4Yjk0NjY0YmJjMzA5MWZiNzMyZGM2My5iaW5kUG9wdXAocG9wdXBfZGUxMzg2ZTJmZjhhNGE3ZThmNTg2MTMxNjQ1MDY5NDQpCiAgICAgICAgICAgIDsKCiAgICAgICAgICAgIAogICAgICAgIAogICAgCiAgICAgICAgdmFyIG1hcmtlcl84M2IwYmIxYTZlYzQ0YmQ1YWYyYjEyZjY5OWVmOWY2MSA9IEwubWFya2VyKAogICAgICAgICAgICBbNDMuMjg0MTYzMzIsIC04LjA2NDgwNzQzNl0sCiAgICAgICAgICAgIHsKICAgICAgICAgICAgICAgIGljb246IG5ldyBMLkljb24uRGVmYXVsdCgpLAogICAgICAgICAgICAgICAgfQogICAgICAgICAgICApLmFkZFRvKG1hcF8xNmQxYjhjOTczY2Q0N2Y5YTg3MzQwYTJmMzI4ZWUyMyk7CiAgICAgICAgCiAgICAKICAgICAgICAgICAgdmFyIHBvcHVwXzcwMGMzYmVkOWY1MjQzZTJhMThjZTVhNmI4ZmM1ODgxID0gTC5wb3B1cCh7bWF4V2lkdGg6ICcxMDAlJwogICAgICAgICAgICAKICAgICAgICAgICAgfSk7CgogICAgICAgICAgICAKICAgICAgICAgICAgICAgIHZhciBodG1sXzQwYzEyYTM5ZmNkMzQ3ZTNiYTlhNGViZGMwMjA4ZjhjID0gJChgPGRpdiBpZD0iaHRtbF80MGMxMmEzOWZjZDM0N2UzYmE5YTRlYmRjMDIwOGY4YyIgc3R5bGU9IndpZHRoOiAxMDAuMCU7IGhlaWdodDogMTAwLjAlOyI+SXJpeG9hICgxMzY5IGhhYml0YW50ZXMpPC9kaXY+YClbMF07CiAgICAgICAgICAgICAgICBwb3B1cF83MDBjM2JlZDlmNTI0M2UyYTE4Y2U1YTZiOGZjNTg4MS5zZXRDb250ZW50KGh0bWxfNDBjMTJhMzlmY2QzNDdlM2JhOWE0ZWJkYzAyMDhmOGMpOwogICAgICAgICAgICAKCiAgICAgICAgICAgIG1hcmtlcl84M2IwYmIxYTZlYzQ0YmQ1YWYyYjEyZjY5OWVmOWY2MS5iaW5kUG9wdXAocG9wdXBfNzAwYzNiZWQ5ZjUyNDNlMmExOGNlNWE2YjhmYzU4ODEpCiAgICAgICAgICAgIDsKCiAgICAgICAgICAgIAogICAgICAgIAogICAgCiAgICAgICAgdmFyIG1hcmtlcl9iYmYzMWVjZTMwMDY0OGJlYjVmMDgxNzA5NTFhOWFmNyA9IEwubWFya2VyKAogICAgICAgICAgICBbNDMuMjE3Mjk5NDYsIC05LjAwNDE2MTUwOF0sCiAgICAgICAgICAgIHsKICAgICAgICAgICAgICAgIGljb246IG5ldyBMLkljb24uRGVmYXVsdCgpLAogICAgICAgICAgICAgICAgfQogICAgICAgICAgICApLmFkZFRvKG1hcF8xNmQxYjhjOTczY2Q0N2Y5YTg3MzQwYTJmMzI4ZWUyMyk7CiAgICAgICAgCiAgICAKICAgICAgICAgICAgdmFyIHBvcHVwX2UyY2VlNTM3ZTkxNzQ5NTdiNDI3MzBkNTNmNDFhZjhmID0gTC5wb3B1cCh7bWF4V2lkdGg6ICcxMDAlJwogICAgICAgICAgICAKICAgICAgICAgICAgfSk7CgogICAgICAgICAgICAKICAgICAgICAgICAgICAgIHZhciBodG1sXzMyNTNkNDM1OTdkNTQxZGQ4MDQzMzNjOGQ0YjdhZjJlID0gJChgPGRpdiBpZD0iaHRtbF8zMjUzZDQzNTk3ZDU0MWRkODA0MzMzYzhkNGI3YWYyZSIgc3R5bGU9IndpZHRoOiAxMDAuMCU7IGhlaWdodDogMTAwLjAlOyI+TGF4ZSAoMzE0OCBoYWJpdGFudGVzKTwvZGl2PmApWzBdOwogICAgICAgICAgICAgICAgcG9wdXBfZTJjZWU1MzdlOTE3NDk1N2I0MjczMGQ1M2Y0MWFmOGYuc2V0Q29udGVudChodG1sXzMyNTNkNDM1OTdkNTQxZGQ4MDQzMzNjOGQ0YjdhZjJlKTsKICAgICAgICAgICAgCgogICAgICAgICAgICBtYXJrZXJfYmJmMzFlY2UzMDA2NDhiZWI1ZjA4MTcwOTUxYTlhZjcuYmluZFBvcHVwKHBvcHVwX2UyY2VlNTM3ZTkxNzQ5NTdiNDI3MzBkNTNmNDFhZjhmKQogICAgICAgICAgICA7CgogICAgICAgICAgICAKICAgICAgICAKICAgIAogICAgICAgIHZhciBtYXJrZXJfYjY2MTBiM2JjN2M3NDNhNjliMWE3NTNkODIyNjkyMjAgPSBMLm1hcmtlcigKICAgICAgICAgICAgWzQzLjI0ODUzOTE3LCAtOC41ODIxNDYxNTZdLAogICAgICAgICAgICB7CiAgICAgICAgICAgICAgICBpY29uOiBuZXcgTC5JY29uLkRlZmF1bHQoKSwKICAgICAgICAgICAgICAgIH0KICAgICAgICAgICAgKS5hZGRUbyhtYXBfMTZkMWI4Yzk3M2NkNDdmOWE4NzM0MGEyZjMyOGVlMjMpOwogICAgICAgIAogICAgCiAgICAgICAgICAgIHZhciBwb3B1cF8wOTI1NGFjOTU4NGQ0MGZkOGU0MjZlYjQ3NTBmMmZiNSA9IEwucG9wdXAoe21heFdpZHRoOiAnMTAwJScKICAgICAgICAgICAgCiAgICAgICAgICAgIH0pOwoKICAgICAgICAgICAgCiAgICAgICAgICAgICAgICB2YXIgaHRtbF9kMmQwYjk3ODhjYzY0MmM2YjAzNzljYjdhMDU3M2FkYiA9ICQoYDxkaXYgaWQ9Imh0bWxfZDJkMGI5Nzg4Y2M2NDJjNmIwMzc5Y2I3YTA1NzNhZGIiIHN0eWxlPSJ3aWR0aDogMTAwLjAlOyBoZWlnaHQ6IDEwMC4wJTsiPkEgTGFyYWNoYSAoMTEyOTUgaGFiaXRhbnRlcyk8L2Rpdj5gKVswXTsKICAgICAgICAgICAgICAgIHBvcHVwXzA5MjU0YWM5NTg0ZDQwZmQ4ZTQyNmViNDc1MGYyZmI1LnNldENvbnRlbnQoaHRtbF9kMmQwYjk3ODhjYzY0MmM2YjAzNzljYjdhMDU3M2FkYik7CiAgICAgICAgICAgIAoKICAgICAgICAgICAgbWFya2VyX2I2NjEwYjNiYzdjNzQzYTY5YjFhNzUzZDgyMjY5MjIwLmJpbmRQb3B1cChwb3B1cF8wOTI1NGFjOTU4NGQ0MGZkOGU0MjZlYjQ3NTBmMmZiNSkKICAgICAgICAgICAgOwoKICAgICAgICAgICAgCiAgICAgICAgCiAgICAKICAgICAgICB2YXIgbWFya2VyX2U4NWFkMzk0NWRmNDQ1ZTZhNjgwMGNmY2QzNzk1ZmVlID0gTC5tYXJrZXIoCiAgICAgICAgICAgIFs0Mi43ODUzNjMyMywgLTguODY1MjQyNzA4XSwKICAgICAgICAgICAgewogICAgICAgICAgICAgICAgaWNvbjogbmV3IEwuSWNvbi5EZWZhdWx0KCksCiAgICAgICAgICAgICAgICB9CiAgICAgICAgICAgICkuYWRkVG8obWFwXzE2ZDFiOGM5NzNjZDQ3ZjlhODczNDBhMmYzMjhlZTIzKTsKICAgICAgICAKICAgIAogICAgICAgICAgICB2YXIgcG9wdXBfMzE5MmVjOWVhODIyNDA0Yjg5YjNhMDY3YjVmY2I4ZWUgPSBMLnBvcHVwKHttYXhXaWR0aDogJzEwMCUnCiAgICAgICAgICAgIAogICAgICAgICAgICB9KTsKCiAgICAgICAgICAgIAogICAgICAgICAgICAgICAgdmFyIGh0bWxfYzg1NDcxNDcxZGQwNDJkYTk1Y2M1ZTBjOTEyMThjOGQgPSAkKGA8ZGl2IGlkPSJodG1sX2M4NTQ3MTQ3MWRkMDQyZGE5NWNjNWUwYzkxMjE4YzhkIiBzdHlsZT0id2lkdGg6IDEwMC4wJTsgaGVpZ2h0OiAxMDAuMCU7Ij5Mb3VzYW1lICgzNDI5IGhhYml0YW50ZXMpPC9kaXY+YClbMF07CiAgICAgICAgICAgICAgICBwb3B1cF8zMTkyZWM5ZWE4MjI0MDRiODliM2EwNjdiNWZjYjhlZS5zZXRDb250ZW50KGh0bWxfYzg1NDcxNDcxZGQwNDJkYTk1Y2M1ZTBjOTEyMThjOGQpOwogICAgICAgICAgICAKCiAgICAgICAgICAgIG1hcmtlcl9lODVhZDM5NDVkZjQ0NWU2YTY4MDBjZmNkMzc5NWZlZS5iaW5kUG9wdXAocG9wdXBfMzE5MmVjOWVhODIyNDA0Yjg5YjNhMDY3YjVmY2I4ZWUpCiAgICAgICAgICAgIDsKCiAgICAgICAgICAgIAogICAgICAgIAogICAgCiAgICAgICAgdmFyIG1hcmtlcl82MjY2NjY3ZjNjZmU0NDU0YWQyOTBlYWY5YjE3Y2RhYSA9IEwubWFya2VyKAogICAgICAgICAgICBbNDMuMzIyODc2MjQsIC04LjgxMTA1MTQ1OF0sCiAgICAgICAgICAgIHsKICAgICAgICAgICAgICAgIGljb246IG5ldyBMLkljb24uRGVmYXVsdCgpLAogICAgICAgICAgICAgICAgfQogICAgICAgICAgICApLmFkZFRvKG1hcF8xNmQxYjhjOTczY2Q0N2Y5YTg3MzQwYTJmMzI4ZWUyMyk7CiAgICAgICAgCiAgICAKICAgICAgICAgICAgdmFyIHBvcHVwXzU0ZDhiZTMwZDU2NDRiNGY4OTFiMmU3MDFiOTExNDdlID0gTC5wb3B1cCh7bWF4V2lkdGg6ICcxMDAlJwogICAgICAgICAgICAKICAgICAgICAgICAgfSk7CgogICAgICAgICAgICAKICAgICAgICAgICAgICAgIHZhciBodG1sXzBhMmVlYmM5YzE0YTQzMDZhNTVkN2UxMjJjMTJiN2FlID0gJChgPGRpdiBpZD0iaHRtbF8wYTJlZWJjOWMxNGE0MzA2YTU1ZDdlMTIyYzEyYjdhZSIgc3R5bGU9IndpZHRoOiAxMDAuMCU7IGhlaWdodDogMTAwLjAlOyI+TWFscGljYSBkZSBCZXJnYW50acOxb3MgKDU2MTYgaGFiaXRhbnRlcyk8L2Rpdj5gKVswXTsKICAgICAgICAgICAgICAgIHBvcHVwXzU0ZDhiZTMwZDU2NDRiNGY4OTFiMmU3MDFiOTExNDdlLnNldENvbnRlbnQoaHRtbF8wYTJlZWJjOWMxNGE0MzA2YTU1ZDdlMTIyYzEyYjdhZSk7CiAgICAgICAgICAgIAoKICAgICAgICAgICAgbWFya2VyXzYyNjY2NjdmM2NmZTQ0NTRhZDI5MGVhZjliMTdjZGFhLmJpbmRQb3B1cChwb3B1cF81NGQ4YmUzMGQ1NjQ0YjRmODkxYjJlNzAxYjkxMTQ3ZSkKICAgICAgICAgICAgOwoKICAgICAgICAgICAgCiAgICAgICAgCiAgICAKICAgICAgICB2YXIgbWFya2VyX2FhZGNkMzkzOGM3MzRlYTI5NDRjMWFjMDBmMjI5YWQ2ID0gTC5tYXJrZXIoCiAgICAgICAgICAgIFs0My43MzYyMDEzLCAtNy43MDU2NDMxNzJdLAogICAgICAgICAgICB7CiAgICAgICAgICAgICAgICBpY29uOiBuZXcgTC5JY29uLkRlZmF1bHQoKSwKICAgICAgICAgICAgICAgIH0KICAgICAgICAgICAgKS5hZGRUbyhtYXBfMTZkMWI4Yzk3M2NkNDdmOWE4NzM0MGEyZjMyOGVlMjMpOwogICAgICAgIAogICAgCiAgICAgICAgICAgIHZhciBwb3B1cF8xNjgzZjQyYmI0NGI0M2ExODMzM2M4NmRkNzM3MTg3MyA9IEwucG9wdXAoe21heFdpZHRoOiAnMTAwJScKICAgICAgICAgICAgCiAgICAgICAgICAgIH0pOwoKICAgICAgICAgICAgCiAgICAgICAgICAgICAgICB2YXIgaHRtbF8xYzc3NDY3NDE3Mzc0MDViYTdlOTIxZjVlN2EyMWQwYyA9ICQoYDxkaXYgaWQ9Imh0bWxfMWM3NzQ2NzQxNzM3NDA1YmE3ZTkyMWY1ZTdhMjFkMGMiIHN0eWxlPSJ3aWR0aDogMTAwLjAlOyBoZWlnaHQ6IDEwMC4wJTsiPk1hw7HDs24gKDE0MjAgaGFiaXRhbnRlcyk8L2Rpdj5gKVswXTsKICAgICAgICAgICAgICAgIHBvcHVwXzE2ODNmNDJiYjQ0YjQzYTE4MzMzYzg2ZGQ3MzcxODczLnNldENvbnRlbnQoaHRtbF8xYzc3NDY3NDE3Mzc0MDViYTdlOTIxZjVlN2EyMWQwYyk7CiAgICAgICAgICAgIAoKICAgICAgICAgICAgbWFya2VyX2FhZGNkMzkzOGM3MzRlYTI5NDRjMWFjMDBmMjI5YWQ2LmJpbmRQb3B1cChwb3B1cF8xNjgzZjQyYmI0NGI0M2ExODMzM2M4NmRkNzM3MTg3MykKICAgICAgICAgICAgOwoKICAgICAgICAgICAgCiAgICAgICAgCiAgICAKICAgICAgICB2YXIgbWFya2VyX2M1ZDBjMTM0M2NiMjRkNGRiZjhkNDY4MWY1ZDgyNzYyID0gTC5tYXJrZXIoCiAgICAgICAgICAgIFs0Mi45MzY0NDMxNywgLTguOTkwNjExODYxXSwKICAgICAgICAgICAgewogICAgICAgICAgICAgICAgaWNvbjogbmV3IEwuSWNvbi5EZWZhdWx0KCksCiAgICAgICAgICAgICAgICB9CiAgICAgICAgICAgICkuYWRkVG8obWFwXzE2ZDFiOGM5NzNjZDQ3ZjlhODczNDBhMmYzMjhlZTIzKTsKICAgICAgICAKICAgIAogICAgICAgICAgICB2YXIgcG9wdXBfMjJlNDkxMmUwM2M1NDA4YWJhM2Y0YTI3YWEzMWE0NDUgPSBMLnBvcHVwKHttYXhXaWR0aDogJzEwMCUnCiAgICAgICAgICAgIAogICAgICAgICAgICB9KTsKCiAgICAgICAgICAgIAogICAgICAgICAgICAgICAgdmFyIGh0bWxfNjYxODhkNGYxZTUyNDZiZDllNzNkZGY5NDZmOGYxMmEgPSAkKGA8ZGl2IGlkPSJodG1sXzY2MTg4ZDRmMWU1MjQ2YmQ5ZTczZGRmOTQ2ZjhmMTJhIiBzdHlsZT0id2lkdGg6IDEwMC4wJTsgaGVpZ2h0OiAxMDAuMCU7Ij5NYXphcmljb3MgKDQwODcgaGFiaXRhbnRlcyk8L2Rpdj5gKVswXTsKICAgICAgICAgICAgICAgIHBvcHVwXzIyZTQ5MTJlMDNjNTQwOGFiYTNmNGEyN2FhMzFhNDQ1LnNldENvbnRlbnQoaHRtbF82NjE4OGQ0ZjFlNTI0NmJkOWU3M2RkZjk0NmY4ZjEyYSk7CiAgICAgICAgICAgIAoKICAgICAgICAgICAgbWFya2VyX2M1ZDBjMTM0M2NiMjRkNGRiZjhkNDY4MWY1ZDgyNzYyLmJpbmRQb3B1cChwb3B1cF8yMmU0OTEyZTAzYzU0MDhhYmEzZjRhMjdhYTMxYTQ0NSkKICAgICAgICAgICAgOwoKICAgICAgICAgICAgCiAgICAgICAgCiAgICAKICAgICAgICB2YXIgbWFya2VyX2I3ZGE2YjU4MDg0MjQzZTk5ZjE1MDJiMGRjNDIxNWI2ID0gTC5tYXJrZXIoCiAgICAgICAgICAgIFs0Mi45MTUxNDU1MiwgLTguMDE2NTczMjc4XSwKICAgICAgICAgICAgewogICAgICAgICAgICAgICAgaWNvbjogbmV3IEwuSWNvbi5EZWZhdWx0KCksCiAgICAgICAgICAgICAgICB9CiAgICAgICAgICAgICkuYWRkVG8obWFwXzE2ZDFiOGM5NzNjZDQ3ZjlhODczNDBhMmYzMjhlZTIzKTsKICAgICAgICAKICAgIAogICAgICAgICAgICB2YXIgcG9wdXBfOTNhNWRhZTBmMzA5NDgzYWFiZDA1MTI0OGE3NDgwNTIgPSBMLnBvcHVwKHttYXhXaWR0aDogJzEwMCUnCiAgICAgICAgICAgIAogICAgICAgICAgICB9KTsKCiAgICAgICAgICAgIAogICAgICAgICAgICAgICAgdmFyIGh0bWxfNzZlMTA1YTM4NzQ5NGVmN2FlMzU0N2IxYmE2Y2QyMmYgPSAkKGA8ZGl2IGlkPSJodG1sXzc2ZTEwNWEzODc0OTRlZjdhZTM1NDdiMWJhNmNkMjJmIiBzdHlsZT0id2lkdGg6IDEwMC4wJTsgaGVpZ2h0OiAxMDAuMCU7Ij5NZWxpZGUgKDc0ODggaGFiaXRhbnRlcyk8L2Rpdj5gKVswXTsKICAgICAgICAgICAgICAgIHBvcHVwXzkzYTVkYWUwZjMwOTQ4M2FhYmQwNTEyNDhhNzQ4MDUyLnNldENvbnRlbnQoaHRtbF83NmUxMDVhMzg3NDk0ZWY3YWUzNTQ3YjFiYTZjZDIyZik7CiAgICAgICAgICAgIAoKICAgICAgICAgICAgbWFya2VyX2I3ZGE2YjU4MDg0MjQzZTk5ZjE1MDJiMGRjNDIxNWI2LmJpbmRQb3B1cChwb3B1cF85M2E1ZGFlMGYzMDk0ODNhYWJkMDUxMjQ4YTc0ODA1MikKICAgICAgICAgICAgOwoKICAgICAgICAgICAgCiAgICAgICAgCiAgICAKICAgICAgICB2YXIgbWFya2VyX2VlNDY1OWYxNTk5YjRiNDhiOTMyMzIzZGE1YzBiYzQ3ID0gTC5tYXJrZXIoCiAgICAgICAgICAgIFs0My4wODAyMzkxNCwgLTguMjM4MDE5NzY5XSwKICAgICAgICAgICAgewogICAgICAgICAgICAgICAgaWNvbjogbmV3IEwuSWNvbi5EZWZhdWx0KCksCiAgICAgICAgICAgICAgICB9CiAgICAgICAgICAgICkuYWRkVG8obWFwXzE2ZDFiOGM5NzNjZDQ3ZjlhODczNDBhMmYzMjhlZTIzKTsKICAgICAgICAKICAgIAogICAgICAgICAgICB2YXIgcG9wdXBfZTRmNjQ0MmZmNmYyNGEyZjhmYzlmNGY1NzNhMmM2YTMgPSBMLnBvcHVwKHttYXhXaWR0aDogJzEwMCUnCiAgICAgICAgICAgIAogICAgICAgICAgICB9KTsKCiAgICAgICAgICAgIAogICAgICAgICAgICAgICAgdmFyIGh0bWxfYjA3OWZlODcyZDA3NGRkNTg5ZTAzMTk2ZTVjMDZlZmEgPSAkKGA8ZGl2IGlkPSJodG1sX2IwNzlmZTg3MmQwNzRkZDU4OWUwMzE5NmU1YzA2ZWZhIiBzdHlsZT0id2lkdGg6IDEwMC4wJTsgaGVpZ2h0OiAxMDAuMCU7Ij5NZXPDrWEgKDI3MDAgaGFiaXRhbnRlcyk8L2Rpdj5gKVswXTsKICAgICAgICAgICAgICAgIHBvcHVwX2U0ZjY0NDJmZjZmMjRhMmY4ZmM5ZjRmNTczYTJjNmEzLnNldENvbnRlbnQoaHRtbF9iMDc5ZmU4NzJkMDc0ZGQ1ODllMDMxOTZlNWMwNmVmYSk7CiAgICAgICAgICAgIAoKICAgICAgICAgICAgbWFya2VyX2VlNDY1OWYxNTk5YjRiNDhiOTMyMzIzZGE1YzBiYzQ3LmJpbmRQb3B1cChwb3B1cF9lNGY2NDQyZmY2ZjI0YTJmOGZjOWY0ZjU3M2EyYzZhMykKICAgICAgICAgICAgOwoKICAgICAgICAgICAgCiAgICAgICAgCiAgICAKICAgICAgICB2YXIgbWFya2VyX2EyMzhlNTY4NWU1MjQ1ZWVhMWZhNWJlN2M1ODcxNmEwID0gTC5tYXJrZXIoCiAgICAgICAgICAgIFs0My4zNDczMDAzNCwgLTguMjA0OTE0OTU4XSwKICAgICAgICAgICAgewogICAgICAgICAgICAgICAgaWNvbjogbmV3IEwuSWNvbi5EZWZhdWx0KCksCiAgICAgICAgICAgICAgICB9CiAgICAgICAgICAgICkuYWRkVG8obWFwXzE2ZDFiOGM5NzNjZDQ3ZjlhODczNDBhMmYzMjhlZTIzKTsKICAgICAgICAKICAgIAogICAgICAgICAgICB2YXIgcG9wdXBfYTk1MWQzMmRmNjRlNDg1ZDhlMmI1ODMwNTQyNWYzOGUgPSBMLnBvcHVwKHttYXhXaWR0aDogJzEwMCUnCiAgICAgICAgICAgIAogICAgICAgICAgICB9KTsKCiAgICAgICAgICAgIAogICAgICAgICAgICAgICAgdmFyIGh0bWxfN2NiMGIxZmQ5MzhiNGI3Y2E2NDkzM2E0YjEwOGI2MWIgPSAkKGA8ZGl2IGlkPSJodG1sXzdjYjBiMWZkOTM4YjRiN2NhNjQ5MzNhNGIxMDhiNjFiIiBzdHlsZT0id2lkdGg6IDEwMC4wJTsgaGVpZ2h0OiAxMDAuMCU7Ij5NacOxbyAoNTgzMiBoYWJpdGFudGVzKTwvZGl2PmApWzBdOwogICAgICAgICAgICAgICAgcG9wdXBfYTk1MWQzMmRmNjRlNDg1ZDhlMmI1ODMwNTQyNWYzOGUuc2V0Q29udGVudChodG1sXzdjYjBiMWZkOTM4YjRiN2NhNjQ5MzNhNGIxMDhiNjFiKTsKICAgICAgICAgICAgCgogICAgICAgICAgICBtYXJrZXJfYTIzOGU1Njg1ZTUyNDVlZWExZmE1YmU3YzU4NzE2YTAuYmluZFBvcHVwKHBvcHVwX2E5NTFkMzJkZjY0ZTQ4NWQ4ZTJiNTgzMDU0MjVmMzhlKQogICAgICAgICAgICA7CgogICAgICAgICAgICAKICAgICAgICAKICAgIAogICAgICAgIHZhciBtYXJrZXJfMGY1NjQ4MjgzNThiNDM3OTg0OWZlY2IyY2MxZjE5MTIgPSBMLm1hcmtlcigKICAgICAgICAgICAgWzQzLjU2MTgzMDI4LCAtOC4wMTU0NDAzMDNdLAogICAgICAgICAgICB7CiAgICAgICAgICAgICAgICBpY29uOiBuZXcgTC5JY29uLkRlZmF1bHQoKSwKICAgICAgICAgICAgICAgIH0KICAgICAgICAgICAgKS5hZGRUbyhtYXBfMTZkMWI4Yzk3M2NkNDdmOWE4NzM0MGEyZjMyOGVlMjMpOwogICAgICAgIAogICAgCiAgICAgICAgICAgIHZhciBwb3B1cF8wNDg0NThhOGQ0MjQ0YjgzYjA3M2U2MjZhZDkzM2QyMCA9IEwucG9wdXAoe21heFdpZHRoOiAnMTAwJScKICAgICAgICAgICAgCiAgICAgICAgICAgIH0pOwoKICAgICAgICAgICAgCiAgICAgICAgICAgICAgICB2YXIgaHRtbF9kNzE1ZjYzNWRjNWU0YThkYjZjMTc5MGJjMDQzNmE4MSA9ICQoYDxkaXYgaWQ9Imh0bWxfZDcxNWY2MzVkYzVlNGE4ZGI2YzE3OTBiYzA0MzZhODEiIHN0eWxlPSJ3aWR0aDogMTAwLjAlOyBoZWlnaHQ6IDEwMC4wJTsiPk1vZWNoZSAoMTIyMCBoYWJpdGFudGVzKTwvZGl2PmApWzBdOwogICAgICAgICAgICAgICAgcG9wdXBfMDQ4NDU4YThkNDI0NGI4M2IwNzNlNjI2YWQ5MzNkMjAuc2V0Q29udGVudChodG1sX2Q3MTVmNjM1ZGM1ZTRhOGRiNmMxNzkwYmMwNDM2YTgxKTsKICAgICAgICAgICAgCgogICAgICAgICAgICBtYXJrZXJfMGY1NjQ4MjgzNThiNDM3OTg0OWZlY2IyY2MxZjE5MTIuYmluZFBvcHVwKHBvcHVwXzA0ODQ1OGE4ZDQyNDRiODNiMDczZTYyNmFkOTMzZDIwKQogICAgICAgICAgICA7CgogICAgICAgICAgICAKICAgICAgICAKICAgIAogICAgICAgIHZhciBtYXJrZXJfOGJiZjE1Y2MxZjRlNGJhMzlhYzE3MzcyMGZjMzAxM2MgPSBMLm1hcmtlcigKICAgICAgICAgICAgWzQzLjMzNDM3MTE5LCAtOC4wNTU4NzEwNjRdLAogICAgICAgICAgICB7CiAgICAgICAgICAgICAgICBpY29uOiBuZXcgTC5JY29uLkRlZmF1bHQoKSwKICAgICAgICAgICAgICAgIH0KICAgICAgICAgICAgKS5hZGRUbyhtYXBfMTZkMWI4Yzk3M2NkNDdmOWE4NzM0MGEyZjMyOGVlMjMpOwogICAgICAgIAogICAgCiAgICAgICAgICAgIHZhciBwb3B1cF80MWY1NGQ4YzZkYjU0MzhlYjdmOTM0NzM1ZTRiZjlkNCA9IEwucG9wdXAoe21heFdpZHRoOiAnMTAwJScKICAgICAgICAgICAgCiAgICAgICAgICAgIH0pOwoKICAgICAgICAgICAgCiAgICAgICAgICAgICAgICB2YXIgaHRtbF8zN2U4NzBkMjZmMTM0NTdmOGVmMTgwMTEwMDZhNGU0YiA9ICQoYDxkaXYgaWQ9Imh0bWxfMzdlODcwZDI2ZjEzNDU3ZjhlZjE4MDExMDA2YTRlNGIiIHN0eWxlPSJ3aWR0aDogMTAwLjAlOyBoZWlnaHQ6IDEwMC4wJTsiPk1vbmZlcm8gKDIwMTkgaGFiaXRhbnRlcyk8L2Rpdj5gKVswXTsKICAgICAgICAgICAgICAgIHBvcHVwXzQxZjU0ZDhjNmRiNTQzOGViN2Y5MzQ3MzVlNGJmOWQ0LnNldENvbnRlbnQoaHRtbF8zN2U4NzBkMjZmMTM0NTdmOGVmMTgwMTEwMDZhNGU0Yik7CiAgICAgICAgICAgIAoKICAgICAgICAgICAgbWFya2VyXzhiYmYxNWNjMWY0ZTRiYTM5YWMxNzM3MjBmYzMwMTNjLmJpbmRQb3B1cChwb3B1cF80MWY1NGQ4YzZkYjU0MzhlYjdmOTM0NzM1ZTRiZjlkNCkKICAgICAgICAgICAgOwoKICAgICAgICAgICAgCiAgICAgICAgCiAgICAKICAgICAgICB2YXIgbWFya2VyX2Q1NGY4ZmI0ZjE0ODQwYTNiZjZjNTJhZGRkYzY0YjJiID0gTC5tYXJrZXIoCiAgICAgICAgICAgIFs0My40NjA0NDQ2NywgLTguMjU0OTgwNTA2XSwKICAgICAgICAgICAgewogICAgICAgICAgICAgICAgaWNvbjogbmV3IEwuSWNvbi5EZWZhdWx0KCksCiAgICAgICAgICAgICAgICB9CiAgICAgICAgICAgICkuYWRkVG8obWFwXzE2ZDFiOGM5NzNjZDQ3ZjlhODczNDBhMmYzMjhlZTIzKTsKICAgICAgICAKICAgIAogICAgICAgICAgICB2YXIgcG9wdXBfNTdiYjFlMWM2MWU4NGU3YThmMjI3MTAyZWU0OWM5MTYgPSBMLnBvcHVwKHttYXhXaWR0aDogJzEwMCUnCiAgICAgICAgICAgIAogICAgICAgICAgICB9KTsKCiAgICAgICAgICAgIAogICAgICAgICAgICAgICAgdmFyIGh0bWxfNGFjZDljNGU2MDFhNDg1NDllNDdmYzdiYzk0NzJlNWEgPSAkKGA8ZGl2IGlkPSJodG1sXzRhY2Q5YzRlNjAxYTQ4NTQ5ZTQ3ZmM3YmM5NDcyZTVhIiBzdHlsZT0id2lkdGg6IDEwMC4wJTsgaGVpZ2h0OiAxMDAuMCU7Ij5NdWdhcmRvcyAoNTMzNSBoYWJpdGFudGVzKTwvZGl2PmApWzBdOwogICAgICAgICAgICAgICAgcG9wdXBfNTdiYjFlMWM2MWU4NGU3YThmMjI3MTAyZWU0OWM5MTYuc2V0Q29udGVudChodG1sXzRhY2Q5YzRlNjAxYTQ4NTQ5ZTQ3ZmM3YmM5NDcyZTVhKTsKICAgICAgICAgICAgCgogICAgICAgICAgICBtYXJrZXJfZDU0ZjhmYjRmMTQ4NDBhM2JmNmM1MmFkZGRjNjRiMmIuYmluZFBvcHVwKHBvcHVwXzU3YmIxZTFjNjFlODRlN2E4ZjIyNzEwMmVlNDljOTE2KQogICAgICAgICAgICA7CgogICAgICAgICAgICAKICAgICAgICAKICAgIAogICAgICAgIHZhciBtYXJrZXJfOWM3Y2UyNjk5ZjE3NDRmNDkwYjY2OGRhOTRhMzk5YzYgPSBMLm1hcmtlcigKICAgICAgICAgICAgWzQzLjEwNDQxNjU4LCAtOS4yMTY4MzYxMTddLAogICAgICAgICAgICB7CiAgICAgICAgICAgICAgICBpY29uOiBuZXcgTC5JY29uLkRlZmF1bHQoKSwKICAgICAgICAgICAgICAgIH0KICAgICAgICAgICAgKS5hZGRUbyhtYXBfMTZkMWI4Yzk3M2NkNDdmOWE4NzM0MGEyZjMyOGVlMjMpOwogICAgICAgIAogICAgCiAgICAgICAgICAgIHZhciBwb3B1cF9jYjgzZDQzODQ3ZjQ0ZTgxYmZjMTIwN2M1MWFlYTMyNCA9IEwucG9wdXAoe21heFdpZHRoOiAnMTAwJScKICAgICAgICAgICAgCiAgICAgICAgICAgIH0pOwoKICAgICAgICAgICAgCiAgICAgICAgICAgICAgICB2YXIgaHRtbF8yMDU1YmY1YzM3MWQ0Y2Y2OGE2MzY4OTljNjRlNmIwZiA9ICQoYDxkaXYgaWQ9Imh0bWxfMjA1NWJmNWMzNzFkNGNmNjhhNjM2ODk5YzY0ZTZiMGYiIHN0eWxlPSJ3aWR0aDogMTAwLjAlOyBoZWlnaHQ6IDEwMC4wJTsiPk11eMOtYSAoNDk0MSBoYWJpdGFudGVzKTwvZGl2PmApWzBdOwogICAgICAgICAgICAgICAgcG9wdXBfY2I4M2Q0Mzg0N2Y0NGU4MWJmYzEyMDdjNTFhZWEzMjQuc2V0Q29udGVudChodG1sXzIwNTViZjVjMzcxZDRjZjY4YTYzNjg5OWM2NGU2YjBmKTsKICAgICAgICAgICAgCgogICAgICAgICAgICBtYXJrZXJfOWM3Y2UyNjk5ZjE3NDRmNDkwYjY2OGRhOTRhMzk5YzYuYmluZFBvcHVwKHBvcHVwX2NiODNkNDM4NDdmNDRlODFiZmMxMjA3YzUxYWVhMzI0KQogICAgICAgICAgICA7CgogICAgICAgICAgICAKICAgICAgICAKICAgIAogICAgICAgIHZhciBtYXJrZXJfZDFkNjczYzY2NDU5NGRkZDhmN2JlZjdjNmZiYTJmYTkgPSBMLm1hcmtlcigKICAgICAgICAgICAgWzQyLjc3NDMyNDI5LCAtOS4wNTc2NDg1NjldLAogICAgICAgICAgICB7CiAgICAgICAgICAgICAgICBpY29uOiBuZXcgTC5JY29uLkRlZmF1bHQoKSwKICAgICAgICAgICAgICAgIH0KICAgICAgICAgICAgKS5hZGRUbyhtYXBfMTZkMWI4Yzk3M2NkNDdmOWE4NzM0MGEyZjMyOGVlMjMpOwogICAgICAgIAogICAgCiAgICAgICAgICAgIHZhciBwb3B1cF8wOGY1YjRmZDgyMTE0ZTk2OTczZjViNzYyZWJmMGVlMSA9IEwucG9wdXAoe21heFdpZHRoOiAnMTAwJScKICAgICAgICAgICAgCiAgICAgICAgICAgIH0pOwoKICAgICAgICAgICAgCiAgICAgICAgICAgICAgICB2YXIgaHRtbF8wZGM0MGY0NGU3YzU0YTZjYTllMDE3MzMxZDc5MGZjMyA9ICQoYDxkaXYgaWQ9Imh0bWxfMGRjNDBmNDRlN2M1NGE2Y2E5ZTAxNzMzMWQ3OTBmYzMiIHN0eWxlPSJ3aWR0aDogMTAwLjAlOyBoZWlnaHQ6IDEwMC4wJTsiPk11cm9zICg4ODM0IGhhYml0YW50ZXMpPC9kaXY+YClbMF07CiAgICAgICAgICAgICAgICBwb3B1cF8wOGY1YjRmZDgyMTE0ZTk2OTczZjViNzYyZWJmMGVlMS5zZXRDb250ZW50KGh0bWxfMGRjNDBmNDRlN2M1NGE2Y2E5ZTAxNzMzMWQ3OTBmYzMpOwogICAgICAgICAgICAKCiAgICAgICAgICAgIG1hcmtlcl9kMWQ2NzNjNjY0NTk0ZGRkOGY3YmVmN2M2ZmJhMmZhOS5iaW5kUG9wdXAocG9wdXBfMDhmNWI0ZmQ4MjExNGU5Njk3M2Y1Yjc2MmViZjBlZTEpCiAgICAgICAgICAgIDsKCiAgICAgICAgICAgIAogICAgICAgIAogICAgCiAgICAgICAgdmFyIG1hcmtlcl9mMTA4MDUyNDFjMDc0M2VkODY3YTRhYzExNzhiNTJlMyA9IEwubWFya2VyKAogICAgICAgICAgICBbNDMuNTAxMTQyNjgsIC04LjE5MjQ0NjU2OV0sCiAgICAgICAgICAgIHsKICAgICAgICAgICAgICAgIGljb246IG5ldyBMLkljb24uRGVmYXVsdCgpLAogICAgICAgICAgICAgICAgfQogICAgICAgICAgICApLmFkZFRvKG1hcF8xNmQxYjhjOTczY2Q0N2Y5YTg3MzQwYTJmMzI4ZWUyMyk7CiAgICAgICAgCiAgICAKICAgICAgICAgICAgdmFyIHBvcHVwXzljYmRiMWZmYTdmMDRjOTVhNWRmMTZhOTJjY2EzNGM5ID0gTC5wb3B1cCh7bWF4V2lkdGg6ICcxMDAlJwogICAgICAgICAgICAKICAgICAgICAgICAgfSk7CgogICAgICAgICAgICAKICAgICAgICAgICAgICAgIHZhciBodG1sX2NlMjAwY2U5ZTBmNDQzMTA5YzM5NDE4MTUxNjQ4MTUzID0gJChgPGRpdiBpZD0iaHRtbF9jZTIwMGNlOWUwZjQ0MzEwOWMzOTQxODE1MTY0ODE1MyIgc3R5bGU9IndpZHRoOiAxMDAuMCU7IGhlaWdodDogMTAwLjAlOyI+TmFyw7NuICgzOTQyNiBoYWJpdGFudGVzKTwvZGl2PmApWzBdOwogICAgICAgICAgICAgICAgcG9wdXBfOWNiZGIxZmZhN2YwNGM5NWE1ZGYxNmE5MmNjYTM0Yzkuc2V0Q29udGVudChodG1sX2NlMjAwY2U5ZTBmNDQzMTA5YzM5NDE4MTUxNjQ4MTUzKTsKICAgICAgICAgICAgCgogICAgICAgICAgICBtYXJrZXJfZjEwODA1MjQxYzA3NDNlZDg2N2E0YWMxMTc4YjUyZTMuYmluZFBvcHVwKHBvcHVwXzljYmRiMWZmYTdmMDRjOTVhNWRmMTZhOTJjY2EzNGM5KQogICAgICAgICAgICA7CgogICAgICAgICAgICAKICAgICAgICAKICAgIAogICAgICAgIHZhciBtYXJrZXJfNzk2Yzc2NmE5NTI3NGMzYmFjNjBiMGJhMmFmNjFkYTMgPSBMLm1hcmtlcigKICAgICAgICAgICAgWzQzLjUwMTE0NjkxLCAtOC4xNTY4NTkxMjc5OTk5OTldLAogICAgICAgICAgICB7CiAgICAgICAgICAgICAgICBpY29uOiBuZXcgTC5JY29uLkRlZmF1bHQoKSwKICAgICAgICAgICAgICAgIH0KICAgICAgICAgICAgKS5hZGRUbyhtYXBfMTZkMWI4Yzk3M2NkNDdmOWE4NzM0MGEyZjMyOGVlMjMpOwogICAgICAgIAogICAgCiAgICAgICAgICAgIHZhciBwb3B1cF81MjY3NjExZDMwYjk0YTIwOWFjY2UxMGM1MDY4YmEyNiA9IEwucG9wdXAoe21heFdpZHRoOiAnMTAwJScKICAgICAgICAgICAgCiAgICAgICAgICAgIH0pOwoKICAgICAgICAgICAgCiAgICAgICAgICAgICAgICB2YXIgaHRtbF82YjJhOTc0MGIzNmY0MDJjODYyMGE5MzYwNjkxYjczMCA9ICQoYDxkaXYgaWQ9Imh0bWxfNmIyYTk3NDBiMzZmNDAyYzg2MjBhOTM2MDY5MWI3MzAiIHN0eWxlPSJ3aWR0aDogMTAwLjAlOyBoZWlnaHQ6IDEwMC4wJTsiPk5lZGEgKDUxOTcgaGFiaXRhbnRlcyk8L2Rpdj5gKVswXTsKICAgICAgICAgICAgICAgIHBvcHVwXzUyNjc2MTFkMzBiOTRhMjA5YWNjZTEwYzUwNjhiYTI2LnNldENvbnRlbnQoaHRtbF82YjJhOTc0MGIzNmY0MDJjODYyMGE5MzYwNjkxYjczMCk7CiAgICAgICAgICAgIAoKICAgICAgICAgICAgbWFya2VyXzc5NmM3NjZhOTUyNzRjM2JhYzYwYjBiYTJhZjYxZGEzLmJpbmRQb3B1cChwb3B1cF81MjY3NjExZDMwYjk0YTIwOWFjY2UxMGM1MDY4YmEyNikKICAgICAgICAgICAgOwoKICAgICAgICAgICAgCiAgICAgICAgCiAgICAKICAgICAgICB2YXIgbWFya2VyX2Q2MjIwNzgzOWE4NzRmNDBhOTdmMDliYjJmZjU4ZmQwID0gTC5tYXJrZXIoCiAgICAgICAgICAgIFs0Mi45MDk3ODA5MiwgLTguNzM2MDA4MTY3XSwKICAgICAgICAgICAgewogICAgICAgICAgICAgICAgaWNvbjogbmV3IEwuSWNvbi5EZWZhdWx0KCksCiAgICAgICAgICAgICAgICB9CiAgICAgICAgICAgICkuYWRkVG8obWFwXzE2ZDFiOGM5NzNjZDQ3ZjlhODczNDBhMmYzMjhlZTIzKTsKICAgICAgICAKICAgIAogICAgICAgICAgICB2YXIgcG9wdXBfM2UyODdhYTU4Y2Q3NGJmOTlhZGFmOTkxYmFiNmY4NzYgPSBMLnBvcHVwKHttYXhXaWR0aDogJzEwMCUnCiAgICAgICAgICAgIAogICAgICAgICAgICB9KTsKCiAgICAgICAgICAgIAogICAgICAgICAgICAgICAgdmFyIGh0bWxfYmNkMmVhYzc0N2MwNDc0NGE4MjViNTA3OWQwZjFiMTcgPSAkKGA8ZGl2IGlkPSJodG1sX2JjZDJlYWM3NDdjMDQ3NDRhODI1YjUwNzlkMGYxYjE3IiBzdHlsZT0id2lkdGg6IDEwMC4wJTsgaGVpZ2h0OiAxMDAuMCU7Ij5OZWdyZWlyYSAoNjkxMSBoYWJpdGFudGVzKTwvZGl2PmApWzBdOwogICAgICAgICAgICAgICAgcG9wdXBfM2UyODdhYTU4Y2Q3NGJmOTlhZGFmOTkxYmFiNmY4NzYuc2V0Q29udGVudChodG1sX2JjZDJlYWM3NDdjMDQ3NDRhODI1YjUwNzlkMGYxYjE3KTsKICAgICAgICAgICAgCgogICAgICAgICAgICBtYXJrZXJfZDYyMjA3ODM5YTg3NGY0MGE5N2YwOWJiMmZmNThmZDAuYmluZFBvcHVwKHBvcHVwXzNlMjg3YWE1OGNkNzRiZjk5YWRhZjk5MWJhYjZmODc2KQogICAgICAgICAgICA7CgogICAgICAgICAgICAKICAgICAgICAKICAgIAogICAgICAgIHZhciBtYXJrZXJfYzAwM2E0YTgwM2EyNGMxMjk0NWVmZmJhYjY4ODZiYWEgPSBMLm1hcmtlcigKICAgICAgICAgICAgWzQyLjc4NTE5ODQ2LCAtOC44ODc4MjQ4MTRdLAogICAgICAgICAgICB7CiAgICAgICAgICAgICAgICBpY29uOiBuZXcgTC5JY29uLkRlZmF1bHQoKSwKICAgICAgICAgICAgICAgIH0KICAgICAgICAgICAgKS5hZGRUbyhtYXBfMTZkMWI4Yzk3M2NkNDdmOWE4NzM0MGEyZjMyOGVlMjMpOwogICAgICAgIAogICAgCiAgICAgICAgICAgIHZhciBwb3B1cF9lOWMxNTFlZjYxZjA0MzIwYTU5ODZiOTdmNDBhYWM1NCA9IEwucG9wdXAoe21heFdpZHRoOiAnMTAwJScKICAgICAgICAgICAgCiAgICAgICAgICAgIH0pOwoKICAgICAgICAgICAgCiAgICAgICAgICAgICAgICB2YXIgaHRtbF85ZWIyYTdkZGFlYTA0ZjdiYTVmZWIyNjVhNmY0NGJkYiA9ICQoYDxkaXYgaWQ9Imh0bWxfOWViMmE3ZGRhZWEwNGY3YmE1ZmViMjY1YTZmNDRiZGIiIHN0eWxlPSJ3aWR0aDogMTAwLjAlOyBoZWlnaHQ6IDEwMC4wJTsiPk5vaWEgKDE0MzM3IGhhYml0YW50ZXMpPC9kaXY+YClbMF07CiAgICAgICAgICAgICAgICBwb3B1cF9lOWMxNTFlZjYxZjA0MzIwYTU5ODZiOTdmNDBhYWM1NC5zZXRDb250ZW50KGh0bWxfOWViMmE3ZGRhZWEwNGY3YmE1ZmViMjY1YTZmNDRiZGIpOwogICAgICAgICAgICAKCiAgICAgICAgICAgIG1hcmtlcl9jMDAzYTRhODAzYTI0YzEyOTQ1ZWZmYmFiNjg4NmJhYS5iaW5kUG9wdXAocG9wdXBfZTljMTUxZWY2MWYwNDMyMGE1OTg2Yjk3ZjQwYWFjNTQpCiAgICAgICAgICAgIDsKCiAgICAgICAgICAgIAogICAgICAgIAogICAgCiAgICAgICAgdmFyIG1hcmtlcl9hNTM5NWJkYTk0Nzc0ZDBiOTFhODI2OWNiZWFjZTAwOSA9IEwubWFya2VyKAogICAgICAgICAgICBbNDMuMzMzMDUwODQsIC04LjMxNzExOTE0N10sCiAgICAgICAgICAgIHsKICAgICAgICAgICAgICAgIGljb246IG5ldyBMLkljb24uRGVmYXVsdCgpLAogICAgICAgICAgICAgICAgfQogICAgICAgICAgICApLmFkZFRvKG1hcF8xNmQxYjhjOTczY2Q0N2Y5YTg3MzQwYTJmMzI4ZWUyMyk7CiAgICAgICAgCiAgICAKICAgICAgICAgICAgdmFyIHBvcHVwX2E0YmRmN2ZkYzQwMDQ1ZTU5ZjQ0M2QwZGY3YzEzMTQwID0gTC5wb3B1cCh7bWF4V2lkdGg6ICcxMDAlJwogICAgICAgICAgICAKICAgICAgICAgICAgfSk7CgogICAgICAgICAgICAKICAgICAgICAgICAgICAgIHZhciBodG1sXzZkMjU4N2M3YzA2ZTQ4ODA5Mzc4YjFkZmU4MzVhZTliID0gJChgPGRpdiBpZD0iaHRtbF82ZDI1ODdjN2MwNmU0ODgwOTM3OGIxZGZlODM1YWU5YiIgc3R5bGU9IndpZHRoOiAxMDAuMCU7IGhlaWdodDogMTAwLjAlOyI+T2xlaXJvcyAoMzUwMTMgaGFiaXRhbnRlcyk8L2Rpdj5gKVswXTsKICAgICAgICAgICAgICAgIHBvcHVwX2E0YmRmN2ZkYzQwMDQ1ZTU5ZjQ0M2QwZGY3YzEzMTQwLnNldENvbnRlbnQoaHRtbF82ZDI1ODdjN2MwNmU0ODgwOTM3OGIxZGZlODM1YWU5Yik7CiAgICAgICAgICAgIAoKICAgICAgICAgICAgbWFya2VyX2E1Mzk1YmRhOTQ3NzRkMGI5MWE4MjY5Y2JlYWNlMDA5LmJpbmRQb3B1cChwb3B1cF9hNGJkZjdmZGM0MDA0NWU1OWY0NDNkMGRmN2MxMzE0MCkKICAgICAgICAgICAgOwoKICAgICAgICAgICAgCiAgICAgICAgCiAgICAKICAgICAgICB2YXIgbWFya2VyXzhiYjI1NjY5MmM1YjQyNDA5YmRlYmRiMzg2YmU0NWUwID0gTC5tYXJrZXIoCiAgICAgICAgICAgIFs0My4wNzY2MjM2MywgLTguNDA3NjkyOTA4XSwKICAgICAgICAgICAgewogICAgICAgICAgICAgICAgaWNvbjogbmV3IEwuSWNvbi5EZWZhdWx0KCksCiAgICAgICAgICAgICAgICB9CiAgICAgICAgICAgICkuYWRkVG8obWFwXzE2ZDFiOGM5NzNjZDQ3ZjlhODczNDBhMmYzMjhlZTIzKTsKICAgICAgICAKICAgIAogICAgICAgICAgICB2YXIgcG9wdXBfOGIzNjZlMjNjMmEzNDVkYWEwNTJlNDFhYzMyODg1YmUgPSBMLnBvcHVwKHttYXhXaWR0aDogJzEwMCUnCiAgICAgICAgICAgIAogICAgICAgICAgICB9KTsKCiAgICAgICAgICAgIAogICAgICAgICAgICAgICAgdmFyIGh0bWxfMzc4YTU0YWIwZWJmNDRmNmE2ZGQyZDMyZmM3MTM0YmEgPSAkKGA8ZGl2IGlkPSJodG1sXzM3OGE1NGFiMGViZjQ0ZjZhNmRkMmQzMmZjNzEzNGJhIiBzdHlsZT0id2lkdGg6IDEwMC4wJTsgaGVpZ2h0OiAxMDAuMCU7Ij5PcmRlcyAoMTI2NjkgaGFiaXRhbnRlcyk8L2Rpdj5gKVswXTsKICAgICAgICAgICAgICAgIHBvcHVwXzhiMzY2ZTIzYzJhMzQ1ZGFhMDUyZTQxYWMzMjg4NWJlLnNldENvbnRlbnQoaHRtbF8zNzhhNTRhYjBlYmY0NGY2YTZkZDJkMzJmYzcxMzRiYSk7CiAgICAgICAgICAgIAoKICAgICAgICAgICAgbWFya2VyXzhiYjI1NjY5MmM1YjQyNDA5YmRlYmRiMzg2YmU0NWUwLmJpbmRQb3B1cChwb3B1cF84YjM2NmUyM2MyYTM0NWRhYTA1MmU0MWFjMzI4ODViZSkKICAgICAgICAgICAgOwoKICAgICAgICAgICAgCiAgICAgICAgCiAgICAKICAgICAgICB2YXIgbWFya2VyX2E5MTI3OWE4NmQyZjQxMDhhNzcwYzA5NDBkZWYxYjJkID0gTC5tYXJrZXIoCiAgICAgICAgICAgIFs0Mi45Njg3NzExMiwgLTguNDQxODYxOTE3XSwKICAgICAgICAgICAgewogICAgICAgICAgICAgICAgaWNvbjogbmV3IEwuSWNvbi5EZWZhdWx0KCksCiAgICAgICAgICAgICAgICB9CiAgICAgICAgICAgICkuYWRkVG8obWFwXzE2ZDFiOGM5NzNjZDQ3ZjlhODczNDBhMmYzMjhlZTIzKTsKICAgICAgICAKICAgIAogICAgICAgICAgICB2YXIgcG9wdXBfNTY2NjUxM2Y1MGE5NDVhMGJiZDI5OTNmMDQ5YTkyOTggPSBMLnBvcHVwKHttYXhXaWR0aDogJzEwMCUnCiAgICAgICAgICAgIAogICAgICAgICAgICB9KTsKCiAgICAgICAgICAgIAogICAgICAgICAgICAgICAgdmFyIGh0bWxfOTc5MjgxYmU0YTU5NGU5MGIyZDVhNGJiN2QyMDJlZGIgPSAkKGA8ZGl2IGlkPSJodG1sXzk3OTI4MWJlNGE1OTRlOTBiMmQ1YTRiYjdkMjAyZWRiIiBzdHlsZT0id2lkdGg6IDEwMC4wJTsgaGVpZ2h0OiAxMDAuMCU7Ij5Pcm9zbyAoNzQyMCBoYWJpdGFudGVzKTwvZGl2PmApWzBdOwogICAgICAgICAgICAgICAgcG9wdXBfNTY2NjUxM2Y1MGE5NDVhMGJiZDI5OTNmMDQ5YTkyOTguc2V0Q29udGVudChodG1sXzk3OTI4MWJlNGE1OTRlOTBiMmQ1YTRiYjdkMjAyZWRiKTsKICAgICAgICAgICAgCgogICAgICAgICAgICBtYXJrZXJfYTkxMjc5YTg2ZDJmNDEwOGE3NzBjMDk0MGRlZjFiMmQuYmluZFBvcHVwKHBvcHVwXzU2NjY1MTNmNTBhOTQ1YTBiYmQyOTkzZjA0OWE5Mjk4KQogICAgICAgICAgICA7CgogICAgICAgICAgICAKICAgICAgICAKICAgIAogICAgICAgIHZhciBtYXJrZXJfYWE0NmUxNzQ3NzMwNDQ4MmFmMmZlNjc5OGMxMGVjYmYgPSBMLm1hcmtlcigKICAgICAgICAgICAgWzQzLjY4NDY5NDQ0LCAtNy44NTQ2MTExMTEwMDAwMDA1XSwKICAgICAgICAgICAgewogICAgICAgICAgICAgICAgaWNvbjogbmV3IEwuSWNvbi5EZWZhdWx0KCksCiAgICAgICAgICAgICAgICB9CiAgICAgICAgICAgICkuYWRkVG8obWFwXzE2ZDFiOGM5NzNjZDQ3ZjlhODczNDBhMmYzMjhlZTIzKTsKICAgICAgICAKICAgIAogICAgICAgICAgICB2YXIgcG9wdXBfNDcxMTllNTNhYzVjNGY2ZmFiMTY3NzA3NWZiMjcyMWYgPSBMLnBvcHVwKHttYXhXaWR0aDogJzEwMCUnCiAgICAgICAgICAgIAogICAgICAgICAgICB9KTsKCiAgICAgICAgICAgIAogICAgICAgICAgICAgICAgdmFyIGh0bWxfZDhhZjk0ZWI5ZWQ0NGEyOWE2M2JkMDI2NTU3ZTU1MzQgPSAkKGA8ZGl2IGlkPSJodG1sX2Q4YWY5NGViOWVkNDRhMjlhNjNiZDAyNjU1N2U1NTM0IiBzdHlsZT0id2lkdGg6IDEwMC4wJTsgaGVpZ2h0OiAxMDAuMCU7Ij5PcnRpZ3VlaXJhICg2MDkzIGhhYml0YW50ZXMpPC9kaXY+YClbMF07CiAgICAgICAgICAgICAgICBwb3B1cF80NzExOWU1M2FjNWM0ZjZmYWIxNjc3MDc1ZmIyNzIxZi5zZXRDb250ZW50KGh0bWxfZDhhZjk0ZWI5ZWQ0NGEyOWE2M2JkMDI2NTU3ZTU1MzQpOwogICAgICAgICAgICAKCiAgICAgICAgICAgIG1hcmtlcl9hYTQ2ZTE3NDc3MzA0NDgyYWYyZmU2Nzk4YzEwZWNiZi5iaW5kUG9wdXAocG9wdXBfNDcxMTllNTNhYzVjNGY2ZmFiMTY3NzA3NWZiMjcyMWYpCiAgICAgICAgICAgIDsKCiAgICAgICAgICAgIAogICAgICAgIAogICAgCiAgICAgICAgdmFyIG1hcmtlcl80NDBjYzU5ZGE4Y2U0NzkxODI4MDM2NDQ2Yjc0NmFkZiA9IEwubWFya2VyKAogICAgICAgICAgICBbNDIuODQyODY5MTksIC04LjkwODM1MzAzM10sCiAgICAgICAgICAgIHsKICAgICAgICAgICAgICAgIGljb246IG5ldyBMLkljb24uRGVmYXVsdCgpLAogICAgICAgICAgICAgICAgfQogICAgICAgICAgICApLmFkZFRvKG1hcF8xNmQxYjhjOTczY2Q0N2Y5YTg3MzQwYTJmMzI4ZWUyMyk7CiAgICAgICAgCiAgICAKICAgICAgICAgICAgdmFyIHBvcHVwXzM3OWExMDcxYzgzYjQxNTE5MzFlZDgzNmNhNDkwNWExID0gTC5wb3B1cCh7bWF4V2lkdGg6ICcxMDAlJwogICAgICAgICAgICAKICAgICAgICAgICAgfSk7CgogICAgICAgICAgICAKICAgICAgICAgICAgICAgIHZhciBodG1sXzllYzZiOTMxYzlmODQ4MDFiYWY5OGFlOGY4ZDJmYzg2ID0gJChgPGRpdiBpZD0iaHRtbF85ZWM2YjkzMWM5Zjg0ODAxYmFmOThhZThmOGQyZmM4NiIgc3R5bGU9IndpZHRoOiAxMDAuMCU7IGhlaWdodDogMTAwLjAlOyI+T3V0ZXMgKDY2MDYgaGFiaXRhbnRlcyk8L2Rpdj5gKVswXTsKICAgICAgICAgICAgICAgIHBvcHVwXzM3OWExMDcxYzgzYjQxNTE5MzFlZDgzNmNhNDkwNWExLnNldENvbnRlbnQoaHRtbF85ZWM2YjkzMWM5Zjg0ODAxYmFmOThhZThmOGQyZmM4Nik7CiAgICAgICAgICAgIAoKICAgICAgICAgICAgbWFya2VyXzQ0MGNjNTlkYThjZTQ3OTE4MjgwMzY0NDZiNzQ2YWRmLmJpbmRQb3B1cChwb3B1cF8zNzlhMTA3MWM4M2I0MTUxOTMxZWQ4MzZjYTQ5MDVhMSkKICAgICAgICAgICAgOwoKICAgICAgICAgICAgCiAgICAgICAgCiAgICAKICAgICAgICB2YXIgbWFya2VyXzFkNzY2ZWJjMTE1ZTRiZWVhOGU1YTEyMDEzY2U1MGVmID0gTC5tYXJrZXIoCiAgICAgICAgICAgIFs0My4yODU1NTg5MiwgLTguMTczNTM2ODE0XSwKICAgICAgICAgICAgewogICAgICAgICAgICAgICAgaWNvbjogbmV3IEwuSWNvbi5EZWZhdWx0KCksCiAgICAgICAgICAgICAgICB9CiAgICAgICAgICAgICkuYWRkVG8obWFwXzE2ZDFiOGM5NzNjZDQ3ZjlhODczNDBhMmYzMjhlZTIzKTsKICAgICAgICAKICAgIAogICAgICAgICAgICB2YXIgcG9wdXBfMTAwN2Y3ZjA5YjY2NDRmNzg2YTc5NTc5YzNlYmE5MjkgPSBMLnBvcHVwKHttYXhXaWR0aDogJzEwMCUnCiAgICAgICAgICAgIAogICAgICAgICAgICB9KTsKCiAgICAgICAgICAgIAogICAgICAgICAgICAgICAgdmFyIGh0bWxfYTRmNmE4ZTQxZTExNDkwNjlhZjM4Njk2MDAyZjI3YmIgPSAkKGA8ZGl2IGlkPSJodG1sX2E0ZjZhOGU0MWUxMTQ5MDY5YWYzODY5NjAwMmYyN2JiIiBzdHlsZT0id2lkdGg6IDEwMC4wJTsgaGVpZ2h0OiAxMDAuMCU7Ij5QYWRlcm5lICgyNDQ1IGhhYml0YW50ZXMpPC9kaXY+YClbMF07CiAgICAgICAgICAgICAgICBwb3B1cF8xMDA3ZjdmMDliNjY0NGY3ODZhNzk1NzljM2ViYTkyOS5zZXRDb250ZW50KGh0bWxfYTRmNmE4ZTQxZTExNDkwNjlhZjM4Njk2MDAyZjI3YmIpOwogICAgICAgICAgICAKCiAgICAgICAgICAgIG1hcmtlcl8xZDc2NmViYzExNWU0YmVlYThlNWExMjAxM2NlNTBlZi5iaW5kUG9wdXAocG9wdXBfMTAwN2Y3ZjA5YjY2NDRmNzg2YTc5NTc5YzNlYmE5MjkpCiAgICAgICAgICAgIDsKCiAgICAgICAgICAgIAogICAgICAgIAogICAgCiAgICAgICAgdmFyIG1hcmtlcl9iMTdiYTQxOGFiNjY0MDM1YTY3MTA3ZDBhMzBhZDEzZiA9IEwubWFya2VyKAogICAgICAgICAgICBbNDIuNzM3MzI3MTcsIC04LjY2MDQxMDZdLAogICAgICAgICAgICB7CiAgICAgICAgICAgICAgICBpY29uOiBuZXcgTC5JY29uLkRlZmF1bHQoKSwKICAgICAgICAgICAgICAgIH0KICAgICAgICAgICAgKS5hZGRUbyhtYXBfMTZkMWI4Yzk3M2NkNDdmOWE4NzM0MGEyZjMyOGVlMjMpOwogICAgICAgIAogICAgCiAgICAgICAgICAgIHZhciBwb3B1cF8wZjE2NGY2ZGQ3MmI0MmU0YjU4MTc2YWVjNDE4OGFjOCA9IEwucG9wdXAoe21heFdpZHRoOiAnMTAwJScKICAgICAgICAgICAgCiAgICAgICAgICAgIH0pOwoKICAgICAgICAgICAgCiAgICAgICAgICAgICAgICB2YXIgaHRtbF80Mzg5ZjFlN2NjNjA0OTQyYjY2MTFlMGFjMzBkNTFlOCA9ICQoYDxkaXYgaWQ9Imh0bWxfNDM4OWYxZTdjYzYwNDk0MmI2NjExZTBhYzMwZDUxZTgiIHN0eWxlPSJ3aWR0aDogMTAwLjAlOyBoZWlnaHQ6IDEwMC4wJTsiPlBhZHLDs24gKDg1ODEgaGFiaXRhbnRlcyk8L2Rpdj5gKVswXTsKICAgICAgICAgICAgICAgIHBvcHVwXzBmMTY0ZjZkZDcyYjQyZTRiNTgxNzZhZWM0MTg4YWM4LnNldENvbnRlbnQoaHRtbF80Mzg5ZjFlN2NjNjA0OTQyYjY2MTFlMGFjMzBkNTFlOCk7CiAgICAgICAgICAgIAoKICAgICAgICAgICAgbWFya2VyX2IxN2JhNDE4YWI2NjQwMzVhNjcxMDdkMGEzMGFkMTNmLmJpbmRQb3B1cChwb3B1cF8wZjE2NGY2ZGQ3MmI0MmU0YjU4MTc2YWVjNDE4OGFjOCkKICAgICAgICAgICAgOwoKICAgICAgICAgICAgCiAgICAgICAgCiAgICAKICAgICAgICB2YXIgbWFya2VyXzc3ZWM5NjI3YTVkOTQxMDRhOGUxZjkxYmMzZTUwNjQ2ID0gTC5tYXJrZXIoCiAgICAgICAgICAgIFs0Mi45MDQ4OTcyNSwgLTguMzYyNDg0MzQ0XSwKICAgICAgICAgICAgewogICAgICAgICAgICAgICAgaWNvbjogbmV3IEwuSWNvbi5EZWZhdWx0KCksCiAgICAgICAgICAgICAgICB9CiAgICAgICAgICAgICkuYWRkVG8obWFwXzE2ZDFiOGM5NzNjZDQ3ZjlhODczNDBhMmYzMjhlZTIzKTsKICAgICAgICAKICAgIAogICAgICAgICAgICB2YXIgcG9wdXBfODU1NzdkNjc4NjljNDM4NmI4OGM4OTgzN2NiYTczMzMgPSBMLnBvcHVwKHttYXhXaWR0aDogJzEwMCUnCiAgICAgICAgICAgIAogICAgICAgICAgICB9KTsKCiAgICAgICAgICAgIAogICAgICAgICAgICAgICAgdmFyIGh0bWxfYTU3MDNlMmIwNGRjNDhhYWFmMGE3OTEwNjM3NGI4NTUgPSAkKGA8ZGl2IGlkPSJodG1sX2E1NzAzZTJiMDRkYzQ4YWFhZjBhNzkxMDYzNzRiODU1IiBzdHlsZT0id2lkdGg6IDEwMC4wJTsgaGVpZ2h0OiAxMDAuMCU7Ij5PIFBpbm8gKDQ2NTMgaGFiaXRhbnRlcyk8L2Rpdj5gKVswXTsKICAgICAgICAgICAgICAgIHBvcHVwXzg1NTc3ZDY3ODY5YzQzODZiODhjODk4MzdjYmE3MzMzLnNldENvbnRlbnQoaHRtbF9hNTcwM2UyYjA0ZGM0OGFhYWYwYTc5MTA2Mzc0Yjg1NSk7CiAgICAgICAgICAgIAoKICAgICAgICAgICAgbWFya2VyXzc3ZWM5NjI3YTVkOTQxMDRhOGUxZjkxYmMzZTUwNjQ2LmJpbmRQb3B1cChwb3B1cF84NTU3N2Q2Nzg2OWM0Mzg2Yjg4Yzg5ODM3Y2JhNzMzMykKICAgICAgICAgICAgOwoKICAgICAgICAgICAgCiAgICAgICAgCiAgICAKICAgICAgICB2YXIgbWFya2VyXzI1NzcyZWM5MzA3YzQyYjk4NzE3MzBiN2NkZmE0MGEwID0gTC5tYXJrZXIoCiAgICAgICAgICAgIFs0Mi42MDMyMzQ1MywgLTguOTM5MDEwNzM5XSwKICAgICAgICAgICAgewogICAgICAgICAgICAgICAgaWNvbjogbmV3IEwuSWNvbi5EZWZhdWx0KCksCiAgICAgICAgICAgICAgICB9CiAgICAgICAgICAgICkuYWRkVG8obWFwXzE2ZDFiOGM5NzNjZDQ3ZjlhODczNDBhMmYzMjhlZTIzKTsKICAgICAgICAKICAgIAogICAgICAgICAgICB2YXIgcG9wdXBfZjNkYTdiMjhlODE4NGYyMWEwNWM0NjQwZjI4Yjc0ZjUgPSBMLnBvcHVwKHttYXhXaWR0aDogJzEwMCUnCiAgICAgICAgICAgIAogICAgICAgICAgICB9KTsKCiAgICAgICAgICAgIAogICAgICAgICAgICAgICAgdmFyIGh0bWxfODFiYWY3M2QxZjllNGI3MDhlMjUxYmIzMWE4MTFlZWIgPSAkKGA8ZGl2IGlkPSJodG1sXzgxYmFmNzNkMWY5ZTRiNzA4ZTI1MWJiMzFhODExZWViIiBzdHlsZT0id2lkdGg6IDEwMC4wJTsgaGVpZ2h0OiAxMDAuMCU7Ij5BIFBvYnJhIGRvIENhcmFtacOxYWwgKDk1MjUgaGFiaXRhbnRlcyk8L2Rpdj5gKVswXTsKICAgICAgICAgICAgICAgIHBvcHVwX2YzZGE3YjI4ZTgxODRmMjFhMDVjNDY0MGYyOGI3NGY1LnNldENvbnRlbnQoaHRtbF84MWJhZjczZDFmOWU0YjcwOGUyNTFiYjMxYTgxMWVlYik7CiAgICAgICAgICAgIAoKICAgICAgICAgICAgbWFya2VyXzI1NzcyZWM5MzA3YzQyYjk4NzE3MzBiN2NkZmE0MGEwLmJpbmRQb3B1cChwb3B1cF9mM2RhN2IyOGU4MTg0ZjIxYTA1YzQ2NDBmMjhiNzRmNSkKICAgICAgICAgICAgOwoKICAgICAgICAgICAgCiAgICAgICAgCiAgICAKICAgICAgICB2YXIgbWFya2VyX2YzMWU4NzdmNmEzZDRmNjY5NDFiN2M2MGZiZjMzNDAxID0gTC5tYXJrZXIoCiAgICAgICAgICAgIFs0My4yNDMyNTMwOCwgLTguOTAwNjk3MjYxXSwKICAgICAgICAgICAgewogICAgICAgICAgICAgICAgaWNvbjogbmV3IEwuSWNvbi5EZWZhdWx0KCksCiAgICAgICAgICAgICAgICB9CiAgICAgICAgICAgICkuYWRkVG8obWFwXzE2ZDFiOGM5NzNjZDQ3ZjlhODczNDBhMmYzMjhlZTIzKTsKICAgICAgICAKICAgIAogICAgICAgICAgICB2YXIgcG9wdXBfMGNjNWJiMjlmOGI4NDQ4NjhlMzk0MzYwMDY3NjZhZjkgPSBMLnBvcHVwKHttYXhXaWR0aDogJzEwMCUnCiAgICAgICAgICAgIAogICAgICAgICAgICB9KTsKCiAgICAgICAgICAgIAogICAgICAgICAgICAgICAgdmFyIGh0bWxfZWNjNzA0MjRhYWFkNGE1MGFhZjBmOWJmZDE2OTFkZWIgPSAkKGA8ZGl2IGlkPSJodG1sX2VjYzcwNDI0YWFhZDRhNTBhYWYwZjliZmQxNjkxZGViIiBzdHlsZT0id2lkdGg6IDEwMC4wJTsgaGVpZ2h0OiAxMDAuMCU7Ij5Qb250ZWNlc28gKDU3MDMgaGFiaXRhbnRlcyk8L2Rpdj5gKVswXTsKICAgICAgICAgICAgICAgIHBvcHVwXzBjYzViYjI5ZjhiODQ0ODY4ZTM5NDM2MDA2NzY2YWY5LnNldENvbnRlbnQoaHRtbF9lY2M3MDQyNGFhYWQ0YTUwYWFmMGY5YmZkMTY5MWRlYik7CiAgICAgICAgICAgIAoKICAgICAgICAgICAgbWFya2VyX2YzMWU4NzdmNmEzZDRmNjY5NDFiN2M2MGZiZjMzNDAxLmJpbmRQb3B1cChwb3B1cF8wY2M1YmIyOWY4Yjg0NDg2OGUzOTQzNjAwNjc2NmFmOSkKICAgICAgICAgICAgOwoKICAgICAgICAgICAgCiAgICAgICAgCiAgICAKICAgICAgICB2YXIgbWFya2VyX2E1MzcwNmMxN2QzMTQ5MTQ4MmY0ZTBhZGUwZjc5Njc3ID0gTC5tYXJrZXIoCiAgICAgICAgICAgIFs0My40MDc5MDg3OSwgLTguMTcxODYyNzc4XSwKICAgICAgICAgICAgewogICAgICAgICAgICAgICAgaWNvbjogbmV3IEwuSWNvbi5EZWZhdWx0KCksCiAgICAgICAgICAgICAgICB9CiAgICAgICAgICAgICkuYWRkVG8obWFwXzE2ZDFiOGM5NzNjZDQ3ZjlhODczNDBhMmYzMjhlZTIzKTsKICAgICAgICAKICAgIAogICAgICAgICAgICB2YXIgcG9wdXBfZGEyM2VmNGRiODE4NGVjNGE1NDY3OTllYjQwZDM0ZjAgPSBMLnBvcHVwKHttYXhXaWR0aDogJzEwMCUnCiAgICAgICAgICAgIAogICAgICAgICAgICB9KTsKCiAgICAgICAgICAgIAogICAgICAgICAgICAgICAgdmFyIGh0bWxfMTM1NmZmZThlYjczNDJhNzhmZTE4YmQzNGQ0YTMzODAgPSAkKGA8ZGl2IGlkPSJodG1sXzEzNTZmZmU4ZWI3MzQyYTc4ZmUxOGJkMzRkNGEzMzgwIiBzdHlsZT0id2lkdGg6IDEwMC4wJTsgaGVpZ2h0OiAxMDAuMCU7Ij5Qb250ZWRldW1lICg4MDA1IGhhYml0YW50ZXMpPC9kaXY+YClbMF07CiAgICAgICAgICAgICAgICBwb3B1cF9kYTIzZWY0ZGI4MTg0ZWM0YTU0Njc5OWViNDBkMzRmMC5zZXRDb250ZW50KGh0bWxfMTM1NmZmZThlYjczNDJhNzhmZTE4YmQzNGQ0YTMzODApOwogICAgICAgICAgICAKCiAgICAgICAgICAgIG1hcmtlcl9hNTM3MDZjMTdkMzE0OTE0ODJmNGUwYWRlMGY3OTY3Ny5iaW5kUG9wdXAocG9wdXBfZGEyM2VmNGRiODE4NGVjNGE1NDY3OTllYjQwZDM0ZjApCiAgICAgICAgICAgIDsKCiAgICAgICAgICAgIAogICAgICAgIAogICAgCiAgICAgICAgdmFyIG1hcmtlcl84YzdiYTJjYTY2ZjU0MmM4YWQ4NTQ2ZDljYzc3NDU0MSA9IEwubWFya2VyKAogICAgICAgICAgICBbNDMuNDUwOTE0MTQsIC03Ljg1MjkyNDMxODk5OTk5OTVdLAogICAgICAgICAgICB7CiAgICAgICAgICAgICAgICBpY29uOiBuZXcgTC5JY29uLkRlZmF1bHQoKSwKICAgICAgICAgICAgICAgIH0KICAgICAgICAgICAgKS5hZGRUbyhtYXBfMTZkMWI4Yzk3M2NkNDdmOWE4NzM0MGEyZjMyOGVlMjMpOwogICAgICAgIAogICAgCiAgICAgICAgICAgIHZhciBwb3B1cF9jYmU1ZmQ5ODEzZWI0NjFiOGNlMTViNThlMzVhOWUzZiA9IEwucG9wdXAoe21heFdpZHRoOiAnMTAwJScKICAgICAgICAgICAgCiAgICAgICAgICAgIH0pOwoKICAgICAgICAgICAgCiAgICAgICAgICAgICAgICB2YXIgaHRtbF85MDc3MTk5NDhmYTc0MjA3YTQ3YTYxZmExMmVjMDdhYSA9ICQoYDxkaXYgaWQ9Imh0bWxfOTA3NzE5OTQ4ZmE3NDIwN2E0N2E2MWZhMTJlYzA3YWEiIHN0eWxlPSJ3aWR0aDogMTAwLjAlOyBoZWlnaHQ6IDEwMC4wJTsiPkFzIFBvbnRlcyBkZSBHYXJjw61hIFJvZHLDrWd1ZXogKDEwMzk5IGhhYml0YW50ZXMpPC9kaXY+YClbMF07CiAgICAgICAgICAgICAgICBwb3B1cF9jYmU1ZmQ5ODEzZWI0NjFiOGNlMTViNThlMzVhOWUzZi5zZXRDb250ZW50KGh0bWxfOTA3NzE5OTQ4ZmE3NDIwN2E0N2E2MWZhMTJlYzA3YWEpOwogICAgICAgICAgICAKCiAgICAgICAgICAgIG1hcmtlcl84YzdiYTJjYTY2ZjU0MmM4YWQ4NTQ2ZDljYzc3NDU0MS5iaW5kUG9wdXAocG9wdXBfY2JlNWZkOTgxM2ViNDYxYjhjZTE1YjU4ZTM1YTllM2YpCiAgICAgICAgICAgIDsKCiAgICAgICAgICAgIAogICAgICAgIAogICAgCiAgICAgICAgdmFyIG1hcmtlcl8zZmE1NWNlZDY1Yjc0NWY1OGZhY2NiMTU1OThmZDFlZiA9IEwubWFya2VyKAogICAgICAgICAgICBbNDIuNzI0NjE5MzQsIC05LjAwNjM2MzYzOV0sCiAgICAgICAgICAgIHsKICAgICAgICAgICAgICAgIGljb246IG5ldyBMLkljb24uRGVmYXVsdCgpLAogICAgICAgICAgICAgICAgfQogICAgICAgICAgICApLmFkZFRvKG1hcF8xNmQxYjhjOTczY2Q0N2Y5YTg3MzQwYTJmMzI4ZWUyMyk7CiAgICAgICAgCiAgICAKICAgICAgICAgICAgdmFyIHBvcHVwXzQyMTNhOTJhYjQyMDRmYmRiNWJmMDIxYzE0YzkwNGQ5ID0gTC5wb3B1cCh7bWF4V2lkdGg6ICcxMDAlJwogICAgICAgICAgICAKICAgICAgICAgICAgfSk7CgogICAgICAgICAgICAKICAgICAgICAgICAgICAgIHZhciBodG1sX2Q5ZGNjZGZjMTQwNjQzOTE5NThjZjYwOTYzYjgwOWM3ID0gJChgPGRpdiBpZD0iaHRtbF9kOWRjY2RmYzE0MDY0MzkxOTU4Y2Y2MDk2M2I4MDljNyIgc3R5bGU9IndpZHRoOiAxMDAuMCU7IGhlaWdodDogMTAwLjAlOyI+UG9ydG8gZG8gU29uICg5Mzg2IGhhYml0YW50ZXMpPC9kaXY+YClbMF07CiAgICAgICAgICAgICAgICBwb3B1cF80MjEzYTkyYWI0MjA0ZmJkYjViZjAyMWMxNGM5MDRkOS5zZXRDb250ZW50KGh0bWxfZDlkY2NkZmMxNDA2NDM5MTk1OGNmNjA5NjNiODA5YzcpOwogICAgICAgICAgICAKCiAgICAgICAgICAgIG1hcmtlcl8zZmE1NWNlZDY1Yjc0NWY1OGZhY2NiMTU1OThmZDFlZi5iaW5kUG9wdXAocG9wdXBfNDIxM2E5MmFiNDIwNGZiZGI1YmYwMjFjMTRjOTA0ZDkpCiAgICAgICAgICAgIDsKCiAgICAgICAgICAgIAogICAgICAgIAogICAgCiAgICAgICAgdmFyIG1hcmtlcl9lODE4OTlmOGY5MTU0ZDZmODUzY2NjMWJhYmRlMzkxZiA9IEwubWFya2VyKAogICAgICAgICAgICBbNDIuNjUxOTgwNTcsIC04LjgxODM1MzQzM10sCiAgICAgICAgICAgIHsKICAgICAgICAgICAgICAgIGljb246IG5ldyBMLkljb24uRGVmYXVsdCgpLAogICAgICAgICAgICAgICAgfQogICAgICAgICAgICApLmFkZFRvKG1hcF8xNmQxYjhjOTczY2Q0N2Y5YTg3MzQwYTJmMzI4ZWUyMyk7CiAgICAgICAgCiAgICAKICAgICAgICAgICAgdmFyIHBvcHVwX2U4ZmM3N2QzYzY4YjQxZjE5OTExZTBkOTllZGFiYmZlID0gTC5wb3B1cCh7bWF4V2lkdGg6ICcxMDAlJwogICAgICAgICAgICAKICAgICAgICAgICAgfSk7CgogICAgICAgICAgICAKICAgICAgICAgICAgICAgIHZhciBodG1sX2ZiMTljZjA1ZThkYzRlNDFiYjIwYWJmMjYyYzcyN2Y0ID0gJChgPGRpdiBpZD0iaHRtbF9mYjE5Y2YwNWU4ZGM0ZTQxYmIyMGFiZjI2MmM3MjdmNCIgc3R5bGU9IndpZHRoOiAxMDAuMCU7IGhlaWdodDogMTAwLjAlOyI+UmlhbnhvICgxMTI5NSBoYWJpdGFudGVzKTwvZGl2PmApWzBdOwogICAgICAgICAgICAgICAgcG9wdXBfZThmYzc3ZDNjNjhiNDFmMTk5MTFlMGQ5OWVkYWJiZmUuc2V0Q29udGVudChodG1sX2ZiMTljZjA1ZThkYzRlNDFiYjIwYWJmMjYyYzcyN2Y0KTsKICAgICAgICAgICAgCgogICAgICAgICAgICBtYXJrZXJfZTgxODk5ZjhmOTE1NGQ2Zjg1M2NjYzFiYWJkZTM5MWYuYmluZFBvcHVwKHBvcHVwX2U4ZmM3N2QzYzY4YjQxZjE5OTExZTBkOTllZGFiYmZlKQogICAgICAgICAgICA7CgogICAgICAgICAgICAKICAgICAgICAKICAgIAogICAgICAgIHZhciBtYXJrZXJfMmE3MzJjNzY3MmUyNDFjYjllODZmNmI5MmU4Zjg0MWIgPSBMLm1hcmtlcigKICAgICAgICAgICAgWzQyLjU1NDkxNjY4LCAtOC45OTMzMzY5MjIwMDAwMDFdLAogICAgICAgICAgICB7CiAgICAgICAgICAgICAgICBpY29uOiBuZXcgTC5JY29uLkRlZmF1bHQoKSwKICAgICAgICAgICAgICAgIH0KICAgICAgICAgICAgKS5hZGRUbyhtYXBfMTZkMWI4Yzk3M2NkNDdmOWE4NzM0MGEyZjMyOGVlMjMpOwogICAgICAgIAogICAgCiAgICAgICAgICAgIHZhciBwb3B1cF9hYWM3N2Y2ZGI2YzU0YmE0OWI5MDFmM2I3YjA4ZGMxYSA9IEwucG9wdXAoe21heFdpZHRoOiAnMTAwJScKICAgICAgICAgICAgCiAgICAgICAgICAgIH0pOwoKICAgICAgICAgICAgCiAgICAgICAgICAgICAgICB2YXIgaHRtbF9mMmJjY2ViN2Y4NDU0YTA4YjBkMjg4NGIyZmU4Yjc1OSA9ICQoYDxkaXYgaWQ9Imh0bWxfZjJiY2NlYjdmODQ1NGEwOGIwZDI4ODRiMmZlOGI3NTkiIHN0eWxlPSJ3aWR0aDogMTAwLjAlOyBoZWlnaHQ6IDEwMC4wJTsiPlJpYmVpcmEgKDI3MjQ5IGhhYml0YW50ZXMpPC9kaXY+YClbMF07CiAgICAgICAgICAgICAgICBwb3B1cF9hYWM3N2Y2ZGI2YzU0YmE0OWI5MDFmM2I3YjA4ZGMxYS5zZXRDb250ZW50KGh0bWxfZjJiY2NlYjdmODQ1NGEwOGIwZDI4ODRiMmZlOGI3NTkpOwogICAgICAgICAgICAKCiAgICAgICAgICAgIG1hcmtlcl8yYTczMmM3NjcyZTI0MWNiOWU4NmY2YjkyZThmODQxYi5iaW5kUG9wdXAocG9wdXBfYWFjNzdmNmRiNmM1NGJhNDliOTAxZjNiN2IwOGRjMWEpCiAgICAgICAgICAgIDsKCiAgICAgICAgICAgIAogICAgICAgIAogICAgCiAgICAgICAgdmFyIG1hcmtlcl8xYzI4ODc3MzU0ZGQ0NWU0YjM5MTg1MDRlYmY0NTU5NyA9IEwubWFya2VyKAogICAgICAgICAgICBbNDIuNzYwNzU0MTQsIC04LjY5MDMyMjc4M10sCiAgICAgICAgICAgIHsKICAgICAgICAgICAgICAgIGljb246IG5ldyBMLkljb24uRGVmYXVsdCgpLAogICAgICAgICAgICAgICAgfQogICAgICAgICAgICApLmFkZFRvKG1hcF8xNmQxYjhjOTczY2Q0N2Y5YTg3MzQwYTJmMzI4ZWUyMyk7CiAgICAgICAgCiAgICAKICAgICAgICAgICAgdmFyIHBvcHVwXzE0NGViN2RhNmY5MDQ3MDI5M2FlNWExMTQ2YjVmOTc3ID0gTC5wb3B1cCh7bWF4V2lkdGg6ICcxMDAlJwogICAgICAgICAgICAKICAgICAgICAgICAgfSk7CgogICAgICAgICAgICAKICAgICAgICAgICAgICAgIHZhciBodG1sXzFjNjYzYzMxMzRiNzQ4YjRiNWQ3ZjY2ODQwMTliZjFjID0gJChgPGRpdiBpZD0iaHRtbF8xYzY2M2MzMTM0Yjc0OGI0YjVkN2Y2Njg0MDE5YmYxYyIgc3R5bGU9IndpZHRoOiAxMDAuMCU7IGhlaWdodDogMTAwLjAlOyI+Um9pcyAoNDY1NyBoYWJpdGFudGVzKTwvZGl2PmApWzBdOwogICAgICAgICAgICAgICAgcG9wdXBfMTQ0ZWI3ZGE2ZjkwNDcwMjkzYWU1YTExNDZiNWY5Nzcuc2V0Q29udGVudChodG1sXzFjNjYzYzMxMzRiNzQ4YjRiNWQ3ZjY2ODQwMTliZjFjKTsKICAgICAgICAgICAgCgogICAgICAgICAgICBtYXJrZXJfMWMyODg3NzM1NGRkNDVlNGIzOTE4NTA0ZWJmNDU1OTcuYmluZFBvcHVwKHBvcHVwXzE0NGViN2RhNmY5MDQ3MDI5M2FlNWExMTQ2YjVmOTc3KQogICAgICAgICAgICA7CgogICAgICAgICAgICAKICAgICAgICAKICAgIAogICAgICAgIHZhciBtYXJrZXJfOGNhNjUwMzdkOTI5NGRjMDhhYWYwODMxNmM4ZDMxMGIgPSBMLm1hcmtlcigKICAgICAgICAgICAgWzQzLjM1OTQyMjI0LCAtOC4yNTA1Mjg2NzhdLAogICAgICAgICAgICB7CiAgICAgICAgICAgICAgICBpY29uOiBuZXcgTC5JY29uLkRlZmF1bHQoKSwKICAgICAgICAgICAgICAgIH0KICAgICAgICAgICAgKS5hZGRUbyhtYXBfMTZkMWI4Yzk3M2NkNDdmOWE4NzM0MGEyZjMyOGVlMjMpOwogICAgICAgIAogICAgCiAgICAgICAgICAgIHZhciBwb3B1cF8wZGFlNDc0NWM1YmE0Yzk4OGUwNzg1MzljNGJmYzFlMSA9IEwucG9wdXAoe21heFdpZHRoOiAnMTAwJScKICAgICAgICAgICAgCiAgICAgICAgICAgIH0pOwoKICAgICAgICAgICAgCiAgICAgICAgICAgICAgICB2YXIgaHRtbF8wOTc2NjljNWRiMjA0NDUwYTA3ZWEwY2RiMGVlZjMyMiA9ICQoYDxkaXYgaWQ9Imh0bWxfMDk3NjY5YzVkYjIwNDQ1MGEwN2VhMGNkYjBlZWYzMjIiIHN0eWxlPSJ3aWR0aDogMTAwLjAlOyBoZWlnaHQ6IDEwMC4wJTsiPlNhZGEgKDE1MTUwIGhhYml0YW50ZXMpPC9kaXY+YClbMF07CiAgICAgICAgICAgICAgICBwb3B1cF8wZGFlNDc0NWM1YmE0Yzk4OGUwNzg1MzljNGJmYzFlMS5zZXRDb250ZW50KGh0bWxfMDk3NjY5YzVkYjIwNDQ1MGEwN2VhMGNkYjBlZWYzMjIpOwogICAgICAgICAgICAKCiAgICAgICAgICAgIG1hcmtlcl84Y2E2NTAzN2Q5Mjk0ZGMwOGFhZjA4MzE2YzhkMzEwYi5iaW5kUG9wdXAocG9wdXBfMGRhZTQ3NDVjNWJhNGM5ODhlMDc4NTM5YzRiZmMxZTEpCiAgICAgICAgICAgIDsKCiAgICAgICAgICAgIAogICAgICAgIAogICAgCiAgICAgICAgdmFyIG1hcmtlcl9lNzc2NGQ4Mjg2ZDY0Mzc2OGQ0YzI3NDJmYWZkOGYyOCA9IEwubWFya2VyKAogICAgICAgICAgICBbNDMuNTMyNzg1MTgsIC04LjA3Mjc5MzM0NzAwMDAwMV0sCiAgICAgICAgICAgIHsKICAgICAgICAgICAgICAgIGljb246IG5ldyBMLkljb24uRGVmYXVsdCgpLAogICAgICAgICAgICAgICAgfQogICAgICAgICAgICApLmFkZFRvKG1hcF8xNmQxYjhjOTczY2Q0N2Y5YTg3MzQwYTJmMzI4ZWUyMyk7CiAgICAgICAgCiAgICAKICAgICAgICAgICAgdmFyIHBvcHVwX2I1ZDYwM2I2ZjBlYzRiZmI5YmUyMGVkZGRiOWNiNjQ2ID0gTC5wb3B1cCh7bWF4V2lkdGg6ICcxMDAlJwogICAgICAgICAgICAKICAgICAgICAgICAgfSk7CgogICAgICAgICAgICAKICAgICAgICAgICAgICAgIHZhciBodG1sXzM4MzM4NDY3NWFiOTRlYzg4YmMwZWZkZTY2OTliZDQ4ID0gJChgPGRpdiBpZD0iaHRtbF8zODMzODQ2NzVhYjk0ZWM4OGJjMGVmZGU2Njk5YmQ0OCIgc3R5bGU9IndpZHRoOiAxMDAuMCU7IGhlaWdodDogMTAwLjAlOyI+U2FuIFNhZHVybmnDsW8gKDI5NDQgaGFiaXRhbnRlcyk8L2Rpdj5gKVswXTsKICAgICAgICAgICAgICAgIHBvcHVwX2I1ZDYwM2I2ZjBlYzRiZmI5YmUyMGVkZGRiOWNiNjQ2LnNldENvbnRlbnQoaHRtbF8zODMzODQ2NzVhYjk0ZWM4OGJjMGVmZGU2Njk5YmQ0OCk7CiAgICAgICAgICAgIAoKICAgICAgICAgICAgbWFya2VyX2U3NzY0ZDgyODZkNjQzNzY4ZDRjMjc0MmZhZmQ4ZjI4LmJpbmRQb3B1cChwb3B1cF9iNWQ2MDNiNmYwZWM0YmZiOWJlMjBlZGRkYjljYjY0NikKICAgICAgICAgICAgOwoKICAgICAgICAgICAgCiAgICAgICAgCiAgICAKICAgICAgICB2YXIgbWFya2VyX2E4M2YwNzdmYTU2YTRhNGJhODVhY2NhYTJiNWI1ODZmID0gTC5tYXJrZXIoCiAgICAgICAgICAgIFs0My4wMzY1MzgwOSwgLTguODIwMTIwNDA4XSwKICAgICAgICAgICAgewogICAgICAgICAgICAgICAgaWNvbjogbmV3IEwuSWNvbi5EZWZhdWx0KCksCiAgICAgICAgICAgICAgICB9CiAgICAgICAgICAgICkuYWRkVG8obWFwXzE2ZDFiOGM5NzNjZDQ3ZjlhODczNDBhMmYzMjhlZTIzKTsKICAgICAgICAKICAgIAogICAgICAgICAgICB2YXIgcG9wdXBfNDI5M2E5Njg4MzI5NDk5NjhkYmJkMzIzMTQzMWYxZGYgPSBMLnBvcHVwKHttYXhXaWR0aDogJzEwMCUnCiAgICAgICAgICAgIAogICAgICAgICAgICB9KTsKCiAgICAgICAgICAgIAogICAgICAgICAgICAgICAgdmFyIGh0bWxfOGZmOGY2NGM2ZDZmNDM5OWE4NzhmNTg4YTVjODEyM2EgPSAkKGA8ZGl2IGlkPSJodG1sXzhmZjhmNjRjNmQ2ZjQzOTlhODc4ZjU4OGE1YzgxMjNhIiBzdHlsZT0id2lkdGg6IDEwMC4wJTsgaGVpZ2h0OiAxMDAuMCU7Ij5TYW50YSBDb21iYSAoOTU1NiBoYWJpdGFudGVzKTwvZGl2PmApWzBdOwogICAgICAgICAgICAgICAgcG9wdXBfNDI5M2E5Njg4MzI5NDk5NjhkYmJkMzIzMTQzMWYxZGYuc2V0Q29udGVudChodG1sXzhmZjhmNjRjNmQ2ZjQzOTlhODc4ZjU4OGE1YzgxMjNhKTsKICAgICAgICAgICAgCgogICAgICAgICAgICBtYXJrZXJfYTgzZjA3N2ZhNTZhNGE0YmE4NWFjY2FhMmI1YjU4NmYuYmluZFBvcHVwKHBvcHVwXzQyOTNhOTY4ODMyOTQ5OTY4ZGJiZDMyMzE0MzFmMWRmKQogICAgICAgICAgICA7CgogICAgICAgICAgICAKICAgICAgICAKICAgIAogICAgICAgIHZhciBtYXJrZXJfZTA2MGMwODA5YWI5NDdlYTgyNWUxZmVkYWM3ZDQ0NTIgPSBMLm1hcmtlcigKICAgICAgICAgICAgWzQyLjg3OTk5OTU0LCAtOC41NDYxMDcxNzIwMDAwMDFdLAogICAgICAgICAgICB7CiAgICAgICAgICAgICAgICBpY29uOiBuZXcgTC5JY29uLkRlZmF1bHQoKSwKICAgICAgICAgICAgICAgIH0KICAgICAgICAgICAgKS5hZGRUbyhtYXBfMTZkMWI4Yzk3M2NkNDdmOWE4NzM0MGEyZjMyOGVlMjMpOwogICAgICAgIAogICAgCiAgICAgICAgICAgIHZhciBwb3B1cF8yNzI5NGI4ODkwMWU0ZDM3ODMwOWQ0ZTViYmY2YWNhOCA9IEwucG9wdXAoe21heFdpZHRoOiAnMTAwJScKICAgICAgICAgICAgCiAgICAgICAgICAgIH0pOwoKICAgICAgICAgICAgCiAgICAgICAgICAgICAgICB2YXIgaHRtbF9mNDlkNGExODEzZjg0Yzk1OTEyZTc3OWEzMjIxMjQ2MSA9ICQoYDxkaXYgaWQ9Imh0bWxfZjQ5ZDRhMTgxM2Y4NGM5NTkxMmU3NzlhMzIyMTI0NjEiIHN0eWxlPSJ3aWR0aDogMTAwLjAlOyBoZWlnaHQ6IDEwMC4wJTsiPlNhbnRpYWdvIGRlIENvbXBvc3RlbGEgKDk1OTY2IGhhYml0YW50ZXMpPC9kaXY+YClbMF07CiAgICAgICAgICAgICAgICBwb3B1cF8yNzI5NGI4ODkwMWU0ZDM3ODMwOWQ0ZTViYmY2YWNhOC5zZXRDb250ZW50KGh0bWxfZjQ5ZDRhMTgxM2Y4NGM5NTkxMmU3NzlhMzIyMTI0NjEpOwogICAgICAgICAgICAKCiAgICAgICAgICAgIG1hcmtlcl9lMDYwYzA4MDlhYjk0N2VhODI1ZTFmZWRhYzdkNDQ1Mi5iaW5kUG9wdXAocG9wdXBfMjcyOTRiODg5MDFlNGQzNzgzMDlkNGU1YmJmNmFjYTgpCiAgICAgICAgICAgIDsKCiAgICAgICAgICAgIAogICAgICAgIAogICAgCiAgICAgICAgdmFyIG1hcmtlcl9hZWZjZjk1MDZiZmM0OTViYjIwZjFkZDQwMjVhMmEyOCA9IEwubWFya2VyKAogICAgICAgICAgICBbNDIuODQ2MTEyMTIsIC04LjAzODg3NzY2OV0sCiAgICAgICAgICAgIHsKICAgICAgICAgICAgICAgIGljb246IG5ldyBMLkljb24uRGVmYXVsdCgpLAogICAgICAgICAgICAgICAgfQogICAgICAgICAgICApLmFkZFRvKG1hcF8xNmQxYjhjOTczY2Q0N2Y5YTg3MzQwYTJmMzI4ZWUyMyk7CiAgICAgICAgCiAgICAKICAgICAgICAgICAgdmFyIHBvcHVwXzMzYTMxM2M3OTlhMTQ1NDU5OWRmMjBmM2I4MTU1ZTVhID0gTC5wb3B1cCh7bWF4V2lkdGg6ICcxMDAlJwogICAgICAgICAgICAKICAgICAgICAgICAgfSk7CgogICAgICAgICAgICAKICAgICAgICAgICAgICAgIHZhciBodG1sXzhkYTZjODI1MjFlMzQ0Yjk4OTFjNTMzNDhlODA2MDcwID0gJChgPGRpdiBpZD0iaHRtbF84ZGE2YzgyNTIxZTM0NGI5ODkxYzUzMzQ4ZTgwNjA3MCIgc3R5bGU9IndpZHRoOiAxMDAuMCU7IGhlaWdodDogMTAwLjAlOyI+U2FudGlzbyAoMTY3MiBoYWJpdGFudGVzKTwvZGl2PmApWzBdOwogICAgICAgICAgICAgICAgcG9wdXBfMzNhMzEzYzc5OWExNDU0NTk5ZGYyMGYzYjgxNTVlNWEuc2V0Q29udGVudChodG1sXzhkYTZjODI1MjFlMzQ0Yjk4OTFjNTMzNDhlODA2MDcwKTsKICAgICAgICAgICAgCgogICAgICAgICAgICBtYXJrZXJfYWVmY2Y5NTA2YmZjNDk1YmIyMGYxZGQ0MDI1YTJhMjguYmluZFBvcHVwKHBvcHVwXzMzYTMxM2M3OTlhMTQ1NDU5OWRmMjBmM2I4MTU1ZTVhKQogICAgICAgICAgICA7CgogICAgICAgICAgICAKICAgICAgICAKICAgIAogICAgICAgIHZhciBtYXJrZXJfNzdiN2JlZWYzNmZkNDhhMWFiYzJmMmMyMDEwNDQyMTEgPSBMLm1hcmtlcigKICAgICAgICAgICAgWzQzLjA0MDMxODUyLCAtOC4wMjIxODc4MDhdLAogICAgICAgICAgICB7CiAgICAgICAgICAgICAgICBpY29uOiBuZXcgTC5JY29uLkRlZmF1bHQoKSwKICAgICAgICAgICAgICAgIH0KICAgICAgICAgICAgKS5hZGRUbyhtYXBfMTZkMWI4Yzk3M2NkNDdmOWE4NzM0MGEyZjMyOGVlMjMpOwogICAgICAgIAogICAgCiAgICAgICAgICAgIHZhciBwb3B1cF9hOGEzMzYxODM1ZTQ0NGI3YjgxYTQ4NzEzNzg2M2VhZiA9IEwucG9wdXAoe21heFdpZHRoOiAnMTAwJScKICAgICAgICAgICAgCiAgICAgICAgICAgIH0pOwoKICAgICAgICAgICAgCiAgICAgICAgICAgICAgICB2YXIgaHRtbF83NTFkNjFhZTEzODY0MTljOTI3NTczZmFlMDA5OWJmOCA9ICQoYDxkaXYgaWQ9Imh0bWxfNzUxZDYxYWUxMzg2NDE5YzkyNzU3M2ZhZTAwOTliZjgiIHN0eWxlPSJ3aWR0aDogMTAwLjAlOyBoZWlnaHQ6IDEwMC4wJTsiPlNvYnJhZG8gKDE4ODIgaGFiaXRhbnRlcyk8L2Rpdj5gKVswXTsKICAgICAgICAgICAgICAgIHBvcHVwX2E4YTMzNjE4MzVlNDQ0YjdiODFhNDg3MTM3ODYzZWFmLnNldENvbnRlbnQoaHRtbF83NTFkNjFhZTEzODY0MTljOTI3NTczZmFlMDA5OWJmOCk7CiAgICAgICAgICAgIAoKICAgICAgICAgICAgbWFya2VyXzc3YjdiZWVmMzZmZDQ4YTFhYmMyZjJjMjAxMDQ0MjExLmJpbmRQb3B1cChwb3B1cF9hOGEzMzYxODM1ZTQ0NGI3YjgxYTQ4NzEzNzg2M2VhZikKICAgICAgICAgICAgOwoKICAgICAgICAgICAgCiAgICAgICAgCiAgICAKICAgICAgICB2YXIgbWFya2VyXzIyMDQzMjNhMWY1MzQ3OGM5NGRhYWJhMWRiYjg5ZmNiID0gTC5tYXJrZXIoCiAgICAgICAgICAgIFs0My41MzQ3ODMyOCwgLTcuOTQzOTczMjgxXSwKICAgICAgICAgICAgewogICAgICAgICAgICAgICAgaWNvbjogbmV3IEwuSWNvbi5EZWZhdWx0KCksCiAgICAgICAgICAgICAgICB9CiAgICAgICAgICAgICkuYWRkVG8obWFwXzE2ZDFiOGM5NzNjZDQ3ZjlhODczNDBhMmYzMjhlZTIzKTsKICAgICAgICAKICAgIAogICAgICAgICAgICB2YXIgcG9wdXBfYWVhNDA5OWM1MDY5NDI5MGIyM2M5MTllMjQ2ZjA1MDAgPSBMLnBvcHVwKHttYXhXaWR0aDogJzEwMCUnCiAgICAgICAgICAgIAogICAgICAgICAgICB9KTsKCiAgICAgICAgICAgIAogICAgICAgICAgICAgICAgdmFyIGh0bWxfMmZlOTg5ODIyMzc1NGM0ZWI0MjE1NjA3ODA2ZWI5NzkgPSAkKGA8ZGl2IGlkPSJodG1sXzJmZTk4OTgyMjM3NTRjNGViNDIxNTYwNzgwNmViOTc5IiBzdHlsZT0id2lkdGg6IDEwMC4wJTsgaGVpZ2h0OiAxMDAuMCU7Ij5BcyBTb21vemFzICgxMTYwIGhhYml0YW50ZXMpPC9kaXY+YClbMF07CiAgICAgICAgICAgICAgICBwb3B1cF9hZWE0MDk5YzUwNjk0MjkwYjIzYzkxOWUyNDZmMDUwMC5zZXRDb250ZW50KGh0bWxfMmZlOTg5ODIyMzc1NGM0ZWI0MjE1NjA3ODA2ZWI5NzkpOwogICAgICAgICAgICAKCiAgICAgICAgICAgIG1hcmtlcl8yMjA0MzIzYTFmNTM0NzhjOTRkYWFiYTFkYmI4OWZjYi5iaW5kUG9wdXAocG9wdXBfYWVhNDA5OWM1MDY5NDI5MGIyM2M5MTllMjQ2ZjA1MDApCiAgICAgICAgICAgIDsKCiAgICAgICAgICAgIAogICAgICAgIAogICAgCiAgICAgICAgdmFyIG1hcmtlcl80ZDc1M2Q1MWRhYTk0ZjQ0OWYyZWU2YTQwMmM3YjdmYSA9IEwubWFya2VyKAogICAgICAgICAgICBbNDIuNzk1MDU0NzQsIC04LjU0OTAwMjg4Nl0sCiAgICAgICAgICAgIHsKICAgICAgICAgICAgICAgIGljb246IG5ldyBMLkljb24uRGVmYXVsdCgpLAogICAgICAgICAgICAgICAgfQogICAgICAgICAgICApLmFkZFRvKG1hcF8xNmQxYjhjOTczY2Q0N2Y5YTg3MzQwYTJmMzI4ZWUyMyk7CiAgICAgICAgCiAgICAKICAgICAgICAgICAgdmFyIHBvcHVwXzQ2MWZkNTEzZTFlNDQwNWU4MWQxZTVkOWZlNDNjNDMzID0gTC5wb3B1cCh7bWF4V2lkdGg6ICcxMDAlJwogICAgICAgICAgICAKICAgICAgICAgICAgfSk7CgogICAgICAgICAgICAKICAgICAgICAgICAgICAgIHZhciBodG1sX2Y0MDI5MjJmYjYzMTRiMTNhNWJhYTgzNTY4MmU3ZTRlID0gJChgPGRpdiBpZD0iaHRtbF9mNDAyOTIyZmI2MzE0YjEzYTViYWE4MzU2ODJlN2U0ZSIgc3R5bGU9IndpZHRoOiAxMDAuMCU7IGhlaWdodDogMTAwLjAlOyI+VGVvICgxODUxMCBoYWJpdGFudGVzKTwvZGl2PmApWzBdOwogICAgICAgICAgICAgICAgcG9wdXBfNDYxZmQ1MTNlMWU0NDA1ZTgxZDFlNWQ5ZmU0M2M0MzMuc2V0Q29udGVudChodG1sX2Y0MDI5MjJmYjYzMTRiMTNhNWJhYTgzNTY4MmU3ZTRlKTsKICAgICAgICAgICAgCgogICAgICAgICAgICBtYXJrZXJfNGQ3NTNkNTFkYWE5NGY0NDlmMmVlNmE0MDJjN2I3ZmEuYmluZFBvcHVwKHBvcHVwXzQ2MWZkNTEzZTFlNDQwNWU4MWQxZTVkOWZlNDNjNDMzKQogICAgICAgICAgICA7CgogICAgICAgICAgICAKICAgICAgICAKICAgIAogICAgICAgIHZhciBtYXJrZXJfMzk4NTg0M2IwOWMxNGRkZmFkMWRjNDQ0ZGUxNDBlOWMgPSBMLm1hcmtlcigKICAgICAgICAgICAgWzQyLjk2NzM3ODMsIC03Ljk3Mjg2MTExOV0sCiAgICAgICAgICAgIHsKICAgICAgICAgICAgICAgIGljb246IG5ldyBMLkljb24uRGVmYXVsdCgpLAogICAgICAgICAgICAgICAgfQogICAgICAgICAgICApLmFkZFRvKG1hcF8xNmQxYjhjOTczY2Q0N2Y5YTg3MzQwYTJmMzI4ZWUyMyk7CiAgICAgICAgCiAgICAKICAgICAgICAgICAgdmFyIHBvcHVwX2U0YWE1Y2Q3ZmNhMTQ2NWU5NTBjNjA0NzNhMWQ5NjQyID0gTC5wb3B1cCh7bWF4V2lkdGg6ICcxMDAlJwogICAgICAgICAgICAKICAgICAgICAgICAgfSk7CgogICAgICAgICAgICAKICAgICAgICAgICAgICAgIHZhciBodG1sX2ZjYzhkYmE0ZTA0ODQ5NzBiNThjYTJmOWFiNjA5ZWU1ID0gJChgPGRpdiBpZD0iaHRtbF9mY2M4ZGJhNGUwNDg0OTcwYjU4Y2EyZjlhYjYwOWVlNSIgc3R5bGU9IndpZHRoOiAxMDAuMCU7IGhlaWdodDogMTAwLjAlOyI+VG9xdWVzICgxMTk2IGhhYml0YW50ZXMpPC9kaXY+YClbMF07CiAgICAgICAgICAgICAgICBwb3B1cF9lNGFhNWNkN2ZjYTE0NjVlOTUwYzYwNDczYTFkOTY0Mi5zZXRDb250ZW50KGh0bWxfZmNjOGRiYTRlMDQ4NDk3MGI1OGNhMmY5YWI2MDllZTUpOwogICAgICAgICAgICAKCiAgICAgICAgICAgIG1hcmtlcl8zOTg1ODQzYjA5YzE0ZGRmYWQxZGM0NDRkZTE0MGU5Yy5iaW5kUG9wdXAocG9wdXBfZTRhYTVjZDdmY2ExNDY1ZTk1MGM2MDQ3M2ExZDk2NDIpCiAgICAgICAgICAgIDsKCiAgICAgICAgICAgIAogICAgICAgIAogICAgCiAgICAgICAgdmFyIG1hcmtlcl84YWE5MTI3MWQ0OWI0ODhkOWMxZDIzZjcxNmJjMjdmZiA9IEwubWFya2VyKAogICAgICAgICAgICBbNDMuMDg4MzkxODgsIC04LjU1MjA1MzgxMV0sCiAgICAgICAgICAgIHsKICAgICAgICAgICAgICAgIGljb246IG5ldyBMLkljb24uRGVmYXVsdCgpLAogICAgICAgICAgICAgICAgfQogICAgICAgICAgICApLmFkZFRvKG1hcF8xNmQxYjhjOTczY2Q0N2Y5YTg3MzQwYTJmMzI4ZWUyMyk7CiAgICAgICAgCiAgICAKICAgICAgICAgICAgdmFyIHBvcHVwXzdmNjU3YTY0ZGMzMTQxMTdhMTc0YzI3MDNmZDNkNjZmID0gTC5wb3B1cCh7bWF4V2lkdGg6ICcxMDAlJwogICAgICAgICAgICAKICAgICAgICAgICAgfSk7CgogICAgICAgICAgICAKICAgICAgICAgICAgICAgIHZhciBodG1sXzcyNDc3NDRlZDk3MTQwMTk4ZjgyOGE2OTMzM2IyYjE1ID0gJChgPGRpdiBpZD0iaHRtbF83MjQ3NzQ0ZWQ5NzE0MDE5OGY4MjhhNjkzMzNiMmIxNSIgc3R5bGU9IndpZHRoOiAxMDAuMCU7IGhlaWdodDogMTAwLjAlOyI+VG9yZG9pYSAoMzUyMiBoYWJpdGFudGVzKTwvZGl2PmApWzBdOwogICAgICAgICAgICAgICAgcG9wdXBfN2Y2NTdhNjRkYzMxNDExN2ExNzRjMjcwM2ZkM2Q2NmYuc2V0Q29udGVudChodG1sXzcyNDc3NDRlZDk3MTQwMTk4ZjgyOGE2OTMzM2IyYjE1KTsKICAgICAgICAgICAgCgogICAgICAgICAgICBtYXJrZXJfOGFhOTEyNzFkNDliNDg4ZDljMWQyM2Y3MTZiYzI3ZmYuYmluZFBvcHVwKHBvcHVwXzdmNjU3YTY0ZGMzMTQxMTdhMTc0YzI3MDNmZDNkNjZmKQogICAgICAgICAgICA7CgogICAgICAgICAgICAKICAgICAgICAKICAgIAogICAgICAgIHZhciBtYXJrZXJfOWE4MGMwYmQ1YmY2NDBmM2IyMTFlM2QwMGNmZTRlNGEgPSBMLm1hcmtlcigKICAgICAgICAgICAgWzQyLjg2NzEzODc0LCAtOC4zMDM4MDQwODEwMDAwMDFdLAogICAgICAgICAgICB7CiAgICAgICAgICAgICAgICBpY29uOiBuZXcgTC5JY29uLkRlZmF1bHQoKSwKICAgICAgICAgICAgICAgIH0KICAgICAgICAgICAgKS5hZGRUbyhtYXBfMTZkMWI4Yzk3M2NkNDdmOWE4NzM0MGEyZjMyOGVlMjMpOwogICAgICAgIAogICAgCiAgICAgICAgICAgIHZhciBwb3B1cF8yMDY0NzAwNDE4NTg0YjQzYmZmOWI0YTI4OTJkNGMyMCA9IEwucG9wdXAoe21heFdpZHRoOiAnMTAwJScKICAgICAgICAgICAgCiAgICAgICAgICAgIH0pOwoKICAgICAgICAgICAgCiAgICAgICAgICAgICAgICB2YXIgaHRtbF83NjVlNDk4OGQ4YmU0NGE5OTA2ZWIyNzAyNDExYWE5MSA9ICQoYDxkaXYgaWQ9Imh0bWxfNzY1ZTQ5ODhkOGJlNDRhOTkwNmViMjcwMjQxMWFhOTEiIHN0eWxlPSJ3aWR0aDogMTAwLjAlOyBoZWlnaHQ6IDEwMC4wJTsiPlRvdXJvICgzNzAzIGhhYml0YW50ZXMpPC9kaXY+YClbMF07CiAgICAgICAgICAgICAgICBwb3B1cF8yMDY0NzAwNDE4NTg0YjQzYmZmOWI0YTI4OTJkNGMyMC5zZXRDb250ZW50KGh0bWxfNzY1ZTQ5ODhkOGJlNDRhOTkwNmViMjcwMjQxMWFhOTEpOwogICAgICAgICAgICAKCiAgICAgICAgICAgIG1hcmtlcl85YTgwYzBiZDViZjY0MGYzYjIxMWUzZDAwY2ZlNGU0YS5iaW5kUG9wdXAocG9wdXBfMjA2NDcwMDQxODU4NGI0M2JmZjliNGEyODkyZDRjMjApCiAgICAgICAgICAgIDsKCiAgICAgICAgICAgIAogICAgICAgIAogICAgCiAgICAgICAgdmFyIG1hcmtlcl8xNTI4MjRkYmVjMjA0YzY1YjA3MWEwOTg2MDJiNjQ1YiA9IEwubWFya2VyKAogICAgICAgICAgICBbNDMuMDI2NjI5NjUsIC04LjUxNzMzODI4Mjk5OTk5OV0sCiAgICAgICAgICAgIHsKICAgICAgICAgICAgICAgIGljb246IG5ldyBMLkljb24uRGVmYXVsdCgpLAogICAgICAgICAgICAgICAgfQogICAgICAgICAgICApLmFkZFRvKG1hcF8xNmQxYjhjOTczY2Q0N2Y5YTg3MzQwYTJmMzI4ZWUyMyk7CiAgICAgICAgCiAgICAKICAgICAgICAgICAgdmFyIHBvcHVwXzdlM2UzMWI3MWRlMjQ1NTg4YmMzNzFjMTA1Mjk1YzJiID0gTC5wb3B1cCh7bWF4V2lkdGg6ICcxMDAlJwogICAgICAgICAgICAKICAgICAgICAgICAgfSk7CgogICAgICAgICAgICAKICAgICAgICAgICAgICAgIHZhciBodG1sX2QwNDRmNGYxZWVmMDRmYmE4OWY0OGU2YzBjYTljYzEyID0gJChgPGRpdiBpZD0iaHRtbF9kMDQ0ZjRmMWVlZjA0ZmJhODlmNDhlNmMwY2E5Y2MxMiIgc3R5bGU9IndpZHRoOiAxMDAuMCU7IGhlaWdodDogMTAwLjAlOyI+VHJhem8gKDMxOTAgaGFiaXRhbnRlcyk8L2Rpdj5gKVswXTsKICAgICAgICAgICAgICAgIHBvcHVwXzdlM2UzMWI3MWRlMjQ1NTg4YmMzNzFjMTA1Mjk1YzJiLnNldENvbnRlbnQoaHRtbF9kMDQ0ZjRmMWVlZjA0ZmJhODlmNDhlNmMwY2E5Y2MxMik7CiAgICAgICAgICAgIAoKICAgICAgICAgICAgbWFya2VyXzE1MjgyNGRiZWMyMDRjNjViMDcxYTA5ODYwMmI2NDViLmJpbmRQb3B1cChwb3B1cF83ZTNlMzFiNzFkZTI0NTU4OGJjMzcxYzEwNTI5NWMyYikKICAgICAgICAgICAgOwoKICAgICAgICAgICAgCiAgICAgICAgCiAgICAKICAgICAgICB2YXIgbWFya2VyXzAwZTIxZTZiNGIzMDQ5OTlhYWI4ODQxODE1MGQxOWRkID0gTC5tYXJrZXIoCiAgICAgICAgICAgIFs0My42MDY4NTUzNSwgLTguMTQzNDc1OTg2XSwKICAgICAgICAgICAgewogICAgICAgICAgICAgICAgaWNvbjogbmV3IEwuSWNvbi5EZWZhdWx0KCksCiAgICAgICAgICAgICAgICB9CiAgICAgICAgICAgICkuYWRkVG8obWFwXzE2ZDFiOGM5NzNjZDQ3ZjlhODczNDBhMmYzMjhlZTIzKTsKICAgICAgICAKICAgIAogICAgICAgICAgICB2YXIgcG9wdXBfNmJkY2JiNzc4MzE5NDg1NTg0NWJmZmM0MGFmODk5NWEgPSBMLnBvcHVwKHttYXhXaWR0aDogJzEwMCUnCiAgICAgICAgICAgIAogICAgICAgICAgICB9KTsKCiAgICAgICAgICAgIAogICAgICAgICAgICAgICAgdmFyIGh0bWxfMzkyMTk2NzFiNWY0NDAyZDgxYWJiZjFiNWUzNGEzZTggPSAkKGA8ZGl2IGlkPSJodG1sXzM5MjE5NjcxYjVmNDQwMmQ4MWFiYmYxYjVlMzRhM2U4IiBzdHlsZT0id2lkdGg6IDEwMC4wJTsgaGVpZ2h0OiAxMDAuMCU7Ij5WYWxkb3Zpw7FvICg2NjUwIGhhYml0YW50ZXMpPC9kaXY+YClbMF07CiAgICAgICAgICAgICAgICBwb3B1cF82YmRjYmI3NzgzMTk0ODU1ODQ1YmZmYzQwYWY4OTk1YS5zZXRDb250ZW50KGh0bWxfMzkyMTk2NzFiNWY0NDAyZDgxYWJiZjFiNWUzNGEzZTgpOwogICAgICAgICAgICAKCiAgICAgICAgICAgIG1hcmtlcl8wMGUyMWU2YjRiMzA0OTk5YWFiODg0MTgxNTBkMTlkZC5iaW5kUG9wdXAocG9wdXBfNmJkY2JiNzc4MzE5NDg1NTg0NWJmZmM0MGFmODk5NWEpCiAgICAgICAgICAgIDsKCiAgICAgICAgICAgIAogICAgICAgIAogICAgCiAgICAgICAgdmFyIG1hcmtlcl8wOGYyYWVmY2JmMDE0ZGUzOTMzOTk1OTJjY2RmZWMyZSA9IEwubWFya2VyKAogICAgICAgICAgICBbNDMuMDI2NTk5NzgsIC04LjY1NjIxODMxNF0sCiAgICAgICAgICAgIHsKICAgICAgICAgICAgICAgIGljb246IG5ldyBMLkljb24uRGVmYXVsdCgpLAogICAgICAgICAgICAgICAgfQogICAgICAgICAgICApLmFkZFRvKG1hcF8xNmQxYjhjOTczY2Q0N2Y5YTg3MzQwYTJmMzI4ZWUyMyk7CiAgICAgICAgCiAgICAKICAgICAgICAgICAgdmFyIHBvcHVwXzZlM2M4MmQ4NTcwNjQ4YTVhYTg2YWI1MmZiZDA3Yjk5ID0gTC5wb3B1cCh7bWF4V2lkdGg6ICcxMDAlJwogICAgICAgICAgICAKICAgICAgICAgICAgfSk7CgogICAgICAgICAgICAKICAgICAgICAgICAgICAgIHZhciBodG1sXzIwZWE3OTJhYjFlNzRlNDQ5MmY4Y2UwNWI1MTViMjI2ID0gJChgPGRpdiBpZD0iaHRtbF8yMGVhNzkyYWIxZTc0ZTQ0OTJmOGNlMDViNTE1YjIyNiIgc3R5bGU9IndpZHRoOiAxMDAuMCU7IGhlaWdodDogMTAwLjAlOyI+VmFsIGRvIER1YnJhICgzOTc0IGhhYml0YW50ZXMpPC9kaXY+YClbMF07CiAgICAgICAgICAgICAgICBwb3B1cF82ZTNjODJkODU3MDY0OGE1YWE4NmFiNTJmYmQwN2I5OS5zZXRDb250ZW50KGh0bWxfMjBlYTc5MmFiMWU3NGU0NDkyZjhjZTA1YjUxNWIyMjYpOwogICAgICAgICAgICAKCiAgICAgICAgICAgIG1hcmtlcl8wOGYyYWVmY2JmMDE0ZGUzOTMzOTk1OTJjY2RmZWMyZS5iaW5kUG9wdXAocG9wdXBfNmUzYzgyZDg1NzA2NDhhNWFhODZhYjUyZmJkMDdiOTkpCiAgICAgICAgICAgIDsKCiAgICAgICAgICAgIAogICAgICAgIAogICAgCiAgICAgICAgdmFyIG1hcmtlcl9jNTI3NDQyY2Y3YjE0OWJmOWJiMGE5ODE1ZGFkYmQ3OCA9IEwubWFya2VyKAogICAgICAgICAgICBbNDIuNzc2NjE2ODIsIC04LjQ4MjA5Nzc5NF0sCiAgICAgICAgICAgIHsKICAgICAgICAgICAgICAgIGljb246IG5ldyBMLkljb24uRGVmYXVsdCgpLAogICAgICAgICAgICAgICAgfQogICAgICAgICAgICApLmFkZFRvKG1hcF8xNmQxYjhjOTczY2Q0N2Y5YTg3MzQwYTJmMzI4ZWUyMyk7CiAgICAgICAgCiAgICAKICAgICAgICAgICAgdmFyIHBvcHVwXzIxZTMzMDVkMTI5YzRlNjk4NDY4ZjYxYWM3MTUwNjU3ID0gTC5wb3B1cCh7bWF4V2lkdGg6ICcxMDAlJwogICAgICAgICAgICAKICAgICAgICAgICAgfSk7CgogICAgICAgICAgICAKICAgICAgICAgICAgICAgIHZhciBodG1sXzk5MDUxNGI5NWI1MTQ1MjVhNGRlNGFhNWIwNGMyOTI3ID0gJChgPGRpdiBpZD0iaHRtbF85OTA1MTRiOTViNTE0NTI1YTRkZTRhYTViMDRjMjkyNyIgc3R5bGU9IndpZHRoOiAxMDAuMCU7IGhlaWdodDogMTAwLjAlOyI+VmVkcmEgKDUwMTIgaGFiaXRhbnRlcyk8L2Rpdj5gKVswXTsKICAgICAgICAgICAgICAgIHBvcHVwXzIxZTMzMDVkMTI5YzRlNjk4NDY4ZjYxYWM3MTUwNjU3LnNldENvbnRlbnQoaHRtbF85OTA1MTRiOTViNTE0NTI1YTRkZTRhYTViMDRjMjkyNyk7CiAgICAgICAgICAgIAoKICAgICAgICAgICAgbWFya2VyX2M1Mjc0NDJjZjdiMTQ5YmY5YmIwYTk4MTVkYWRiZDc4LmJpbmRQb3B1cChwb3B1cF8yMWUzMzA1ZDEyOWM0ZTY5ODQ2OGY2MWFjNzE1MDY1NykKICAgICAgICAgICAgOwoKICAgICAgICAgICAgCiAgICAgICAgCiAgICAKICAgICAgICB2YXIgbWFya2VyXzEwNDFjNjJiYWQ5ZTQ0NGQ4NWFiMDBjMDgzMDU1ZGMzID0gTC5tYXJrZXIoCiAgICAgICAgICAgIFs0My4wNzI4MzE0NCwgLTguMTIxNjQzMDgzXSwKICAgICAgICAgICAgewogICAgICAgICAgICAgICAgaWNvbjogbmV3IEwuSWNvbi5EZWZhdWx0KCksCiAgICAgICAgICAgICAgICB9CiAgICAgICAgICAgICkuYWRkVG8obWFwXzE2ZDFiOGM5NzNjZDQ3ZjlhODczNDBhMmYzMjhlZTIzKTsKICAgICAgICAKICAgIAogICAgICAgICAgICB2YXIgcG9wdXBfYzJiYTBmY2FhMjlkNGJiOGIyNWEzYTMyYzMyZDJkYWMgPSBMLnBvcHVwKHttYXhXaWR0aDogJzEwMCUnCiAgICAgICAgICAgIAogICAgICAgICAgICB9KTsKCiAgICAgICAgICAgIAogICAgICAgICAgICAgICAgdmFyIGh0bWxfOWM1NDFhYmUyZDAyNGU0MmE4YmVmNmU2MDRiZDM2OGIgPSAkKGA8ZGl2IGlkPSJodG1sXzljNTQxYWJlMmQwMjRlNDJhOGJlZjZlNjA0YmQzNjhiIiBzdHlsZT0id2lkdGg6IDEwMC4wJTsgaGVpZ2h0OiAxMDAuMCU7Ij5WaWxhc2FudGFyICgxMjc1IGhhYml0YW50ZXMpPC9kaXY+YClbMF07CiAgICAgICAgICAgICAgICBwb3B1cF9jMmJhMGZjYWEyOWQ0YmI4YjI1YTNhMzJjMzJkMmRhYy5zZXRDb250ZW50KGh0bWxfOWM1NDFhYmUyZDAyNGU0MmE4YmVmNmU2MDRiZDM2OGIpOwogICAgICAgICAgICAKCiAgICAgICAgICAgIG1hcmtlcl8xMDQxYzYyYmFkOWU0NDRkODVhYjAwYzA4MzA1NWRjMy5iaW5kUG9wdXAocG9wdXBfYzJiYTBmY2FhMjlkNGJiOGIyNWEzYTMyYzMyZDJkYWMpCiAgICAgICAgICAgIDsKCiAgICAgICAgICAgIAogICAgICAgIAogICAgCiAgICAgICAgdmFyIG1hcmtlcl8xMTNjZTk2OTQ4Yzc0NDMwYmUwYjZlODg5MzZlMzVmMiA9IEwubWFya2VyKAogICAgICAgICAgICBbNDMuMzU0NzY5MjcsIC04LjEzMDAzODAzOV0sCiAgICAgICAgICAgIHsKICAgICAgICAgICAgICAgIGljb246IG5ldyBMLkljb24uRGVmYXVsdCgpLAogICAgICAgICAgICAgICAgfQogICAgICAgICAgICApLmFkZFRvKG1hcF8xNmQxYjhjOTczY2Q0N2Y5YTg3MzQwYTJmMzI4ZWUyMyk7CiAgICAgICAgCiAgICAKICAgICAgICAgICAgdmFyIHBvcHVwX2IwMWFhYjRmNDE3YTQ4MzY4MTA0M2QyZjIzNmViNjlmID0gTC5wb3B1cCh7bWF4V2lkdGg6ICcxMDAlJwogICAgICAgICAgICAKICAgICAgICAgICAgfSk7CgogICAgICAgICAgICAKICAgICAgICAgICAgICAgIHZhciBodG1sXzk5N2E1MDc0ZGEyZjQxMzI4NzkzNzcyY2U0ZTFjZjc3ID0gJChgPGRpdiBpZD0iaHRtbF85OTdhNTA3NGRhMmY0MTMyODc5Mzc3MmNlNGUxY2Y3NyIgc3R5bGU9IndpZHRoOiAxMDAuMCU7IGhlaWdodDogMTAwLjAlOyI+VmlsYXJtYWlvciAoMTI2MCBoYWJpdGFudGVzKTwvZGl2PmApWzBdOwogICAgICAgICAgICAgICAgcG9wdXBfYjAxYWFiNGY0MTdhNDgzNjgxMDQzZDJmMjM2ZWI2OWYuc2V0Q29udGVudChodG1sXzk5N2E1MDc0ZGEyZjQxMzI4NzkzNzcyY2U0ZTFjZjc3KTsKICAgICAgICAgICAgCgogICAgICAgICAgICBtYXJrZXJfMTEzY2U5Njk0OGM3NDQzMGJlMGI2ZTg4OTM2ZTM1ZjIuYmluZFBvcHVwKHBvcHVwX2IwMWFhYjRmNDE3YTQ4MzY4MTA0M2QyZjIzNmViNjlmKQogICAgICAgICAgICA7CgogICAgICAgICAgICAKICAgICAgICAKICAgIAogICAgICAgIHZhciBtYXJrZXJfNGQ4MTNmZTE2ZmUzNGY1MmI1M2FiNjQyZTc2Mjk0ZWEgPSBMLm1hcmtlcigKICAgICAgICAgICAgWzQzLjExMDI1MzkzLCAtOS4wMzQ0MTM5MDI5OTk5OTldLAogICAgICAgICAgICB7CiAgICAgICAgICAgICAgICBpY29uOiBuZXcgTC5JY29uLkRlZmF1bHQoKSwKICAgICAgICAgICAgICAgIH0KICAgICAgICAgICAgKS5hZGRUbyhtYXBfMTZkMWI4Yzk3M2NkNDdmOWE4NzM0MGEyZjMyOGVlMjMpOwogICAgICAgIAogICAgCiAgICAgICAgICAgIHZhciBwb3B1cF9kNDNjYmRhYTQwZWM0ZWVkYTQwYjExMmVmNTk0YTcxZCA9IEwucG9wdXAoe21heFdpZHRoOiAnMTAwJScKICAgICAgICAgICAgCiAgICAgICAgICAgIH0pOwoKICAgICAgICAgICAgCiAgICAgICAgICAgICAgICB2YXIgaHRtbF9kNjkyNmYzMjQxZmE0MjY5YTQ2NThmY2ZhYjQxOGFmMSA9ICQoYDxkaXYgaWQ9Imh0bWxfZDY5MjZmMzI0MWZhNDI2OWE0NjU4ZmNmYWI0MThhZjEiIHN0eWxlPSJ3aWR0aDogMTAwLjAlOyBoZWlnaHQ6IDEwMC4wJTsiPlZpbWlhbnpvICg3Mzc4IGhhYml0YW50ZXMpPC9kaXY+YClbMF07CiAgICAgICAgICAgICAgICBwb3B1cF9kNDNjYmRhYTQwZWM0ZWVkYTQwYjExMmVmNTk0YTcxZC5zZXRDb250ZW50KGh0bWxfZDY5MjZmMzI0MWZhNDI2OWE0NjU4ZmNmYWI0MThhZjEpOwogICAgICAgICAgICAKCiAgICAgICAgICAgIG1hcmtlcl80ZDgxM2ZlMTZmZTM0ZjUyYjUzYWI2NDJlNzYyOTRlYS5iaW5kUG9wdXAocG9wdXBfZDQzY2JkYWE0MGVjNGVlZGE0MGIxMTJlZjU5NGE3MWQpCiAgICAgICAgICAgIDsKCiAgICAgICAgICAgIAogICAgICAgIAogICAgCiAgICAgICAgdmFyIG1hcmtlcl8wZWE5ZjYyNTM4N2Q0MzJhYTUyZmQ4NmQwMTEzNjg2YiA9IEwubWFya2VyKAogICAgICAgICAgICBbNDMuMDk5NzE5NjEsIC04LjkxNjExODIwNl0sCiAgICAgICAgICAgIHsKICAgICAgICAgICAgICAgIGljb246IG5ldyBMLkljb24uRGVmYXVsdCgpLAogICAgICAgICAgICAgICAgfQogICAgICAgICAgICApLmFkZFRvKG1hcF8xNmQxYjhjOTczY2Q0N2Y5YTg3MzQwYTJmMzI4ZWUyMyk7CiAgICAgICAgCiAgICAKICAgICAgICAgICAgdmFyIHBvcHVwXzJlMDM2NTc4Njk4YTQ0MTZiNjdiZjVkMzRjNTJiYjk2ID0gTC5wb3B1cCh7bWF4V2lkdGg6ICcxMDAlJwogICAgICAgICAgICAKICAgICAgICAgICAgfSk7CgogICAgICAgICAgICAKICAgICAgICAgICAgICAgIHZhciBodG1sXzMxMjVlNjdkMDcxODRlOTU4OGJkNTAxMjdiZjNkYTMwID0gJChgPGRpdiBpZD0iaHRtbF8zMTI1ZTY3ZDA3MTg0ZTk1ODhiZDUwMTI3YmYzZGEzMCIgc3R5bGU9IndpZHRoOiAxMDAuMCU7IGhlaWdodDogMTAwLjAlOyI+WmFzICg0NzU2IGhhYml0YW50ZXMpPC9kaXY+YClbMF07CiAgICAgICAgICAgICAgICBwb3B1cF8yZTAzNjU3ODY5OGE0NDE2YjY3YmY1ZDM0YzUyYmI5Ni5zZXRDb250ZW50KGh0bWxfMzEyNWU2N2QwNzE4NGU5NTg4YmQ1MDEyN2JmM2RhMzApOwogICAgICAgICAgICAKCiAgICAgICAgICAgIG1hcmtlcl8wZWE5ZjYyNTM4N2Q0MzJhYTUyZmQ4NmQwMTEzNjg2Yi5iaW5kUG9wdXAocG9wdXBfMmUwMzY1Nzg2OThhNDQxNmI2N2JmNWQzNGM1MmJiOTYpCiAgICAgICAgICAgIDsKCiAgICAgICAgICAgIAogICAgICAgIAogICAgCiAgICAgICAgdmFyIG1hcmtlcl9jZDQ3YTk2OTE3MmI0NTczODg0ZmUxZDI5ODRjZDdiMCA9IEwubWFya2VyKAogICAgICAgICAgICBbNDMuNzQwMzUxMDQsIC03Ljg2ODQyNDk2N10sCiAgICAgICAgICAgIHsKICAgICAgICAgICAgICAgIGljb246IG5ldyBMLkljb24uRGVmYXVsdCgpLAogICAgICAgICAgICAgICAgfQogICAgICAgICAgICApLmFkZFRvKG1hcF8xNmQxYjhjOTczY2Q0N2Y5YTg3MzQwYTJmMzI4ZWUyMyk7CiAgICAgICAgCiAgICAKICAgICAgICAgICAgdmFyIHBvcHVwX2I4NzE2YjFjOWJjNTRhZTc4ZGVlOTkwZGIwZGFmNGQ0ID0gTC5wb3B1cCh7bWF4V2lkdGg6ICcxMDAlJwogICAgICAgICAgICAKICAgICAgICAgICAgfSk7CgogICAgICAgICAgICAKICAgICAgICAgICAgICAgIHZhciBodG1sXzQyNWRkNTA3M2MyZTQ1YzA4ZmM2NDRlNGZkZTk2ZDQzID0gJChgPGRpdiBpZD0iaHRtbF80MjVkZDUwNzNjMmU0NWMwOGZjNjQ0ZTRmZGU5NmQ0MyIgc3R5bGU9IndpZHRoOiAxMDAuMCU7IGhlaWdodDogMTAwLjAlOyI+Q2FyacOxbyAoNDA3MiBoYWJpdGFudGVzKTwvZGl2PmApWzBdOwogICAgICAgICAgICAgICAgcG9wdXBfYjg3MTZiMWM5YmM1NGFlNzhkZWU5OTBkYjBkYWY0ZDQuc2V0Q29udGVudChodG1sXzQyNWRkNTA3M2MyZTQ1YzA4ZmM2NDRlNGZkZTk2ZDQzKTsKICAgICAgICAgICAgCgogICAgICAgICAgICBtYXJrZXJfY2Q0N2E5NjkxNzJiNDU3Mzg4NGZlMWQyOTg0Y2Q3YjAuYmluZFBvcHVwKHBvcHVwX2I4NzE2YjFjOWJjNTRhZTc4ZGVlOTkwZGIwZGFmNGQ0KQogICAgICAgICAgICA7CgogICAgICAgICAgICAKICAgICAgICAKICAgIAogICAgICAgIHZhciBtYXJrZXJfOGY4YTA4NGY5N2M4NDFhZGE1MTVjNmQwM2ViZTQ1OTcgPSBMLm1hcmtlcigKICAgICAgICAgICAgWzQzLjIxNDkyODI1LCAtOC4xODYzMzUwODZdLAogICAgICAgICAgICB7CiAgICAgICAgICAgICAgICBpY29uOiBuZXcgTC5JY29uLkRlZmF1bHQoKSwKICAgICAgICAgICAgICAgIH0KICAgICAgICAgICAgKS5hZGRUbyhtYXBfMTZkMWI4Yzk3M2NkNDdmOWE4NzM0MGEyZjMyOGVlMjMpOwogICAgICAgIAogICAgCiAgICAgICAgICAgIHZhciBwb3B1cF83MGI2OGRiM2I1NTA0NzU4YjY0M2EwMDJiYzM1YzFlYiA9IEwucG9wdXAoe21heFdpZHRoOiAnMTAwJScKICAgICAgICAgICAgCiAgICAgICAgICAgIH0pOwoKICAgICAgICAgICAgCiAgICAgICAgICAgICAgICB2YXIgaHRtbF8zOTNhYzhjOTI1ZGE0NjBjYTM1ZWEzOTJiZTUwMmE5NyA9ICQoYDxkaXYgaWQ9Imh0bWxfMzkzYWM4YzkyNWRhNDYwY2EzNWVhMzkyYmU1MDJhOTciIHN0eWxlPSJ3aWR0aDogMTAwLjAlOyBoZWlnaHQ6IDEwMC4wJTsiPk96YS1DZXN1cmFzICg1MTgxIGhhYml0YW50ZXMpPC9kaXY+YClbMF07CiAgICAgICAgICAgICAgICBwb3B1cF83MGI2OGRiM2I1NTA0NzU4YjY0M2EwMDJiYzM1YzFlYi5zZXRDb250ZW50KGh0bWxfMzkzYWM4YzkyNWRhNDYwY2EzNWVhMzkyYmU1MDJhOTcpOwogICAgICAgICAgICAKCiAgICAgICAgICAgIG1hcmtlcl84ZjhhMDg0Zjk3Yzg0MWFkYTUxNWM2ZDAzZWJlNDU5Ny5iaW5kUG9wdXAocG9wdXBfNzBiNjhkYjNiNTUwNDc1OGI2NDNhMDAyYmMzNWMxZWIpCiAgICAgICAgICAgIDsKCiAgICAgICAgICAgIAogICAgICAgIAogICAgCiAgICAgICAgdmFyIG1hcmtlcl9iYTQzMDU4YjliYWM0MDlhODAzNmQ2YzdmZTcxNDBhYSA9IEwubWFya2VyKAogICAgICAgICAgICBbMzguMjA3ODg5MTcsIC0xLjA0MjU5Nzc1XSwKICAgICAgICAgICAgewogICAgICAgICAgICAgICAgaWNvbjogbmV3IEwuSWNvbi5EZWZhdWx0KCksCiAgICAgICAgICAgICAgICB9CiAgICAgICAgICAgICkuYWRkVG8obWFwXzE2ZDFiOGM5NzNjZDQ3ZjlhODczNDBhMmYzMjhlZTIzKTsKICAgICAgICAKICAgIAogICAgICAgICAgICB2YXIgcG9wdXBfMjEzYzgzZmZjM2VjNDU3NmJkYjZkODNhMmI5ZWFmZGQgPSBMLnBvcHVwKHttYXhXaWR0aDogJzEwMCUnCiAgICAgICAgICAgIAogICAgICAgICAgICB9KTsKCiAgICAgICAgICAgIAogICAgICAgICAgICAgICAgdmFyIGh0bWxfZDVlNTM3NjE2M2FkNGMwNmE3Y2E0OWNmMGI1MjFkNjIgPSAkKGA8ZGl2IGlkPSJodG1sX2Q1ZTUzNzYxNjNhZDRjMDZhN2NhNDljZjBiNTIxZDYyIiBzdHlsZT0id2lkdGg6IDEwMC4wJTsgaGVpZ2h0OiAxMDAuMCU7Ij5BYmFuaWxsYSAoNjE4NCBoYWJpdGFudGVzKTwvZGl2PmApWzBdOwogICAgICAgICAgICAgICAgcG9wdXBfMjEzYzgzZmZjM2VjNDU3NmJkYjZkODNhMmI5ZWFmZGQuc2V0Q29udGVudChodG1sX2Q1ZTUzNzYxNjNhZDRjMDZhN2NhNDljZjBiNTIxZDYyKTsKICAgICAgICAgICAgCgogICAgICAgICAgICBtYXJrZXJfYmE0MzA1OGI5YmFjNDA5YTgwMzZkNmM3ZmU3MTQwYWEuYmluZFBvcHVwKHBvcHVwXzIxM2M4M2ZmYzNlYzQ1NzZiZGI2ZDgzYTJiOWVhZmRkKQogICAgICAgICAgICA7CgogICAgICAgICAgICAKICAgICAgICAKICAgIAogICAgICAgIHZhciBtYXJrZXJfNWQ4MTY5NTA2Y2RiNDg0ZTg2ZmI5NDUzZGQzY2NlZTkgPSBMLm1hcmtlcigKICAgICAgICAgICAgWzM4LjIwMjU5OTQ0LCAtMS40MDExODA0NF0sCiAgICAgICAgICAgIHsKICAgICAgICAgICAgICAgIGljb246IG5ldyBMLkljb24uRGVmYXVsdCgpLAogICAgICAgICAgICAgICAgfQogICAgICAgICAgICApLmFkZFRvKG1hcF8xNmQxYjhjOTczY2Q0N2Y5YTg3MzQwYTJmMzI4ZWUyMyk7CiAgICAgICAgCiAgICAKICAgICAgICAgICAgdmFyIHBvcHVwX2YxM2YwZTExMDk3NTRkOGFhMmMxZWJkNGRiNzU3MGU5ID0gTC5wb3B1cCh7bWF4V2lkdGg6ICcxMDAlJwogICAgICAgICAgICAKICAgICAgICAgICAgfSk7CgogICAgICAgICAgICAKICAgICAgICAgICAgICAgIHZhciBodG1sXzVjZWRjZjk5NjAxYjRlYWU5NzUxNTU4ZWYwYjM4OTY2ID0gJChgPGRpdiBpZD0iaHRtbF81Y2VkY2Y5OTYwMWI0ZWFlOTc1MTU1OGVmMGIzODk2NiIgc3R5bGU9IndpZHRoOiAxMDAuMCU7IGhlaWdodDogMTAwLjAlOyI+QWJhcsOhbiAoMTMxODMgaGFiaXRhbnRlcyk8L2Rpdj5gKVswXTsKICAgICAgICAgICAgICAgIHBvcHVwX2YxM2YwZTExMDk3NTRkOGFhMmMxZWJkNGRiNzU3MGU5LnNldENvbnRlbnQoaHRtbF81Y2VkY2Y5OTYwMWI0ZWFlOTc1MTU1OGVmMGIzODk2Nik7CiAgICAgICAgICAgIAoKICAgICAgICAgICAgbWFya2VyXzVkODE2OTUwNmNkYjQ4NGU4NmZiOTQ1M2RkM2NjZWU5LmJpbmRQb3B1cChwb3B1cF9mMTNmMGUxMTA5NzU0ZDhhYTJjMWViZDRkYjc1NzBlOSkKICAgICAgICAgICAgOwoKICAgICAgICAgICAgCiAgICAgICAgCiAgICAKICAgICAgICB2YXIgbWFya2VyX2JiMWRmZmE1YzUxYTQ4Y2JhZWI2ZWY5MjMwNWRjY2VlID0gTC5tYXJrZXIoCiAgICAgICAgICAgIFszNy40MDQyOTcyOCwgLTEuNTgxMTI1OF0sCiAgICAgICAgICAgIHsKICAgICAgICAgICAgICAgIGljb246IG5ldyBMLkljb24uRGVmYXVsdCgpLAogICAgICAgICAgICAgICAgfQogICAgICAgICAgICApLmFkZFRvKG1hcF8xNmQxYjhjOTczY2Q0N2Y5YTg3MzQwYTJmMzI4ZWUyMyk7CiAgICAgICAgCiAgICAKICAgICAgICAgICAgdmFyIHBvcHVwXzliMjY0NWRmNDllZTQxZTBiMGNiNDQ3NTcwZDU1ZGM1ID0gTC5wb3B1cCh7bWF4V2lkdGg6ICcxMDAlJwogICAgICAgICAgICAKICAgICAgICAgICAgfSk7CgogICAgICAgICAgICAKICAgICAgICAgICAgICAgIHZhciBodG1sXzI4ZmNmMDdmZWY1YjRhYWQ4M2RiM2I0NjdjNmE3ZTNmID0gJChgPGRpdiBpZD0iaHRtbF8yOGZjZjA3ZmVmNWI0YWFkODNkYjNiNDY3YzZhN2UzZiIgc3R5bGU9IndpZHRoOiAxMDAuMCU7IGhlaWdodDogMTAwLjAlOyI+w4FndWlsYXMgKDM0NzA2IGhhYml0YW50ZXMpPC9kaXY+YClbMF07CiAgICAgICAgICAgICAgICBwb3B1cF85YjI2NDVkZjQ5ZWU0MWUwYjBjYjQ0NzU3MGQ1NWRjNS5zZXRDb250ZW50KGh0bWxfMjhmY2YwN2ZlZjViNGFhZDgzZGIzYjQ2N2M2YTdlM2YpOwogICAgICAgICAgICAKCiAgICAgICAgICAgIG1hcmtlcl9iYjFkZmZhNWM1MWE0OGNiYWViNmVmOTIzMDVkY2NlZS5iaW5kUG9wdXAocG9wdXBfOWIyNjQ1ZGY0OWVlNDFlMGIwY2I0NDc1NzBkNTVkYzUpCiAgICAgICAgICAgIDsKCiAgICAgICAgICAgIAogICAgICAgIAogICAgCiAgICAgICAgdmFyIG1hcmtlcl9hYjFiYWY1YTEzNjQ0NzA5YjcwMDdlYzNjMzdiZTY2NiA9IEwubWFya2VyKAogICAgICAgICAgICBbMzguMDI4MjIxOTgsIC0xLjM4NTU0NDI1XSwKICAgICAgICAgICAgewogICAgICAgICAgICAgICAgaWNvbjogbmV3IEwuSWNvbi5EZWZhdWx0KCksCiAgICAgICAgICAgICAgICB9CiAgICAgICAgICAgICkuYWRkVG8obWFwXzE2ZDFiOGM5NzNjZDQ3ZjlhODczNDBhMmYzMjhlZTIzKTsKICAgICAgICAKICAgIAogICAgICAgICAgICB2YXIgcG9wdXBfMjQxZWIwMTg0MDM2NGQxYWJjNjUzMTRiNDFlMzRjYmIgPSBMLnBvcHVwKHttYXhXaWR0aDogJzEwMCUnCiAgICAgICAgICAgIAogICAgICAgICAgICB9KTsKCiAgICAgICAgICAgIAogICAgICAgICAgICAgICAgdmFyIGh0bWxfNTkwMTczYjYxMDBmNDMwZDgzYmUxZWQyNzEzZWYyYjUgPSAkKGA8ZGl2IGlkPSJodG1sXzU5MDE3M2I2MTAwZjQzMGQ4M2JlMWVkMjcxM2VmMmI1IiBzdHlsZT0id2lkdGg6IDEwMC4wJTsgaGVpZ2h0OiAxMDAuMCU7Ij5BbGJ1ZGVpdGUgKDEzNzggaGFiaXRhbnRlcyk8L2Rpdj5gKVswXTsKICAgICAgICAgICAgICAgIHBvcHVwXzI0MWViMDE4NDAzNjRkMWFiYzY1MzE0YjQxZTM0Y2JiLnNldENvbnRlbnQoaHRtbF81OTAxNzNiNjEwMGY0MzBkODNiZTFlZDI3MTNlZjJiNSk7CiAgICAgICAgICAgIAoKICAgICAgICAgICAgbWFya2VyX2FiMWJhZjVhMTM2NDQ3MDliNzAwN2VjM2MzN2JlNjY2LmJpbmRQb3B1cChwb3B1cF8yNDFlYjAxODQwMzY0ZDFhYmM2NTMxNGI0MWUzNGNiYikKICAgICAgICAgICAgOwoKICAgICAgICAgICAgCiAgICAgICAgCiAgICAKICAgICAgICB2YXIgbWFya2VyX2U3OTNlMmE0ODE2NjQzNGE4OWJmZDJiMTFmY2JiYWU4ID0gTC5tYXJrZXIoCiAgICAgICAgICAgIFszNy45NzE2ODA2MDAwMDAwMDYsIC0xLjIxMjkxMjA2XSwKICAgICAgICAgICAgewogICAgICAgICAgICAgICAgaWNvbjogbmV3IEwuSWNvbi5EZWZhdWx0KCksCiAgICAgICAgICAgICAgICB9CiAgICAgICAgICAgICkuYWRkVG8obWFwXzE2ZDFiOGM5NzNjZDQ3ZjlhODczNDBhMmYzMjhlZTIzKTsKICAgICAgICAKICAgIAogICAgICAgICAgICB2YXIgcG9wdXBfOThjZGZkOTNkMWI1NDVhY2I2MjliYjcyNzFlNGZmOTMgPSBMLnBvcHVwKHttYXhXaWR0aDogJzEwMCUnCiAgICAgICAgICAgIAogICAgICAgICAgICB9KTsKCiAgICAgICAgICAgIAogICAgICAgICAgICAgICAgdmFyIGh0bWxfNWIwN2UzMjdkOWE0NDJjNWIzYjI5ZTk0NjU4OTViMmYgPSAkKGA8ZGl2IGlkPSJodG1sXzViMDdlMzI3ZDlhNDQyYzViM2IyOWU5NDY1ODk1YjJmIiBzdHlsZT0id2lkdGg6IDEwMC4wJTsgaGVpZ2h0OiAxMDAuMCU7Ij5BbGNhbnRhcmlsbGEgKDQxMTU1IGhhYml0YW50ZXMpPC9kaXY+YClbMF07CiAgICAgICAgICAgICAgICBwb3B1cF85OGNkZmQ5M2QxYjU0NWFjYjYyOWJiNzI3MWU0ZmY5My5zZXRDb250ZW50KGh0bWxfNWIwN2UzMjdkOWE0NDJjNWIzYjI5ZTk0NjU4OTViMmYpOwogICAgICAgICAgICAKCiAgICAgICAgICAgIG1hcmtlcl9lNzkzZTJhNDgxNjY0MzRhODliZmQyYjExZmNiYmFlOC5iaW5kUG9wdXAocG9wdXBfOThjZGZkOTNkMWI1NDVhY2I2MjliYjcyNzFlNGZmOTMpCiAgICAgICAgICAgIDsKCiAgICAgICAgICAgIAogICAgICAgIAogICAgCiAgICAgICAgdmFyIG1hcmtlcl8zMDUwODU3OWNiYzY0MzA4ODM5MGY5YmZkOWUxNjlmYyA9IEwubWFya2VyKAogICAgICAgICAgICBbMzcuNzkxODIwNjQsIC0xLjU3Mjk4MjE4XSwKICAgICAgICAgICAgewogICAgICAgICAgICAgICAgaWNvbjogbmV3IEwuSWNvbi5EZWZhdWx0KCksCiAgICAgICAgICAgICAgICB9CiAgICAgICAgICAgICkuYWRkVG8obWFwXzE2ZDFiOGM5NzNjZDQ3ZjlhODczNDBhMmYzMjhlZTIzKTsKICAgICAgICAKICAgIAogICAgICAgICAgICB2YXIgcG9wdXBfY2I0MTdjZDM2YjYwNDI5YzgxZTI2ODI3ZGZmYmQ2NzggPSBMLnBvcHVwKHttYXhXaWR0aDogJzEwMCUnCiAgICAgICAgICAgIAogICAgICAgICAgICB9KTsKCiAgICAgICAgICAgIAogICAgICAgICAgICAgICAgdmFyIGh0bWxfNmRmMDc2MWZlNjQ0NDNiOGEzOGQ5NmM0NjkzZjY2ZDYgPSAkKGA8ZGl2IGlkPSJodG1sXzZkZjA3NjFmZTY0NDQzYjhhMzhkOTZjNDY5M2Y2NmQ2IiBzdHlsZT0id2lkdGg6IDEwMC4wJTsgaGVpZ2h0OiAxMDAuMCU7Ij5BbGVkbyAoOTQxIGhhYml0YW50ZXMpPC9kaXY+YClbMF07CiAgICAgICAgICAgICAgICBwb3B1cF9jYjQxN2NkMzZiNjA0MjljODFlMjY4MjdkZmZiZDY3OC5zZXRDb250ZW50KGh0bWxfNmRmMDc2MWZlNjQ0NDNiOGEzOGQ5NmM0NjkzZjY2ZDYpOwogICAgICAgICAgICAKCiAgICAgICAgICAgIG1hcmtlcl8zMDUwODU3OWNiYzY0MzA4ODM5MGY5YmZkOWUxNjlmYy5iaW5kUG9wdXAocG9wdXBfY2I0MTdjZDM2YjYwNDI5YzgxZTI2ODI3ZGZmYmQ2NzgpCiAgICAgICAgICAgIDsKCiAgICAgICAgICAgIAogICAgICAgIAogICAgCiAgICAgICAgdmFyIG1hcmtlcl9lMmFlMDgyNWYxOWY0NGU5OWM0MGIyMzExMWUwMDg0OSA9IEwubWFya2VyKAogICAgICAgICAgICBbMzguMDUwMzA1MjksIC0xLjI0MTM2MDc1XSwKICAgICAgICAgICAgewogICAgICAgICAgICAgICAgaWNvbjogbmV3IEwuSWNvbi5EZWZhdWx0KCksCiAgICAgICAgICAgICAgICB9CiAgICAgICAgICAgICkuYWRkVG8obWFwXzE2ZDFiOGM5NzNjZDQ3ZjlhODczNDBhMmYzMjhlZTIzKTsKICAgICAgICAKICAgIAogICAgICAgICAgICB2YXIgcG9wdXBfMGUyZTY4ODY0YzA5NDhiNTlkYTY2N2YwMWY3ZTNkZGQgPSBMLnBvcHVwKHttYXhXaWR0aDogJzEwMCUnCiAgICAgICAgICAgIAogICAgICAgICAgICB9KTsKCiAgICAgICAgICAgIAogICAgICAgICAgICAgICAgdmFyIGh0bWxfMzdlMDg4ZmMzMjY3NDgzZjkyODUyNWFlOTkwZGZmM2EgPSAkKGA8ZGl2IGlkPSJodG1sXzM3ZTA4OGZjMzI2NzQ4M2Y5Mjg1MjVhZTk5MGRmZjNhIiBzdHlsZT0id2lkdGg6IDEwMC4wJTsgaGVpZ2h0OiAxMDAuMCU7Ij5BbGd1YXphcyAoOTYxMyBoYWJpdGFudGVzKTwvZGl2PmApWzBdOwogICAgICAgICAgICAgICAgcG9wdXBfMGUyZTY4ODY0YzA5NDhiNTlkYTY2N2YwMWY3ZTNkZGQuc2V0Q29udGVudChodG1sXzM3ZTA4OGZjMzI2NzQ4M2Y5Mjg1MjVhZTk5MGRmZjNhKTsKICAgICAgICAgICAgCgogICAgICAgICAgICBtYXJrZXJfZTJhZTA4MjVmMTlmNDRlOTljNDBiMjMxMTFlMDA4NDkuYmluZFBvcHVwKHBvcHVwXzBlMmU2ODg2NGMwOTQ4YjU5ZGE2NjdmMDFmN2UzZGRkKQogICAgICAgICAgICA7CgogICAgICAgICAgICAKICAgICAgICAKICAgIAogICAgICAgIHZhciBtYXJrZXJfZjk1MGQ0NGY4MjdlNDBkYWFiYWEzOGYzZTRiM2Q2MmMgPSBMLm1hcmtlcigKICAgICAgICAgICAgWzM3Ljg1MjM3NTk0LCAtMS40MjQ2MjMzMl0sCiAgICAgICAgICAgIHsKICAgICAgICAgICAgICAgIGljb246IG5ldyBMLkljb24uRGVmYXVsdCgpLAogICAgICAgICAgICAgICAgfQogICAgICAgICAgICApLmFkZFRvKG1hcF8xNmQxYjhjOTczY2Q0N2Y5YTg3MzQwYTJmMzI4ZWUyMyk7CiAgICAgICAgCiAgICAKICAgICAgICAgICAgdmFyIHBvcHVwX2Q4ZTBmMTI5OWM5ZTRlODA4N2UyYjU0YjU4NTI2M2VhID0gTC5wb3B1cCh7bWF4V2lkdGg6ICcxMDAlJwogICAgICAgICAgICAKICAgICAgICAgICAgfSk7CgogICAgICAgICAgICAKICAgICAgICAgICAgICAgIHZhciBodG1sXzgyZDNjNWY0NDI5NjQxZjdhODVmNmEwODg3MGFlOGRhID0gJChgPGRpdiBpZD0iaHRtbF84MmQzYzVmNDQyOTY0MWY3YTg1ZjZhMDg4NzBhZThkYSIgc3R5bGU9IndpZHRoOiAxMDAuMCU7IGhlaWdodDogMTAwLjAlOyI+QWxoYW1hIGRlIE11cmNpYSAoMjEzMDggaGFiaXRhbnRlcyk8L2Rpdj5gKVswXTsKICAgICAgICAgICAgICAgIHBvcHVwX2Q4ZTBmMTI5OWM5ZTRlODA4N2UyYjU0YjU4NTI2M2VhLnNldENvbnRlbnQoaHRtbF84MmQzYzVmNDQyOTY0MWY3YTg1ZjZhMDg4NzBhZThkYSk7CiAgICAgICAgICAgIAoKICAgICAgICAgICAgbWFya2VyX2Y5NTBkNDRmODI3ZTQwZGFhYmFhMzhmM2U0YjNkNjJjLmJpbmRQb3B1cChwb3B1cF9kOGUwZjEyOTljOWU0ZTgwODdlMmI1NGI1ODUyNjNlYSkKICAgICAgICAgICAgOwoKICAgICAgICAgICAgCiAgICAgICAgCiAgICAKICAgICAgICB2YXIgbWFya2VyXzcxZDhlODI1ZjZlMjQ2MDI4OWU5ZjA5NmRiOTNmMDIwID0gTC5tYXJrZXIoCiAgICAgICAgICAgIFszOC4xMTI5NzU2NSwgLTEuMjk4NDUxMzddLAogICAgICAgICAgICB7CiAgICAgICAgICAgICAgICBpY29uOiBuZXcgTC5JY29uLkRlZmF1bHQoKSwKICAgICAgICAgICAgICAgIH0KICAgICAgICAgICAgKS5hZGRUbyhtYXBfMTZkMWI4Yzk3M2NkNDdmOWE4NzM0MGEyZjMyOGVlMjMpOwogICAgICAgIAogICAgCiAgICAgICAgICAgIHZhciBwb3B1cF8xNGY2YTY5ZGExZTU0MjBlYTY3OGIzNmE4NjUwZmIyZSA9IEwucG9wdXAoe21heFdpZHRoOiAnMTAwJScKICAgICAgICAgICAgCiAgICAgICAgICAgIH0pOwoKICAgICAgICAgICAgCiAgICAgICAgICAgICAgICB2YXIgaHRtbF84NjFhNGFhNTA3YjM0MjI5YTQ2NjUxNzAzNjk5NTJiNSA9ICQoYDxkaXYgaWQ9Imh0bWxfODYxYTRhYTUwN2IzNDIyOWE0NjY1MTcwMzY5OTUyYjUiIHN0eWxlPSJ3aWR0aDogMTAwLjAlOyBoZWlnaHQ6IDEwMC4wJTsiPkFyY2hlbmEgKDE4NzM0IGhhYml0YW50ZXMpPC9kaXY+YClbMF07CiAgICAgICAgICAgICAgICBwb3B1cF8xNGY2YTY5ZGExZTU0MjBlYTY3OGIzNmE4NjUwZmIyZS5zZXRDb250ZW50KGh0bWxfODYxYTRhYTUwN2IzNDIyOWE0NjY1MTcwMzY5OTUyYjUpOwogICAgICAgICAgICAKCiAgICAgICAgICAgIG1hcmtlcl83MWQ4ZTgyNWY2ZTI0NjAyODllOWYwOTZkYjkzZjAyMC5iaW5kUG9wdXAocG9wdXBfMTRmNmE2OWRhMWU1NDIwZWE2NzhiMzZhODY1MGZiMmUpCiAgICAgICAgICAgIDsKCiAgICAgICAgICAgIAogICAgICAgIAogICAgCiAgICAgICAgdmFyIG1hcmtlcl9jNWNjMWNkOWJjNGQ0MDBlOTMwY2I3NjY3MzUxODc0NyA9IEwubWFya2VyKAogICAgICAgICAgICBbMzguMDQ2NTQ0OTYsIC0xLjAwMTY4NzI5XSwKICAgICAgICAgICAgewogICAgICAgICAgICAgICAgaWNvbjogbmV3IEwuSWNvbi5EZWZhdWx0KCksCiAgICAgICAgICAgICAgICB9CiAgICAgICAgICAgICkuYWRkVG8obWFwXzE2ZDFiOGM5NzNjZDQ3ZjlhODczNDBhMmYzMjhlZTIzKTsKICAgICAgICAKICAgIAogICAgICAgICAgICB2YXIgcG9wdXBfNjQ1MmNjYTQ4ODM4NDQ3ZDliMTQxZTExMjg3NzNmN2MgPSBMLnBvcHVwKHttYXhXaWR0aDogJzEwMCUnCiAgICAgICAgICAgIAogICAgICAgICAgICB9KTsKCiAgICAgICAgICAgIAogICAgICAgICAgICAgICAgdmFyIGh0bWxfYTU4YzViYzkyYjRlNGYwYThmN2VjNGI5NzQ0M2ZjNzIgPSAkKGA8ZGl2IGlkPSJodG1sX2E1OGM1YmM5MmI0ZTRmMGE4ZjdlYzRiOTc0NDNmYzcyIiBzdHlsZT0id2lkdGg6IDEwMC4wJTsgaGVpZ2h0OiAxMDAuMCU7Ij5CZW5pZWwgKDExMTE0IGhhYml0YW50ZXMpPC9kaXY+YClbMF07CiAgICAgICAgICAgICAgICBwb3B1cF82NDUyY2NhNDg4Mzg0NDdkOWIxNDFlMTEyODc3M2Y3Yy5zZXRDb250ZW50KGh0bWxfYTU4YzViYzkyYjRlNGYwYThmN2VjNGI5NzQ0M2ZjNzIpOwogICAgICAgICAgICAKCiAgICAgICAgICAgIG1hcmtlcl9jNWNjMWNkOWJjNGQ0MDBlOTMwY2I3NjY3MzUxODc0Ny5iaW5kUG9wdXAocG9wdXBfNjQ1MmNjYTQ4ODM4NDQ3ZDliMTQxZTExMjg3NzNmN2MpCiAgICAgICAgICAgIDsKCiAgICAgICAgICAgIAogICAgICAgIAogICAgCiAgICAgICAgdmFyIG1hcmtlcl8wYmQyNzhiY2ViNGY0NGJkYjVhODQ2ZTMyODdhNjg0ZCA9IEwubWFya2VyKAogICAgICAgICAgICBbMzguMTgwNTc0OTIsIC0xLjM3NTU5NzY3XSwKICAgICAgICAgICAgewogICAgICAgICAgICAgICAgaWNvbjogbmV3IEwuSWNvbi5EZWZhdWx0KCksCiAgICAgICAgICAgICAgICB9CiAgICAgICAgICAgICkuYWRkVG8obWFwXzE2ZDFiOGM5NzNjZDQ3ZjlhODczNDBhMmYzMjhlZTIzKTsKICAgICAgICAKICAgIAogICAgICAgICAgICB2YXIgcG9wdXBfY2RjMDJkMmVkZmU4NGQyODkxMWYwYjA5MzkwNDNhMzAgPSBMLnBvcHVwKHttYXhXaWR0aDogJzEwMCUnCiAgICAgICAgICAgIAogICAgICAgICAgICB9KTsKCiAgICAgICAgICAgIAogICAgICAgICAgICAgICAgdmFyIGh0bWxfMDdlMGU4ZTdlNjZjNDFmOTk0ZWI1NTY3MDg2MzNlYTcgPSAkKGA8ZGl2IGlkPSJodG1sXzA3ZTBlOGU3ZTY2YzQxZjk5NGViNTU2NzA4NjMzZWE3IiBzdHlsZT0id2lkdGg6IDEwMC4wJTsgaGVpZ2h0OiAxMDAuMCU7Ij5CbGFuY2EgKDY1MjEgaGFiaXRhbnRlcyk8L2Rpdj5gKVswXTsKICAgICAgICAgICAgICAgIHBvcHVwX2NkYzAyZDJlZGZlODRkMjg5MTFmMGIwOTM5MDQzYTMwLnNldENvbnRlbnQoaHRtbF8wN2UwZThlN2U2NmM0MWY5OTRlYjU1NjcwODYzM2VhNyk7CiAgICAgICAgICAgIAoKICAgICAgICAgICAgbWFya2VyXzBiZDI3OGJjZWI0ZjQ0YmRiNWE4NDZlMzI4N2E2ODRkLmJpbmRQb3B1cChwb3B1cF9jZGMwMmQyZWRmZTg0ZDI4OTExZjBiMDkzOTA0M2EzMCkKICAgICAgICAgICAgOwoKICAgICAgICAgICAgCiAgICAgICAgCiAgICAKICAgICAgICB2YXIgbWFya2VyX2MxY2YyYzAwZWQxNzQzN2Y4MjYwYTVmMjVlNTI5MjUwID0gTC5tYXJrZXIoCiAgICAgICAgICAgIFszOC4wNDk1NjEzNSwgLTEuNjcwMzMxNTddLAogICAgICAgICAgICB7CiAgICAgICAgICAgICAgICBpY29uOiBuZXcgTC5JY29uLkRlZmF1bHQoKSwKICAgICAgICAgICAgICAgIH0KICAgICAgICAgICAgKS5hZGRUbyhtYXBfMTZkMWI4Yzk3M2NkNDdmOWE4NzM0MGEyZjMyOGVlMjMpOwogICAgICAgIAogICAgCiAgICAgICAgICAgIHZhciBwb3B1cF8xMDA1ZmFmNmQ3NTk0MWVkYjA3MzdkZTQ2Njc1ZDQzZSA9IEwucG9wdXAoe21heFdpZHRoOiAnMTAwJScKICAgICAgICAgICAgCiAgICAgICAgICAgIH0pOwoKICAgICAgICAgICAgCiAgICAgICAgICAgICAgICB2YXIgaHRtbF84ODJkMTZmNjU4Y2Q0ZDg2OWNjYmFjZjRlM2QxMmIwNyA9ICQoYDxkaXYgaWQ9Imh0bWxfODgyZDE2ZjY1OGNkNGQ4NjljY2JhY2Y0ZTNkMTJiMDciIHN0eWxlPSJ3aWR0aDogMTAwLjAlOyBoZWlnaHQ6IDEwMC4wJTsiPkJ1bGxhcyAoMTE3MTQgaGFiaXRhbnRlcyk8L2Rpdj5gKVswXTsKICAgICAgICAgICAgICAgIHBvcHVwXzEwMDVmYWY2ZDc1OTQxZWRiMDczN2RlNDY2NzVkNDNlLnNldENvbnRlbnQoaHRtbF84ODJkMTZmNjU4Y2Q0ZDg2OWNjYmFjZjRlM2QxMmIwNyk7CiAgICAgICAgICAgIAoKICAgICAgICAgICAgbWFya2VyX2MxY2YyYzAwZWQxNzQzN2Y4MjYwYTVmMjVlNTI5MjUwLmJpbmRQb3B1cChwb3B1cF8xMDA1ZmFmNmQ3NTk0MWVkYjA3MzdkZTQ2Njc1ZDQzZSkKICAgICAgICAgICAgOwoKICAgICAgICAgICAgCiAgICAgICAgCiAgICAKICAgICAgICB2YXIgbWFya2VyXzY3NTliZWE0OWNhMTQ3OTM5Y2U3MjY0MTBmOGQ0ZjgxID0gTC5tYXJrZXIoCiAgICAgICAgICAgIFszOC4yMzExNTA0NiwgLTEuNjkzOTEzMzhdLAogICAgICAgICAgICB7CiAgICAgICAgICAgICAgICBpY29uOiBuZXcgTC5JY29uLkRlZmF1bHQoKSwKICAgICAgICAgICAgICAgIH0KICAgICAgICAgICAgKS5hZGRUbyhtYXBfMTZkMWI4Yzk3M2NkNDdmOWE4NzM0MGEyZjMyOGVlMjMpOwogICAgICAgIAogICAgCiAgICAgICAgICAgIHZhciBwb3B1cF9mNWRmOTYxYWU4ZDM0OGQ5YTZhYzk5ZmI1NTQ2ODg0YiA9IEwucG9wdXAoe21heFdpZHRoOiAnMTAwJScKICAgICAgICAgICAgCiAgICAgICAgICAgIH0pOwoKICAgICAgICAgICAgCiAgICAgICAgICAgICAgICB2YXIgaHRtbF85NTg0MWM0NzAyZWI0NGQ0OGE3ZDEwNzMwNThkM2MyMCA9ICQoYDxkaXYgaWQ9Imh0bWxfOTU4NDFjNDcwMmViNDRkNDhhN2QxMDczMDU4ZDNjMjAiIHN0eWxlPSJ3aWR0aDogMTAwLjAlOyBoZWlnaHQ6IDEwMC4wJTsiPkNhbGFzcGFycmEgKDEwMjY4IGhhYml0YW50ZXMpPC9kaXY+YClbMF07CiAgICAgICAgICAgICAgICBwb3B1cF9mNWRmOTYxYWU4ZDM0OGQ5YTZhYzk5ZmI1NTQ2ODg0Yi5zZXRDb250ZW50KGh0bWxfOTU4NDFjNDcwMmViNDRkNDhhN2QxMDczMDU4ZDNjMjApOwogICAgICAgICAgICAKCiAgICAgICAgICAgIG1hcmtlcl82NzU5YmVhNDljYTE0NzkzOWNlNzI2NDEwZjhkNGY4MS5iaW5kUG9wdXAocG9wdXBfZjVkZjk2MWFlOGQzNDhkOWE2YWM5OWZiNTU0Njg4NGIpCiAgICAgICAgICAgIDsKCiAgICAgICAgICAgIAogICAgICAgIAogICAgCiAgICAgICAgdmFyIG1hcmtlcl9kNjhhN2ZlNWFhYjk0ZGRlOGU1OWZkNTI0ZmEzM2UzZiA9IEwubWFya2VyKAogICAgICAgICAgICBbMzguMDM4NzcxNzEsIC0xLjM0ODMzNjZdLAogICAgICAgICAgICB7CiAgICAgICAgICAgICAgICBpY29uOiBuZXcgTC5JY29uLkRlZmF1bHQoKSwKICAgICAgICAgICAgICAgIH0KICAgICAgICAgICAgKS5hZGRUbyhtYXBfMTZkMWI4Yzk3M2NkNDdmOWE4NzM0MGEyZjMyOGVlMjMpOwogICAgICAgIAogICAgCiAgICAgICAgICAgIHZhciBwb3B1cF9iODQzNTdjNTAxNjk0NzE2OTJkOGUwYTlkODhjYzQxOSA9IEwucG9wdXAoe21heFdpZHRoOiAnMTAwJScKICAgICAgICAgICAgCiAgICAgICAgICAgIH0pOwoKICAgICAgICAgICAgCiAgICAgICAgICAgICAgICB2YXIgaHRtbF80NDU2Y2M0ZTgxYWY0MjdiYTYwNDAzZTNkYmQ3MmY5ZSA9ICQoYDxkaXYgaWQ9Imh0bWxfNDQ1NmNjNGU4MWFmNDI3YmE2MDQwM2UzZGJkNzJmOWUiIHN0eWxlPSJ3aWR0aDogMTAwLjAlOyBoZWlnaHQ6IDEwMC4wJTsiPkNhbXBvcyBkZWwgUsOtbyAoMjAwMyBoYWJpdGFudGVzKTwvZGl2PmApWzBdOwogICAgICAgICAgICAgICAgcG9wdXBfYjg0MzU3YzUwMTY5NDcxNjkyZDhlMGE5ZDg4Y2M0MTkuc2V0Q29udGVudChodG1sXzQ0NTZjYzRlODFhZjQyN2JhNjA0MDNlM2RiZDcyZjllKTsKICAgICAgICAgICAgCgogICAgICAgICAgICBtYXJrZXJfZDY4YTdmZTVhYWI5NGRkZThlNTlmZDUyNGZhMzNlM2YuYmluZFBvcHVwKHBvcHVwX2I4NDM1N2M1MDE2OTQ3MTY5MmQ4ZTBhOWQ4OGNjNDE5KQogICAgICAgICAgICA7CgogICAgICAgICAgICAKICAgICAgICAKICAgIAogICAgICAgIHZhciBtYXJrZXJfMmY2OGE1YjM3Y2FmNDMyZGEzMmQxNTg2NWRiYzJkNjkgPSBMLm1hcmtlcigKICAgICAgICAgICAgWzM4LjEwNDk0MDYsIC0xLjg2NDMwNzQ1XSwKICAgICAgICAgICAgewogICAgICAgICAgICAgICAgaWNvbjogbmV3IEwuSWNvbi5EZWZhdWx0KCksCiAgICAgICAgICAgICAgICB9CiAgICAgICAgICAgICkuYWRkVG8obWFwXzE2ZDFiOGM5NzNjZDQ3ZjlhODczNDBhMmYzMjhlZTIzKTsKICAgICAgICAKICAgIAogICAgICAgICAgICB2YXIgcG9wdXBfZDI1NGRiZWQxYzIwNDBlMGFkMGU4YTM2YjNmZTQyNjcgPSBMLnBvcHVwKHttYXhXaWR0aDogJzEwMCUnCiAgICAgICAgICAgIAogICAgICAgICAgICB9KTsKCiAgICAgICAgICAgIAogICAgICAgICAgICAgICAgdmFyIGh0bWxfZDlkZjk2ODkyZGEzNDNmNTg5NTZjYWQ5MmM2MTkzZmQgPSAkKGA8ZGl2IGlkPSJodG1sX2Q5ZGY5Njg5MmRhMzQzZjU4OTU2Y2FkOTJjNjE5M2ZkIiBzdHlsZT0id2lkdGg6IDEwMC4wJTsgaGVpZ2h0OiAxMDAuMCU7Ij5DYXJhdmFjYSBkZSBsYSBDcnV6ICgyNTU5MSBoYWJpdGFudGVzKTwvZGl2PmApWzBdOwogICAgICAgICAgICAgICAgcG9wdXBfZDI1NGRiZWQxYzIwNDBlMGFkMGU4YTM2YjNmZTQyNjcuc2V0Q29udGVudChodG1sX2Q5ZGY5Njg5MmRhMzQzZjU4OTU2Y2FkOTJjNjE5M2ZkKTsKICAgICAgICAgICAgCgogICAgICAgICAgICBtYXJrZXJfMmY2OGE1YjM3Y2FmNDMyZGEzMmQxNTg2NWRiYzJkNjkuYmluZFBvcHVwKHBvcHVwX2QyNTRkYmVkMWMyMDQwZTBhZDBlOGEzNmIzZmU0MjY3KQogICAgICAgICAgICA7CgogICAgICAgICAgICAKICAgICAgICAKICAgIAogICAgICAgIHZhciBtYXJrZXJfYzQ2M2U1NmUxMjIwNGFjMjhjZTdiOGEzZDZmNDJmNjIgPSBMLm1hcmtlcigKICAgICAgICAgICAgWzM3LjYwMDE3MzQyLCAtMC45ODIxMDQ5NF0sCiAgICAgICAgICAgIHsKICAgICAgICAgICAgICAgIGljb246IG5ldyBMLkljb24uRGVmYXVsdCgpLAogICAgICAgICAgICAgICAgfQogICAgICAgICAgICApLmFkZFRvKG1hcF8xNmQxYjhjOTczY2Q0N2Y5YTg3MzQwYTJmMzI4ZWUyMyk7CiAgICAgICAgCiAgICAKICAgICAgICAgICAgdmFyIHBvcHVwXzI4NTJmOTU1OTQyYzQ0NDg4NTc2MjJkZTE4MDYyNWEzID0gTC5wb3B1cCh7bWF4V2lkdGg6ICcxMDAlJwogICAgICAgICAgICAKICAgICAgICAgICAgfSk7CgogICAgICAgICAgICAKICAgICAgICAgICAgICAgIHZhciBodG1sX2MzYTAzYmMwMzE0OTRlY2FiZmEyNGRkNTAxNjQ4YTE0ID0gJChgPGRpdiBpZD0iaHRtbF9jM2EwM2JjMDMxNDk0ZWNhYmZhMjRkZDUwMTY0OGExNCIgc3R5bGU9IndpZHRoOiAxMDAuMCU7IGhlaWdodDogMTAwLjAlOyI+Q2FydGFnZW5hICgyMTQ3NTkgaGFiaXRhbnRlcyk8L2Rpdj5gKVswXTsKICAgICAgICAgICAgICAgIHBvcHVwXzI4NTJmOTU1OTQyYzQ0NDg4NTc2MjJkZTE4MDYyNWEzLnNldENvbnRlbnQoaHRtbF9jM2EwM2JjMDMxNDk0ZWNhYmZhMjRkZDUwMTY0OGExNCk7CiAgICAgICAgICAgIAoKICAgICAgICAgICAgbWFya2VyX2M0NjNlNTZlMTIyMDRhYzI4Y2U3YjhhM2Q2ZjQyZjYyLmJpbmRQb3B1cChwb3B1cF8yODUyZjk1NTk0MmM0NDQ4ODU3NjIyZGUxODA2MjVhMykKICAgICAgICAgICAgOwoKICAgICAgICAgICAgCiAgICAgICAgCiAgICAKICAgICAgICB2YXIgbWFya2VyX2MwZDY1ODk2ZTFhZDQzOTg5YmNlZDgwM2U5ZDFjMDEyID0gTC5tYXJrZXIoCiAgICAgICAgICAgIFszOC4wOTg0OTMxNCwgLTEuODAwNDgzMzhdLAogICAgICAgICAgICB7CiAgICAgICAgICAgICAgICBpY29uOiBuZXcgTC5JY29uLkRlZmF1bHQoKSwKICAgICAgICAgICAgICAgIH0KICAgICAgICAgICAgKS5hZGRUbyhtYXBfMTZkMWI4Yzk3M2NkNDdmOWE4NzM0MGEyZjMyOGVlMjMpOwogICAgICAgIAogICAgCiAgICAgICAgICAgIHZhciBwb3B1cF9kNmU3NDQ3OThlNGI0N2U1YWI3ODRkNGE4NTAzZTMzZiA9IEwucG9wdXAoe21heFdpZHRoOiAnMTAwJScKICAgICAgICAgICAgCiAgICAgICAgICAgIH0pOwoKICAgICAgICAgICAgCiAgICAgICAgICAgICAgICB2YXIgaHRtbF8xYzY4ZWJmNTBjODE0MjIyYmZlNDFkNTdjODk5MGVkOCA9ICQoYDxkaXYgaWQ9Imh0bWxfMWM2OGViZjUwYzgxNDIyMmJmZTQxZDU3Yzg5OTBlZDgiIHN0eWxlPSJ3aWR0aDogMTAwLjAlOyBoZWlnaHQ6IDEwMC4wJTsiPkNlaGVnw61uICgxNTMyMSBoYWJpdGFudGVzKTwvZGl2PmApWzBdOwogICAgICAgICAgICAgICAgcG9wdXBfZDZlNzQ0Nzk4ZTRiNDdlNWFiNzg0ZDRhODUwM2UzM2Yuc2V0Q29udGVudChodG1sXzFjNjhlYmY1MGM4MTQyMjJiZmU0MWQ1N2M4OTkwZWQ4KTsKICAgICAgICAgICAgCgogICAgICAgICAgICBtYXJrZXJfYzBkNjU4OTZlMWFkNDM5ODliY2VkODAzZTlkMWMwMTIuYmluZFBvcHVwKHBvcHVwX2Q2ZTc0NDc5OGU0YjQ3ZTVhYjc4NGQ0YTg1MDNlMzNmKQogICAgICAgICAgICA7CgogICAgICAgICAgICAKICAgICAgICAKICAgIAogICAgICAgIHZhciBtYXJrZXJfMWI1YTg5OTNlNDMzNDY5YmEzOTQ1ZGNjYWNmZDMwNTAgPSBMLm1hcmtlcigKICAgICAgICAgICAgWzM4LjA3OTAzOTU5LCAtMS4yNjk2MDc3XSwKICAgICAgICAgICAgewogICAgICAgICAgICAgICAgaWNvbjogbmV3IEwuSWNvbi5EZWZhdWx0KCksCiAgICAgICAgICAgICAgICB9CiAgICAgICAgICAgICkuYWRkVG8obWFwXzE2ZDFiOGM5NzNjZDQ3ZjlhODczNDBhMmYzMjhlZTIzKTsKICAgICAgICAKICAgIAogICAgICAgICAgICB2YXIgcG9wdXBfYTIyM2IzODU0YjA2NDg2Mjk5OGUzOWY0NWM4MjJlYjMgPSBMLnBvcHVwKHttYXhXaWR0aDogJzEwMCUnCiAgICAgICAgICAgIAogICAgICAgICAgICB9KTsKCiAgICAgICAgICAgIAogICAgICAgICAgICAgICAgdmFyIGh0bWxfNzI2MWRmZDIzYWNhNDNjYmExOTk5NTdhYTc1NGIyNGYgPSAkKGA8ZGl2IGlkPSJodG1sXzcyNjFkZmQyM2FjYTQzY2JhMTk5OTU3YWE3NTRiMjRmIiBzdHlsZT0id2lkdGg6IDEwMC4wJTsgaGVpZ2h0OiAxMDAuMCU7Ij5DZXV0w60gKDExMzIxIGhhYml0YW50ZXMpPC9kaXY+YClbMF07CiAgICAgICAgICAgICAgICBwb3B1cF9hMjIzYjM4NTRiMDY0ODYyOTk4ZTM5ZjQ1YzgyMmViMy5zZXRDb250ZW50KGh0bWxfNzI2MWRmZDIzYWNhNDNjYmExOTk5NTdhYTc1NGIyNGYpOwogICAgICAgICAgICAKCiAgICAgICAgICAgIG1hcmtlcl8xYjVhODk5M2U0MzM0NjliYTM5NDVkY2NhY2ZkMzA1MC5iaW5kUG9wdXAocG9wdXBfYTIyM2IzODU0YjA2NDg2Mjk5OGUzOWY0NWM4MjJlYjMpCiAgICAgICAgICAgIDsKCiAgICAgICAgICAgIAogICAgICAgIAogICAgCiAgICAgICAgdmFyIG1hcmtlcl9iN2NkMzk3NmE0ZGQ0MWM3OTQ2YzA3ZGQ4ZDMxYjZhMCA9IEwubWFya2VyKAogICAgICAgICAgICBbMzguMjM2ODkzNzMsIC0xLjQyNzUzMDgxXSwKICAgICAgICAgICAgewogICAgICAgICAgICAgICAgaWNvbjogbmV3IEwuSWNvbi5EZWZhdWx0KCksCiAgICAgICAgICAgICAgICB9CiAgICAgICAgICAgICkuYWRkVG8obWFwXzE2ZDFiOGM5NzNjZDQ3ZjlhODczNDBhMmYzMjhlZTIzKTsKICAgICAgICAKICAgIAogICAgICAgICAgICB2YXIgcG9wdXBfNzJhYjNhYzU5M2Y2NDU3M2FkYjEzZWVjNzcyNWZkMTAgPSBMLnBvcHVwKHttYXhXaWR0aDogJzEwMCUnCiAgICAgICAgICAgIAogICAgICAgICAgICB9KTsKCiAgICAgICAgICAgIAogICAgICAgICAgICAgICAgdmFyIGh0bWxfMDNhMmU1NWRhYmRjNGQwMGFlZjJiYzEyMjA5Y2YwODIgPSAkKGA8ZGl2IGlkPSJodG1sXzAzYTJlNTVkYWJkYzRkMDBhZWYyYmMxMjIwOWNmMDgyIiBzdHlsZT0id2lkdGg6IDEwMC4wJTsgaGVpZ2h0OiAxMDAuMCU7Ij5DaWV6YSAoMzUxMzQgaGFiaXRhbnRlcyk8L2Rpdj5gKVswXTsKICAgICAgICAgICAgICAgIHBvcHVwXzcyYWIzYWM1OTNmNjQ1NzNhZGIxM2VlYzc3MjVmZDEwLnNldENvbnRlbnQoaHRtbF8wM2EyZTU1ZGFiZGM0ZDAwYWVmMmJjMTIyMDljZjA4Mik7CiAgICAgICAgICAgIAoKICAgICAgICAgICAgbWFya2VyX2I3Y2QzOTc2YTRkZDQxYzc5NDZjMDdkZDhkMzFiNmEwLmJpbmRQb3B1cChwb3B1cF83MmFiM2FjNTkzZjY0NTczYWRiMTNlZWM3NzI1ZmQxMCkKICAgICAgICAgICAgOwoKICAgICAgICAgICAgCiAgICAgICAgCiAgICAKICAgICAgICB2YXIgbWFya2VyX2U0MTgyODcwMzNhYTRhNWNiMmZhNDIxYWZjNTlkNzc5ID0gTC5tYXJrZXIoCiAgICAgICAgICAgIFszOC4xNzkyNDEwMiwgLTEuMTIzMDE1NTJdLAogICAgICAgICAgICB7CiAgICAgICAgICAgICAgICBpY29uOiBuZXcgTC5JY29uLkRlZmF1bHQoKSwKICAgICAgICAgICAgICAgIH0KICAgICAgICAgICAgKS5hZGRUbyhtYXBfMTZkMWI4Yzk3M2NkNDdmOWE4NzM0MGEyZjMyOGVlMjMpOwogICAgICAgIAogICAgCiAgICAgICAgICAgIHZhciBwb3B1cF81MzI0Y2Q5NjFjNDk0ZWJiYmJjYjdhM2QzZWM3YmMzZCA9IEwucG9wdXAoe21heFdpZHRoOiAnMTAwJScKICAgICAgICAgICAgCiAgICAgICAgICAgIH0pOwoKICAgICAgICAgICAgCiAgICAgICAgICAgICAgICB2YXIgaHRtbF81ZDQ4MmVjOTA3ZjI0NTQyYTgzNWJlOWVkYTQ0ZDc1ZiA9ICQoYDxkaXYgaWQ9Imh0bWxfNWQ0ODJlYzkwN2YyNDU0MmE4MzViZTllZGE0NGQ3NWYiIHN0eWxlPSJ3aWR0aDogMTAwLjAlOyBoZWlnaHQ6IDEwMC4wJTsiPkZvcnR1bmEgKDk5NjAgaGFiaXRhbnRlcyk8L2Rpdj5gKVswXTsKICAgICAgICAgICAgICAgIHBvcHVwXzUzMjRjZDk2MWM0OTRlYmJiYmNiN2EzZDNlYzdiYzNkLnNldENvbnRlbnQoaHRtbF81ZDQ4MmVjOTA3ZjI0NTQyYTgzNWJlOWVkYTQ0ZDc1Zik7CiAgICAgICAgICAgIAoKICAgICAgICAgICAgbWFya2VyX2U0MTgyODcwMzNhYTRhNWNiMmZhNDIxYWZjNTlkNzc5LmJpbmRQb3B1cChwb3B1cF81MzI0Y2Q5NjFjNDk0ZWJiYmJjYjdhM2QzZWM3YmMzZCkKICAgICAgICAgICAgOwoKICAgICAgICAgICAgCiAgICAgICAgCiAgICAKICAgICAgICB2YXIgbWFya2VyXzNiMWU2ZTA4YjEwYjQ3ZDg4ZWRkMDdmNDAyZGI3M2Y2ID0gTC5tYXJrZXIoCiAgICAgICAgICAgIFszNy43MjM4NzAyOTk5OTk5OTQsIC0xLjE3MDIwMTAyXSwKICAgICAgICAgICAgewogICAgICAgICAgICAgICAgaWNvbjogbmV3IEwuSWNvbi5EZWZhdWx0KCksCiAgICAgICAgICAgICAgICB9CiAgICAgICAgICAgICkuYWRkVG8obWFwXzE2ZDFiOGM5NzNjZDQ3ZjlhODczNDBhMmYzMjhlZTIzKTsKICAgICAgICAKICAgIAogICAgICAgICAgICB2YXIgcG9wdXBfZGYyYjM5NDczZWFlNGE5MGI4NmFjNTg5YzdhMDRjZjQgPSBMLnBvcHVwKHttYXhXaWR0aDogJzEwMCUnCiAgICAgICAgICAgIAogICAgICAgICAgICB9KTsKCiAgICAgICAgICAgIAogICAgICAgICAgICAgICAgdmFyIGh0bWxfMmQxMDYxODgxMGM2NDBlM2E1YTQ2MTUxYTc2MzhhMGEgPSAkKGA8ZGl2IGlkPSJodG1sXzJkMTA2MTg4MTBjNjQwZTNhNWE0NjE1MWE3NjM4YTBhIiBzdHlsZT0id2lkdGg6IDEwMC4wJTsgaGVpZ2h0OiAxMDAuMCU7Ij5GdWVudGUgw4FsYW1vIGRlIE11cmNpYSAoMTYyMDUgaGFiaXRhbnRlcyk8L2Rpdj5gKVswXTsKICAgICAgICAgICAgICAgIHBvcHVwX2RmMmIzOTQ3M2VhZTRhOTBiODZhYzU4OWM3YTA0Y2Y0LnNldENvbnRlbnQoaHRtbF8yZDEwNjE4ODEwYzY0MGUzYTVhNDYxNTFhNzYzOGEwYSk7CiAgICAgICAgICAgIAoKICAgICAgICAgICAgbWFya2VyXzNiMWU2ZTA4YjEwYjQ3ZDg4ZWRkMDdmNDAyZGI3M2Y2LmJpbmRQb3B1cChwb3B1cF9kZjJiMzk0NzNlYWU0YTkwYjg2YWM1ODljN2EwNGNmNCkKICAgICAgICAgICAgOwoKICAgICAgICAgICAgCiAgICAgICAgCiAgICAKICAgICAgICB2YXIgbWFya2VyXzc2YTA1MjIyNzgwNjQyOGRiMjU5NWEyZDllOWZmNjViID0gTC5tYXJrZXIoCiAgICAgICAgICAgIFszOC40NzYxNzMxMywgLTEuMzI3MDI0NzVdLAogICAgICAgICAgICB7CiAgICAgICAgICAgICAgICBpY29uOiBuZXcgTC5JY29uLkRlZmF1bHQoKSwKICAgICAgICAgICAgICAgIH0KICAgICAgICAgICAgKS5hZGRUbyhtYXBfMTZkMWI4Yzk3M2NkNDdmOWE4NzM0MGEyZjMyOGVlMjMpOwogICAgICAgIAogICAgCiAgICAgICAgICAgIHZhciBwb3B1cF8zMzQyYjk5Yzc1NDk0MzcwYTA4Yjc5MTMyYjdlMjg3OCA9IEwucG9wdXAoe21heFdpZHRoOiAnMTAwJScKICAgICAgICAgICAgCiAgICAgICAgICAgIH0pOwoKICAgICAgICAgICAgCiAgICAgICAgICAgICAgICB2YXIgaHRtbF82NmIwMmNjYjY4M2Q0ZGY4YjhjODU0MTFlNDhiN2M5ZiA9ICQoYDxkaXYgaWQ9Imh0bWxfNjZiMDJjY2I2ODNkNGRmOGI4Yzg1NDExZTQ4YjdjOWYiIHN0eWxlPSJ3aWR0aDogMTAwLjAlOyBoZWlnaHQ6IDEwMC4wJTsiPkp1bWlsbGEgKDI1MzYyIGhhYml0YW50ZXMpPC9kaXY+YClbMF07CiAgICAgICAgICAgICAgICBwb3B1cF8zMzQyYjk5Yzc1NDk0MzcwYTA4Yjc5MTMyYjdlMjg3OC5zZXRDb250ZW50KGh0bWxfNjZiMDJjY2I2ODNkNGRmOGI4Yzg1NDExZTQ4YjdjOWYpOwogICAgICAgICAgICAKCiAgICAgICAgICAgIG1hcmtlcl83NmEwNTIyMjc4MDY0MjhkYjI1OTVhMmQ5ZTlmZjY1Yi5iaW5kUG9wdXAocG9wdXBfMzM0MmI5OWM3NTQ5NDM3MGEwOGI3OTEzMmI3ZTI4NzgpCiAgICAgICAgICAgIDsKCiAgICAgICAgICAgIAogICAgICAgIAogICAgCiAgICAgICAgdmFyIG1hcmtlcl9lM2U1NDIzOWY2NWM0MjUwYTE1YjhjMDY1ODI1YTNiZiA9IEwubWFya2VyKAogICAgICAgICAgICBbMzcuODg2MjMyMjMsIC0xLjM1MDc3Mzg2XSwKICAgICAgICAgICAgewogICAgICAgICAgICAgICAgaWNvbjogbmV3IEwuSWNvbi5EZWZhdWx0KCksCiAgICAgICAgICAgICAgICB9CiAgICAgICAgICAgICkuYWRkVG8obWFwXzE2ZDFiOGM5NzNjZDQ3ZjlhODczNDBhMmYzMjhlZTIzKTsKICAgICAgICAKICAgIAogICAgICAgICAgICB2YXIgcG9wdXBfNDljYjYzOGI2MGY5NGM3MTliNTZjYWVmZjA1YzkxYjkgPSBMLnBvcHVwKHttYXhXaWR0aDogJzEwMCUnCiAgICAgICAgICAgIAogICAgICAgICAgICB9KTsKCiAgICAgICAgICAgIAogICAgICAgICAgICAgICAgdmFyIGh0bWxfZjQ3NDhjYjBlNjdkNGNmZTkyNmQyMzU4YzFiODVmNzEgPSAkKGA8ZGl2IGlkPSJodG1sX2Y0NzQ4Y2IwZTY3ZDRjZmU5MjZkMjM1OGMxYjg1ZjcxIiBzdHlsZT0id2lkdGg6IDEwMC4wJTsgaGVpZ2h0OiAxMDAuMCU7Ij5MaWJyaWxsYSAoNTEwNyBoYWJpdGFudGVzKTwvZGl2PmApWzBdOwogICAgICAgICAgICAgICAgcG9wdXBfNDljYjYzOGI2MGY5NGM3MTliNTZjYWVmZjA1YzkxYjkuc2V0Q29udGVudChodG1sX2Y0NzQ4Y2IwZTY3ZDRjZmU5MjZkMjM1OGMxYjg1ZjcxKTsKICAgICAgICAgICAgCgogICAgICAgICAgICBtYXJrZXJfZTNlNTQyMzlmNjVjNDI1MGExNWI4YzA2NTgyNWEzYmYuYmluZFBvcHVwKHBvcHVwXzQ5Y2I2MzhiNjBmOTRjNzE5YjU2Y2FlZmYwNWM5MWI5KQogICAgICAgICAgICA7CgogICAgICAgICAgICAKICAgICAgICAKICAgIAogICAgICAgIHZhciBtYXJrZXJfMWJlYjFhMTMzNTI4NGZmM2FjNTE5MGYyYjE1OTcxY2YgPSBMLm1hcmtlcigKICAgICAgICAgICAgWzM3LjY3NzAwMTMzLCAtMS42OTkzMDc1NF0sCiAgICAgICAgICAgIHsKICAgICAgICAgICAgICAgIGljb246IG5ldyBMLkljb24uRGVmYXVsdCgpLAogICAgICAgICAgICAgICAgfQogICAgICAgICAgICApLmFkZFRvKG1hcF8xNmQxYjhjOTczY2Q0N2Y5YTg3MzQwYTJmMzI4ZWUyMyk7CiAgICAgICAgCiAgICAKICAgICAgICAgICAgdmFyIHBvcHVwXzQwNjFmMmRmOTA0ODQzZjdiZmFkN2JhMWFiNzRkZTlhID0gTC5wb3B1cCh7bWF4V2lkdGg6ICcxMDAlJwogICAgICAgICAgICAKICAgICAgICAgICAgfSk7CgogICAgICAgICAgICAKICAgICAgICAgICAgICAgIHZhciBodG1sXzliMTdkY2ZlYmUwNzRkMDY5MDRkNzNkZWI4ODJkZGRjID0gJChgPGRpdiBpZD0iaHRtbF85YjE3ZGNmZWJlMDc0ZDA2OTA0ZDczZGViODgyZGRkYyIgc3R5bGU9IndpZHRoOiAxMDAuMCU7IGhlaWdodDogMTAwLjAlOyI+TG9yY2EgKDkxNzMwIGhhYml0YW50ZXMpPC9kaXY+YClbMF07CiAgICAgICAgICAgICAgICBwb3B1cF80MDYxZjJkZjkwNDg0M2Y3YmZhZDdiYTFhYjc0ZGU5YS5zZXRDb250ZW50KGh0bWxfOWIxN2RjZmViZTA3NGQwNjkwNGQ3M2RlYjg4MmRkZGMpOwogICAgICAgICAgICAKCiAgICAgICAgICAgIG1hcmtlcl8xYmViMWExMzM1Mjg0ZmYzYWM1MTkwZjJiMTU5NzFjZi5iaW5kUG9wdXAocG9wdXBfNDA2MWYyZGY5MDQ4NDNmN2JmYWQ3YmExYWI3NGRlOWEpCiAgICAgICAgICAgIDsKCiAgICAgICAgICAgIAogICAgICAgIAogICAgCiAgICAgICAgdmFyIG1hcmtlcl80OWY2ZTI4NjQxMzU0MjMzOTMwOWViYWE1NjQ1MDlhMSA9IEwubWFya2VyKAogICAgICAgICAgICBbMzguMDgxOTA1MiwgLTEuMjU0MzY0OTRdLAogICAgICAgICAgICB7CiAgICAgICAgICAgICAgICBpY29uOiBuZXcgTC5JY29uLkRlZmF1bHQoKSwKICAgICAgICAgICAgICAgIH0KICAgICAgICAgICAgKS5hZGRUbyhtYXBfMTZkMWI4Yzk3M2NkNDdmOWE4NzM0MGEyZjMyOGVlMjMpOwogICAgICAgIAogICAgCiAgICAgICAgICAgIHZhciBwb3B1cF84ODVhMzAyODZiZTE0NWM5YjU2Y2ZhNWRjNDA1MWJkNSA9IEwucG9wdXAoe21heFdpZHRoOiAnMTAwJScKICAgICAgICAgICAgCiAgICAgICAgICAgIH0pOwoKICAgICAgICAgICAgCiAgICAgICAgICAgICAgICB2YXIgaHRtbF85OGQzMjEzMDM1ODM0Yjk2ODJiMWYwMWY5MzkwNDVlNSA9ICQoYDxkaXYgaWQ9Imh0bWxfOThkMzIxMzAzNTgzNGI5NjgyYjFmMDFmOTM5MDQ1ZTUiIHN0eWxlPSJ3aWR0aDogMTAwLjAlOyBoZWlnaHQ6IDEwMC4wJTsiPkxvcnF1w60gKDY5NjkgaGFiaXRhbnRlcyk8L2Rpdj5gKVswXTsKICAgICAgICAgICAgICAgIHBvcHVwXzg4NWEzMDI4NmJlMTQ1YzliNTZjZmE1ZGM0MDUxYmQ1LnNldENvbnRlbnQoaHRtbF85OGQzMjEzMDM1ODM0Yjk2ODJiMWYwMWY5MzkwNDVlNSk7CiAgICAgICAgICAgIAoKICAgICAgICAgICAgbWFya2VyXzQ5ZjZlMjg2NDEzNTQyMzM5MzA5ZWJhYTU2NDUwOWExLmJpbmRQb3B1cChwb3B1cF84ODVhMzAyODZiZTE0NWM5YjU2Y2ZhNWRjNDA1MWJkNSkKICAgICAgICAgICAgOwoKICAgICAgICAgICAgCiAgICAgICAgCiAgICAKICAgICAgICB2YXIgbWFya2VyXzYzZWMzNTdkNWJjOTRkNjA4ZTUxYmMxNmE5NWI3NWM1ID0gTC5tYXJrZXIoCiAgICAgICAgICAgIFszNy41OTc2MzYyNywgLTEuMzE2Njg2MTldLAogICAgICAgICAgICB7CiAgICAgICAgICAgICAgICBpY29uOiBuZXcgTC5JY29uLkRlZmF1bHQoKSwKICAgICAgICAgICAgICAgIH0KICAgICAgICAgICAgKS5hZGRUbyhtYXBfMTZkMWI4Yzk3M2NkNDdmOWE4NzM0MGEyZjMyOGVlMjMpOwogICAgICAgIAogICAgCiAgICAgICAgICAgIHZhciBwb3B1cF9hMmRlM2ZhMmQxNmU0MTVkOTFiY2E2YWY1M2NkOGFiMSA9IEwucG9wdXAoe21heFdpZHRoOiAnMTAwJScKICAgICAgICAgICAgCiAgICAgICAgICAgIH0pOwoKICAgICAgICAgICAgCiAgICAgICAgICAgICAgICB2YXIgaHRtbF8xMDVmNGQzMDVhNDk0MWY0OTUzZGY1NGU2YzExZWZkMiA9ICQoYDxkaXYgaWQ9Imh0bWxfMTA1ZjRkMzA1YTQ5NDFmNDk1M2RmNTRlNmMxMWVmZDIiIHN0eWxlPSJ3aWR0aDogMTAwLjAlOyBoZWlnaHQ6IDEwMC4wJTsiPk1hemFycsOzbiAoMzA3MDQgaGFiaXRhbnRlcyk8L2Rpdj5gKVswXTsKICAgICAgICAgICAgICAgIHBvcHVwX2EyZGUzZmEyZDE2ZTQxNWQ5MWJjYTZhZjUzY2Q4YWIxLnNldENvbnRlbnQoaHRtbF8xMDVmNGQzMDVhNDk0MWY0OTUzZGY1NGU2YzExZWZkMik7CiAgICAgICAgICAgIAoKICAgICAgICAgICAgbWFya2VyXzYzZWMzNTdkNWJjOTRkNjA4ZTUxYmMxNmE5NWI3NWM1LmJpbmRQb3B1cChwb3B1cF9hMmRlM2ZhMmQxNmU0MTVkOTFiY2E2YWY1M2NkOGFiMSkKICAgICAgICAgICAgOwoKICAgICAgICAgICAgCiAgICAgICAgCiAgICAKICAgICAgICB2YXIgbWFya2VyXzdlZDhjNmZkOTRiYjQyNTViNWJiNDRkMmQ1N2NiOGRlID0gTC5tYXJrZXIoCiAgICAgICAgICAgIFszOC4wNTA1NTk3LCAtMS4yMTE2MzI3NV0sCiAgICAgICAgICAgIHsKICAgICAgICAgICAgICAgIGljb246IG5ldyBMLkljb24uRGVmYXVsdCgpLAogICAgICAgICAgICAgICAgfQogICAgICAgICAgICApLmFkZFRvKG1hcF8xNmQxYjhjOTczY2Q0N2Y5YTg3MzQwYTJmMzI4ZWUyMyk7CiAgICAgICAgCiAgICAKICAgICAgICAgICAgdmFyIHBvcHVwX2JiYjY2ZmRmMzYzNTRlNTA5ZGY4N2E3NmIwMDUxN2NiID0gTC5wb3B1cCh7bWF4V2lkdGg6ICcxMDAlJwogICAgICAgICAgICAKICAgICAgICAgICAgfSk7CgogICAgICAgICAgICAKICAgICAgICAgICAgICAgIHZhciBodG1sXzNmNzRlNDk1ZTNiMDRkZjQ5Nzg0MmUyNTdhYWRhNzViID0gJChgPGRpdiBpZD0iaHRtbF8zZjc0ZTQ5NWUzYjA0ZGY0OTc4NDJlMjU3YWFkYTc1YiIgc3R5bGU9IndpZHRoOiAxMDAuMCU7IGhlaWdodDogMTAwLjAlOyI+TW9saW5hIGRlIFNlZ3VyYSAoNjk2MTQgaGFiaXRhbnRlcyk8L2Rpdj5gKVswXTsKICAgICAgICAgICAgICAgIHBvcHVwX2JiYjY2ZmRmMzYzNTRlNTA5ZGY4N2E3NmIwMDUxN2NiLnNldENvbnRlbnQoaHRtbF8zZjc0ZTQ5NWUzYjA0ZGY0OTc4NDJlMjU3YWFkYTc1Yik7CiAgICAgICAgICAgIAoKICAgICAgICAgICAgbWFya2VyXzdlZDhjNmZkOTRiYjQyNTViNWJiNDRkMmQ1N2NiOGRlLmJpbmRQb3B1cChwb3B1cF9iYmI2NmZkZjM2MzU0ZTUwOWRmODdhNzZiMDA1MTdjYikKICAgICAgICAgICAgOwoKICAgICAgICAgICAgCiAgICAgICAgCiAgICAKICAgICAgICB2YXIgbWFya2VyXzliZjY3ZWZkYmRmYTRlODQ4MDc3NmJiNzgwN2I0MzFmID0gTC5tYXJrZXIoCiAgICAgICAgICAgIFszOC4xODg3OTQwNSwgLTEuODkxOTA3MDNdLAogICAgICAgICAgICB7CiAgICAgICAgICAgICAgICBpY29uOiBuZXcgTC5JY29uLkRlZmF1bHQoKSwKICAgICAgICAgICAgICAgIH0KICAgICAgICAgICAgKS5hZGRUbyhtYXBfMTZkMWI4Yzk3M2NkNDdmOWE4NzM0MGEyZjMyOGVlMjMpOwogICAgICAgIAogICAgCiAgICAgICAgICAgIHZhciBwb3B1cF9hZWI2YWExZTBiN2Q0MTFlYmMyNTkwOWE0MDJlYjM4NyA9IEwucG9wdXAoe21heFdpZHRoOiAnMTAwJScKICAgICAgICAgICAgCiAgICAgICAgICAgIH0pOwoKICAgICAgICAgICAgCiAgICAgICAgICAgICAgICB2YXIgaHRtbF9mYzBjMjViOWU5NjE0MTZhYjE1ZjY5OGM3NmYxNzE3ZCA9ICQoYDxkaXYgaWQ9Imh0bWxfZmMwYzI1YjllOTYxNDE2YWIxNWY2OThjNzZmMTcxN2QiIHN0eWxlPSJ3aWR0aDogMTAwLjAlOyBoZWlnaHQ6IDEwMC4wJTsiPk1vcmF0YWxsYSAoODE0NSBoYWJpdGFudGVzKTwvZGl2PmApWzBdOwogICAgICAgICAgICAgICAgcG9wdXBfYWViNmFhMWUwYjdkNDExZWJjMjU5MDlhNDAyZWIzODcuc2V0Q29udGVudChodG1sX2ZjMGMyNWI5ZTk2MTQxNmFiMTVmNjk4Yzc2ZjE3MTdkKTsKICAgICAgICAgICAgCgogICAgICAgICAgICBtYXJrZXJfOWJmNjdlZmRiZGZhNGU4NDgwNzc2YmI3ODA3YjQzMWYuYmluZFBvcHVwKHBvcHVwX2FlYjZhYTFlMGI3ZDQxMWViYzI1OTA5YTQwMmViMzg3KQogICAgICAgICAgICA7CgogICAgICAgICAgICAKICAgICAgICAKICAgIAogICAgICAgIHZhciBtYXJrZXJfMzhjYzcwZGNkZDg1NDdkNWI0N2E2YjE5ODE1NGI3NTIgPSBMLm1hcmtlcigKICAgICAgICAgICAgWzM4LjA0MjAzMzM5LCAtMS40OTAzMjgxMV0sCiAgICAgICAgICAgIHsKICAgICAgICAgICAgICAgIGljb246IG5ldyBMLkljb24uRGVmYXVsdCgpLAogICAgICAgICAgICAgICAgfQogICAgICAgICAgICApLmFkZFRvKG1hcF8xNmQxYjhjOTczY2Q0N2Y5YTg3MzQwYTJmMzI4ZWUyMyk7CiAgICAgICAgCiAgICAKICAgICAgICAgICAgdmFyIHBvcHVwXzI5N2UwZTE1ZTNmMDRhYTRhM2QxMzFiNDNlOWFhYzllID0gTC5wb3B1cCh7bWF4V2lkdGg6ICcxMDAlJwogICAgICAgICAgICAKICAgICAgICAgICAgfSk7CgogICAgICAgICAgICAKICAgICAgICAgICAgICAgIHZhciBodG1sXzkyMzc5ZjIxN2MwOTQyNzU5MTFhMzNkZGYxMzc1MWJlID0gJChgPGRpdiBpZD0iaHRtbF85MjM3OWYyMTdjMDk0Mjc1OTExYTMzZGRmMTM3NTFiZSIgc3R5bGU9IndpZHRoOiAxMDAuMCU7IGhlaWdodDogMTAwLjAlOyI+TXVsYSAoMTY2ODkgaGFiaXRhbnRlcyk8L2Rpdj5gKVswXTsKICAgICAgICAgICAgICAgIHBvcHVwXzI5N2UwZTE1ZTNmMDRhYTRhM2QxMzFiNDNlOWFhYzllLnNldENvbnRlbnQoaHRtbF85MjM3OWYyMTdjMDk0Mjc1OTExYTMzZGRmMTM3NTFiZSk7CiAgICAgICAgICAgIAoKICAgICAgICAgICAgbWFya2VyXzM4Y2M3MGRjZGQ4NTQ3ZDViNDdhNmIxOTgxNTRiNzUyLmJpbmRQb3B1cChwb3B1cF8yOTdlMGUxNWUzZjA0YWE0YTNkMTMxYjQzZTlhYWM5ZSkKICAgICAgICAgICAgOwoKICAgICAgICAgICAgCiAgICAgICAgCiAgICAKICAgICAgICB2YXIgbWFya2VyX2FhY2RjNWM4MThlMjQ2NTI5OTg0MWQ3MTlhZmQzZTQ3ID0gTC5tYXJrZXIoCiAgICAgICAgICAgIFszNy45ODQzNjM2MSwgLTEuMTI4NTQwODAwMDAwMDAwMV0sCiAgICAgICAgICAgIHsKICAgICAgICAgICAgICAgIGljb246IG5ldyBMLkljb24uRGVmYXVsdCgpLAogICAgICAgICAgICAgICAgfQogICAgICAgICAgICApLmFkZFRvKG1hcF8xNmQxYjhjOTczY2Q0N2Y5YTg3MzQwYTJmMzI4ZWUyMyk7CiAgICAgICAgCiAgICAKICAgICAgICAgICAgdmFyIHBvcHVwX2U5ZWViZThiZmQyZTQ3MjlhYzM4MjJkYzk1OTgyOTI5ID0gTC5wb3B1cCh7bWF4V2lkdGg6ICcxMDAlJwogICAgICAgICAgICAKICAgICAgICAgICAgfSk7CgogICAgICAgICAgICAKICAgICAgICAgICAgICAgIHZhciBodG1sXzFiOGUyM2ZmMmMwZTQ0ZmU4NmU4MThjZWFlN2UwNTRmID0gJChgPGRpdiBpZD0iaHRtbF8xYjhlMjNmZjJjMGU0NGZlODZlODE4Y2VhZTdlMDU0ZiIgc3R5bGU9IndpZHRoOiAxMDAuMCU7IGhlaWdodDogMTAwLjAlOyI+TXVyY2lhICg0NDEwMDMgaGFiaXRhbnRlcyk8L2Rpdj5gKVswXTsKICAgICAgICAgICAgICAgIHBvcHVwX2U5ZWViZThiZmQyZTQ3MjlhYzM4MjJkYzk1OTgyOTI5LnNldENvbnRlbnQoaHRtbF8xYjhlMjNmZjJjMGU0NGZlODZlODE4Y2VhZTdlMDU0Zik7CiAgICAgICAgICAgIAoKICAgICAgICAgICAgbWFya2VyX2FhY2RjNWM4MThlMjQ2NTI5OTg0MWQ3MTlhZmQzZTQ3LmJpbmRQb3B1cChwb3B1cF9lOWVlYmU4YmZkMmU0NzI5YWMzODIyZGM5NTk4MjkyOSkKICAgICAgICAgICAgOwoKICAgICAgICAgICAgCiAgICAgICAgCiAgICAKICAgICAgICB2YXIgbWFya2VyX2M2NjQwNDk4M2NkYzQzMGU4ODkwN2ZmYzk1Y2FiMTIxID0gTC5tYXJrZXIoCiAgICAgICAgICAgIFszOC4xNDc2OTU3OCwgLTEuMzQxNzczMjFdLAogICAgICAgICAgICB7CiAgICAgICAgICAgICAgICBpY29uOiBuZXcgTC5JY29uLkRlZmF1bHQoKSwKICAgICAgICAgICAgICAgIH0KICAgICAgICAgICAgKS5hZGRUbyhtYXBfMTZkMWI4Yzk3M2NkNDdmOWE4NzM0MGEyZjMyOGVlMjMpOwogICAgICAgIAogICAgCiAgICAgICAgICAgIHZhciBwb3B1cF8zMmI3MjU1NGQwY2E0M2EzYTkxNjc2ZjQ0NzU0NTQ2OSA9IEwucG9wdXAoe21heFdpZHRoOiAnMTAwJScKICAgICAgICAgICAgCiAgICAgICAgICAgIH0pOwoKICAgICAgICAgICAgCiAgICAgICAgICAgICAgICB2YXIgaHRtbF84M2VkM2MwNTU0N2Y0YmUzOWFhMWVkNDU4NThmNjc3ZiA9ICQoYDxkaXYgaWQ9Imh0bWxfODNlZDNjMDU1NDdmNGJlMzlhYTFlZDQ1ODU4ZjY3N2YiIHN0eWxlPSJ3aWR0aDogMTAwLjAlOyBoZWlnaHQ6IDEwMC4wJTsiPk9qw7NzICg0OTcgaGFiaXRhbnRlcyk8L2Rpdj5gKVswXTsKICAgICAgICAgICAgICAgIHBvcHVwXzMyYjcyNTU0ZDBjYTQzYTNhOTE2NzZmNDQ3NTQ1NDY5LnNldENvbnRlbnQoaHRtbF84M2VkM2MwNTU0N2Y0YmUzOWFhMWVkNDU4NThmNjc3Zik7CiAgICAgICAgICAgIAoKICAgICAgICAgICAgbWFya2VyX2M2NjQwNDk4M2NkYzQzMGU4ODkwN2ZmYzk1Y2FiMTIxLmJpbmRQb3B1cChwb3B1cF8zMmI3MjU1NGQwY2E0M2EzYTkxNjc2ZjQ0NzU0NTQ2OSkKICAgICAgICAgICAgOwoKICAgICAgICAgICAgCiAgICAgICAgCiAgICAKICAgICAgICB2YXIgbWFya2VyX2RkMDQ0NzFmNDYyNTQ5OThhOWQ0ZjlmMDVmMDFkZTJjID0gTC5tYXJrZXIoCiAgICAgICAgICAgIFszNy45OTEzNzIsIC0xLjUwNTUxMV0sCiAgICAgICAgICAgIHsKICAgICAgICAgICAgICAgIGljb246IG5ldyBMLkljb24uRGVmYXVsdCgpLAogICAgICAgICAgICAgICAgfQogICAgICAgICAgICApLmFkZFRvKG1hcF8xNmQxYjhjOTczY2Q0N2Y5YTg3MzQwYTJmMzI4ZWUyMyk7CiAgICAgICAgCiAgICAKICAgICAgICAgICAgdmFyIHBvcHVwX2FhYTBmZGVjYjlmMjQwYjc5Y2RiYTE2ZGVjMTA1NDgzID0gTC5wb3B1cCh7bWF4V2lkdGg6ICcxMDAlJwogICAgICAgICAgICAKICAgICAgICAgICAgfSk7CgogICAgICAgICAgICAKICAgICAgICAgICAgICAgIHZhciBodG1sXzMwYzlhYzNiMGE3NjQ1YWFhNmQ4NGNhMjY0M2RkNmU2ID0gJChgPGRpdiBpZD0iaHRtbF8zMGM5YWMzYjBhNzY0NWFhYTZkODRjYTI2NDNkZDZlNiIgc3R5bGU9IndpZHRoOiAxMDAuMCU7IGhlaWdodDogMTAwLjAlOyI+UGxpZWdvICgzOTMzIGhhYml0YW50ZXMpPC9kaXY+YClbMF07CiAgICAgICAgICAgICAgICBwb3B1cF9hYWEwZmRlY2I5ZjI0MGI3OWNkYmExNmRlYzEwNTQ4My5zZXRDb250ZW50KGh0bWxfMzBjOWFjM2IwYTc2NDVhYWE2ZDg0Y2EyNjQzZGQ2ZTYpOwogICAgICAgICAgICAKCiAgICAgICAgICAgIG1hcmtlcl9kZDA0NDcxZjQ2MjU0OTk4YTlkNGY5ZjA1ZjAxZGUyYy5iaW5kUG9wdXAocG9wdXBfYWFhMGZkZWNiOWYyNDBiNzljZGJhMTZkZWMxMDU0ODMpCiAgICAgICAgICAgIDsKCiAgICAgICAgICAgIAogICAgICAgIAogICAgCiAgICAgICAgdmFyIG1hcmtlcl85OWY0YmFjNTAxZWQ0NDJjYjRmNmMxZjM5ZmU4YmRhNiA9IEwubWFya2VyKAogICAgICAgICAgICBbMzcuNTU5NzcxNzQsIC0xLjgxMDQyMzgxXSwKICAgICAgICAgICAgewogICAgICAgICAgICAgICAgaWNvbjogbmV3IEwuSWNvbi5EZWZhdWx0KCksCiAgICAgICAgICAgICAgICB9CiAgICAgICAgICAgICkuYWRkVG8obWFwXzE2ZDFiOGM5NzNjZDQ3ZjlhODczNDBhMmYzMjhlZTIzKTsKICAgICAgICAKICAgIAogICAgICAgICAgICB2YXIgcG9wdXBfZWI0N2NhNGU3OGRlNDNhMzkxMzg1OGMzMGJkN2FhYjIgPSBMLnBvcHVwKHttYXhXaWR0aDogJzEwMCUnCiAgICAgICAgICAgIAogICAgICAgICAgICB9KTsKCiAgICAgICAgICAgIAogICAgICAgICAgICAgICAgdmFyIGh0bWxfZWUzZGZkM2ZhZjM1NDYxODk1YTBiMjliYjk3N2Y3OWQgPSAkKGA8ZGl2IGlkPSJodG1sX2VlM2RmZDNmYWYzNTQ2MTg5NWEwYjI5YmI5NzdmNzlkIiBzdHlsZT0id2lkdGg6IDEwMC4wJTsgaGVpZ2h0OiAxMDAuMCU7Ij5QdWVydG8gTHVtYnJlcmFzICgxNDg3NCBoYWJpdGFudGVzKTwvZGl2PmApWzBdOwogICAgICAgICAgICAgICAgcG9wdXBfZWI0N2NhNGU3OGRlNDNhMzkxMzg1OGMzMGJkN2FhYjIuc2V0Q29udGVudChodG1sX2VlM2RmZDNmYWYzNTQ2MTg5NWEwYjI5YmI5NzdmNzlkKTsKICAgICAgICAgICAgCgogICAgICAgICAgICBtYXJrZXJfOTlmNGJhYzUwMWVkNDQyY2I0ZjZjMWYzOWZlOGJkYTYuYmluZFBvcHVwKHBvcHVwX2ViNDdjYTRlNzhkZTQzYTM5MTM4NThjMzBiZDdhYWIyKQogICAgICAgICAgICA7CgogICAgICAgICAgICAKICAgICAgICAKICAgIAogICAgICAgIHZhciBtYXJrZXJfYjA5NzJkNDBjNTMwNDZhMjlkZTE3OTljMGIzYTlkODIgPSBMLm1hcmtlcigKICAgICAgICAgICAgWzM4LjE1MzM2NjI5OTk5OTk5NSwgLTEuMzY0NDEyNzJdLAogICAgICAgICAgICB7CiAgICAgICAgICAgICAgICBpY29uOiBuZXcgTC5JY29uLkRlZmF1bHQoKSwKICAgICAgICAgICAgICAgIH0KICAgICAgICAgICAgKS5hZGRUbyhtYXBfMTZkMWI4Yzk3M2NkNDdmOWE4NzM0MGEyZjMyOGVlMjMpOwogICAgICAgIAogICAgCiAgICAgICAgICAgIHZhciBwb3B1cF8yODI2NzYxMGE4ZjE0Y2U4ODNlZmNkOTNlNDk4MTU4MSA9IEwucG9wdXAoe21heFdpZHRoOiAnMTAwJScKICAgICAgICAgICAgCiAgICAgICAgICAgIH0pOwoKICAgICAgICAgICAgCiAgICAgICAgICAgICAgICB2YXIgaHRtbF80NTczZTkwMmI2YmI0OWQzYTk3MzM4YzRlMmU5ZmMzYSA9ICQoYDxkaXYgaWQ9Imh0bWxfNDU3M2U5MDJiNmJiNDlkM2E5NzMzOGM0ZTJlOWZjM2EiIHN0eWxlPSJ3aWR0aDogMTAwLjAlOyBoZWlnaHQ6IDEwMC4wJTsiPlJpY290ZSAoMTMzMiBoYWJpdGFudGVzKTwvZGl2PmApWzBdOwogICAgICAgICAgICAgICAgcG9wdXBfMjgyNjc2MTBhOGYxNGNlODgzZWZjZDkzZTQ5ODE1ODEuc2V0Q29udGVudChodG1sXzQ1NzNlOTAyYjZiYjQ5ZDNhOTczMzhjNGUyZTlmYzNhKTsKICAgICAgICAgICAgCgogICAgICAgICAgICBtYXJrZXJfYjA5NzJkNDBjNTMwNDZhMjlkZTE3OTljMGIzYTlkODIuYmluZFBvcHVwKHBvcHVwXzI4MjY3NjEwYThmMTRjZTg4M2VmY2Q5M2U0OTgxNTgxKQogICAgICAgICAgICA7CgogICAgICAgICAgICAKICAgICAgICAKICAgIAogICAgICAgIHZhciBtYXJrZXJfZmU0YzhkNmVmZWI2NDZkNTgwOTU2NjM0Zjc2ZjBhNjEgPSBMLm1hcmtlcigKICAgICAgICAgICAgWzM3LjgwNjA0NDc0LCAtMC44MzQ3Mjk2NF0sCiAgICAgICAgICAgIHsKICAgICAgICAgICAgICAgIGljb246IG5ldyBMLkljb24uRGVmYXVsdCgpLAogICAgICAgICAgICAgICAgfQogICAgICAgICAgICApLmFkZFRvKG1hcF8xNmQxYjhjOTczY2Q0N2Y5YTg3MzQwYTJmMzI4ZWUyMyk7CiAgICAgICAgCiAgICAKICAgICAgICAgICAgdmFyIHBvcHVwXzYxOTBhMTA5ZjNlODQ3MWFiOWE1MjRmZDYzODE3NTNmID0gTC5wb3B1cCh7bWF4V2lkdGg6ICcxMDAlJwogICAgICAgICAgICAKICAgICAgICAgICAgfSk7CgogICAgICAgICAgICAKICAgICAgICAgICAgICAgIHZhciBodG1sXzNkMDJhZGFhYTU4ODQzYzNhYTJkZWRiMzMxZjA5ZWMzID0gJChgPGRpdiBpZD0iaHRtbF8zZDAyYWRhYWE1ODg0M2MzYWEyZGVkYjMzMWYwOWVjMyIgc3R5bGU9IndpZHRoOiAxMDAuMCU7IGhlaWdodDogMTAwLjAlOyI+U2FuIEphdmllciAoMzE3ODIgaGFiaXRhbnRlcyk8L2Rpdj5gKVswXTsKICAgICAgICAgICAgICAgIHBvcHVwXzYxOTBhMTA5ZjNlODQ3MWFiOWE1MjRmZDYzODE3NTNmLnNldENvbnRlbnQoaHRtbF8zZDAyYWRhYWE1ODg0M2MzYWEyZGVkYjMzMWYwOWVjMyk7CiAgICAgICAgICAgIAoKICAgICAgICAgICAgbWFya2VyX2ZlNGM4ZDZlZmViNjQ2ZDU4MDk1NjYzNGY3NmYwYTYxLmJpbmRQb3B1cChwb3B1cF82MTkwYTEwOWYzZTg0NzFhYjlhNTI0ZmQ2MzgxNzUzZikKICAgICAgICAgICAgOwoKICAgICAgICAgICAgCiAgICAgICAgCiAgICAKICAgICAgICB2YXIgbWFya2VyXzc3YzJhZGRkOGNjODQ0NTdhYjE5YjhiMjViOGZkYTM3ID0gTC5tYXJrZXIoCiAgICAgICAgICAgIFszNy44MzUwMDU3MSwgLTAuNzkxNDU1MjldLAogICAgICAgICAgICB7CiAgICAgICAgICAgICAgICBpY29uOiBuZXcgTC5JY29uLkRlZmF1bHQoKSwKICAgICAgICAgICAgICAgIH0KICAgICAgICAgICAgKS5hZGRUbyhtYXBfMTZkMWI4Yzk3M2NkNDdmOWE4NzM0MGEyZjMyOGVlMjMpOwogICAgICAgIAogICAgCiAgICAgICAgICAgIHZhciBwb3B1cF80N2FlNWE0MTMwMTg0MGJkOTRhMzYzZmVmZjcxMjBlNCA9IEwucG9wdXAoe21heFdpZHRoOiAnMTAwJScKICAgICAgICAgICAgCiAgICAgICAgICAgIH0pOwoKICAgICAgICAgICAgCiAgICAgICAgICAgICAgICB2YXIgaHRtbF83ODA2MDdmZjdhYmI0YWE1ODA1MzNjYjZjY2M1MzVkZiA9ICQoYDxkaXYgaWQ9Imh0bWxfNzgwNjA3ZmY3YWJiNGFhNTgwNTMzY2I2Y2NjNTM1ZGYiIHN0eWxlPSJ3aWR0aDogMTAwLjAlOyBoZWlnaHQ6IDEwMC4wJTsiPlNhbiBQZWRybyBkZWwgUGluYXRhciAoMjQ2NjAgaGFiaXRhbnRlcyk8L2Rpdj5gKVswXTsKICAgICAgICAgICAgICAgIHBvcHVwXzQ3YWU1YTQxMzAxODQwYmQ5NGEzNjNmZWZmNzEyMGU0LnNldENvbnRlbnQoaHRtbF83ODA2MDdmZjdhYmI0YWE1ODA1MzNjYjZjY2M1MzVkZik7CiAgICAgICAgICAgIAoKICAgICAgICAgICAgbWFya2VyXzc3YzJhZGRkOGNjODQ0NTdhYjE5YjhiMjViOGZkYTM3LmJpbmRQb3B1cChwb3B1cF80N2FlNWE0MTMwMTg0MGJkOTRhMzYzZmVmZjcxMjBlNCkKICAgICAgICAgICAgOwoKICAgICAgICAgICAgCiAgICAgICAgCiAgICAKICAgICAgICB2YXIgbWFya2VyXzM5NDQ0ZDc3N2I2ZjQ2N2NiYmY3YWYwMDZmMTZlMjlkID0gTC5tYXJrZXIoCiAgICAgICAgICAgIFszNy43NDI5MzMwNCwgLTAuOTUzNDU5MzhdLAogICAgICAgICAgICB7CiAgICAgICAgICAgICAgICBpY29uOiBuZXcgTC5JY29uLkRlZmF1bHQoKSwKICAgICAgICAgICAgICAgIH0KICAgICAgICAgICAgKS5hZGRUbyhtYXBfMTZkMWI4Yzk3M2NkNDdmOWE4NzM0MGEyZjMyOGVlMjMpOwogICAgICAgIAogICAgCiAgICAgICAgICAgIHZhciBwb3B1cF9jM2MyNDI0OGFlOWI0Njk0YTk1ZmM1ZDM2NGUwOWM4NSA9IEwucG9wdXAoe21heFdpZHRoOiAnMTAwJScKICAgICAgICAgICAgCiAgICAgICAgICAgIH0pOwoKICAgICAgICAgICAgCiAgICAgICAgICAgICAgICB2YXIgaHRtbF9lYmQzZjVmMDU1M2I0OWYxYTI3YWIyNDgyYjBlOGQ2NyA9ICQoYDxkaXYgaWQ9Imh0bWxfZWJkM2Y1ZjA1NTNiNDlmMWEyN2FiMjQ4MmIwZThkNjciIHN0eWxlPSJ3aWR0aDogMTAwLjAlOyBoZWlnaHQ6IDEwMC4wJTsiPlRvcnJlLVBhY2hlY28gKDM0NjMwIGhhYml0YW50ZXMpPC9kaXY+YClbMF07CiAgICAgICAgICAgICAgICBwb3B1cF9jM2MyNDI0OGFlOWI0Njk0YTk1ZmM1ZDM2NGUwOWM4NS5zZXRDb250ZW50KGh0bWxfZWJkM2Y1ZjA1NTNiNDlmMWEyN2FiMjQ4MmIwZThkNjcpOwogICAgICAgICAgICAKCiAgICAgICAgICAgIG1hcmtlcl8zOTQ0NGQ3NzdiNmY0NjdjYmJmN2FmMDA2ZjE2ZTI5ZC5iaW5kUG9wdXAocG9wdXBfYzNjMjQyNDhhZTliNDY5NGE5NWZjNWQzNjRlMDljODUpCiAgICAgICAgICAgIDsKCiAgICAgICAgICAgIAogICAgICAgIAogICAgCiAgICAgICAgdmFyIG1hcmtlcl82NjVhODA2OTNmOWE0MzczOTY2MWYwOTg5NWIwMTczMyA9IEwubWFya2VyKAogICAgICAgICAgICBbMzguMDI5NTM5NTksIC0xLjI0MTE5Njg5XSwKICAgICAgICAgICAgewogICAgICAgICAgICAgICAgaWNvbjogbmV3IEwuSWNvbi5EZWZhdWx0KCksCiAgICAgICAgICAgICAgICB9CiAgICAgICAgICAgICkuYWRkVG8obWFwXzE2ZDFiOGM5NzNjZDQ3ZjlhODczNDBhMmYzMjhlZTIzKTsKICAgICAgICAKICAgIAogICAgICAgICAgICB2YXIgcG9wdXBfMThjOWIwNzA4ZTZlNGI4MWI0MjU4ZWNiMzY0NTFiMDYgPSBMLnBvcHVwKHttYXhXaWR0aDogJzEwMCUnCiAgICAgICAgICAgIAogICAgICAgICAgICB9KTsKCiAgICAgICAgICAgIAogICAgICAgICAgICAgICAgdmFyIGh0bWxfM2E0NWQ5ZjA5YjZmNGFhYmE0MzYyNDJkMjkwMzJjMTcgPSAkKGA8ZGl2IGlkPSJodG1sXzNhNDVkOWYwOWI2ZjRhYWJhNDM2MjQyZDI5MDMyYzE3IiBzdHlsZT0id2lkdGg6IDEwMC4wJTsgaGVpZ2h0OiAxMDAuMCU7Ij5MYXMgVG9ycmVzIGRlIENvdGlsbGFzICgyMTM0MSBoYWJpdGFudGVzKTwvZGl2PmApWzBdOwogICAgICAgICAgICAgICAgcG9wdXBfMThjOWIwNzA4ZTZlNGI4MWI0MjU4ZWNiMzY0NTFiMDYuc2V0Q29udGVudChodG1sXzNhNDVkOWYwOWI2ZjRhYWJhNDM2MjQyZDI5MDMyYzE3KTsKICAgICAgICAgICAgCgogICAgICAgICAgICBtYXJrZXJfNjY1YTgwNjkzZjlhNDM3Mzk2NjFmMDk4OTViMDE3MzMuYmluZFBvcHVwKHBvcHVwXzE4YzliMDcwOGU2ZTRiODFiNDI1OGVjYjM2NDUxYjA2KQogICAgICAgICAgICA7CgogICAgICAgICAgICAKICAgICAgICAKICAgIAogICAgICAgIHZhciBtYXJrZXJfYmNhYjY2M2YwN2VjNDQ5MDgyZWQ5NDBkMzI1MmVkYzIgPSBMLm1hcmtlcigKICAgICAgICAgICAgWzM3Ljc2OTU1MTY5LCAtMS41MDI2MTAwNl0sCiAgICAgICAgICAgIHsKICAgICAgICAgICAgICAgIGljb246IG5ldyBMLkljb24uRGVmYXVsdCgpLAogICAgICAgICAgICAgICAgfQogICAgICAgICAgICApLmFkZFRvKG1hcF8xNmQxYjhjOTczY2Q0N2Y5YTg3MzQwYTJmMzI4ZWUyMyk7CiAgICAgICAgCiAgICAKICAgICAgICAgICAgdmFyIHBvcHVwXzRlMTk0ODFmM2MxOTQxOTM5OWI1ZTRjYjc5NzI0NzI4ID0gTC5wb3B1cCh7bWF4V2lkdGg6ICcxMDAlJwogICAgICAgICAgICAKICAgICAgICAgICAgfSk7CgogICAgICAgICAgICAKICAgICAgICAgICAgICAgIHZhciBodG1sXzNkMjljM2YwNzMxMjRhNDk5Y2U0MWYwM2JkZjc4NjA2ID0gJChgPGRpdiBpZD0iaHRtbF8zZDI5YzNmMDczMTI0YTQ5OWNlNDFmMDNiZGY3ODYwNiIgc3R5bGU9IndpZHRoOiAxMDAuMCU7IGhlaWdodDogMTAwLjAlOyI+VG90YW5hICgzMDk4MSBoYWJpdGFudGVzKTwvZGl2PmApWzBdOwogICAgICAgICAgICAgICAgcG9wdXBfNGUxOTQ4MWYzYzE5NDE5Mzk5YjVlNGNiNzk3MjQ3Mjguc2V0Q29udGVudChodG1sXzNkMjljM2YwNzMxMjRhNDk5Y2U0MWYwM2JkZjc4NjA2KTsKICAgICAgICAgICAgCgogICAgICAgICAgICBtYXJrZXJfYmNhYjY2M2YwN2VjNDQ5MDgyZWQ5NDBkMzI1MmVkYzIuYmluZFBvcHVwKHBvcHVwXzRlMTk0ODFmM2MxOTQxOTM5OWI1ZTRjYjc5NzI0NzI4KQogICAgICAgICAgICA7CgogICAgICAgICAgICAKICAgICAgICAKICAgIAogICAgICAgIHZhciBtYXJrZXJfNjIyN2QyODFhZjQ0NDBkYzgyMDE0MTUwYjg2OTM2NjUgPSBMLm1hcmtlcigKICAgICAgICAgICAgWzM4LjEzODAwMTY5LCAtMS4zMzI0MDgyOV0sCiAgICAgICAgICAgIHsKICAgICAgICAgICAgICAgIGljb246IG5ldyBMLkljb24uRGVmYXVsdCgpLAogICAgICAgICAgICAgICAgfQogICAgICAgICAgICApLmFkZFRvKG1hcF8xNmQxYjhjOTczY2Q0N2Y5YTg3MzQwYTJmMzI4ZWUyMyk7CiAgICAgICAgCiAgICAKICAgICAgICAgICAgdmFyIHBvcHVwXzNiMjVhNDRmZjQ3NTRhMWI5ZGQ5N2NlMWRhNGM4MWQ5ID0gTC5wb3B1cCh7bWF4V2lkdGg6ICcxMDAlJwogICAgICAgICAgICAKICAgICAgICAgICAgfSk7CgogICAgICAgICAgICAKICAgICAgICAgICAgICAgIHZhciBodG1sXzg1ZmFjNzNmNjk4NzRiNDlhMmE1ZWRjM2U5YmExODg1ID0gJChgPGRpdiBpZD0iaHRtbF84NWZhYzczZjY5ODc0YjQ5YTJhNWVkYzNlOWJhMTg4NSIgc3R5bGU9IndpZHRoOiAxMDAuMCU7IGhlaWdodDogMTAwLjAlOyI+VWxlYSAoOTEzIGhhYml0YW50ZXMpPC9kaXY+YClbMF07CiAgICAgICAgICAgICAgICBwb3B1cF8zYjI1YTQ0ZmY0NzU0YTFiOWRkOTdjZTFkYTRjODFkOS5zZXRDb250ZW50KGh0bWxfODVmYWM3M2Y2OTg3NGI0OWEyYTVlZGMzZTliYTE4ODUpOwogICAgICAgICAgICAKCiAgICAgICAgICAgIG1hcmtlcl82MjI3ZDI4MWFmNDQ0MGRjODIwMTQxNTBiODY5MzY2NS5iaW5kUG9wdXAocG9wdXBfM2IyNWE0NGZmNDc1NGExYjlkZDk3Y2UxZGE0YzgxZDkpCiAgICAgICAgICAgIDsKCiAgICAgICAgICAgIAogICAgICAgIAogICAgCiAgICAgICAgdmFyIG1hcmtlcl9lYjNjOWJkYzkwNDY0M2ZiOGI1ZTE3N2NhZGU1NGZmNCA9IEwubWFya2VyKAogICAgICAgICAgICBbMzcuNjE5MDg3MzgsIC0wLjg3NTI1MzgxXSwKICAgICAgICAgICAgewogICAgICAgICAgICAgICAgaWNvbjogbmV3IEwuSWNvbi5EZWZhdWx0KCksCiAgICAgICAgICAgICAgICB9CiAgICAgICAgICAgICkuYWRkVG8obWFwXzE2ZDFiOGM5NzNjZDQ3ZjlhODczNDBhMmYzMjhlZTIzKTsKICAgICAgICAKICAgIAogICAgICAgICAgICB2YXIgcG9wdXBfNGQzOTEyYjAwNDNmNDZkYWIyMWQ5ZDM5ZjM0NTQzMGUgPSBMLnBvcHVwKHttYXhXaWR0aDogJzEwMCUnCiAgICAgICAgICAgIAogICAgICAgICAgICB9KTsKCiAgICAgICAgICAgIAogICAgICAgICAgICAgICAgdmFyIGh0bWxfZTE0N2UzYzM2YjViNDNhMWI0OTg4MmJiYTY2ZTIyZGQgPSAkKGA8ZGl2IGlkPSJodG1sX2UxNDdlM2MzNmI1YjQzYTFiNDk4ODJiYmE2NmUyMmRkIiBzdHlsZT0id2lkdGg6IDEwMC4wJTsgaGVpZ2h0OiAxMDAuMCU7Ij5MYSBVbmnDs24gKDE5NjMwIGhhYml0YW50ZXMpPC9kaXY+YClbMF07CiAgICAgICAgICAgICAgICBwb3B1cF80ZDM5MTJiMDA0M2Y0NmRhYjIxZDlkMzlmMzQ1NDMwZS5zZXRDb250ZW50KGh0bWxfZTE0N2UzYzM2YjViNDNhMWI0OTg4MmJiYTY2ZTIyZGQpOwogICAgICAgICAgICAKCiAgICAgICAgICAgIG1hcmtlcl9lYjNjOWJkYzkwNDY0M2ZiOGI1ZTE3N2NhZGU1NGZmNC5iaW5kUG9wdXAocG9wdXBfNGQzOTEyYjAwNDNmNDZkYWIyMWQ5ZDM5ZjM0NTQzMGUpCiAgICAgICAgICAgIDsKCiAgICAgICAgICAgIAogICAgICAgIAogICAgCiAgICAgICAgdmFyIG1hcmtlcl8yNjI4YzE0NTY1N2U0YWZhYTcyOTZlZWE4NWU3NjEzNSA9IEwubWFya2VyKAogICAgICAgICAgICBbMzguMTM3MzA4ODgsIC0xLjMyNDI1NDUwMDAwMDAwMDFdLAogICAgICAgICAgICB7CiAgICAgICAgICAgICAgICBpY29uOiBuZXcgTC5JY29uLkRlZmF1bHQoKSwKICAgICAgICAgICAgICAgIH0KICAgICAgICAgICAgKS5hZGRUbyhtYXBfMTZkMWI4Yzk3M2NkNDdmOWE4NzM0MGEyZjMyOGVlMjMpOwogICAgICAgIAogICAgCiAgICAgICAgICAgIHZhciBwb3B1cF8wODI2NGNkMzE0ZjA0NzdhODY5ODYxNmU2ZWJkYTI2ZSA9IEwucG9wdXAoe21heFdpZHRoOiAnMTAwJScKICAgICAgICAgICAgCiAgICAgICAgICAgIH0pOwoKICAgICAgICAgICAgCiAgICAgICAgICAgICAgICB2YXIgaHRtbF9lZTJlZjYyNzc3ZjA0ODFiOWJkMWUyNGZiYmM1MGE1NCA9ICQoYDxkaXYgaWQ9Imh0bWxfZWUyZWY2Mjc3N2YwNDgxYjliZDFlMjRmYmJjNTBhNTQiIHN0eWxlPSJ3aWR0aDogMTAwLjAlOyBoZWlnaHQ6IDEwMC4wJTsiPlZpbGxhbnVldmEgZGVsIFLDrW8gU2VndXJhICgyNTYwIGhhYml0YW50ZXMpPC9kaXY+YClbMF07CiAgICAgICAgICAgICAgICBwb3B1cF8wODI2NGNkMzE0ZjA0NzdhODY5ODYxNmU2ZWJkYTI2ZS5zZXRDb250ZW50KGh0bWxfZWUyZWY2Mjc3N2YwNDgxYjliZDFlMjRmYmJjNTBhNTQpOwogICAgICAgICAgICAKCiAgICAgICAgICAgIG1hcmtlcl8yNjI4YzE0NTY1N2U0YWZhYTcyOTZlZWE4NWU3NjEzNS5iaW5kUG9wdXAocG9wdXBfMDgyNjRjZDMxNGYwNDc3YTg2OTg2MTZlNmViZGEyNmUpCiAgICAgICAgICAgIDsKCiAgICAgICAgICAgIAogICAgICAgIAogICAgCiAgICAgICAgdmFyIG1hcmtlcl8yYTNhZjAyY2NmYTc0NzVmOWE1MTZiN2NiZjUwZGY2YSA9IEwubWFya2VyKAogICAgICAgICAgICBbMzguNjEzNDE3Nzk5OTk5OTksIC0xLjExNTMxOTM5XSwKICAgICAgICAgICAgewogICAgICAgICAgICAgICAgaWNvbjogbmV3IEwuSWNvbi5EZWZhdWx0KCksCiAgICAgICAgICAgICAgICB9CiAgICAgICAgICAgICkuYWRkVG8obWFwXzE2ZDFiOGM5NzNjZDQ3ZjlhODczNDBhMmYzMjhlZTIzKTsKICAgICAgICAKICAgIAogICAgICAgICAgICB2YXIgcG9wdXBfZjBmYWU1MDUwY2MwNGY1MzgwZjNkMjg5ZWEzMzFkOGUgPSBMLnBvcHVwKHttYXhXaWR0aDogJzEwMCUnCiAgICAgICAgICAgIAogICAgICAgICAgICB9KTsKCiAgICAgICAgICAgIAogICAgICAgICAgICAgICAgdmFyIGh0bWxfZGVlNTY0MTRhMTI5NDE3ODk5YjRlOGI0OTBlMDI5NzAgPSAkKGA8ZGl2IGlkPSJodG1sX2RlZTU2NDE0YTEyOTQxNzg5OWI0ZThiNDkwZTAyOTcwIiBzdHlsZT0id2lkdGg6IDEwMC4wJTsgaGVpZ2h0OiAxMDAuMCU7Ij5ZZWNsYSAoMzQwMzcgaGFiaXRhbnRlcyk8L2Rpdj5gKVswXTsKICAgICAgICAgICAgICAgIHBvcHVwX2YwZmFlNTA1MGNjMDRmNTM4MGYzZDI4OWVhMzMxZDhlLnNldENvbnRlbnQoaHRtbF9kZWU1NjQxNGExMjk0MTc4OTliNGU4YjQ5MGUwMjk3MCk7CiAgICAgICAgICAgIAoKICAgICAgICAgICAgbWFya2VyXzJhM2FmMDJjY2ZhNzQ3NWY5YTUxNmI3Y2JmNTBkZjZhLmJpbmRQb3B1cChwb3B1cF9mMGZhZTUwNTBjYzA0ZjUzODBmM2QyODllYTMzMWQ4ZSkKICAgICAgICAgICAgOwoKICAgICAgICAgICAgCiAgICAgICAgCiAgICAKICAgICAgICB2YXIgbWFya2VyXzg0OTEzMTZhN2ZkZjQ2NmY4ZTJlZjc3ZjI1NGMxNGM2ID0gTC5tYXJrZXIoCiAgICAgICAgICAgIFszOC4wNjEwODU2MDAwMDAwMDYsIC0xLjA0NzUwODg0XSwKICAgICAgICAgICAgewogICAgICAgICAgICAgICAgaWNvbjogbmV3IEwuSWNvbi5EZWZhdWx0KCksCiAgICAgICAgICAgICAgICB9CiAgICAgICAgICAgICkuYWRkVG8obWFwXzE2ZDFiOGM5NzNjZDQ3ZjlhODczNDBhMmYzMjhlZTIzKTsKICAgICAgICAKICAgIAogICAgICAgICAgICB2YXIgcG9wdXBfODIxNjM2MmRmNzM1NDNmNmFhYmI3NWZlODhhNjQwMjggPSBMLnBvcHVwKHttYXhXaWR0aDogJzEwMCUnCiAgICAgICAgICAgIAogICAgICAgICAgICB9KTsKCiAgICAgICAgICAgIAogICAgICAgICAgICAgICAgdmFyIGh0bWxfZjA1NjEyODA5MzM3NGZiZmJlMzAwYTNjN2QyODY0NDkgPSAkKGA8ZGl2IGlkPSJodG1sX2YwNTYxMjgwOTMzNzRmYmZiZTMwMGEzYzdkMjg2NDQ5IiBzdHlsZT0id2lkdGg6IDEwMC4wJTsgaGVpZ2h0OiAxMDAuMCU7Ij5TYW50b21lcmEgKDE1OTUyIGhhYml0YW50ZXMpPC9kaXY+YClbMF07CiAgICAgICAgICAgICAgICBwb3B1cF84MjE2MzYyZGY3MzU0M2Y2YWFiYjc1ZmU4OGE2NDAyOC5zZXRDb250ZW50KGh0bWxfZjA1NjEyODA5MzM3NGZiZmJlMzAwYTNjN2QyODY0NDkpOwogICAgICAgICAgICAKCiAgICAgICAgICAgIG1hcmtlcl84NDkxMzE2YTdmZGY0NjZmOGUyZWY3N2YyNTRjMTRjNi5iaW5kUG9wdXAocG9wdXBfODIxNjM2MmRmNzM1NDNmNmFhYmI3NWZlODhhNjQwMjgpCiAgICAgICAgICAgIDsKCiAgICAgICAgICAgIAogICAgICAgIAogICAgCiAgICAgICAgdmFyIG1hcmtlcl9jYmVlNzkyYjY3ZjU0OTkwODg2NzgzZjI0ODAzZjAxMyA9IEwubWFya2VyKAogICAgICAgICAgICBbMzcuNzMzMjc4MTUsIC0wLjg1MzA0MzY5XSwKICAgICAgICAgICAgewogICAgICAgICAgICAgICAgaWNvbjogbmV3IEwuSWNvbi5EZWZhdWx0KCksCiAgICAgICAgICAgICAgICB9CiAgICAgICAgICAgICkuYWRkVG8obWFwXzE2ZDFiOGM5NzNjZDQ3ZjlhODczNDBhMmYzMjhlZTIzKTsKICAgICAgICAKICAgIAogICAgICAgICAgICB2YXIgcG9wdXBfMzg2OTBiYWZlNTBlNGQzYjgwOWE1NGVlZDEzOWE2OTEgPSBMLnBvcHVwKHttYXhXaWR0aDogJzEwMCUnCiAgICAgICAgICAgIAogICAgICAgICAgICB9KTsKCiAgICAgICAgICAgIAogICAgICAgICAgICAgICAgdmFyIGh0bWxfMzhlOGQzNzYzYWNlNGM3YjlmNjRiZjA1MGNjMjUyOTIgPSAkKGA8ZGl2IGlkPSJodG1sXzM4ZThkMzc2M2FjZTRjN2I5ZjY0YmYwNTBjYzI1MjkyIiBzdHlsZT0id2lkdGg6IDEwMC4wJTsgaGVpZ2h0OiAxMDAuMCU7Ij5Mb3MgQWxjw6F6YXJlcyAoMTUyODkgaGFiaXRhbnRlcyk8L2Rpdj5gKVswXTsKICAgICAgICAgICAgICAgIHBvcHVwXzM4NjkwYmFmZTUwZTRkM2I4MDlhNTRlZWQxMzlhNjkxLnNldENvbnRlbnQoaHRtbF8zOGU4ZDM3NjNhY2U0YzdiOWY2NGJmMDUwY2MyNTI5Mik7CiAgICAgICAgICAgIAoKICAgICAgICAgICAgbWFya2VyX2NiZWU3OTJiNjdmNTQ5OTA4ODY3ODNmMjQ4MDNmMDEzLmJpbmRQb3B1cChwb3B1cF8zODY5MGJhZmU1MGU0ZDNiODA5YTU0ZWVkMTM5YTY5MSkKICAgICAgICAgICAgOwoKICAgICAgICAgICAgCiAgICAgICAgCjwvc2NyaXB0Pg== onload=\"this.contentDocument.open();this.contentDocument.write(atob(this.getAttribute('data-html')));this.contentDocument.close();\" allowfullscreen webkitallowfullscreen mozallowfullscreen></iframe></div></div>"
      ],
      "text/plain": [
       "<folium.folium.Map at 0x7fa3ccda39e8>"
      ]
     },
     "execution_count": 26,
     "metadata": {
      "tags": []
     },
     "output_type": "execute_result"
    }
   ],
   "source": [
    "map2"
   ]
  },
  {
   "cell_type": "code",
   "execution_count": null,
   "metadata": {
    "id": "p75ZE83fjc2o"
   },
   "outputs": [],
   "source": []
  }
 ],
 "metadata": {
  "colab": {
   "name": "bdge_sesion0.ipynb",
   "provenance": []
  },
  "kernelspec": {
   "display_name": "Python 2",
   "language": "python",
   "name": "python2"
  },
  "language_info": {
   "codemirror_mode": {
    "name": "ipython",
    "version": 2
   },
   "file_extension": ".py",
   "mimetype": "text/x-python",
   "name": "python",
   "nbconvert_exporter": "python",
   "pygments_lexer": "ipython2",
   "version": "2.7.15"
  }
 },
 "nbformat": 4,
 "nbformat_minor": 1
}
