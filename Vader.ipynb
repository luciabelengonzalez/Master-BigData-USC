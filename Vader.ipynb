{
 "cells": [
  {
   "cell_type": "markdown",
   "metadata": {},
   "source": [
    "## PRÁCTICA 2: Análisis básico de sentimiento de tweets\n",
    "\n",
    "El objetivo de esta sección es realizar un análisis de sentimiento básico de los tweets de los usuarios considerados en la sección anterior utilizando VADER."
   ]
  },
  {
   "cell_type": "markdown",
   "metadata": {},
   "source": [
    "**Se importan las librerías necesarias**"
   ]
  },
  {
   "cell_type": "code",
   "execution_count": 21,
   "metadata": {},
   "outputs": [],
   "source": [
    "from vaderSentiment.vaderSentiment import SentimentIntensityAnalyzer\n",
    "import pandas as pd\n",
    "import matplotlib.pyplot as plt"
   ]
  },
  {
   "cell_type": "markdown",
   "metadata": {},
   "source": [
    "**Lectura de tweets**"
   ]
  },
  {
   "cell_type": "code",
   "execution_count": 3,
   "metadata": {},
   "outputs": [],
   "source": [
    "britneyspears=pd.read_csv('tweets_britneyspears.csv', parse_dates=['date'])\n",
    "neiltyson=pd.read_csv('tweets_neiltyson.csv', parse_dates=['date'])\n",
    "RussWest=pd.read_csv('tweets_russwest44.csv', parse_dates=['date'])\n",
    "JamesHarden=pd.read_csv('tweets_JHarden13.csv', parse_dates=['date'])"
   ]
  },
  {
   "cell_type": "markdown",
   "metadata": {},
   "source": [
    "**Aplicación de VADER**"
   ]
  },
  {
   "cell_type": "markdown",
   "metadata": {},
   "source": [
    "Con VADER, se le asigna a cada tweet un score *positivo*, uno *negativo* y uno *neutral*, y combinándolos se obtiene un *compound* score. \n",
    "En resumen, se obtiene que un:\n",
    "    \n",
    "- sentimiento **positivo** tiene un compound score **>= 0.05**\n",
    "\n",
    "- sentimiento **neutral** tiene un compound score **> -0.05 y < 0.05**\n",
    "\n",
    "- sentimiento **negativo** tiene un compound score **<= -0.05**"
   ]
  },
  {
   "cell_type": "code",
   "execution_count": 11,
   "metadata": {},
   "outputs": [],
   "source": [
    "analyzer = SentimentIntensityAnalyzer()"
   ]
  },
  {
   "cell_type": "code",
   "execution_count": 20,
   "metadata": {},
   "outputs": [],
   "source": [
    "britney_results =[]\n",
    "for i, row in britneyspears.iterrows():\n",
    "    vs = analyzer.polarity_scores(row['text'])\n",
    "    britney_results.append(vs)\n",
    "    \n",
    "neiltyson_results =[]\n",
    "for i, row in neiltyson.iterrows():\n",
    "    vs = analyzer.polarity_scores(row['text'])\n",
    "    neiltyson_results.append(vs)\n",
    "    \n",
    "RussWest_results =[]\n",
    "for i, row in RussWest.iterrows():\n",
    "    vs = analyzer.polarity_scores(row['text'])\n",
    "    RussWest_results.append(vs)\n",
    "    \n",
    "JamesHarden_results =[]\n",
    "for i, row in JamesHarden.iterrows():\n",
    "    vs = analyzer.polarity_scores(row['text'])\n",
    "    JamesHarden_results.append(vs)\n",
    "    \n",
    "britney_compound_score=[]\n",
    "for item in britney_results:\n",
    "    britney_compound_score.append(item['compound'])\n",
    "    \n",
    "neiltyson_compound_score=[]\n",
    "for item in neiltyson_results:\n",
    "    neiltyson_compound_score.append(item['compound'])\n",
    "    \n",
    "RussWest_compound_score=[]\n",
    "for item in RussWest_results:\n",
    "    RussWest_compound_score.append(item['compound'])\n",
    "    \n",
    "JamesHarden_compound_score=[]\n",
    "for item in JamesHarden_results:\n",
    "    JamesHarden_compound_score.append(item['compound'])"
   ]
  },
  {
   "cell_type": "markdown",
   "metadata": {},
   "source": [
    "**Gráfico de la distribución de los scores**"
   ]
  },
  {
   "cell_type": "code",
   "execution_count": 37,
   "metadata": {},
   "outputs": [
    {
     "data": {
      "image/png": "[encoded data removed]",
      "text/plain": [
       "<Figure size 864x576 with 4 Axes>"
      ]
     },
     "metadata": {
      "needs_background": "light"
     },
     "output_type": "display_data"
    }
   ],
   "source": [
    "fig, axs = plt.subplots(2, 2, figsize=(12,8))\n",
    "axs[0, 0].hist(britney_compound_score, bins=40)\n",
    "axs[0, 0].set_title('Britney Spears')\n",
    "axs[0, 1].hist(neiltyson_compound_score, bins=40)\n",
    "axs[0, 1].set_title('Neil deGrasse Tyson')\n",
    "axs[1, 0].hist(RussWest_compound_score, bins=40)\n",
    "axs[1, 0].set_title('Russell Westbrook')\n",
    "axs[1, 1].hist(JamesHarden_compound_score, bins=40)\n",
    "axs[1, 1].set_title('James Harden')\n",
    "\n",
    "for ax in axs.flat:\n",
    "    ax.set(xlabel='compound_score', ylabel='# de tweets')\n",
    "\n",
    "# Hide x labels and tick labels for top plots and y ticks for right plots.\n",
    "for ax in axs.flat:\n",
    "    ax.label_outer()\n",
    "    \n",
    "plt.show()"
   ]
  },
  {
   "cell_type": "markdown",
   "metadata": {},
   "source": [
    "**Observaciones**"
   ]
  },
  {
   "cell_type": "markdown",
   "metadata": {},
   "source": [
    "- En la distribución de los compound scores se observa un pico de tweets alrededor del valor 0, lo que indicaría que la mayoría de los tweets son calificados como neutrales. \n",
    "\n",
    "- En ninguno de los usuarios la cantidad de tweets catalogados como negativos es representativa.\n",
    "\n",
    "- Se observa un patrón similar en la distribución de los tweets de Russell Westbrook, James Harden y Neil deGrasse Tyson.\n",
    "\n",
    "- Britney Spears es la que mayor proporción de tweets positivos tiene."
   ]
  },
  {
   "cell_type": "code",
   "execution_count": null,
   "metadata": {},
   "outputs": [],
   "source": []
  }
 ],
 "metadata": {
  "kernelspec": {
   "display_name": "Python 3",
   "language": "python",
   "name": "python3"
  },
  "language_info": {
   "codemirror_mode": {
    "name": "ipython",
    "version": 3
   },
   "file_extension": ".py",
   "mimetype": "text/x-python",
   "name": "python",
   "nbconvert_exporter": "python",
   "pygments_lexer": "ipython3",
   "version": "3.6.6"
  }
 },
 "nbformat": 4,
 "nbformat_minor": 4
}
