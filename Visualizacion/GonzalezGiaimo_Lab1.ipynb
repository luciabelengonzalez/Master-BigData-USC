{
  "nbformat": 4,
  "nbformat_minor": 0,
  "metadata": {
    "celltoolbar": "Raw Cell Format",
    "kernelspec": {
      "display_name": "Python 3",
      "language": "python",
      "name": "python3"
    },
    "language_info": {
      "codemirror_mode": {
        "name": "ipython",
        "version": 3
      },
      "file_extension": ".py",
      "mimetype": "text/x-python",
      "name": "python",
      "nbconvert_exporter": "python",
      "pygments_lexer": "ipython3",
      "version": "3.7.1"
    },
    "colab": {
      "name": "GonzalezGiaimo-Lab1.ipynb",
      "provenance": [],
      "collapsed_sections": [],
      "include_colab_link": true
    }
  },
  "cells": [
    {
      "cell_type": "markdown",
      "metadata": {
        "id": "view-in-github",
        "colab_type": "text"
      },
      "source": [
        "<a href=\"https://colab.research.google.com/github/luciabelengonzalez/Master-BigData-USC/blob/master/GonzalezGiaimo_Lab1.ipynb\" target=\"_parent\"><img src=\"https://colab.research.google.com/assets/colab-badge.svg\" alt=\"Open In Colab\"/></a>"
      ]
    },
    {
      "cell_type": "markdown",
      "metadata": {
        "id": "lGZAZdCMAIba"
      },
      "source": [
        "# Laboratorio 1: Acceso a datos mediante pandas"
      ]
    },
    {
      "cell_type": "markdown",
      "metadata": {
        "id": "Tkgq12G_AIbl"
      },
      "source": [
        "En esta práctica accederemos a la Wikipedia para recabar los datos de población de un conjunto de países y realizaremos algunas representaciones gráficas.\n",
        "\n",
        "En la página web titulada \"List of countries by past and future population\" se muestra la evolución de un buen número de países y territorios del mundo entre 1950 y 2050, organizada en un conjunto de tablas. En esta práctica combinaremos los datos de todos los países-territorios y todos los años en una sola trama de datos de panda, y visualizaremos los cambios en la población de los distintos países-territorios.\n",
        "\n",
        "### Utilizaremos en esta práctica las siguientes librerías: \n",
        "[pandas](http://pandas.pydata.org/) proporciona estructuras de datos fáciles de usar y funciones de acceso a datos desde múltiples fuentes y formatos.  \n",
        "[matplotlib](matplotlib.org) permite generar múltiples tipos de gráficos.  \n",
        " \n",
        "\n",
        "### Realizaremos esta práctica en los siguientes pasos:\n",
        "\n",
        "* Reunir los datos en una trama de datos panda\n",
        "* Visualizar los datos\n",
        "\n",
        "A continuación indicamos algunas operaciones iniciales para incorporar al proyecto algunas librerías útiles"
      ]
    },
    {
      "cell_type": "code",
      "metadata": {
        "id": "DdhLp_8TAIbm"
      },
      "source": [
        "# comando IPython para preparar el cuaderno para matplotlib\n",
        "%matplotlib inline \n",
        "\n",
        "import pandas as pd\n",
        "import matplotlib.pyplot as plt\n",
        "\n",
        "from functools import reduce"
      ],
      "execution_count": 1,
      "outputs": []
    },
    {
      "cell_type": "markdown",
      "metadata": {
        "id": "xONkEdlHAIbn"
      },
      "source": [
        "## Extraer las tablas a partir de un documento html de la Wikipedia\n",
        "Utilizaremos el método read_html() de la librería pandas para leer las tablas que hay en el fichero html"
      ]
    },
    {
      "cell_type": "code",
      "metadata": {
        "colab": {
          "base_uri": "https://localhost:8080/"
        },
        "id": "wZYj4HSBAIbn",
        "outputId": "318db26b-e421-4356-e245-618633f12c02"
      },
      "source": [
        "# Ojo, en este documento html el separador de miles es una coma\n",
        "url = \"https://en.wikipedia.org/wiki/List_of_countries_by_past_and_future_population\"\n",
        "\n",
        "html = pd.read_html(url, thousands=\",\" )[:3]\n",
        "\n",
        "# Imprimimos el número de tablas que hemos leído con datos de países mediante la función len(). Deberían ser 3.\n",
        "print(f'El número de tablas que hemos leído es: {len(html)}')"
      ],
      "execution_count": 2,
      "outputs": [
        {
          "output_type": "stream",
          "text": [
            "El número de tablas que hemos leído es: 3\n"
          ],
          "name": "stdout"
        }
      ]
    },
    {
      "cell_type": "markdown",
      "metadata": {
        "id": "Ukh2-TevAIbr"
      },
      "source": [
        "## Construimos una sola tabla con la información de población\n",
        "Reunimos las tablas con los diferentes periodos en una sola tabla, mediante los métodos de pandas join(), merge(), o concat(), extraemos la cabecera y seleccionamos las columnas que corresponden solamente a fechas. Podemos utilizar el método head() para inspeccionar las primeras filas de la tabla y que la salida sea más manejable."
      ]
    },
    {
      "cell_type": "code",
      "metadata": {
        "colab": {
          "base_uri": "https://localhost:8080/"
        },
        "id": "_sFSAS-iAIbr",
        "outputId": "4b50970b-76b7-41f8-89e2-8120f42fb1f4"
      },
      "source": [
        "# Reunimos las tres tablas en una sola.\n",
        "\n",
        "df = reduce(lambda x, y: pd.merge(x, y, on = 'Country (or dependent territory)'), html).set_index('Country (or dependent territory)')\n",
        "\n",
        "\n",
        "# Imprimimos las primeras filas a modo de comprobación, mediante head()\n",
        "\n",
        "print(df.head())\n",
        "\n",
        "# Generamos una lista con la información almacenada en las columnas mediante list()\n",
        "\n",
        "columnas = list(df.columns)\n",
        "\n",
        "# Seleccionamos de la cabecera las columnas correspondientes a las fechas mediante isnumeric() \n",
        "# Puede ser útil el utilizar la noción de 'list comprehension' por sencillez\n",
        "\n",
        "columnas_numeric = [i for i in columnas if i.isnumeric()]\n",
        "\n",
        "# Leemos la tabla por fechas y la almacenamos para su uso. Imprimimos para verificar que es correcto\n",
        "\n",
        "df_numeric = df[columnas_numeric]\n",
        "\n",
        "print(df_numeric.head())"
      ],
      "execution_count": 3,
      "outputs": [
        {
          "output_type": "stream",
          "text": [
            "                                  1950  1955   %_x  ...   %.5   2050  %.6_y\n",
            "Country (or dependent territory)                    ...                    \n",
            "Afghanistan                       8151  8892  1.76  ...  1.61  63796   1.49\n",
            "Albania                           1228  1393  2.56  ... -0.55   2825  -0.61\n",
            "Algeria                           8893  9842  2.05  ...  0.71  55445   0.57\n",
            "American Samoa                      20    20  0.72  ... -0.29     50  -0.06\n",
            "Andorra                              7     7  0.04  ... -0.69     75  -0.93\n",
            "\n",
            "[5 rows x 41 columns]\n",
            "                                  1950  1955   1960  ...   2040   2045   2050\n",
            "Country (or dependent territory)                     ...                     \n",
            "Afghanistan                       8151  8892   9830  ...  54717  59256  63796\n",
            "Albania                           1228  1393   1624  ...   2994   2913   2825\n",
            "Algeria                           8893  9842  10910  ...  52030  53894  55445\n",
            "American Samoa                      20    20     21  ...     51     50     50\n",
            "Andorra                              7     7      9  ...     82     79     75\n",
            "\n",
            "[5 rows x 21 columns]\n"
          ],
          "name": "stdout"
        }
      ]
    },
    {
      "cell_type": "markdown",
      "metadata": {
        "id": "lAZ2u-U6AIbr"
      },
      "source": [
        "## Algunas funciones de acceso a datos para una trama de pandas\n",
        "Jugaremos con las posibilidades de pandas para manejar tablas mediante un conjunto sencillo de ejercicios."
      ]
    },
    {
      "cell_type": "markdown",
      "metadata": {
        "id": "7QZtmtRiAIbs"
      },
      "source": [
        "### Ejercicio 1\n",
        "Imprimir la tabla correspondiente a las poblaciones de Alemania, Andorra y Angola desde 2015 a 2025."
      ]
    },
    {
      "cell_type": "code",
      "metadata": {
        "colab": {
          "base_uri": "https://localhost:8080/"
        },
        "id": "90kw1ZpSAIbs",
        "outputId": "3025cca2-4747-4d16-9380-07cfc7bd93fe"
      },
      "source": [
        "# Creamos una subtabla a partir de una indexación mediante el uso de la opción .loc\n",
        "subtabla = df_numeric.loc[['Germany', 'Andorra', 'Angola'], ['2015', '2020', '2025']]\n",
        "\n",
        "print('subtabla')\n",
        "print(subtabla)"
      ],
      "execution_count": 4,
      "outputs": [
        {
          "output_type": "stream",
          "text": [
            "subtabla\n",
            "                                   2015   2020   2025\n",
            "Country (or dependent territory)                     \n",
            "Germany                           80855  82983  80027\n",
            "Andorra                              86     86     86\n",
            "Angola                            19626  22485  25674\n"
          ],
          "name": "stdout"
        }
      ]
    },
    {
      "cell_type": "markdown",
      "metadata": {
        "id": "QW8xY_UsAIbt"
      },
      "source": [
        "### Ejercicio 2\n",
        "Imprimir la subtabla que va desde las filas 3 a 8 y desde las columnas 5 a 9."
      ]
    },
    {
      "cell_type": "code",
      "metadata": {
        "colab": {
          "base_uri": "https://localhost:8080/"
        },
        "id": "RFSHP05HAIbt",
        "outputId": "9513b51b-7213-4c75-b1fc-59b8ec68456b"
      },
      "source": [
        "# Creamos una subtabla a partir de una indexación mediante el uso de la opción .iloc\n",
        "subtabla = df_numeric.iloc[2:8, 4:9]\n",
        "\n",
        "print('subtabla')\n",
        "print(subtabla)"
      ],
      "execution_count": 5,
      "outputs": [
        {
          "output_type": "stream",
          "text": [
            "subtabla\n",
            "                                   1970   1975   1980   1985   1990\n",
            "Country (or dependent territory)                                   \n",
            "Algeria                           13932  16141  18807  22009  25191\n",
            "American Samoa                       28     30     33     39     48\n",
            "Andorra                              20     27     34     45     53\n",
            "Angola                             5606   6051   7206   8390   9486\n",
            "Anguilla                              7      7      7      7      9\n",
            "Antigua and Barbuda                  66     69     69     65     65\n"
          ],
          "name": "stdout"
        }
      ]
    },
    {
      "cell_type": "markdown",
      "metadata": {
        "id": "8ukjIRWFAIbt"
      },
      "source": [
        "### Ejercicio 3\n",
        "Imprimir la columna correspondiente al año 1955."
      ]
    },
    {
      "cell_type": "code",
      "metadata": {
        "colab": {
          "base_uri": "https://localhost:8080/"
        },
        "id": "5sISBv3SAIbu",
        "outputId": "4b86272d-3fa5-446a-eb01-3f73788c000e"
      },
      "source": [
        "# Creamos una columna mediante selección por el título de la columna\n",
        "pob_1955 = df_numeric['1955']\n",
        "\n",
        "print('Población de 1955')\n",
        "print(pob_1955)"
      ],
      "execution_count": 6,
      "outputs": [
        {
          "output_type": "stream",
          "text": [
            "Población de 1955\n",
            "Country (or dependent territory)\n",
            "Afghanistan          8892\n",
            "Albania              1393\n",
            "Algeria              9842\n",
            "American Samoa         20\n",
            "Andorra                 7\n",
            "                   ...   \n",
            "Western Sahara         16\n",
            "Yemen                5266\n",
            "Zambia               2870\n",
            "Zimbabwe             3410\n",
            "World             2782099\n",
            "Name: 1955, Length: 228, dtype: int64\n"
          ],
          "name": "stdout"
        }
      ]
    },
    {
      "cell_type": "markdown",
      "metadata": {
        "id": "aIIiJEXOAIbu"
      },
      "source": [
        "### Ejercicio 4\n",
        "Imprimir los datos de la fila número 15."
      ]
    },
    {
      "cell_type": "code",
      "metadata": {
        "colab": {
          "base_uri": "https://localhost:8080/"
        },
        "id": "vPqrmfMaAIbu",
        "outputId": "817ef1b7-1d37-4238-9c7e-56d1e81d9127"
      },
      "source": [
        "# Seleccionamos una fila mediante la opción .iloc\n",
        "print('fila')\n",
        "print(df_numeric.iloc[14])"
      ],
      "execution_count": 7,
      "outputs": [
        {
          "output_type": "stream",
          "text": [
            "fila\n",
            "1950     71\n",
            "1955     88\n",
            "1960    113\n",
            "1965    140\n",
            "1970    171\n",
            "1975    190\n",
            "1980    210\n",
            "1985    229\n",
            "1990    246\n",
            "1995    266\n",
            "2000    283\n",
            "2005    297\n",
            "2010    311\n",
            "2015    325\n",
            "2020    338\n",
            "2025    350\n",
            "2030    359\n",
            "2035    365\n",
            "2040    369\n",
            "2045    372\n",
            "2050    372\n",
            "Name: Bahamas, dtype: int64\n"
          ],
          "name": "stdout"
        }
      ]
    },
    {
      "cell_type": "markdown",
      "metadata": {
        "id": "uc3WHP8GAIbu"
      },
      "source": [
        "### Ejercicio 5\n",
        "Imprimir la población de Barbados en 1995."
      ]
    },
    {
      "cell_type": "code",
      "metadata": {
        "colab": {
          "base_uri": "https://localhost:8080/"
        },
        "id": "6AKlcNj0AIbv",
        "outputId": "47b746ac-5d79-4bc5-b43c-076701bdb7e0"
      },
      "source": [
        "# Seleccionamos una celda mediante la opción .loc\n",
        "print(df_numeric.loc[['Barbados'], ['1995']])"
      ],
      "execution_count": 8,
      "outputs": [
        {
          "output_type": "stream",
          "text": [
            "                                  1995\n",
            "Country (or dependent territory)      \n",
            "Barbados                           268\n"
          ],
          "name": "stdout"
        }
      ]
    },
    {
      "cell_type": "markdown",
      "metadata": {
        "id": "ynx9oyCMAIbv"
      },
      "source": [
        "### Ejercicio 6\n",
        "Imprimir el valor máximo de las poblaciones de 1975 e identificar el país correspondiente."
      ]
    },
    {
      "cell_type": "code",
      "metadata": {
        "colab": {
          "base_uri": "https://localhost:8080/"
        },
        "id": "fvk0JJaKAIbv",
        "outputId": "d35ee30f-907f-4ccf-82d4-102b081cbcfa"
      },
      "source": [
        "# Utilizamos la función drop() para eliminar los valores totales mundiales\n",
        "df_numeric = df_numeric.drop('World')\n",
        "\n",
        "# Utilizamos la función max() para calcular el máximo\n",
        "print (max(df_numeric['1975']))\n",
        "\n",
        "# Utilizamos idxmax() para identificar el país que corresponde al valor máximo\n",
        "print (df_numeric['1975'].idxmax())\n"
      ],
      "execution_count": 9,
      "outputs": [
        {
          "output_type": "stream",
          "text": [
            "920295\n",
            "China\n"
          ],
          "name": "stdout"
        }
      ]
    },
    {
      "cell_type": "markdown",
      "metadata": {
        "id": "zsNIguxtAIbw"
      },
      "source": [
        "### Ejercicio 7\n",
        "Imprimir los nombres de las filas."
      ]
    },
    {
      "cell_type": "code",
      "metadata": {
        "colab": {
          "base_uri": "https://localhost:8080/"
        },
        "id": "aaTQQJKpAIbw",
        "outputId": "72c0eeaa-144c-4202-9b14-0f34530d4a6e"
      },
      "source": [
        "# Utilizamos la opción .index\n",
        "print('países')\n",
        "print (df_numeric.index)"
      ],
      "execution_count": 10,
      "outputs": [
        {
          "output_type": "stream",
          "text": [
            "países\n",
            "Index(['Afghanistan', 'Albania', 'Algeria', 'American Samoa', 'Andorra',\n",
            "       'Angola', 'Anguilla', 'Antigua and Barbuda', 'Argentina', 'Armenia',\n",
            "       ...\n",
            "       'Uruguay', 'Uzbekistan', 'Vanuatu', 'Venezuela', 'Vietnam',\n",
            "       'Wallis and Futuna', 'Western Sahara', 'Yemen', 'Zambia', 'Zimbabwe'],\n",
            "      dtype='object', name='Country (or dependent territory)', length=227)\n"
          ],
          "name": "stdout"
        }
      ]
    },
    {
      "cell_type": "markdown",
      "metadata": {
        "id": "uZhMcMYTAIbw"
      },
      "source": [
        "## Dibujar la población de 4 países en un año\n",
        "Dibujar mediante un diagrama de barras la población de Argentina, Suecia, Polonia y Libia en 1995, ordenadas de menor a mayor, utilizando las librerías matplotlib."
      ]
    },
    {
      "cell_type": "code",
      "metadata": {
        "colab": {
          "base_uri": "https://localhost:8080/",
          "height": 334
        },
        "id": "JTDKq71QAIbx",
        "outputId": "5c012118-6717-4c0e-a554-5e83bb3aa92d"
      },
      "source": [
        "# Generamos una lista con los nombres de los países del enunciado\n",
        "paises = ['Argentina', 'Sweden', 'Poland', 'Libya']\n",
        "\n",
        "# Utilizamos la opción .loc para seleccionar la subtabla que dibujaremos\n",
        "\n",
        "subtabla = df_numeric.loc[paises, ['1995']]\n",
        "\n",
        "# Utilizamos la función .sort_values() para ordenar la subtabla y .plot(kind='bar') para dibujar    \n",
        "\n",
        "subtabla = subtabla.sort_values(by='1995')\n",
        "\n",
        "subtabla.plot(kind='bar', legend=False)\n",
        "\n",
        "# Podemos utilizar plt.ylabel() para especificar 'población (miles)'\n",
        "\n",
        "plt.ylabel('población (miles)')\n",
        "\n",
        "# Podemos utilizar plt.xlabel() para especificar 'País (o territorio dependiente)'\n",
        "plt.xlabel('País (o territorio dependiente)')\n",
        "\n",
        "plt.title('Población por países')\n",
        "\n",
        "plt.show()"
      ],
      "execution_count": 11,
      "outputs": [
        {
          "output_type": "display_data",
          "data": {
            "image/png": "[encoded data removed]",
            "text/plain": [
              "<Figure size 432x288 with 1 Axes>"
            ]
          },
          "metadata": {
            "tags": [],
            "needs_background": "light"
          }
        }
      ]
    },
    {
      "cell_type": "markdown",
      "metadata": {
        "id": "2aBYXscOAIbx"
      },
      "source": [
        "## Dibujar la evolución de la población de 4 países\n",
        "Dibujar la evolución de la población en todo el periodo para los siguientes países: Alemania, España, Estados Unidos e Italia."
      ]
    },
    {
      "cell_type": "code",
      "metadata": {
        "colab": {
          "base_uri": "https://localhost:8080/",
          "height": 294
        },
        "id": "k06OoYo_AIby",
        "outputId": "0178adab-46d8-4a8b-8dce-5c986e87dce1"
      },
      "source": [
        "# Generamos una lista con los nombres de los países del enunciado\n",
        "paises_v2 = ['Germany', 'Spain', 'United States', 'Italy']\n",
        "\n",
        "# Generamos la subtabla correspondiente con la opción .loc\n",
        "subtabla_v2 = df_numeric.loc[paises_v2]\n",
        "\n",
        "subtabla_v2 = subtabla_v2.reset_index()\n",
        "\n",
        "reshaped_subtabla_v2 = pd.melt(subtabla_v2, var_name=\"year\", id_vars=[\"Country (or dependent territory)\"], value_vars=['1950', '1955', '1960', '1965', '1970', '1975', '1980', '1985', '1990', '1995', '2000', '2005', '2010', '2015', '2020', '2025', '2030', '2035', '2040', '2045', '2050'])\n",
        "subtabla_v2 = reshaped_subtabla_v2.pivot(index='year', columns=\"Country (or dependent territory)\", values='value')\n",
        "\n",
        "# Utilizamos la función plot(kind='line') para dibujar\n",
        "\n",
        "subtabla_v2.plot(kind='line')\n",
        "\n",
        "# Etiquetamos con plt.xlabel() y plt.ylabel()\n",
        "\n",
        "plt.xlabel('Año')\n",
        "plt.ylabel('# población (miles)')\n",
        "plt.legend(loc='upper left')\n",
        "plt.title('Población por países')\n",
        "plt.show()\n"
      ],
      "execution_count": 12,
      "outputs": [
        {
          "output_type": "display_data",
          "data": {
            "image/png": "[encoded data removed]",
            "text/plain": [
              "<Figure size 432x288 with 1 Axes>"
            ]
          },
          "metadata": {
            "tags": [],
            "needs_background": "light"
          }
        }
      ]
    },
    {
      "cell_type": "markdown",
      "metadata": {
        "id": "srBVjjTKAIby"
      },
      "source": [
        "## Dibujar la evolución de los 5 países más populosos hasta 2010 y 2050  \n",
        "Dibujar dos gráficas: una con la evolución para todo el período de los países más populosos en 2010, y otra con los países más populosos en 2050. Utilizaremos una función plot_populosos() a la que daremos como argumento el año de interés."
      ]
    },
    {
      "cell_type": "code",
      "metadata": {
        "colab": {
          "base_uri": "https://localhost:8080/",
          "height": 573
        },
        "id": "XthMDknGAIbz",
        "outputId": "85563741-c0bf-46da-a2c0-af1f886f895f"
      },
      "source": [
        "# Definimos la funión plot_populosos()\n",
        "def plot_populosos(taboa, ano):\n",
        "    \n",
        "    # Ordenamos la tabla según el año\n",
        "    subtabla = taboa.sort_values(by=ano, ascending=False)\n",
        "\n",
        "    \n",
        "    # Seleccionamos los cinco primeros países mediante .iloc, y extraemos sus nombres\n",
        "\n",
        "    names = subtabla.iloc[:5]\n",
        "    names = names.index\n",
        "    subtabla_v2 = subtabla.loc[names]\n",
        "\n",
        "    subtabla_v2 = subtabla_v2.reset_index()\n",
        "\n",
        "    reshaped_subtabla_v2 = pd.melt(subtabla_v2, var_name=\"year\", id_vars=[\"Country (or dependent territory)\"], value_vars=['1950', '1955', '1960', '1965', '1970', '1975', '1980', '1985', '1990', '1995', '2000', '2005', '2010', '2015', '2020', '2025', '2030', '2035', '2040', '2045', '2050'])\n",
        "    subtabla_v2 = reshaped_subtabla_v2.pivot(index='year', columns=\"Country (or dependent territory)\", values='value')\n",
        "\n",
        "    # Utilizamos la función plot(kind='line') para dibujar\n",
        "\n",
        "    subtabla_v2.plot(kind='line')\n",
        "\n",
        "    # Etiquetamos con plt.xlabel() y plt.ylabel()\n",
        "\n",
        "    plt.xlabel('Año')\n",
        "    plt.ylabel('# población (miles de millones)')\n",
        "    plt.legend(loc='upper left')\n",
        "    plt.title(f'Países más populosos en {ano}')\n",
        "    plt.show()    \n",
        "\n",
        "# Aquí invocamos la función plot_populosos()\n",
        "\n",
        "plot_populosos(df_numeric, '2010')\n",
        "plot_populosos(df_numeric, '2050')"
      ],
      "execution_count": 13,
      "outputs": [
        {
          "output_type": "display_data",
          "data": {
            "image/png": "[encoded data removed]",
            "text/plain": [
              "<Figure size 432x288 with 1 Axes>"
            ]
          },
          "metadata": {
            "tags": [],
            "needs_background": "light"
          }
        },
        {
          "output_type": "display_data",
          "data": {
            "image/png": "[encoded data removed]",
            "text/plain": [
              "<Figure size 432x288 with 1 Axes>"
            ]
          },
          "metadata": {
            "tags": [],
            "needs_background": "light"
          }
        }
      ]
    }
  ]
}
